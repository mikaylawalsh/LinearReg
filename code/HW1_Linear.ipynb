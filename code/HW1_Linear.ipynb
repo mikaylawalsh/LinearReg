{
  "cells": [
    {
      "cell_type": "markdown",
      "metadata": {
        "id": "B4oKbqMWMpMN"
      },
      "source": [
        "# CS1470/2470 HW1: Single-Layered Neural Networks\n",
        "\n",
        "In this homework assignment, you will build a simple linear model using differential modules.\n",
        "\n",
        "---"
      ]
    },
    {
      "cell_type": "markdown",
      "metadata": {
        "id": "3CLyvlysHCK9"
      },
      "source": [
        "## Starting Our Modular API\n",
        "\n",
        "### **The goal of this assignment is as follows:** \n",
        "- Organize our understanding of deep learning into a modular framework. \n",
        "- Get familiarized with a simple modular API which reflects (but is a simplification of) some of PyTorch's systems. \n",
        "- Implement some nice modular components and be able to construct a functional single-file neural network from it. "
      ]
    },
    {
      "cell_type": "markdown",
      "metadata": {
        "id": "ZFUeG0msHRyo"
      },
      "source": [
        "### Improving The Old Way via Chain Rule\n",
        "\n",
        "Recall that in the machine learning lab, we got the chance to make some simple but effective regression models! Given some realizations $X \\sim \\mathcal{X}$ and $Y = \\mathbb{E}[Y|X] + \\xi$, we were able to train up a model $h_{\\theta} \\in \\mathcal{H}$ which was similar to $\\mathbb{E}[Y|X]$ and thereby minimized an empirical loss $\\mathcal{L}$ of our choice.\n",
        "\n",
        "> As a reminder, $\\mathcal{X}$ is the space of all candidate functions.\n",
        "\n",
        "In these cases, we assumed that $h_{\\theta}$ had a relatively simple and non-flexible architecture, which meant that we could manually specify the structure and simply derive and code up our gradient formula once. Furthermore, since the optimization process was concave, we could even skip the gradient computation and directly derive a loss-minimizing parameter selection. \n",
        "\n",
        "Of course, there are hard limits to what this kind of architecture can provide us; sometimes the relationships that the model needs to capture are relatively complex and might not be resolvable in such a fashion. And that's why this course exists!"
      ]
    },
    {
      "cell_type": "markdown",
      "metadata": {
        "id": "VmnuKJmCHmpg"
      },
      "source": [
        "#### **Problem:** \n",
        "> This is extremely time-consuming and rigid! What happens if we switched out an activation function? A loss function? We'd have to re-specify the gradient every time!\n",
        "\n",
        "#### **Solution:** \n",
        "> Let's take advantage of the chain rule! "
      ]
    },
    {
      "cell_type": "markdown",
      "metadata": {
        "id": "ecdHbe0xHb1o"
      },
      "source": [
        "**Naive Solution:** If we really wanted to, we could approach this problem in the same way as before, and just code up the gradient functions manually. Similarly to before, this would allow us to propagate gradients through, say, a specified loss function, an activation function, and a dense layer. We could also do it for 2 dense layers; just use the old gradient function for the weights in layer 2, compute the new gradient for the weights in layer 1, and so on. "
      ]
    },
    {
      "cell_type": "markdown",
      "metadata": {
        "id": "OTfm_9fmHkhE"
      },
      "source": [
        "Recall that per the chain rule, if there exists a set of differentiable functions $c(b)$ and $b(a)$, then \n",
        "\n",
        "$$\\frac{\\partial a}{\\partial c} = \\frac{\\partial a}{\\partial b} \\frac{\\partial b}{\\partial c}$$\n",
        "\n",
        "Going back to our regression model, let's assume that we have a layered process: \n",
        "\n",
        "$$x \\to h_\\theta(x) \\to \\mathcal{L}(h_\\theta)$$\n",
        "\n",
        "This implies that we can compute the partial of the trainable parameters $\\theta$ through a loss evaluation $\\mathcal{L}$ and a dense layer $h_\\theta(x)$ by the following relationship:\n",
        "\n",
        "$$\\frac{\\partial \\mathcal{L}}{\\partial \\theta} = \\frac{\\partial \\mathcal{h_\\theta}}{\\partial \\theta}\\frac{\\partial \\mathcal{L}}{\\partial h_\\theta}$$\n",
        "\n",
        "With a similar logic, you can also make the assertion that you can also get the partial with respect to the input $x$:\n",
        "\n",
        "$$\\frac{\\partial \\mathcal{L}}{\\partial x} = \\frac{\\partial h_\\theta}{\\partial x}\\frac{\\partial \\mathcal{L}}{\\partial h_\\theta}$$\n",
        "\n",
        "So... by the same token, is there anything stopping us from going further? Let's say that we decided to have another hypothesis function such that $x = h'_{\\theta'}(x')$ for some other hypothesis function and inputs? The new structure would then be: \n",
        "\n",
        "$$x' \\to \\big[ x = h'_{\\theta'}(x') \\big] \\to h_\\theta(x) \\to \\mathcal{L}(h_\\theta)$$\n",
        "\n",
        "Without the chain rule, coding in the facilities to optimize $\\theta'$ might have been tricky, but with the chain rule we know that:\n",
        "\n",
        "$$\\frac{\\partial \\mathcal{L}}{\\partial \\theta'} \n",
        "= \\frac{\\partial x}{\\partial \\theta'}\\frac{\\partial h}{\\partial x}\\frac{\\partial \\mathcal{L}}{\\partial h} \n",
        "= \\frac{\\partial x}{\\partial \\theta'}\\frac{\\partial \\mathcal{L}}{\\partial x}$$"
      ]
    },
    {
      "cell_type": "markdown",
      "metadata": {
        "id": "UUJfaOFpIJbD"
      },
      "source": [
        "Notice how this process is both predictable and scales very well! Say that we wanted to add some activation functions to restrict the range of the hypothesis functions. This trivially inserts into the chain and everything still works and will look something like this: \n",
        "\n",
        "$$ \\frac{\\partial \\mathcal{L}}{\\partial x} = \\frac{\\partial h}{\\partial x}\\frac{\\partial a}{\\partial h}\\frac{\\partial \\mathcal{L}}{\\partial a} \n",
        "\\ \\text{ and } \\ \\frac{\\partial \\mathcal{L}}{\\partial \\theta} = \\frac{\\partial h}{\\partial \\theta}\\frac{\\partial a}{\\partial h}\\frac{\\partial \\mathcal{L}}{\\partial a} \n",
        "$$"
      ]
    },
    {
      "cell_type": "markdown",
      "metadata": {
        "id": "KVyTXT5TIOsz"
      },
      "source": [
        "And with that, we start to approach the reason why this is such a powerful formulation: The cumulative nature of the process. Specifically, consider the process that needs to happen in order to compute this for the extended 2-layer example: \n",
        "\n",
        "$$\n",
        "\\begin{align}\n",
        "\\frac{\\partial a}{\\partial h}\\frac{\\partial \\mathcal{L}}{\\partial a} \n",
        "= \\frac{\\partial \\mathcal{L}}{\\partial h} \n",
        "&\\to \\cdots = \\frac{\\partial \\mathcal{L}}{\\partial x} \n",
        "&\\to \\cdots = \\frac{\\partial \\mathcal{L}}{\\partial a'}\n",
        "&\\to \\cdots = \\frac{\\partial \\mathcal{L}}{\\partial h'} \n",
        "&\\to \\cdots = \\frac{\\partial \\mathcal{L}}{\\partial x'} \n",
        "\\\\\n",
        "&\\searrow \\cdots = \\frac{\\partial \\mathcal{L}}{\\partial \\theta} \n",
        "&&&\\searrow \\cdots = \\frac{\\partial \\mathcal{L}}{\\partial \\theta'} \n",
        "% \\\\\n",
        "% &\\searrow \\cdots = \\frac{\\partial \\mathcal{L}}{\\partial \\theta} \n",
        "% \\to \\cdots = \\frac{\\partial \\mathcal{L}}{\\partial a'} \n",
        "% \\to \\cdots = \\frac{\\partial \\mathcal{L}}{\\partial h'} \n",
        "% &\n",
        "% \\to \\cdots = \\frac{\\partial \\mathcal{L}}{\\partial \\theta'} \n",
        "% \\\\ \n",
        "% &&\n",
        "% \\to \\cdots = \\frac{\\partial \\mathcal{L}}{\\partial x'} \n",
        "\\end{align}\n",
        "$$\n",
        "\n",
        "... and this is the process known as **back-propagation** *(and a special case of **auto-differentiation**)*!"
      ]
    },
    {
      "cell_type": "markdown",
      "metadata": {
        "id": "fdK16iXOVgta"
      },
      "source": [
        "-----"
      ]
    },
    {
      "cell_type": "markdown",
      "metadata": {
        "id": "MhgMs3u_S1OU"
      },
      "source": [
        "## Loading In Our Data"
      ]
    },
    {
      "cell_type": "markdown",
      "metadata": {
        "id": "tV7vjVbTf9Xg"
      },
      "source": [
        "The first thing we have to do is load in our data to use our model with. We'll be working with the [diabetes dataset from the sklearn package](https://scikit-learn.org/stable/datasets/toy_dataset.html#diabetes-dataset). We've already provided the code to load in the input data and the ground truth labels (stored as `X` and `Y` respectively below).\n",
        "\n",
        "**[TODO]:** Split the samples into training and testing sets. We'll train with the train set and reserve the testing set to evaluate the model's performance on samples it hasn't seen.\n",
        "\n",
        "The diabetes dataset has 442 samples. Each sample's input data has 10 data points for some key metrics, like age and cholesterol levels. The \"label\" is a number representing disease progression one year after baseline. Thus, `X` has shape `(442, 10)`, while `Y` has shape `(442,)`.\n",
        "\n",
        "**[TODO]:** Reshape the `Y` subsets to have shape `(num_samples, 1)`."
      ]
    },
    {
      "cell_type": "code",
      "execution_count": 211,
      "metadata": {
        "colab": {
          "base_uri": "https://localhost:8080/"
        },
        "id": "gytrDuxV5gFO",
        "outputId": "25ac15b0-866c-43d8-cff9-ee36934b4551"
      },
      "outputs": [
        {
          "name": "stdout",
          "output_type": "stream",
          "text": [
            "> Input shape: (353, 10) for training, (88, 10) for testing\n",
            "> Label shape: (353, 1) for training, (88, 1) for testing\n"
          ]
        }
      ],
      "source": [
        "import numpy as np\n",
        "from sklearn.datasets import load_diabetes\n",
        "\n",
        "diabetes = load_diabetes()\n",
        "X, Y = diabetes.data, diabetes.target\n",
        "\n",
        "## TODO: Split the data into a 80%-20% training-testing split\n",
        "# skylearn.model_selection.train_test_split(X, Y, test_size = .2) ??\n",
        "## TODO: Reshape the Y subsets to have shape (num_samples, 1)\n",
        "\n",
        "split = int(0.8*len(X))\n",
        "X0, X1, Y0, Y1 = X[:split, :], X[split+1:, :], Y[:split], Y[split+1:] \n",
        "Y0 = Y0.reshape(-1, 1)\n",
        "Y1 = Y1.reshape(-1,1)\n",
        "\n",
        "\n",
        "print(f\"\"\"\n",
        "> Input shape: {X0.shape} for training, {X1.shape} for testing\n",
        "> Label shape: {Y0.shape} for training, {Y1.shape} for testing\n",
        "\"\"\".strip())"
      ]
    },
    {
      "cell_type": "markdown",
      "metadata": {
        "id": "CIYU_639VgHq"
      },
      "source": [
        "## **Exploring a possible modular implementation: PyTorch**"
      ]
    },
    {
      "cell_type": "markdown",
      "metadata": {
        "id": "YHs57_36jfDL"
      },
      "source": [
        "Next, we'll want to build up a Regression model interface, from which we can implement specific regression model classes, like the LinearRegression class we'll work with later. \n",
        "\n",
        "We subclass the `nn.Module class`, which represents any module (like a layer or model) of a deep learning system."
      ]
    },
    {
      "cell_type": "code",
      "execution_count": 212,
      "metadata": {
        "id": "DG6vkwv5chPg"
      },
      "outputs": [],
      "source": [
        "import torch\n",
        "import torch.nn as nn\n",
        "\n",
        "class Regression(nn.Module):\n",
        "\n",
        "    \"\"\"\n",
        "    Initialize all the inherent \"things\" inside of a model!\n",
        "    This includes things like the layers, activation/loss functions, and optimzer. \n",
        "    \"\"\"\n",
        "    def __init__(self, input_dims, output_dims):\n",
        "        self.device = torch.device(\"cuda:0\" if torch.cuda.is_available() else \"cpu\")        \n",
        "        super().__init__()\n",
        "        self.dense = nn.Linear(input_dims, output_dims).to(self.device)   \n",
        "        self.activation = None  ## To be specified in subclasses \n",
        "        self.loss = None        ## To be specified in subclasses \n",
        "        self.set_learning_rate()\n",
        "\n",
        "    \"\"\"\n",
        "    Sets up the optmizer\n",
        "    \"\"\"\n",
        "    def set_learning_rate(self, learning_rate=0.001):\n",
        "        self.optimizer = torch.optim.SGD(self.parameters(), lr=learning_rate) ## Simple stochastic gradient descent (SGD) optimizer\n",
        "\n",
        "    \"\"\"\n",
        "    Forward pass of the model\n",
        "    Given an input x, how does the model process the input to get its output?\n",
        "    \"\"\"\n",
        "    def forward(self, x):\n",
        "        x = self.dense(x)\n",
        "        x = self.activation(x)\n",
        "        return x\n"
      ]
    },
    {
      "cell_type": "markdown",
      "metadata": {
        "id": "rTzEFlA0TFZB"
      },
      "source": [
        "## Adding a PyTorch Training/Evaluation Routine"
      ]
    },
    {
      "cell_type": "markdown",
      "metadata": {
        "id": "JBSK640PoDWX"
      },
      "source": [
        "Now that we have the basis for a Regression model, we need to describe how to train (`fit`) and evaluate (`evaluate`) our model, given data. \n",
        "Every epoch, we want to fit our model to the training data, and then evaluate our model on the testing data."
      ]
    },
    {
      "cell_type": "code",
      "execution_count": 213,
      "metadata": {
        "id": "aUetVEGtS9k9"
      },
      "outputs": [],
      "source": [
        "class TrainTest:\n",
        "\n",
        "    no_grad = torch.no_grad\n",
        "\n",
        "    def fit(self, data):\n",
        "        ## Training loop\n",
        "        self.train()        ## Set model into training mode\n",
        "        ## Iterate over the data batches\n",
        "        for batch, (inputs, target) in enumerate(data):\n",
        "            ## In real pytorch, you'd need to set the device\n",
        "            inputs = inputs.to(self.device)\n",
        "            target = target.to(self.device)\n",
        "            ## Erase the gradient history\n",
        "            self.optimizer.zero_grad()\n",
        "            ## Do a forward pass on the model\n",
        "            output = self(inputs)\n",
        "            ## Compute the loss\n",
        "            loss = self.loss(output, target)\n",
        "            ## Run backwards pass from the loss through the previous layers\n",
        "            ## This will accumulate gradients for the parameters that need to be optimized\n",
        "            loss.backward()\n",
        "            ## Perform a single optimization step\n",
        "            self.optimizer.step()\n",
        "        return {'loss' : loss}\n",
        "\n",
        "    def evaluate(self, data):\n",
        "        ## Set model into \"evaluate\" mode so that the parameters don't get updated\n",
        "        self.eval()\n",
        "        total_loss = 0\n",
        "        ## Cut off the tensor training scope to make sure weights aren't updated\n",
        "        ## For now, it's torch.no_grad; later, you'll use Tensor.no_grad\n",
        "        with TrainTest.no_grad():\n",
        "            for inputs, target in data:\n",
        "                ## In real pytorch, you'd need to set the device\n",
        "                inputs = inputs.to(self.device)\n",
        "                target = target.to(self.device)\n",
        "                output = self(inputs)\n",
        "                total_loss += self.loss(output, target).item()  # sum up batch loss\n",
        "\n",
        "        total_loss /= len(data)\n",
        "        return {'test_loss' : total_loss}\n",
        "        \n",
        "    def train_test(self, train_data, test_data, epochs=1):\n",
        "        ## Does both training and validation on a per-epoch basis\n",
        "        all_stats = []\n",
        "        for epoch in range(epochs):\n",
        "            train_stats = self.fit(train_data)\n",
        "            test_stats = self.evaluate(test_data)\n",
        "            all_stats += [{**train_stats, **test_stats}]\n",
        "            print(f'[Epoch {epoch+1}/{epochs}]', all_stats[-1])\n",
        "        return all_stats"
      ]
    },
    {
      "cell_type": "markdown",
      "metadata": {
        "id": "YDNhzYnUTNMa"
      },
      "source": [
        "## Making Linear Regression with Train/Test Capabilities"
      ]
    },
    {
      "cell_type": "markdown",
      "metadata": {
        "id": "njv7q2UTTgQE"
      },
      "source": [
        "Next, we implement the `LinearRegression` class, which subclasses both `Regression` and `TrainTest` to inherit useful methods. \n",
        "\n",
        "Consider a dense layer represented by $Y = XA + B$ where: \n",
        "- $X$ has shape `(n,input_dims)`\n",
        "- $A$ has shape `(input_dims,output_dims)`\n",
        "- $B$ has shape `(n,)`\n",
        "- $Y$ has shape `(n, output_dims)`. \n",
        "\n",
        "Let each row of $X, B, Y$ (or the 0$^\\text{th}$ dimension) represent a different sample. Disregarding bias, note how any given row in $Y$ is a set of linear combinations of the same row in $X$. In other words, a Dense Layer is high-dimensional Linear Regression. \n",
        "\n",
        "Once you've built up your model, try training and testing it in the code block below!"
      ]
    },
    {
      "cell_type": "code",
      "execution_count": 214,
      "metadata": {
        "id": "gYU8NKSdTc4W"
      },
      "outputs": [],
      "source": [
        "class LinearRegression(Regression, TrainTest):\n",
        "    def __init__(self, input_dims, output_dims):\n",
        "        super().__init__(input_dims, output_dims)\n",
        "        self.activation = nn.Identity()\n",
        "        self.loss = nn.MSELoss()"
      ]
    },
    {
      "cell_type": "code",
      "execution_count": 215,
      "metadata": {
        "colab": {
          "base_uri": "https://localhost:8080/"
        },
        "id": "FBUaTs3N_hmn",
        "outputId": "3fce3c13-46cf-4ae1-835a-53e3ed3de277"
      },
      "outputs": [
        {
          "name": "stdout",
          "output_type": "stream",
          "text": [
            "[Epoch 1/200] {'loss': tensor(28687.2207, grad_fn=<MseLossBackward0>), 'test_loss': 10578.8994140625}\n",
            "[Epoch 2/200] {'loss': tensor(9443.4600, grad_fn=<MseLossBackward0>), 'test_loss': 7205.3388671875}\n",
            "[Epoch 3/200] {'loss': tensor(6345.5142, grad_fn=<MseLossBackward0>), 'test_loss': 6579.81201171875}\n",
            "[Epoch 4/200] {'loss': tensor(5831.0688, grad_fn=<MseLossBackward0>), 'test_loss': 6433.52783203125}\n",
            "[Epoch 5/200] {'loss': tensor(5730.1670, grad_fn=<MseLossBackward0>), 'test_loss': 6379.82470703125}\n",
            "[Epoch 6/200] {'loss': tensor(5695.6152, grad_fn=<MseLossBackward0>), 'test_loss': 6347.392578125}\n",
            "[Epoch 7/200] {'loss': tensor(5671.8623, grad_fn=<MseLossBackward0>), 'test_loss': 6321.05126953125}\n",
            "[Epoch 8/200] {'loss': tensor(5650.0161, grad_fn=<MseLossBackward0>), 'test_loss': 6296.86279296875}\n",
            "[Epoch 9/200] {'loss': tensor(5628.6533, grad_fn=<MseLossBackward0>), 'test_loss': 6273.59521484375}\n",
            "[Epoch 10/200] {'loss': tensor(5607.5439, grad_fn=<MseLossBackward0>), 'test_loss': 6250.810546875}\n",
            "[Epoch 11/200] {'loss': tensor(5586.6494, grad_fn=<MseLossBackward0>), 'test_loss': 6228.3388671875}\n",
            "[Epoch 12/200] {'loss': tensor(5565.9619, grad_fn=<MseLossBackward0>), 'test_loss': 6206.11572265625}\n",
            "[Epoch 13/200] {'loss': tensor(5545.4775, grad_fn=<MseLossBackward0>), 'test_loss': 6184.1123046875}\n",
            "[Epoch 14/200] {'loss': tensor(5525.1938, grad_fn=<MseLossBackward0>), 'test_loss': 6162.3154296875}\n",
            "[Epoch 15/200] {'loss': tensor(5505.1099, grad_fn=<MseLossBackward0>), 'test_loss': 6140.720703125}\n",
            "[Epoch 16/200] {'loss': tensor(5485.2227, grad_fn=<MseLossBackward0>), 'test_loss': 6119.3232421875}\n",
            "[Epoch 17/200] {'loss': tensor(5465.5308, grad_fn=<MseLossBackward0>), 'test_loss': 6098.12060546875}\n",
            "[Epoch 18/200] {'loss': tensor(5446.0312, grad_fn=<MseLossBackward0>), 'test_loss': 6077.10986328125}\n",
            "[Epoch 19/200] {'loss': tensor(5426.7222, grad_fn=<MseLossBackward0>), 'test_loss': 6056.291015625}\n",
            "[Epoch 20/200] {'loss': tensor(5407.6021, grad_fn=<MseLossBackward0>), 'test_loss': 6035.65966796875}\n",
            "[Epoch 21/200] {'loss': tensor(5388.6680, grad_fn=<MseLossBackward0>), 'test_loss': 6015.2158203125}\n",
            "[Epoch 22/200] {'loss': tensor(5369.9204, grad_fn=<MseLossBackward0>), 'test_loss': 5994.95654296875}\n",
            "[Epoch 23/200] {'loss': tensor(5351.3535, grad_fn=<MseLossBackward0>), 'test_loss': 5974.87939453125}\n",
            "[Epoch 24/200] {'loss': tensor(5332.9688, grad_fn=<MseLossBackward0>), 'test_loss': 5954.98388671875}\n",
            "[Epoch 25/200] {'loss': tensor(5314.7612, grad_fn=<MseLossBackward0>), 'test_loss': 5935.2666015625}\n",
            "[Epoch 26/200] {'loss': tensor(5296.7314, grad_fn=<MseLossBackward0>), 'test_loss': 5915.7265625}\n",
            "[Epoch 27/200] {'loss': tensor(5278.8770, grad_fn=<MseLossBackward0>), 'test_loss': 5896.36328125}\n",
            "[Epoch 28/200] {'loss': tensor(5261.1948, grad_fn=<MseLossBackward0>), 'test_loss': 5877.171875}\n",
            "[Epoch 29/200] {'loss': tensor(5243.6846, grad_fn=<MseLossBackward0>), 'test_loss': 5858.1533203125}\n",
            "[Epoch 30/200] {'loss': tensor(5226.3433, grad_fn=<MseLossBackward0>), 'test_loss': 5839.3046875}\n",
            "[Epoch 31/200] {'loss': tensor(5209.1714, grad_fn=<MseLossBackward0>), 'test_loss': 5820.62451171875}\n",
            "[Epoch 32/200] {'loss': tensor(5192.1631, grad_fn=<MseLossBackward0>), 'test_loss': 5802.111328125}\n",
            "[Epoch 33/200] {'loss': tensor(5175.3198, grad_fn=<MseLossBackward0>), 'test_loss': 5783.76171875}\n",
            "[Epoch 34/200] {'loss': tensor(5158.6392, grad_fn=<MseLossBackward0>), 'test_loss': 5765.576171875}\n",
            "[Epoch 35/200] {'loss': tensor(5142.1191, grad_fn=<MseLossBackward0>), 'test_loss': 5747.55224609375}\n",
            "[Epoch 36/200] {'loss': tensor(5125.7578, grad_fn=<MseLossBackward0>), 'test_loss': 5729.68798828125}\n",
            "[Epoch 37/200] {'loss': tensor(5109.5537, grad_fn=<MseLossBackward0>), 'test_loss': 5711.98095703125}\n",
            "[Epoch 38/200] {'loss': tensor(5093.5049, grad_fn=<MseLossBackward0>), 'test_loss': 5694.431640625}\n",
            "[Epoch 39/200] {'loss': tensor(5077.6104, grad_fn=<MseLossBackward0>), 'test_loss': 5677.0380859375}\n",
            "[Epoch 40/200] {'loss': tensor(5061.8677, grad_fn=<MseLossBackward0>), 'test_loss': 5659.79736328125}\n",
            "[Epoch 41/200] {'loss': tensor(5046.2759, grad_fn=<MseLossBackward0>), 'test_loss': 5642.7080078125}\n",
            "[Epoch 42/200] {'loss': tensor(5030.8330, grad_fn=<MseLossBackward0>), 'test_loss': 5625.77001953125}\n",
            "[Epoch 43/200] {'loss': tensor(5015.5381, grad_fn=<MseLossBackward0>), 'test_loss': 5608.9794921875}\n",
            "[Epoch 44/200] {'loss': tensor(5000.3892, grad_fn=<MseLossBackward0>), 'test_loss': 5592.3369140625}\n",
            "[Epoch 45/200] {'loss': tensor(4985.3843, grad_fn=<MseLossBackward0>), 'test_loss': 5575.84033203125}\n",
            "[Epoch 46/200] {'loss': tensor(4970.5220, grad_fn=<MseLossBackward0>), 'test_loss': 5559.48876953125}\n",
            "[Epoch 47/200] {'loss': tensor(4955.8013, grad_fn=<MseLossBackward0>), 'test_loss': 5543.279296875}\n",
            "[Epoch 48/200] {'loss': tensor(4941.2197, grad_fn=<MseLossBackward0>), 'test_loss': 5527.2109375}\n",
            "[Epoch 49/200] {'loss': tensor(4926.7778, grad_fn=<MseLossBackward0>), 'test_loss': 5511.283203125}\n",
            "[Epoch 50/200] {'loss': tensor(4912.4722, grad_fn=<MseLossBackward0>), 'test_loss': 5495.494140625}\n",
            "[Epoch 51/200] {'loss': tensor(4898.3018, grad_fn=<MseLossBackward0>), 'test_loss': 5479.841796875}\n",
            "[Epoch 52/200] {'loss': tensor(4884.2651, grad_fn=<MseLossBackward0>), 'test_loss': 5464.3251953125}\n",
            "[Epoch 53/200] {'loss': tensor(4870.3613, grad_fn=<MseLossBackward0>), 'test_loss': 5448.94287109375}\n",
            "[Epoch 54/200] {'loss': tensor(4856.5884, grad_fn=<MseLossBackward0>), 'test_loss': 5433.6943359375}\n",
            "[Epoch 55/200] {'loss': tensor(4842.9458, grad_fn=<MseLossBackward0>), 'test_loss': 5418.57666015625}\n",
            "[Epoch 56/200] {'loss': tensor(4829.4312, grad_fn=<MseLossBackward0>), 'test_loss': 5403.58935546875}\n",
            "[Epoch 57/200] {'loss': tensor(4816.0439, grad_fn=<MseLossBackward0>), 'test_loss': 5388.732421875}\n",
            "[Epoch 58/200] {'loss': tensor(4802.7827, grad_fn=<MseLossBackward0>), 'test_loss': 5374.001953125}\n",
            "[Epoch 59/200] {'loss': tensor(4789.6450, grad_fn=<MseLossBackward0>), 'test_loss': 5359.39794921875}\n",
            "[Epoch 60/200] {'loss': tensor(4776.6309, grad_fn=<MseLossBackward0>), 'test_loss': 5344.91943359375}\n",
            "[Epoch 61/200] {'loss': tensor(4763.7378, grad_fn=<MseLossBackward0>), 'test_loss': 5330.56494140625}\n",
            "[Epoch 62/200] {'loss': tensor(4750.9658, grad_fn=<MseLossBackward0>), 'test_loss': 5316.3330078125}\n",
            "[Epoch 63/200] {'loss': tensor(4738.3140, grad_fn=<MseLossBackward0>), 'test_loss': 5302.22314453125}\n",
            "[Epoch 64/200] {'loss': tensor(4725.7788, grad_fn=<MseLossBackward0>), 'test_loss': 5288.232421875}\n",
            "[Epoch 65/200] {'loss': tensor(4713.3608, grad_fn=<MseLossBackward0>), 'test_loss': 5274.36181640625}\n",
            "[Epoch 66/200] {'loss': tensor(4701.0581, grad_fn=<MseLossBackward0>), 'test_loss': 5260.60791015625}\n",
            "[Epoch 67/200] {'loss': tensor(4688.8696, grad_fn=<MseLossBackward0>), 'test_loss': 5246.97119140625}\n",
            "[Epoch 68/200] {'loss': tensor(4676.7944, grad_fn=<MseLossBackward0>), 'test_loss': 5233.44970703125}\n",
            "[Epoch 69/200] {'loss': tensor(4664.8306, grad_fn=<MseLossBackward0>), 'test_loss': 5220.04345703125}\n",
            "[Epoch 70/200] {'loss': tensor(4652.9785, grad_fn=<MseLossBackward0>), 'test_loss': 5206.75}\n",
            "[Epoch 71/200] {'loss': tensor(4641.2354, grad_fn=<MseLossBackward0>), 'test_loss': 5193.568359375}\n",
            "[Epoch 72/200] {'loss': tensor(4629.6001, grad_fn=<MseLossBackward0>), 'test_loss': 5180.4970703125}\n",
            "[Epoch 73/200] {'loss': tensor(4618.0728, grad_fn=<MseLossBackward0>), 'test_loss': 5167.53662109375}\n",
            "[Epoch 74/200] {'loss': tensor(4606.6514, grad_fn=<MseLossBackward0>), 'test_loss': 5154.68408203125}\n",
            "[Epoch 75/200] {'loss': tensor(4595.3345, grad_fn=<MseLossBackward0>), 'test_loss': 5141.939453125}\n",
            "[Epoch 76/200] {'loss': tensor(4584.1226, grad_fn=<MseLossBackward0>), 'test_loss': 5129.30126953125}\n",
            "[Epoch 77/200] {'loss': tensor(4573.0132, grad_fn=<MseLossBackward0>), 'test_loss': 5116.76953125}\n",
            "[Epoch 78/200] {'loss': tensor(4562.0049, grad_fn=<MseLossBackward0>), 'test_loss': 5104.34130859375}\n",
            "[Epoch 79/200] {'loss': tensor(4551.0981, grad_fn=<MseLossBackward0>), 'test_loss': 5092.01708984375}\n",
            "[Epoch 80/200] {'loss': tensor(4540.2896, grad_fn=<MseLossBackward0>), 'test_loss': 5079.7939453125}\n",
            "[Epoch 81/200] {'loss': tensor(4529.5806, grad_fn=<MseLossBackward0>), 'test_loss': 5067.67333984375}\n",
            "[Epoch 82/200] {'loss': tensor(4518.9697, grad_fn=<MseLossBackward0>), 'test_loss': 5055.65283203125}\n",
            "[Epoch 83/200] {'loss': tensor(4508.4541, grad_fn=<MseLossBackward0>), 'test_loss': 5043.732421875}\n",
            "[Epoch 84/200] {'loss': tensor(4498.0356, grad_fn=<MseLossBackward0>), 'test_loss': 5031.90966796875}\n",
            "[Epoch 85/200] {'loss': tensor(4487.7100, grad_fn=<MseLossBackward0>), 'test_loss': 5020.18359375}\n",
            "[Epoch 86/200] {'loss': tensor(4477.4785, grad_fn=<MseLossBackward0>), 'test_loss': 5008.5546875}\n",
            "[Epoch 87/200] {'loss': tensor(4467.3394, grad_fn=<MseLossBackward0>), 'test_loss': 4997.021484375}\n",
            "[Epoch 88/200] {'loss': tensor(4457.2920, grad_fn=<MseLossBackward0>), 'test_loss': 4985.58251953125}\n",
            "[Epoch 89/200] {'loss': tensor(4447.3350, grad_fn=<MseLossBackward0>), 'test_loss': 4974.23681640625}\n",
            "[Epoch 90/200] {'loss': tensor(4437.4683, grad_fn=<MseLossBackward0>), 'test_loss': 4962.984375}\n",
            "[Epoch 91/200] {'loss': tensor(4427.6899, grad_fn=<MseLossBackward0>), 'test_loss': 4951.8232421875}\n",
            "[Epoch 92/200] {'loss': tensor(4417.9995, grad_fn=<MseLossBackward0>), 'test_loss': 4940.75341796875}\n",
            "[Epoch 93/200] {'loss': tensor(4408.3965, grad_fn=<MseLossBackward0>), 'test_loss': 4929.7734375}\n",
            "[Epoch 94/200] {'loss': tensor(4398.8784, grad_fn=<MseLossBackward0>), 'test_loss': 4918.88232421875}\n",
            "[Epoch 95/200] {'loss': tensor(4389.4463, grad_fn=<MseLossBackward0>), 'test_loss': 4908.07958984375}\n",
            "[Epoch 96/200] {'loss': tensor(4380.0977, grad_fn=<MseLossBackward0>), 'test_loss': 4897.365234375}\n",
            "[Epoch 97/200] {'loss': tensor(4370.8330, grad_fn=<MseLossBackward0>), 'test_loss': 4886.73486328125}\n",
            "[Epoch 98/200] {'loss': tensor(4361.6504, grad_fn=<MseLossBackward0>), 'test_loss': 4876.19189453125}\n",
            "[Epoch 99/200] {'loss': tensor(4352.5498, grad_fn=<MseLossBackward0>), 'test_loss': 4865.7333984375}\n",
            "[Epoch 100/200] {'loss': tensor(4343.5298, grad_fn=<MseLossBackward0>), 'test_loss': 4855.35888671875}\n",
            "[Epoch 101/200] {'loss': tensor(4334.5894, grad_fn=<MseLossBackward0>), 'test_loss': 4845.0673828125}\n",
            "[Epoch 102/200] {'loss': tensor(4325.7285, grad_fn=<MseLossBackward0>), 'test_loss': 4834.8583984375}\n",
            "[Epoch 103/200] {'loss': tensor(4316.9458, grad_fn=<MseLossBackward0>), 'test_loss': 4824.73095703125}\n",
            "[Epoch 104/200] {'loss': tensor(4308.2407, grad_fn=<MseLossBackward0>), 'test_loss': 4814.68408203125}\n",
            "[Epoch 105/200] {'loss': tensor(4299.6123, grad_fn=<MseLossBackward0>), 'test_loss': 4804.716796875}\n",
            "[Epoch 106/200] {'loss': tensor(4291.0601, grad_fn=<MseLossBackward0>), 'test_loss': 4794.82861328125}\n",
            "[Epoch 107/200] {'loss': tensor(4282.5820, grad_fn=<MseLossBackward0>), 'test_loss': 4785.01904296875}\n",
            "[Epoch 108/200] {'loss': tensor(4274.1787, grad_fn=<MseLossBackward0>), 'test_loss': 4775.28759765625}\n",
            "[Epoch 109/200] {'loss': tensor(4265.8491, grad_fn=<MseLossBackward0>), 'test_loss': 4765.6328125}\n",
            "[Epoch 110/200] {'loss': tensor(4257.5923, grad_fn=<MseLossBackward0>), 'test_loss': 4756.05419921875}\n",
            "[Epoch 111/200] {'loss': tensor(4249.4072, grad_fn=<MseLossBackward0>), 'test_loss': 4746.55078125}\n",
            "[Epoch 112/200] {'loss': tensor(4241.2939, grad_fn=<MseLossBackward0>), 'test_loss': 4737.12158203125}\n",
            "[Epoch 113/200] {'loss': tensor(4233.2510, grad_fn=<MseLossBackward0>), 'test_loss': 4727.7666015625}\n",
            "[Epoch 114/200] {'loss': tensor(4225.2778, grad_fn=<MseLossBackward0>), 'test_loss': 4718.4853515625}\n",
            "[Epoch 115/200] {'loss': tensor(4217.3740, grad_fn=<MseLossBackward0>), 'test_loss': 4709.27587890625}\n",
            "[Epoch 116/200] {'loss': tensor(4209.5381, grad_fn=<MseLossBackward0>), 'test_loss': 4700.138671875}\n",
            "[Epoch 117/200] {'loss': tensor(4201.7700, grad_fn=<MseLossBackward0>), 'test_loss': 4691.072265625}\n",
            "[Epoch 118/200] {'loss': tensor(4194.0693, grad_fn=<MseLossBackward0>), 'test_loss': 4682.076171875}\n",
            "[Epoch 119/200] {'loss': tensor(4186.4346, grad_fn=<MseLossBackward0>), 'test_loss': 4673.150390625}\n",
            "[Epoch 120/200] {'loss': tensor(4178.8657, grad_fn=<MseLossBackward0>), 'test_loss': 4664.29248046875}\n",
            "[Epoch 121/200] {'loss': tensor(4171.3618, grad_fn=<MseLossBackward0>), 'test_loss': 4655.50439453125}\n",
            "[Epoch 122/200] {'loss': tensor(4163.9219, grad_fn=<MseLossBackward0>), 'test_loss': 4646.783203125}\n",
            "[Epoch 123/200] {'loss': tensor(4156.5459, grad_fn=<MseLossBackward0>), 'test_loss': 4638.12939453125}\n",
            "[Epoch 124/200] {'loss': tensor(4149.2324, grad_fn=<MseLossBackward0>), 'test_loss': 4629.5419921875}\n",
            "[Epoch 125/200] {'loss': tensor(4141.9824, grad_fn=<MseLossBackward0>), 'test_loss': 4621.0205078125}\n",
            "[Epoch 126/200] {'loss': tensor(4134.7925, grad_fn=<MseLossBackward0>), 'test_loss': 4612.56396484375}\n",
            "[Epoch 127/200] {'loss': tensor(4127.6650, grad_fn=<MseLossBackward0>), 'test_loss': 4604.17236328125}\n",
            "[Epoch 128/200] {'loss': tensor(4120.5972, grad_fn=<MseLossBackward0>), 'test_loss': 4595.84375}\n",
            "[Epoch 129/200] {'loss': tensor(4113.5894, grad_fn=<MseLossBackward0>), 'test_loss': 4587.57958984375}\n",
            "[Epoch 130/200] {'loss': tensor(4106.6411, grad_fn=<MseLossBackward0>), 'test_loss': 4579.376953125}\n",
            "[Epoch 131/200] {'loss': tensor(4099.7510, grad_fn=<MseLossBackward0>), 'test_loss': 4571.23779296875}\n",
            "[Epoch 132/200] {'loss': tensor(4092.9192, grad_fn=<MseLossBackward0>), 'test_loss': 4563.1591796875}\n",
            "[Epoch 133/200] {'loss': tensor(4086.1448, grad_fn=<MseLossBackward0>), 'test_loss': 4555.14111328125}\n",
            "[Epoch 134/200] {'loss': tensor(4079.4270, grad_fn=<MseLossBackward0>), 'test_loss': 4547.1845703125}\n",
            "[Epoch 135/200] {'loss': tensor(4072.7651, grad_fn=<MseLossBackward0>), 'test_loss': 4539.287109375}\n",
            "[Epoch 136/200] {'loss': tensor(4066.1597, grad_fn=<MseLossBackward0>), 'test_loss': 4531.44970703125}\n",
            "[Epoch 137/200] {'loss': tensor(4059.6091, grad_fn=<MseLossBackward0>), 'test_loss': 4523.669921875}\n",
            "[Epoch 138/200] {'loss': tensor(4053.1133, grad_fn=<MseLossBackward0>), 'test_loss': 4515.94873046875}\n",
            "[Epoch 139/200] {'loss': tensor(4046.6707, grad_fn=<MseLossBackward0>), 'test_loss': 4508.28515625}\n",
            "[Epoch 140/200] {'loss': tensor(4040.2822, grad_fn=<MseLossBackward0>), 'test_loss': 4500.67822265625}\n",
            "[Epoch 141/200] {'loss': tensor(4033.9468, grad_fn=<MseLossBackward0>), 'test_loss': 4493.1279296875}\n",
            "[Epoch 142/200] {'loss': tensor(4027.6633, grad_fn=<MseLossBackward0>), 'test_loss': 4485.63330078125}\n",
            "[Epoch 143/200] {'loss': tensor(4021.4316, grad_fn=<MseLossBackward0>), 'test_loss': 4478.19482421875}\n",
            "[Epoch 144/200] {'loss': tensor(4015.2515, grad_fn=<MseLossBackward0>), 'test_loss': 4470.810546875}\n",
            "[Epoch 145/200] {'loss': tensor(4009.1221, grad_fn=<MseLossBackward0>), 'test_loss': 4463.48095703125}\n",
            "[Epoch 146/200] {'loss': tensor(4003.0432, grad_fn=<MseLossBackward0>), 'test_loss': 4456.205078125}\n",
            "[Epoch 147/200] {'loss': tensor(3997.0134, grad_fn=<MseLossBackward0>), 'test_loss': 4448.98291015625}\n",
            "[Epoch 148/200] {'loss': tensor(3991.0337, grad_fn=<MseLossBackward0>), 'test_loss': 4441.8125}\n",
            "[Epoch 149/200] {'loss': tensor(3985.1023, grad_fn=<MseLossBackward0>), 'test_loss': 4434.6953125}\n",
            "[Epoch 150/200] {'loss': tensor(3979.2188, grad_fn=<MseLossBackward0>), 'test_loss': 4427.62939453125}\n",
            "[Epoch 151/200] {'loss': tensor(3973.3838, grad_fn=<MseLossBackward0>), 'test_loss': 4420.615234375}\n",
            "[Epoch 152/200] {'loss': tensor(3967.5964, grad_fn=<MseLossBackward0>), 'test_loss': 4413.65185546875}\n",
            "[Epoch 153/200] {'loss': tensor(3961.8552, grad_fn=<MseLossBackward0>), 'test_loss': 4406.73974609375}\n",
            "[Epoch 154/200] {'loss': tensor(3956.1604, grad_fn=<MseLossBackward0>), 'test_loss': 4399.876953125}\n",
            "[Epoch 155/200] {'loss': tensor(3950.5112, grad_fn=<MseLossBackward0>), 'test_loss': 4393.06298828125}\n",
            "[Epoch 156/200] {'loss': tensor(3944.9082, grad_fn=<MseLossBackward0>), 'test_loss': 4386.298828125}\n",
            "[Epoch 157/200] {'loss': tensor(3939.3506, grad_fn=<MseLossBackward0>), 'test_loss': 4379.58251953125}\n",
            "[Epoch 158/200] {'loss': tensor(3933.8359, grad_fn=<MseLossBackward0>), 'test_loss': 4372.91455078125}\n",
            "[Epoch 159/200] {'loss': tensor(3928.3662, grad_fn=<MseLossBackward0>), 'test_loss': 4366.294921875}\n",
            "[Epoch 160/200] {'loss': tensor(3922.9404, grad_fn=<MseLossBackward0>), 'test_loss': 4359.72216796875}\n",
            "[Epoch 161/200] {'loss': tensor(3917.5576, grad_fn=<MseLossBackward0>), 'test_loss': 4353.19580078125}\n",
            "[Epoch 162/200] {'loss': tensor(3912.2170, grad_fn=<MseLossBackward0>), 'test_loss': 4346.7158203125}\n",
            "[Epoch 163/200] {'loss': tensor(3906.9199, grad_fn=<MseLossBackward0>), 'test_loss': 4340.2822265625}\n",
            "[Epoch 164/200] {'loss': tensor(3901.6643, grad_fn=<MseLossBackward0>), 'test_loss': 4333.89404296875}\n",
            "[Epoch 165/200] {'loss': tensor(3896.4497, grad_fn=<MseLossBackward0>), 'test_loss': 4327.55078125}\n",
            "[Epoch 166/200] {'loss': tensor(3891.2769, grad_fn=<MseLossBackward0>), 'test_loss': 4321.251953125}\n",
            "[Epoch 167/200] {'loss': tensor(3886.1440, grad_fn=<MseLossBackward0>), 'test_loss': 4314.998046875}\n",
            "[Epoch 168/200] {'loss': tensor(3881.0518, grad_fn=<MseLossBackward0>), 'test_loss': 4308.78759765625}\n",
            "[Epoch 169/200] {'loss': tensor(3875.9998, grad_fn=<MseLossBackward0>), 'test_loss': 4302.62060546875}\n",
            "[Epoch 170/200] {'loss': tensor(3870.9866, grad_fn=<MseLossBackward0>), 'test_loss': 4296.49658203125}\n",
            "[Epoch 171/200] {'loss': tensor(3866.0132, grad_fn=<MseLossBackward0>), 'test_loss': 4290.4150390625}\n",
            "[Epoch 172/200] {'loss': tensor(3861.0784, grad_fn=<MseLossBackward0>), 'test_loss': 4284.3759765625}\n",
            "[Epoch 173/200] {'loss': tensor(3856.1816, grad_fn=<MseLossBackward0>), 'test_loss': 4278.37890625}\n",
            "[Epoch 174/200] {'loss': tensor(3851.3230, grad_fn=<MseLossBackward0>), 'test_loss': 4272.42333984375}\n",
            "[Epoch 175/200] {'loss': tensor(3846.5015, grad_fn=<MseLossBackward0>), 'test_loss': 4266.50830078125}\n",
            "[Epoch 176/200] {'loss': tensor(3841.7175, grad_fn=<MseLossBackward0>), 'test_loss': 4260.634765625}\n",
            "[Epoch 177/200] {'loss': tensor(3836.9702, grad_fn=<MseLossBackward0>), 'test_loss': 4254.80126953125}\n",
            "[Epoch 178/200] {'loss': tensor(3832.2593, grad_fn=<MseLossBackward0>), 'test_loss': 4249.0078125}\n",
            "[Epoch 179/200] {'loss': tensor(3827.5847, grad_fn=<MseLossBackward0>), 'test_loss': 4243.25341796875}\n",
            "[Epoch 180/200] {'loss': tensor(3822.9463, grad_fn=<MseLossBackward0>), 'test_loss': 4237.5390625}\n",
            "[Epoch 181/200] {'loss': tensor(3818.3428, grad_fn=<MseLossBackward0>), 'test_loss': 4231.86376953125}\n",
            "[Epoch 182/200] {'loss': tensor(3813.7742, grad_fn=<MseLossBackward0>), 'test_loss': 4226.22607421875}\n",
            "[Epoch 183/200] {'loss': tensor(3809.2405, grad_fn=<MseLossBackward0>), 'test_loss': 4220.62744140625}\n",
            "[Epoch 184/200] {'loss': tensor(3804.7412, grad_fn=<MseLossBackward0>), 'test_loss': 4215.06640625}\n",
            "[Epoch 185/200] {'loss': tensor(3800.2759, grad_fn=<MseLossBackward0>), 'test_loss': 4209.54345703125}\n",
            "[Epoch 186/200] {'loss': tensor(3795.8442, grad_fn=<MseLossBackward0>), 'test_loss': 4204.056640625}\n",
            "[Epoch 187/200] {'loss': tensor(3791.4463, grad_fn=<MseLossBackward0>), 'test_loss': 4198.607421875}\n",
            "[Epoch 188/200] {'loss': tensor(3787.0808, grad_fn=<MseLossBackward0>), 'test_loss': 4193.19482421875}\n",
            "[Epoch 189/200] {'loss': tensor(3782.7483, grad_fn=<MseLossBackward0>), 'test_loss': 4187.818359375}\n",
            "[Epoch 190/200] {'loss': tensor(3778.4482, grad_fn=<MseLossBackward0>), 'test_loss': 4182.47705078125}\n",
            "[Epoch 191/200] {'loss': tensor(3774.1799, grad_fn=<MseLossBackward0>), 'test_loss': 4177.171875}\n",
            "[Epoch 192/200] {'loss': tensor(3769.9441, grad_fn=<MseLossBackward0>), 'test_loss': 4171.90185546875}\n",
            "[Epoch 193/200] {'loss': tensor(3765.7393, grad_fn=<MseLossBackward0>), 'test_loss': 4166.66650390625}\n",
            "[Epoch 194/200] {'loss': tensor(3761.5659, grad_fn=<MseLossBackward0>), 'test_loss': 4161.46630859375}\n",
            "[Epoch 195/200] {'loss': tensor(3757.4229, grad_fn=<MseLossBackward0>), 'test_loss': 4156.30029296875}\n",
            "[Epoch 196/200] {'loss': tensor(3753.3103, grad_fn=<MseLossBackward0>), 'test_loss': 4151.16845703125}\n",
            "[Epoch 197/200] {'loss': tensor(3749.2288, grad_fn=<MseLossBackward0>), 'test_loss': 4146.06982421875}\n",
            "[Epoch 198/200] {'loss': tensor(3745.1768, grad_fn=<MseLossBackward0>), 'test_loss': 4141.00439453125}\n",
            "[Epoch 199/200] {'loss': tensor(3741.1541, grad_fn=<MseLossBackward0>), 'test_loss': 4135.97216796875}\n",
            "[Epoch 200/200] {'loss': tensor(3737.1611, grad_fn=<MseLossBackward0>), 'test_loss': 4130.97314453125}\n"
          ]
        }
      ],
      "source": [
        "torch_model = LinearRegression(X0.shape[-1], 1)\n",
        "torch_model.set_learning_rate(0.3)\n",
        "torch_model.train_test(\n",
        "    [[torch.Tensor(X0), torch.Tensor(Y0)]], \n",
        "    [[torch.Tensor(X1), torch.Tensor(Y1)]],\n",
        "    epochs=200\n",
        ");"
      ]
    },
    {
      "cell_type": "markdown",
      "metadata": {
        "id": "H63TERfyvZtS"
      },
      "source": [
        "## Shapes That Might Be Useful..."
      ]
    },
    {
      "cell_type": "markdown",
      "metadata": {
        "id": "LtwbP5tRbJky"
      },
      "source": [
        "Throughout the duration of this course, you might find it really helpful to check the shapes of each of your different tensors and outputs just to verify that everything is working as intended. Check the block below to see an example!"
      ]
    },
    {
      "cell_type": "code",
      "execution_count": 216,
      "metadata": {
        "colab": {
          "base_uri": "https://localhost:8080/"
        },
        "id": "MBkTktWcD9dz",
        "outputId": "b3ec3eb7-fbc0-4337-8ad3-1e20e1d3aa62"
      },
      "outputs": [
        {
          "name": "stdout",
          "output_type": "stream",
          "text": [
            "> Prediction Shape: torch.Size([353, 1])\n",
            "> Weights    Shape: torch.Size([1, 10])\n",
            "> Bias       Shape: torch.Size([1])\n",
            "> Loss       Shape: torch.Size([])\n"
          ]
        }
      ],
      "source": [
        "y_true = torch.Tensor(Y0)\n",
        "y_pred = torch_model(torch.Tensor(X0))\n",
        "loss = torch_model.loss(y_true, y_pred)\n",
        "\n",
        "print(f\"\"\"\n",
        "> Prediction Shape: {y_pred.shape}\n",
        "> Weights    Shape: {list(torch_model.parameters())[0].shape}\n",
        "> Bias       Shape: {list(torch_model.parameters())[1].shape}\n",
        "> Loss       Shape: {loss.shape}\n",
        "\"\"\".strip())"
      ]
    },
    {
      "cell_type": "markdown",
      "metadata": {
        "id": "cu1pLK46fFqX"
      },
      "source": [
        "Next, let's start building up all the different parts of the basic PyTorch tools that we used in order to see what's under the hood."
      ]
    },
    {
      "cell_type": "markdown",
      "metadata": {
        "id": "0ZfozqWdLB2V"
      },
      "source": [
        "## PyTorch Complexity Assumptions"
      ]
    },
    {
      "cell_type": "markdown",
      "metadata": {
        "id": "oVv6iQios7-D"
      },
      "source": [
        "### Tensors\n",
        "- Tensors are responsible for maintaining their own gradients\n",
        "- Tensors hold on to `backward` functions to which they can pass a gradient into. These backwards functions are provided by the layers associated with those tensors. \n",
        "    - If a tensor is a terminal node, it will pass in an upstream gradient of `None`.\n",
        "    - If a tensor is a non-terminal node, it will pass the accumulated upstream gradient. \n",
        "    - `backward` functions as a linked list algorithm and crawls back the chain, computing the gradient for every tensor that it hits (as long as they require a gradient).\n",
        "- Since the tensors hold their own gradients, the optimizer can merely take the tensors' values, take their gradients, and then just optimize them.\n",
        "- However, because tensors are always keeping track of their gradients when `requires_grad` is set to `True`, we also want to add a way to stop tracking gradients.\n",
        "    - For instance, while evaluating the performance of our model, we want to make sure that the model doesn't learn anything from this evaluation phase.\n",
        "    - We can use the `no_grad` subclass to automatically handle the flipping of this `requires_grad` value. \n",
        "        - Every time we enter a `with Tensor.no_grad():` block, the code within `no_grad`'s `__enter__()` method will execute. \n",
        "        - Once we exit the same `with Tensor.no_grad():` block, `no_grad`'s `__exit()__` method will run."
      ]
    },
    {
      "cell_type": "code",
      "execution_count": 217,
      "metadata": {
        "id": "5ZbMLm30y3tD"
      },
      "outputs": [],
      "source": [
        "class Tensor(np.ndarray):\n",
        "\n",
        "    '''\n",
        "    Subclassing numpy arrays is a bit weird:\n",
        "    https://numpy.org/doc/stable/user/basics.subclassing.html\n",
        "\n",
        "    Just assume that the attributes referred to in __new__/__array_finalize__ \n",
        "    will be accessible in a Tensor when a new Tensor object is created.  \n",
        "    '''\n",
        "\n",
        "    requires_grad = True  ## Class variable; accessible by Tensor.requires_grad\n",
        "\n",
        "    def __new__(cls, input_array):\n",
        "        obj = np.asarray(input_array).view(cls)\n",
        "        obj.backward = lambda x: None   ## Backward starts as None, gets assigned later\n",
        "        obj.grad = None                 ## Gradient starts as None, gets computed later\n",
        "        obj.requires_grad = True        ## By default, we'll want to compute gradient for new tensors\n",
        "        obj.to = lambda x: obj          ## We don't handle special device support (i.e. cpu vs gpu/cuda)\n",
        "        return obj\n",
        "\n",
        "    def __array_finalize__(self, obj):\n",
        "        if obj is None: return\n",
        "        self.backward       = getattr(obj, 'backward',      lambda x: None)\n",
        "        self.to             = getattr(obj, 'to',            lambda x: obj)\n",
        "        self.grad           = getattr(obj, 'grad',          None)\n",
        "        self.requires_grad  = getattr(obj, 'requires_grad', None)\n",
        "\n",
        "    class no_grad():\n",
        "\n",
        "        '''\n",
        "        Synergizes with Tensor: By entering the tensor with no_grad scope, \n",
        "        the Tensor.requires_grad singleton will swap to False. \n",
        "        '''\n",
        "        \n",
        "        def __enter__(self):\n",
        "            # When tape scope is entered, stop asking tensors to record gradients\n",
        "            Tensor.requires_grad = False\n",
        "            return self\n",
        "\n",
        "        def __exit__(self, exc_type, exc_val, exc_tb):\n",
        "            # When tape scope is exited, let Diffable start recording to self.operation\n",
        "            Tensor.requires_grad = True"
      ]
    },
    {
      "cell_type": "markdown",
      "metadata": {
        "id": "ovL7L6STvXCU"
      },
      "source": [
        "### Diffable\n",
        "\n",
        "Let's specify a \"Diffable\" object which will represent a module that can be differentiated. This class will make the following assumptions: \n",
        "- Gradients will need to flow through the input pathways in order to compute earlier gradients. \n",
        "    - Therefore, inputs will need an appropriate \"backward\"\n",
        "- Parameters will need to recieve gradients.\n",
        "- More specifically, if a `Diffable` object performs an operation on some input, then we know that the gradient from the output of the Diffable w.r.t. the inputs is the gradient of the `Diffable`'s operations w.r.t. its inputs.\n",
        "  - Thus, a `Diffable`'s `input_gradients()` function should return a tuple with each of the partial derivatives of the operations performed in the forward pass."
      ]
    },
    {
      "cell_type": "code",
      "execution_count": 218,
      "metadata": {
        "id": "9v68mc_U1ymJ"
      },
      "outputs": [],
      "source": [
        "from abc import ABC, abstractmethod  # # For abstract method support\n",
        "\n",
        "class Diffable(ABC):\n",
        "    \"\"\"\n",
        "        We use these to represent differentiable layers which we can compute gradients for.\n",
        "    \"\"\"\n",
        "\n",
        "    def to(self, device):\n",
        "        return self         # Just there to ignore device setting calls\n",
        "    \n",
        "    def __call__(self, *args, **kwargs):\n",
        "        \n",
        "        ## The call method keeps track of method inputs and outputs\n",
        "        self.argnames   = self.forward.__code__.co_varnames[1:]\n",
        "        named_args      = {self.argnames[i] : args[i] for i in range(len(args))}\n",
        "        self.input_dict = {**named_args, **kwargs}\n",
        "        self.inputs     = [self.input_dict[arg] for arg in self.argnames if arg in self.input_dict.keys()]\n",
        "        self.outputs    = self.forward(*args, **kwargs)\n",
        "\n",
        "        ## Make sure outputs are tensors and tie back to this layer\n",
        "        list_outs = isinstance(self.outputs, list) or isinstance(self.outputs, tuple)\n",
        "        if not list_outs:\n",
        "            self.outputs = [self.outputs]\n",
        "        self.outputs = [Tensor(out) for out in self.outputs]\n",
        "        for out in self.outputs: \n",
        "            out.backward = self.backward\n",
        "\n",
        "        # print(self.__class__.__name__.ljust(24), [v.shape for v in self.inputs], '->', [v.shape for v in self.outputs])\n",
        "            \n",
        "        ## And then finally, it returns the output, thereby wrapping the forward\n",
        "        return self.outputs if list_outs else self.outputs[0]\n",
        "\n",
        "    def parameters(self):\n",
        "        \"\"\"Returns a list of parameters\"\"\"\n",
        "        return ()\n",
        "\n",
        "    @abstractmethod\n",
        "    def forward(self, x):\n",
        "        \"\"\"Pass inputs through function. Can store inputs and outputs as instance variables\"\"\"\n",
        "        pass\n",
        "\n",
        "    @abstractmethod\n",
        "    def input_gradients(self):\n",
        "        \"\"\"Returns local gradient of layer output w.r.t. input\"\"\"\n",
        "        pass\n",
        "\n",
        "    def weight_gradients(self):\n",
        "        \"\"\"Returns local gradient of layer output w.r.t. weights\"\"\"\n",
        "        return []\n",
        "    \n",
        "    @abstractmethod\n",
        "    def backward(self, grad=np.array([[1]])):\n",
        "        \"\"\"\n",
        "        Propagate upstream gradient backwards by composing with local gradient\n",
        "        \n",
        "        SCAFFOLD: \n",
        "\n",
        "        Differentiate with respect to layer parameters:\n",
        "            For every param-gradient pair\n",
        "            - If all Tensors or this tensor do not require gradients, then skip\n",
        "            - Otherwise, compose upstream and local gradient\n",
        "        \n",
        "        Differentiate with respect to layer input:\n",
        "            For every input-gradient pair\n",
        "            - If all Tensors or this tensor do not require gradients, then skip\n",
        "            - Otherwise, compose upstream and local gradient\n",
        "\n",
        "        Usefulseful print boilerplate...: \n",
        "            # print(f'Diffing w.r.t. \"{k}\": local = {g.shape} and upstream = {grad.shape}')\n",
        "        \"\"\"\n",
        "        pass"
      ]
    },
    {
      "cell_type": "markdown",
      "metadata": {
        "id": "2n50HNq3ZuCO"
      },
      "source": [
        "### Loss\n",
        "**[TODO]:** Implement the forward pass in `forward()`.The forward pass should be simple: just implement mean squared error between `y_pred` and `y_true`.\n",
        "\n",
        "**[TODO]:** Calculate and return `input_gradients()`:\n",
        "- You want to calculate the gradients which flow to the inputs: `y_pred` and `y_true`\n",
        "- However, note that we don't want to \"train\" `y_true`, thus return 0 for the grads for `y_true`\n",
        "- Return the partial derivative of mean squared error w.r.t. `y_pred`, and 0.\n",
        "\n",
        "Note that we don't need to implement `weight_gradients()` here because MSELoss doesn't have weights!"
      ]
    },
    {
      "cell_type": "code",
      "execution_count": 219,
      "metadata": {
        "id": "1GG1E4VaC9hs"
      },
      "outputs": [],
      "source": [
        "class MSELoss(Diffable):\n",
        "\n",
        "    \"\"\"\n",
        "        Calculates mean squared error loss and gradient w.r.t. inputs.\n",
        "        Subclasses Diffable.\n",
        "    \"\"\"\n",
        "\n",
        "    def forward(self, y_pred, y_true):\n",
        "        \"\"\"Mean squared error forward pass!\"\"\"\n",
        "        # TODO: Compute and return the MSE given predicted and actual labels\n",
        "        return np.mean((y_true - y_pred)**2)\n",
        "\n",
        "    def input_gradients(self):\n",
        "        \"\"\"Mean squared error backpropagation!\"\"\"\n",
        "        # TODO: Compute and return the gradients\n",
        "        #return tuple of input, gradient \n",
        "        y_pred, y_true, loss = self.inputs + self.outputs\n",
        "\n",
        "        y_true_grad = np.array([0])\n",
        "        y_pred_grad = (2*(y_pred - y_true))/len(y_pred)#hard code this in? need to divide by n?\n",
        "        return y_pred_grad, y_true_grad\n",
        "\n",
        "    def backward(self, grad=np.array([[1]])):\n",
        "        \"\"\"Mean squared error backpropagation!\"\"\"        \n",
        "        ## TODO: Differentiate with respect to layer inputs        \n",
        "        ## For each input value and input gradient\n",
        "            ## Compose the upstream gradient with this input's gradient\n",
        "            ## Set the gradient of the tensor to the composed gradient as necessary\n",
        "            ## Pass the composed gradient backward through structure\n",
        "\n",
        "        for i, g in zip(self.inputs, self.input_gradients()):\n",
        "            if Tensor.requires_grad:\n",
        "                n_g = np.matmul(g, grad)\n",
        "                if getattr(i, \"requires_grad\", False):\n",
        "                    i.grad = n_g\n",
        "                i.backward(n_g)"
      ]
    },
    {
      "attachments": {},
      "cell_type": "markdown",
      "metadata": {
        "id": "2CHqCz0nKsGB"
      },
      "source": [
        "And here are some sanity checks you can run to make sure that your code is working as intended. In the first check, the outputs should match. In the second, they should be within the specified range."
      ]
    },
    {
      "cell_type": "code",
      "execution_count": 220,
      "metadata": {
        "colab": {
          "base_uri": "https://localhost:8080/"
        },
        "id": "45Y7ngPUKehB",
        "outputId": "fc6dad07-1d9b-479b-84c6-c4e39167e178"
      },
      "outputs": [
        {
          "name": "stdout",
          "output_type": "stream",
          "text": [
            "tensor(3733.1975, grad_fn=<MseLossBackward0>)\n",
            "3733.1973914263517\n"
          ]
        }
      ],
      "source": [
        "class con: \n",
        "    ## Control set using default PyTorch\n",
        "    ytrue = torch.Tensor(Y0)\n",
        "    ypred = torch_model(torch.Tensor(X0))\n",
        "    loss_fn = nn.MSELoss()\n",
        "\n",
        "class exp: \n",
        "    ## Experimental set using your own implementation\n",
        "    ytrue = Tensor(Y0)\n",
        "    ypred = Tensor(con.ypred.detach().numpy())\n",
        "    loss_fn = MSELoss()\n",
        "\n",
        "def ypred_to_loss(ns):\n",
        "    ## Compute loss using the control and experimental namespaces\n",
        "    ns.loss = ns.loss_fn(ns.ypred, ns.ytrue)\n",
        "    return ns.loss\n",
        "\n",
        "## Sanity Check 1: Make sure that the forward pass is the same (i.e. your implementation matches the control)\n",
        "print(ypred_to_loss(con))\n",
        "print(ypred_to_loss(exp))"
      ]
    },
    {
      "cell_type": "code",
      "execution_count": 221,
      "metadata": {
        "colab": {
          "base_uri": "https://localhost:8080/"
        },
        "id": "P9tUAGJkg6I9",
        "outputId": "81ef4fe8-0fca-491e-d37a-4ef9c3131117"
      },
      "outputs": [
        {
          "name": "stdout",
          "output_type": "stream",
          "text": [
            "Maximum difference 3.444574370181641e-08 should be less than 0.00001\n"
          ]
        }
      ],
      "source": [
        "## Sanity Check 2: Make sure that the backwards pass is the same\n",
        "\n",
        "con.ypred = con.ypred.detach()\n",
        "con.ypred.requires_grad = True\n",
        "# print(\"Before running backwards:\\n\", con.ypred.grad)\n",
        "ypred_to_loss(con)\n",
        "con.loss.backward()\n",
        "# print(\"After running backwards:\\n\", con.ypred.grad)\n",
        "\n",
        "exp.ypred.grad = None\n",
        "# print(\"Before running backwards:\\n\", np.round(exp.ypred.grad, 4))\n",
        "ypred_to_loss(exp)\n",
        "exp.loss.backward()\n",
        "# print(\"After running backwards:\\n\", np.round(exp.ypred.grad, 4))\n",
        "\n",
        "max_diff = np.max(exp.ypred.grad - con.ypred.grad.detach().numpy())\n",
        "print(f\"Maximum difference {max_diff} should be less than 0.00001\")"
      ]
    },
    {
      "cell_type": "markdown",
      "metadata": {
        "id": "inej4Q37gqN8"
      },
      "source": [
        "### Linear Layer\n",
        "Next, a linear layer!\n",
        "\n",
        "**[TODO]:** Implement the `forward()` pass of a linear layer. \n",
        "\n",
        "**[TODO]:** Calculate (manually) the weight gradients.\n",
        "- Manually differentiate the Dense layer with respect to weights and biases.\n",
        "- Return weight gradient, then bias gradient in that order\n",
        "- HINT: How is differentiating with matrix variables similar to and different from normal differentiation?\n",
        "\n",
        "**[TODO]:** Initalize weights and biases in `_initialize_weight()`.\n",
        "- In a linear layer, we have 2 parameters: weights and biases. \n",
        "- Return two NumPy arrays of the correct shapes according according to the function's arguments. \n",
        "- Return weights and biases, in that order.\n",
        "\n",
        "Be sure to also read and understand the `backward()` function, which is used to backpropagate gradients."
      ]
    },
    {
      "cell_type": "code",
      "execution_count": 222,
      "metadata": {
        "colab": {
          "base_uri": "https://localhost:8080/"
        },
        "id": "50FnJezypdpt",
        "outputId": "3db15996-701b-46f5-dff7-52d5768e06ba"
      },
      "outputs": [
        {
          "name": "stdout",
          "output_type": "stream",
          "text": [
            "Maximum difference 1.54661649598431e-08 should be less than 0.00001\n",
            "\n",
            "Losses: Control 28672.47265625 vs Experimental 28672.472288446123\n",
            "\n",
            "Control Params:\n",
            "Parameter containing:\n",
            "tensor([[ 0.2010,  0.0762, -0.1321, -0.0820, -0.0781, -0.0708, -0.1609,  0.2566,\n",
            "          0.1931, -0.0005]], requires_grad=True)\n",
            "Parameter containing:\n",
            "tensor([0.2502], requires_grad=True)\n",
            "\n",
            "Experimental Params:\n",
            "[[ 0.20103648  0.07617849 -0.13212009 -0.0820293  -0.07805212 -0.07084316\n",
            "  -0.16085191  0.2566047   0.1930997  -0.00051984]]\n",
            "[0.2501913]\n"
          ]
        }
      ],
      "source": [
        "import torch\n",
        "import torch.nn as nn\n",
        "\n",
        "class Linear(Diffable):\n",
        "\n",
        "    \"\"\"\n",
        "        Standard linear/dense layer.\n",
        "        Subclasses Diffable.\n",
        "    \"\"\"\n",
        "\n",
        "    def __init__(self, in_features, out_features, device=None, dtype=None):\n",
        "        self.w, self.b = self.__class__._initialize_weight(in_features, out_features)\n",
        "    \n",
        "    def parameters(self):\n",
        "        return self.w, self.b\n",
        "\n",
        "    def forward(self, inputs):\n",
        "        \"\"\"Forward pass for a dense layer! Refer to lecture slides for how this is computed.\"\"\"\n",
        "        # TODO: implement the forward pass and return the outputs\n",
        "        weights, bias = self.parameters()\n",
        "        ans = np.matmul(inputs, weights.transpose()) + bias  #ask about transpose\n",
        "        return ans\n",
        "\n",
        "    def weight_gradients(self):\n",
        "        \"\"\"Calculating the gradients of the weights and biases!\"\"\"\n",
        "        # TODO: Implement calculation of gradients\n",
        "        wgrads = self.input_dict[\"inputs\"] * np.ones_like(self.w)\n",
        "        bgrads = np.ones_like(self.b)\n",
        "        return (wgrads, bgrads)\n",
        "\n",
        "    def input_gradients(self):\n",
        "        \"\"\"Calculate the gradients of the inputs! (Not necessary for HW1)\"\"\"\n",
        "        return (self.w,)\n",
        "\n",
        "    @staticmethod\n",
        "    def _initialize_weight(input_size, output_size):\n",
        "        \"\"\"\n",
        "        Initializes the values of the weights and biases. You can assume that \n",
        "        bias is a zero-vector and weight is normally-distributed.\n",
        "        \"\"\"\n",
        "        ## TODO: Implement default assumption: zero-init for bias, normal distribution for weights\n",
        "        ## Must return tensors for tracking purposes. ???\n",
        "        init_bias = np.zeros((output_size, 1))\n",
        "        init_weight = np.random.normal(size = (output_size, input_size))\n",
        "        return Tensor(init_weight), Tensor(init_bias)\n",
        "\n",
        "    def backward(self, grad=np.array([[1]])):\n",
        "        ## For every weight/bias and weight/bias gradient\n",
        "            ## Compose the upstream gradient with this weight's/bias's gradient\n",
        "            ## Set the gradient of the tensor to the composed gradient if necessary\n",
        "            ## Backpropagate the composed gradient through the structure\n",
        "        for (_, p), g in zip(enumerate(self.parameters()), self.weight_gradients()):\n",
        "            if Tensor.requires_grad:\n",
        "                n_g = np.sum(g * grad, axis=0, keepdims=True)\n",
        "                if getattr(p, \"requires_grad\", False):\n",
        "                    p.grad = n_g\n",
        "                p.backward(n_g)\n",
        "\n",
        "class con:\n",
        "    ## Control set using regular pytorch\n",
        "    X0 = torch.Tensor(X0)\n",
        "    Y0 = torch.Tensor(Y0)\n",
        "    X0.requires_grad = True\n",
        "    Y0.requires_grad = True\n",
        "    dense = nn.Linear(10, 1)\n",
        "    loss_fn = nn.MSELoss()\n",
        "\n",
        "class exp:\n",
        "    ## Experimental set using your own implementation\n",
        "    X0 = Tensor(X0)\n",
        "    Y0 = Tensor(Y0)\n",
        "    dense = Linear(10, 1)\n",
        "    dense.w, dense.b = [Tensor(p.detach().numpy()) for p in con.dense.parameters()]\n",
        "    loss_fn = MSELoss()\n",
        "\n",
        "def x_to_loss(ns):\n",
        "    ns.ypred = ns.dense(ns.X0)\n",
        "    ns.loss  = ns.loss_fn(ns.ypred, ns.Y0)\n",
        "    return ns.loss\n",
        "\n",
        "x_to_loss(con)\n",
        "x_to_loss(exp)\n",
        "\n",
        "## Sanity Check 1: Make sure that the forward pass is the same\n",
        "# print(con.ypred)\n",
        "# print(exp.ypred)\n",
        "\n",
        "print(f\"Maximum difference {np.max(con.ypred.detach().numpy() - exp.ypred)} should be less than 0.00001\\n\")\n",
        "\n",
        "print(f\"Losses: Control {con.loss} vs Experimental {exp.loss}\")\n",
        "\n",
        "print('\\nControl Params:',      *list(con.dense.parameters()), sep='\\n')\n",
        "print('\\nExperimental Params:', *list(exp.dense.parameters()), sep='\\n')"
      ]
    },
    {
      "cell_type": "code",
      "execution_count": 223,
      "metadata": {
        "colab": {
          "base_uri": "https://localhost:8080/"
        },
        "id": "-v6oUfSJxidG",
        "outputId": "0e5b54b6-841e-4843-da3b-25e030d62a0d"
      },
      "outputs": [
        {
          "name": "stdout",
          "output_type": "stream",
          "text": [
            "After running backwards on weights:\n",
            "[tensor([[-1.5537, -0.0820, -3.9126, -3.1337, -1.6600, -1.4878,  2.7261, -3.2802,\n",
            "         -3.9166, -2.6444]]), tensor([-302.4571])]\n",
            "\n",
            "****************************************************************************************************\n",
            "\n",
            "After running backwards on weights:\n",
            "[Tensor([[-1.55373524, -0.08195092, -3.91260402, -3.13366351, -1.65998233,\n",
            "         -1.48777654,  2.72605904, -3.28022162, -3.91664425, -2.64436807]]), Tensor([[-302.45708494]])]\n"
          ]
        }
      ],
      "source": [
        "## Sanity Check 2: Make sure that the backwards pass is the same\n",
        "\n",
        "con.X0 = con.X0.detach()\n",
        "con.Y0 = con.Y0.detach()\n",
        "for p in con.dense.parameters():\n",
        "    if p.grad is None: continue\n",
        "    p.grad.detach_()\n",
        "    p.grad = None\n",
        "\n",
        "x_to_loss(con).backward()\n",
        "print(\"After running backwards on weights:\")  \n",
        "print([p.grad for p in con.dense.parameters()])\n",
        "\n",
        "for p in exp.dense.parameters(): p.grad = None\n",
        "x_to_loss(exp).backward()\n",
        "\n",
        "print(\"\\n\" + \"*\" * 100 + \"\\n\")\n",
        "print(\"After running backwards on weights:\")  \n",
        "print([p.grad for p in exp.dense.parameters()])"
      ]
    },
    {
      "cell_type": "markdown",
      "metadata": {
        "id": "CQGhTAMgFe_i"
      },
      "source": [
        "## Optimizing With The Gradients\n",
        "\n",
        "To use the gradients we calculated previously, we need an optimizer. The optimizer allows us to update our weights and bias. A simple approach could be to simply subtract the gradient from the weights and bias. In doing so, we follow the gradient in its opposite direction, minimizing loss. This is what is called gradient descent. \n",
        "\n",
        "However, simply subtracting the gradients from the weights could result in the weights changing wildly between each sample, making training longer. To prevent this, we use a learning rate. The learning rate is a hyperparameter that specifies how much a single step updates weights. A smaller learning rate means that the gradients have less of an impact on the weights, and vice versa.\n",
        "\n",
        "Of course, this is just one (simple) approach. In a later lab, you'll learn about other optimizers, such as Adam and RMSProp.\n",
        "\n",
        "**[TODO]:** Implement stochastic gradient descent for each parameter using the learning rate"
      ]
    },
    {
      "cell_type": "code",
      "execution_count": 224,
      "metadata": {
        "id": "J5s6o4_WGXhe"
      },
      "outputs": [],
      "source": [
        "class SGD: \n",
        "    \"\"\"\n",
        "        Performs stochastic gradident descent with the specified learning rate.\n",
        "    \"\"\"\n",
        "    def __init__(self, params, lr, *args, **kwargs):\n",
        "        self.params = params\n",
        "        self.lr = lr\n",
        "    \n",
        "    def zero_grad(self):\n",
        "        \"\"\"\n",
        "            Reset the gradients.\n",
        "        \"\"\"\n",
        "        pass\n",
        "            \n",
        "    def step(self):\n",
        "        \"\"\"\n",
        "            Update paramaters by subtracting the gradient multiplied by the learning rate.\n",
        "        \"\"\"\n",
        "        ## TODO: Implement stochastic grad descent for each parameter\n",
        "\n",
        "        for p in self.params:\n",
        "            p = p - self.lr * p.grad\n",
        "            #p -= self.lr * p.grad\n",
        "\n",
        "        #self.params = self.params - self.lr * gradients #what are the gradients: p.grad \n"
      ]
    },
    {
      "attachments": {},
      "cell_type": "markdown",
      "metadata": {
        "id": "p9m63xegnLnj"
      },
      "source": [
        "Below, you'll use your new implementations to optimize for linear regression manually. FakeTorchModule will also be provided to make some of the mimicking process easier. \n",
        "\n",
        "**[TODO]:** Complete the model and compare this model's performance to the previous `LinearRegression` model -- they should have a similar loss after training."
      ]
    },
    {
      "cell_type": "code",
      "execution_count": 225,
      "metadata": {
        "colab": {
          "base_uri": "https://localhost:8080/"
        },
        "id": "M6-a0DfvFlnN",
        "outputId": "a5030069-c43e-4f8b-f2d6-2ed17c90d2c6"
      },
      "outputs": [
        {
          "name": "stdout",
          "output_type": "stream",
          "text": [
            "[Epoch 1/200] {'loss': Tensor(28751.93716407), 'test_loss': 30575.628386687058}\n",
            "[Epoch 2/200] {'loss': Tensor(28751.93716407), 'test_loss': 30575.628386687058}\n",
            "[Epoch 3/200] {'loss': Tensor(28751.93716407), 'test_loss': 30575.628386687058}\n",
            "[Epoch 4/200] {'loss': Tensor(28751.93716407), 'test_loss': 30575.628386687058}\n",
            "[Epoch 5/200] {'loss': Tensor(28751.93716407), 'test_loss': 30575.628386687058}\n",
            "[Epoch 6/200] {'loss': Tensor(28751.93716407), 'test_loss': 30575.628386687058}\n",
            "[Epoch 7/200] {'loss': Tensor(28751.93716407), 'test_loss': 30575.628386687058}\n",
            "[Epoch 8/200] {'loss': Tensor(28751.93716407), 'test_loss': 30575.628386687058}\n",
            "[Epoch 9/200] {'loss': Tensor(28751.93716407), 'test_loss': 30575.628386687058}\n",
            "[Epoch 10/200] {'loss': Tensor(28751.93716407), 'test_loss': 30575.628386687058}\n",
            "[Epoch 11/200] {'loss': Tensor(28751.93716407), 'test_loss': 30575.628386687058}\n",
            "[Epoch 12/200] {'loss': Tensor(28751.93716407), 'test_loss': 30575.628386687058}\n",
            "[Epoch 13/200] {'loss': Tensor(28751.93716407), 'test_loss': 30575.628386687058}\n",
            "[Epoch 14/200] {'loss': Tensor(28751.93716407), 'test_loss': 30575.628386687058}\n",
            "[Epoch 15/200] {'loss': Tensor(28751.93716407), 'test_loss': 30575.628386687058}\n",
            "[Epoch 16/200] {'loss': Tensor(28751.93716407), 'test_loss': 30575.628386687058}\n",
            "[Epoch 17/200] {'loss': Tensor(28751.93716407), 'test_loss': 30575.628386687058}\n",
            "[Epoch 18/200] {'loss': Tensor(28751.93716407), 'test_loss': 30575.628386687058}\n",
            "[Epoch 19/200] {'loss': Tensor(28751.93716407), 'test_loss': 30575.628386687058}\n",
            "[Epoch 20/200] {'loss': Tensor(28751.93716407), 'test_loss': 30575.628386687058}\n",
            "[Epoch 21/200] {'loss': Tensor(28751.93716407), 'test_loss': 30575.628386687058}\n",
            "[Epoch 22/200] {'loss': Tensor(28751.93716407), 'test_loss': 30575.628386687058}\n",
            "[Epoch 23/200] {'loss': Tensor(28751.93716407), 'test_loss': 30575.628386687058}\n",
            "[Epoch 24/200] {'loss': Tensor(28751.93716407), 'test_loss': 30575.628386687058}\n",
            "[Epoch 25/200] {'loss': Tensor(28751.93716407), 'test_loss': 30575.628386687058}\n",
            "[Epoch 26/200] {'loss': Tensor(28751.93716407), 'test_loss': 30575.628386687058}\n",
            "[Epoch 27/200] {'loss': Tensor(28751.93716407), 'test_loss': 30575.628386687058}\n",
            "[Epoch 28/200] {'loss': Tensor(28751.93716407), 'test_loss': 30575.628386687058}\n",
            "[Epoch 29/200] {'loss': Tensor(28751.93716407), 'test_loss': 30575.628386687058}\n",
            "[Epoch 30/200] {'loss': Tensor(28751.93716407), 'test_loss': 30575.628386687058}\n",
            "[Epoch 31/200] {'loss': Tensor(28751.93716407), 'test_loss': 30575.628386687058}\n",
            "[Epoch 32/200] {'loss': Tensor(28751.93716407), 'test_loss': 30575.628386687058}\n",
            "[Epoch 33/200] {'loss': Tensor(28751.93716407), 'test_loss': 30575.628386687058}\n",
            "[Epoch 34/200] {'loss': Tensor(28751.93716407), 'test_loss': 30575.628386687058}\n",
            "[Epoch 35/200] {'loss': Tensor(28751.93716407), 'test_loss': 30575.628386687058}\n",
            "[Epoch 36/200] {'loss': Tensor(28751.93716407), 'test_loss': 30575.628386687058}\n",
            "[Epoch 37/200] {'loss': Tensor(28751.93716407), 'test_loss': 30575.628386687058}\n",
            "[Epoch 38/200] {'loss': Tensor(28751.93716407), 'test_loss': 30575.628386687058}\n",
            "[Epoch 39/200] {'loss': Tensor(28751.93716407), 'test_loss': 30575.628386687058}\n",
            "[Epoch 40/200] {'loss': Tensor(28751.93716407), 'test_loss': 30575.628386687058}\n",
            "[Epoch 41/200] {'loss': Tensor(28751.93716407), 'test_loss': 30575.628386687058}\n",
            "[Epoch 42/200] {'loss': Tensor(28751.93716407), 'test_loss': 30575.628386687058}\n",
            "[Epoch 43/200] {'loss': Tensor(28751.93716407), 'test_loss': 30575.628386687058}\n",
            "[Epoch 44/200] {'loss': Tensor(28751.93716407), 'test_loss': 30575.628386687058}\n",
            "[Epoch 45/200] {'loss': Tensor(28751.93716407), 'test_loss': 30575.628386687058}\n",
            "[Epoch 46/200] {'loss': Tensor(28751.93716407), 'test_loss': 30575.628386687058}\n",
            "[Epoch 47/200] {'loss': Tensor(28751.93716407), 'test_loss': 30575.628386687058}\n",
            "[Epoch 48/200] {'loss': Tensor(28751.93716407), 'test_loss': 30575.628386687058}\n",
            "[Epoch 49/200] {'loss': Tensor(28751.93716407), 'test_loss': 30575.628386687058}\n",
            "[Epoch 50/200] {'loss': Tensor(28751.93716407), 'test_loss': 30575.628386687058}\n",
            "[Epoch 51/200] {'loss': Tensor(28751.93716407), 'test_loss': 30575.628386687058}\n",
            "[Epoch 52/200] {'loss': Tensor(28751.93716407), 'test_loss': 30575.628386687058}\n",
            "[Epoch 53/200] {'loss': Tensor(28751.93716407), 'test_loss': 30575.628386687058}\n",
            "[Epoch 54/200] {'loss': Tensor(28751.93716407), 'test_loss': 30575.628386687058}\n",
            "[Epoch 55/200] {'loss': Tensor(28751.93716407), 'test_loss': 30575.628386687058}\n",
            "[Epoch 56/200] {'loss': Tensor(28751.93716407), 'test_loss': 30575.628386687058}\n",
            "[Epoch 57/200] {'loss': Tensor(28751.93716407), 'test_loss': 30575.628386687058}\n",
            "[Epoch 58/200] {'loss': Tensor(28751.93716407), 'test_loss': 30575.628386687058}\n",
            "[Epoch 59/200] {'loss': Tensor(28751.93716407), 'test_loss': 30575.628386687058}\n",
            "[Epoch 60/200] {'loss': Tensor(28751.93716407), 'test_loss': 30575.628386687058}\n",
            "[Epoch 61/200] {'loss': Tensor(28751.93716407), 'test_loss': 30575.628386687058}\n",
            "[Epoch 62/200] {'loss': Tensor(28751.93716407), 'test_loss': 30575.628386687058}\n",
            "[Epoch 63/200] {'loss': Tensor(28751.93716407), 'test_loss': 30575.628386687058}\n",
            "[Epoch 64/200] {'loss': Tensor(28751.93716407), 'test_loss': 30575.628386687058}\n",
            "[Epoch 65/200] {'loss': Tensor(28751.93716407), 'test_loss': 30575.628386687058}\n",
            "[Epoch 66/200] {'loss': Tensor(28751.93716407), 'test_loss': 30575.628386687058}\n",
            "[Epoch 67/200] {'loss': Tensor(28751.93716407), 'test_loss': 30575.628386687058}\n",
            "[Epoch 68/200] {'loss': Tensor(28751.93716407), 'test_loss': 30575.628386687058}\n",
            "[Epoch 69/200] {'loss': Tensor(28751.93716407), 'test_loss': 30575.628386687058}\n",
            "[Epoch 70/200] {'loss': Tensor(28751.93716407), 'test_loss': 30575.628386687058}\n",
            "[Epoch 71/200] {'loss': Tensor(28751.93716407), 'test_loss': 30575.628386687058}\n",
            "[Epoch 72/200] {'loss': Tensor(28751.93716407), 'test_loss': 30575.628386687058}\n",
            "[Epoch 73/200] {'loss': Tensor(28751.93716407), 'test_loss': 30575.628386687058}\n",
            "[Epoch 74/200] {'loss': Tensor(28751.93716407), 'test_loss': 30575.628386687058}\n",
            "[Epoch 75/200] {'loss': Tensor(28751.93716407), 'test_loss': 30575.628386687058}\n",
            "[Epoch 76/200] {'loss': Tensor(28751.93716407), 'test_loss': 30575.628386687058}\n",
            "[Epoch 77/200] {'loss': Tensor(28751.93716407), 'test_loss': 30575.628386687058}\n",
            "[Epoch 78/200] {'loss': Tensor(28751.93716407), 'test_loss': 30575.628386687058}\n",
            "[Epoch 79/200] {'loss': Tensor(28751.93716407), 'test_loss': 30575.628386687058}\n",
            "[Epoch 80/200] {'loss': Tensor(28751.93716407), 'test_loss': 30575.628386687058}\n",
            "[Epoch 81/200] {'loss': Tensor(28751.93716407), 'test_loss': 30575.628386687058}\n",
            "[Epoch 82/200] {'loss': Tensor(28751.93716407), 'test_loss': 30575.628386687058}\n",
            "[Epoch 83/200] {'loss': Tensor(28751.93716407), 'test_loss': 30575.628386687058}\n",
            "[Epoch 84/200] {'loss': Tensor(28751.93716407), 'test_loss': 30575.628386687058}\n",
            "[Epoch 85/200] {'loss': Tensor(28751.93716407), 'test_loss': 30575.628386687058}\n",
            "[Epoch 86/200] {'loss': Tensor(28751.93716407), 'test_loss': 30575.628386687058}\n",
            "[Epoch 87/200] {'loss': Tensor(28751.93716407), 'test_loss': 30575.628386687058}\n",
            "[Epoch 88/200] {'loss': Tensor(28751.93716407), 'test_loss': 30575.628386687058}\n",
            "[Epoch 89/200] {'loss': Tensor(28751.93716407), 'test_loss': 30575.628386687058}\n",
            "[Epoch 90/200] {'loss': Tensor(28751.93716407), 'test_loss': 30575.628386687058}\n",
            "[Epoch 91/200] {'loss': Tensor(28751.93716407), 'test_loss': 30575.628386687058}\n",
            "[Epoch 92/200] {'loss': Tensor(28751.93716407), 'test_loss': 30575.628386687058}\n",
            "[Epoch 93/200] {'loss': Tensor(28751.93716407), 'test_loss': 30575.628386687058}\n",
            "[Epoch 94/200] {'loss': Tensor(28751.93716407), 'test_loss': 30575.628386687058}\n",
            "[Epoch 95/200] {'loss': Tensor(28751.93716407), 'test_loss': 30575.628386687058}\n",
            "[Epoch 96/200] {'loss': Tensor(28751.93716407), 'test_loss': 30575.628386687058}\n",
            "[Epoch 97/200] {'loss': Tensor(28751.93716407), 'test_loss': 30575.628386687058}\n",
            "[Epoch 98/200] {'loss': Tensor(28751.93716407), 'test_loss': 30575.628386687058}\n",
            "[Epoch 99/200] {'loss': Tensor(28751.93716407), 'test_loss': 30575.628386687058}\n",
            "[Epoch 100/200] {'loss': Tensor(28751.93716407), 'test_loss': 30575.628386687058}\n",
            "[Epoch 101/200] {'loss': Tensor(28751.93716407), 'test_loss': 30575.628386687058}\n",
            "[Epoch 102/200] {'loss': Tensor(28751.93716407), 'test_loss': 30575.628386687058}\n",
            "[Epoch 103/200] {'loss': Tensor(28751.93716407), 'test_loss': 30575.628386687058}\n",
            "[Epoch 104/200] {'loss': Tensor(28751.93716407), 'test_loss': 30575.628386687058}\n",
            "[Epoch 105/200] {'loss': Tensor(28751.93716407), 'test_loss': 30575.628386687058}\n",
            "[Epoch 106/200] {'loss': Tensor(28751.93716407), 'test_loss': 30575.628386687058}\n",
            "[Epoch 107/200] {'loss': Tensor(28751.93716407), 'test_loss': 30575.628386687058}\n",
            "[Epoch 108/200] {'loss': Tensor(28751.93716407), 'test_loss': 30575.628386687058}\n",
            "[Epoch 109/200] {'loss': Tensor(28751.93716407), 'test_loss': 30575.628386687058}\n",
            "[Epoch 110/200] {'loss': Tensor(28751.93716407), 'test_loss': 30575.628386687058}\n",
            "[Epoch 111/200] {'loss': Tensor(28751.93716407), 'test_loss': 30575.628386687058}\n",
            "[Epoch 112/200] {'loss': Tensor(28751.93716407), 'test_loss': 30575.628386687058}\n",
            "[Epoch 113/200] {'loss': Tensor(28751.93716407), 'test_loss': 30575.628386687058}\n",
            "[Epoch 114/200] {'loss': Tensor(28751.93716407), 'test_loss': 30575.628386687058}\n",
            "[Epoch 115/200] {'loss': Tensor(28751.93716407), 'test_loss': 30575.628386687058}\n",
            "[Epoch 116/200] {'loss': Tensor(28751.93716407), 'test_loss': 30575.628386687058}\n",
            "[Epoch 117/200] {'loss': Tensor(28751.93716407), 'test_loss': 30575.628386687058}\n",
            "[Epoch 118/200] {'loss': Tensor(28751.93716407), 'test_loss': 30575.628386687058}\n",
            "[Epoch 119/200] {'loss': Tensor(28751.93716407), 'test_loss': 30575.628386687058}\n",
            "[Epoch 120/200] {'loss': Tensor(28751.93716407), 'test_loss': 30575.628386687058}\n",
            "[Epoch 121/200] {'loss': Tensor(28751.93716407), 'test_loss': 30575.628386687058}\n",
            "[Epoch 122/200] {'loss': Tensor(28751.93716407), 'test_loss': 30575.628386687058}\n",
            "[Epoch 123/200] {'loss': Tensor(28751.93716407), 'test_loss': 30575.628386687058}\n",
            "[Epoch 124/200] {'loss': Tensor(28751.93716407), 'test_loss': 30575.628386687058}\n",
            "[Epoch 125/200] {'loss': Tensor(28751.93716407), 'test_loss': 30575.628386687058}\n",
            "[Epoch 126/200] {'loss': Tensor(28751.93716407), 'test_loss': 30575.628386687058}\n",
            "[Epoch 127/200] {'loss': Tensor(28751.93716407), 'test_loss': 30575.628386687058}\n",
            "[Epoch 128/200] {'loss': Tensor(28751.93716407), 'test_loss': 30575.628386687058}\n",
            "[Epoch 129/200] {'loss': Tensor(28751.93716407), 'test_loss': 30575.628386687058}\n",
            "[Epoch 130/200] {'loss': Tensor(28751.93716407), 'test_loss': 30575.628386687058}\n",
            "[Epoch 131/200] {'loss': Tensor(28751.93716407), 'test_loss': 30575.628386687058}\n",
            "[Epoch 132/200] {'loss': Tensor(28751.93716407), 'test_loss': 30575.628386687058}\n",
            "[Epoch 133/200] {'loss': Tensor(28751.93716407), 'test_loss': 30575.628386687058}\n",
            "[Epoch 134/200] {'loss': Tensor(28751.93716407), 'test_loss': 30575.628386687058}\n",
            "[Epoch 135/200] {'loss': Tensor(28751.93716407), 'test_loss': 30575.628386687058}\n",
            "[Epoch 136/200] {'loss': Tensor(28751.93716407), 'test_loss': 30575.628386687058}\n",
            "[Epoch 137/200] {'loss': Tensor(28751.93716407), 'test_loss': 30575.628386687058}\n",
            "[Epoch 138/200] {'loss': Tensor(28751.93716407), 'test_loss': 30575.628386687058}\n",
            "[Epoch 139/200] {'loss': Tensor(28751.93716407), 'test_loss': 30575.628386687058}\n",
            "[Epoch 140/200] {'loss': Tensor(28751.93716407), 'test_loss': 30575.628386687058}\n",
            "[Epoch 141/200] {'loss': Tensor(28751.93716407), 'test_loss': 30575.628386687058}\n",
            "[Epoch 142/200] {'loss': Tensor(28751.93716407), 'test_loss': 30575.628386687058}\n",
            "[Epoch 143/200] {'loss': Tensor(28751.93716407), 'test_loss': 30575.628386687058}\n",
            "[Epoch 144/200] {'loss': Tensor(28751.93716407), 'test_loss': 30575.628386687058}\n",
            "[Epoch 145/200] {'loss': Tensor(28751.93716407), 'test_loss': 30575.628386687058}\n",
            "[Epoch 146/200] {'loss': Tensor(28751.93716407), 'test_loss': 30575.628386687058}\n",
            "[Epoch 147/200] {'loss': Tensor(28751.93716407), 'test_loss': 30575.628386687058}\n",
            "[Epoch 148/200] {'loss': Tensor(28751.93716407), 'test_loss': 30575.628386687058}\n",
            "[Epoch 149/200] {'loss': Tensor(28751.93716407), 'test_loss': 30575.628386687058}\n",
            "[Epoch 150/200] {'loss': Tensor(28751.93716407), 'test_loss': 30575.628386687058}\n",
            "[Epoch 151/200] {'loss': Tensor(28751.93716407), 'test_loss': 30575.628386687058}\n",
            "[Epoch 152/200] {'loss': Tensor(28751.93716407), 'test_loss': 30575.628386687058}\n",
            "[Epoch 153/200] {'loss': Tensor(28751.93716407), 'test_loss': 30575.628386687058}\n",
            "[Epoch 154/200] {'loss': Tensor(28751.93716407), 'test_loss': 30575.628386687058}\n",
            "[Epoch 155/200] {'loss': Tensor(28751.93716407), 'test_loss': 30575.628386687058}\n",
            "[Epoch 156/200] {'loss': Tensor(28751.93716407), 'test_loss': 30575.628386687058}\n",
            "[Epoch 157/200] {'loss': Tensor(28751.93716407), 'test_loss': 30575.628386687058}\n",
            "[Epoch 158/200] {'loss': Tensor(28751.93716407), 'test_loss': 30575.628386687058}\n",
            "[Epoch 159/200] {'loss': Tensor(28751.93716407), 'test_loss': 30575.628386687058}\n",
            "[Epoch 160/200] {'loss': Tensor(28751.93716407), 'test_loss': 30575.628386687058}\n",
            "[Epoch 161/200] {'loss': Tensor(28751.93716407), 'test_loss': 30575.628386687058}\n",
            "[Epoch 162/200] {'loss': Tensor(28751.93716407), 'test_loss': 30575.628386687058}\n",
            "[Epoch 163/200] {'loss': Tensor(28751.93716407), 'test_loss': 30575.628386687058}\n",
            "[Epoch 164/200] {'loss': Tensor(28751.93716407), 'test_loss': 30575.628386687058}\n",
            "[Epoch 165/200] {'loss': Tensor(28751.93716407), 'test_loss': 30575.628386687058}\n",
            "[Epoch 166/200] {'loss': Tensor(28751.93716407), 'test_loss': 30575.628386687058}\n",
            "[Epoch 167/200] {'loss': Tensor(28751.93716407), 'test_loss': 30575.628386687058}\n",
            "[Epoch 168/200] {'loss': Tensor(28751.93716407), 'test_loss': 30575.628386687058}\n",
            "[Epoch 169/200] {'loss': Tensor(28751.93716407), 'test_loss': 30575.628386687058}\n",
            "[Epoch 170/200] {'loss': Tensor(28751.93716407), 'test_loss': 30575.628386687058}\n",
            "[Epoch 171/200] {'loss': Tensor(28751.93716407), 'test_loss': 30575.628386687058}\n",
            "[Epoch 172/200] {'loss': Tensor(28751.93716407), 'test_loss': 30575.628386687058}\n",
            "[Epoch 173/200] {'loss': Tensor(28751.93716407), 'test_loss': 30575.628386687058}\n",
            "[Epoch 174/200] {'loss': Tensor(28751.93716407), 'test_loss': 30575.628386687058}\n",
            "[Epoch 175/200] {'loss': Tensor(28751.93716407), 'test_loss': 30575.628386687058}\n",
            "[Epoch 176/200] {'loss': Tensor(28751.93716407), 'test_loss': 30575.628386687058}\n",
            "[Epoch 177/200] {'loss': Tensor(28751.93716407), 'test_loss': 30575.628386687058}\n",
            "[Epoch 178/200] {'loss': Tensor(28751.93716407), 'test_loss': 30575.628386687058}\n",
            "[Epoch 179/200] {'loss': Tensor(28751.93716407), 'test_loss': 30575.628386687058}\n",
            "[Epoch 180/200] {'loss': Tensor(28751.93716407), 'test_loss': 30575.628386687058}\n",
            "[Epoch 181/200] {'loss': Tensor(28751.93716407), 'test_loss': 30575.628386687058}\n",
            "[Epoch 182/200] {'loss': Tensor(28751.93716407), 'test_loss': 30575.628386687058}\n",
            "[Epoch 183/200] {'loss': Tensor(28751.93716407), 'test_loss': 30575.628386687058}\n",
            "[Epoch 184/200] {'loss': Tensor(28751.93716407), 'test_loss': 30575.628386687058}\n",
            "[Epoch 185/200] {'loss': Tensor(28751.93716407), 'test_loss': 30575.628386687058}\n",
            "[Epoch 186/200] {'loss': Tensor(28751.93716407), 'test_loss': 30575.628386687058}\n",
            "[Epoch 187/200] {'loss': Tensor(28751.93716407), 'test_loss': 30575.628386687058}\n",
            "[Epoch 188/200] {'loss': Tensor(28751.93716407), 'test_loss': 30575.628386687058}\n",
            "[Epoch 189/200] {'loss': Tensor(28751.93716407), 'test_loss': 30575.628386687058}\n",
            "[Epoch 190/200] {'loss': Tensor(28751.93716407), 'test_loss': 30575.628386687058}\n",
            "[Epoch 191/200] {'loss': Tensor(28751.93716407), 'test_loss': 30575.628386687058}\n",
            "[Epoch 192/200] {'loss': Tensor(28751.93716407), 'test_loss': 30575.628386687058}\n",
            "[Epoch 193/200] {'loss': Tensor(28751.93716407), 'test_loss': 30575.628386687058}\n",
            "[Epoch 194/200] {'loss': Tensor(28751.93716407), 'test_loss': 30575.628386687058}\n",
            "[Epoch 195/200] {'loss': Tensor(28751.93716407), 'test_loss': 30575.628386687058}\n",
            "[Epoch 196/200] {'loss': Tensor(28751.93716407), 'test_loss': 30575.628386687058}\n",
            "[Epoch 197/200] {'loss': Tensor(28751.93716407), 'test_loss': 30575.628386687058}\n",
            "[Epoch 198/200] {'loss': Tensor(28751.93716407), 'test_loss': 30575.628386687058}\n",
            "[Epoch 199/200] {'loss': Tensor(28751.93716407), 'test_loss': 30575.628386687058}\n",
            "[Epoch 200/200] {'loss': Tensor(28751.93716407), 'test_loss': 30575.628386687058}\n"
          ]
        }
      ],
      "source": [
        "import torch\n",
        "import torch.nn as nn\n",
        "\n",
        "class FakeTorchModule:\n",
        "    \"\"\"\n",
        "        Needed so that we can do manual linear regression.\n",
        "    \"\"\"\n",
        "\n",
        "    def __init__(self):\n",
        "        self.device = \"\"\n",
        "\n",
        "    def __call__(self, *args, **kwargs):\n",
        "        return self.forward(*args, **kwargs)\n",
        "\n",
        "    def to(self, device):\n",
        "        return self\n",
        "\n",
        "    def parameters(self):\n",
        "        params = []\n",
        "        for k,v in self.__dict__.items():\n",
        "            params += getattr(v, 'parameters', lambda: [])()\n",
        "        return params\n",
        "\n",
        "    def train(self):\n",
        "        for p in self.parameters():\n",
        "            p.requires_grad = getattr(p, 'required_grad', p.requires_grad)\n",
        "    \n",
        "    def eval(self):\n",
        "        for p in self.parameters():\n",
        "            p.required_grad = p.requires_grad\n",
        "            p.requires_grad = False\n",
        "\n",
        "class ManualRegression(FakeTorchModule):\n",
        "    \"\"\"\n",
        "        Allows us to use our custom Linear layer and SGD optimizer.\n",
        "        Subclasses FakeTorchModule\n",
        "    \"\"\"\n",
        "\n",
        "    def __init__(self, input_dims, output_dims):\n",
        "        super().__init__()\n",
        "        ## TODO: Incorporate your custom components in the initialization pipeline. \n",
        "        self.dense = Linear(input_dims, output_dims)\n",
        "        self.loss = MSELoss()\n",
        "        self.set_learning_rate()\n",
        "        \n",
        "\n",
        "    def set_learning_rate(self, learning_rate=0.001):\n",
        "        ## TODO: Use your new SGD component and make changes as appropriate.\n",
        "        self.optimizer = SGD(self.parameters(), learning_rate)\n",
        "\n",
        "    def forward(self, x):\n",
        "        ## TODO: Implement the forward function as appropriate. Make changes as necessary\n",
        "        x = self.dense(x)\n",
        "        return x\n",
        "\n",
        "class TrainTest2(TrainTest):\n",
        "    # no_grad = torch.no_grad\n",
        "    no_grad = Tensor.no_grad\n",
        "\n",
        "class ManualLinearRegression(ManualRegression, TrainTest2):\n",
        "    def __init__(self, input_dims, output_dims):\n",
        "        super().__init__(input_dims, output_dims)\n",
        "        ## TODO: Implement the subclass as appropriate with your own implementations\n",
        "        self.loss = MSELoss()\n",
        "\n",
        "## Train the manual linear regression model\n",
        "model = ManualLinearRegression(10, 1)\n",
        "model.set_learning_rate(0.2)\n",
        "model.train_test(\n",
        "    [[Tensor(X0), Tensor(Y0)]], \n",
        "    [[Tensor(X1), Tensor(Y1)]],\n",
        "    epochs=200\n",
        ");\n",
        "## TODO: Compare this model's performance to the first linear regression model -- they should be similar"
      ]
    },
    {
      "cell_type": "markdown",
      "metadata": {
        "id": "AhxMFrlPOX2J"
      },
      "source": [
        "-----"
      ]
    },
    {
      "cell_type": "markdown",
      "metadata": {
        "id": "v6DGrd50k0J5"
      },
      "source": [
        "## Wrapping Up\n",
        "\n",
        "Congratulations, you've finished this assignment! You should now have a better understand of linear regression, loss functions, and optimizers/gradient descent. This assignment provides the foundation for Homework 2, so feel free to come back or read it over again to get a solid understanding.\n",
        "\n",
        "Be sure to submit your finished notebook (follow the guidelines on the handout)."
      ]
    }
  ],
  "metadata": {
    "colab": {
      "provenance": [],
      "toc_visible": true
    },
    "kernelspec": {
      "display_name": "DL",
      "language": "python",
      "name": "python3"
    },
    "language_info": {
      "codemirror_mode": {
        "name": "ipython",
        "version": 3
      },
      "file_extension": ".py",
      "mimetype": "text/x-python",
      "name": "python",
      "nbconvert_exporter": "python",
      "pygments_lexer": "ipython3",
      "version": "3.10.8"
    },
    "vscode": {
      "interpreter": {
        "hash": "759be6693a164ddeab1e231298c2a01a8302a7c7dfd4e560844dbce42a896f34"
      }
    }
  },
  "nbformat": 4,
  "nbformat_minor": 0
}
