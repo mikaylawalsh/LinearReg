{
  "cells": [
    {
      "cell_type": "markdown",
      "metadata": {
        "id": "B4oKbqMWMpMN"
      },
      "source": [
        "# CS1470/2470 HW1: Single-Layered Neural Networks\n",
        "\n",
        "In this homework assignment, you will build a simple linear model using differential modules.\n",
        "\n",
        "---"
      ]
    },
    {
      "cell_type": "markdown",
      "metadata": {
        "id": "3CLyvlysHCK9"
      },
      "source": [
        "## Starting Our Modular API\n",
        "\n",
        "### **The goal of this assignment is as follows:** \n",
        "- Organize our understanding of deep learning into a modular framework. \n",
        "- Get familiarized with a simple modular API which reflects (but is a simplification of) some of PyTorch's systems. \n",
        "- Implement some nice modular components and be able to construct a functional single-file neural network from it. "
      ]
    },
    {
      "cell_type": "markdown",
      "metadata": {
        "id": "ZFUeG0msHRyo"
      },
      "source": [
        "### Improving The Old Way via Chain Rule\n",
        "\n",
        "Recall that in the machine learning lab, we got the chance to make some simple but effective regression models! Given some realizations $X \\sim \\mathcal{X}$ and $Y = \\mathbb{E}[Y|X] + \\xi$, we were able to train up a model $h_{\\theta} \\in \\mathcal{H}$ which was similar to $\\mathbb{E}[Y|X]$ and thereby minimized an empirical loss $\\mathcal{L}$ of our choice.\n",
        "\n",
        "> As a reminder, $\\mathcal{X}$ is the space of all candidate functions.\n",
        "\n",
        "In these cases, we assumed that $h_{\\theta}$ had a relatively simple and non-flexible architecture, which meant that we could manually specify the structure and simply derive and code up our gradient formula once. Furthermore, since the optimization process was concave, we could even skip the gradient computation and directly derive a loss-minimizing parameter selection. \n",
        "\n",
        "Of course, there are hard limits to what this kind of architecture can provide us; sometimes the relationships that the model needs to capture are relatively complex and might not be resolvable in such a fashion. And that's why this course exists!"
      ]
    },
    {
      "cell_type": "markdown",
      "metadata": {
        "id": "VmnuKJmCHmpg"
      },
      "source": [
        "#### **Problem:** \n",
        "> This is extremely time-consuming and rigid! What happens if we switched out an activation function? A loss function? We'd have to re-specify the gradient every time!\n",
        "\n",
        "#### **Solution:** \n",
        "> Let's take advantage of the chain rule! "
      ]
    },
    {
      "cell_type": "markdown",
      "metadata": {
        "id": "ecdHbe0xHb1o"
      },
      "source": [
        "**Naive Solution:** If we really wanted to, we could approach this problem in the same way as before, and just code up the gradient functions manually. Similarly to before, this would allow us to propagate gradients through, say, a specified loss function, an activation function, and a dense layer. We could also do it for 2 dense layers; just use the old gradient function for the weights in layer 2, compute the new gradient for the weights in layer 1, and so on. "
      ]
    },
    {
      "cell_type": "markdown",
      "metadata": {
        "id": "OTfm_9fmHkhE"
      },
      "source": [
        "Recall that per the chain rule, if there exists a set of differentiable functions $c(b)$ and $b(a)$, then \n",
        "\n",
        "$$\\frac{\\partial a}{\\partial c} = \\frac{\\partial a}{\\partial b} \\frac{\\partial b}{\\partial c}$$\n",
        "\n",
        "Going back to our regression model, let's assume that we have a layered process: \n",
        "\n",
        "$$x \\to h_\\theta(x) \\to \\mathcal{L}(h_\\theta)$$\n",
        "\n",
        "This implies that we can compute the partial of the trainable parameters $\\theta$ through a loss evaluation $\\mathcal{L}$ and a dense layer $h_\\theta(x)$ by the following relationship:\n",
        "\n",
        "$$\\frac{\\partial \\mathcal{L}}{\\partial \\theta} = \\frac{\\partial \\mathcal{h_\\theta}}{\\partial \\theta}\\frac{\\partial \\mathcal{L}}{\\partial h_\\theta}$$\n",
        "\n",
        "With a similar logic, you can also make the assertion that you can also get the partial with respect to the input $x$:\n",
        "\n",
        "$$\\frac{\\partial \\mathcal{L}}{\\partial x} = \\frac{\\partial h_\\theta}{\\partial x}\\frac{\\partial \\mathcal{L}}{\\partial h_\\theta}$$\n",
        "\n",
        "So... by the same token, is there anything stopping us from going further? Let's say that we decided to have another hypothesis function such that $x = h'_{\\theta'}(x')$ for some other hypothesis function and inputs? The new structure would then be: \n",
        "\n",
        "$$x' \\to \\big[ x = h'_{\\theta'}(x') \\big] \\to h_\\theta(x) \\to \\mathcal{L}(h_\\theta)$$\n",
        "\n",
        "Without the chain rule, coding in the facilities to optimize $\\theta'$ might have been tricky, but with the chain rule we know that:\n",
        "\n",
        "$$\\frac{\\partial \\mathcal{L}}{\\partial \\theta'} \n",
        "= \\frac{\\partial x}{\\partial \\theta'}\\frac{\\partial h}{\\partial x}\\frac{\\partial \\mathcal{L}}{\\partial h} \n",
        "= \\frac{\\partial x}{\\partial \\theta'}\\frac{\\partial \\mathcal{L}}{\\partial x}$$"
      ]
    },
    {
      "cell_type": "markdown",
      "metadata": {
        "id": "UUJfaOFpIJbD"
      },
      "source": [
        "Notice how this process is both predictable and scales very well! Say that we wanted to add some activation functions to restrict the range of the hypothesis functions. This trivially inserts into the chain and everything still works and will look something like this: \n",
        "\n",
        "$$ \\frac{\\partial \\mathcal{L}}{\\partial x} = \\frac{\\partial h}{\\partial x}\\frac{\\partial a}{\\partial h}\\frac{\\partial \\mathcal{L}}{\\partial a} \n",
        "\\ \\text{ and } \\ \\frac{\\partial \\mathcal{L}}{\\partial \\theta} = \\frac{\\partial h}{\\partial \\theta}\\frac{\\partial a}{\\partial h}\\frac{\\partial \\mathcal{L}}{\\partial a} \n",
        "$$"
      ]
    },
    {
      "cell_type": "markdown",
      "metadata": {
        "id": "KVyTXT5TIOsz"
      },
      "source": [
        "And with that, we start to approach the reason why this is such a powerful formulation: The cumulative nature of the process. Specifically, consider the process that needs to happen in order to compute this for the extended 2-layer example: \n",
        "\n",
        "$$\n",
        "\\begin{align}\n",
        "\\frac{\\partial a}{\\partial h}\\frac{\\partial \\mathcal{L}}{\\partial a} \n",
        "= \\frac{\\partial \\mathcal{L}}{\\partial h} \n",
        "&\\to \\cdots = \\frac{\\partial \\mathcal{L}}{\\partial x} \n",
        "&\\to \\cdots = \\frac{\\partial \\mathcal{L}}{\\partial a'}\n",
        "&\\to \\cdots = \\frac{\\partial \\mathcal{L}}{\\partial h'} \n",
        "&\\to \\cdots = \\frac{\\partial \\mathcal{L}}{\\partial x'} \n",
        "\\\\\n",
        "&\\searrow \\cdots = \\frac{\\partial \\mathcal{L}}{\\partial \\theta} \n",
        "&&&\\searrow \\cdots = \\frac{\\partial \\mathcal{L}}{\\partial \\theta'} \n",
        "% \\\\\n",
        "% &\\searrow \\cdots = \\frac{\\partial \\mathcal{L}}{\\partial \\theta} \n",
        "% \\to \\cdots = \\frac{\\partial \\mathcal{L}}{\\partial a'} \n",
        "% \\to \\cdots = \\frac{\\partial \\mathcal{L}}{\\partial h'} \n",
        "% &\n",
        "% \\to \\cdots = \\frac{\\partial \\mathcal{L}}{\\partial \\theta'} \n",
        "% \\\\ \n",
        "% &&\n",
        "% \\to \\cdots = \\frac{\\partial \\mathcal{L}}{\\partial x'} \n",
        "\\end{align}\n",
        "$$\n",
        "\n",
        "... and this is the process known as **back-propagation** *(and a special case of **auto-differentiation**)*!"
      ]
    },
    {
      "cell_type": "markdown",
      "metadata": {
        "id": "fdK16iXOVgta"
      },
      "source": [
        "-----"
      ]
    },
    {
      "cell_type": "markdown",
      "metadata": {
        "id": "MhgMs3u_S1OU"
      },
      "source": [
        "## Loading In Our Data"
      ]
    },
    {
      "cell_type": "markdown",
      "metadata": {
        "id": "tV7vjVbTf9Xg"
      },
      "source": [
        "The first thing we have to do is load in our data to use our model with. We'll be working with the [diabetes dataset from the sklearn package](https://scikit-learn.org/stable/datasets/toy_dataset.html#diabetes-dataset). We've already provided the code to load in the input data and the ground truth labels (stored as `X` and `Y` respectively below).\n",
        "\n",
        "**[TODO]:** Split the samples into training and testing sets. We'll train with the train set and reserve the testing set to evaluate the model's performance on samples it hasn't seen.\n",
        "\n",
        "The diabetes dataset has 442 samples. Each sample's input data has 10 data points for some key metrics, like age and cholesterol levels. The \"label\" is a number representing disease progression one year after baseline. Thus, `X` has shape `(442, 10)`, while `Y` has shape `(442,)`.\n",
        "\n",
        "**[TODO]:** Reshape the `Y` subsets to have shape `(num_samples, 1)`."
      ]
    },
    {
      "cell_type": "code",
      "execution_count": 271,
      "metadata": {
        "colab": {
          "base_uri": "https://localhost:8080/"
        },
        "id": "gytrDuxV5gFO",
        "outputId": "25ac15b0-866c-43d8-cff9-ee36934b4551"
      },
      "outputs": [
        {
          "name": "stdout",
          "output_type": "stream",
          "text": [
            "> Input shape: (353, 10) for training, (88, 10) for testing\n",
            "> Label shape: (353, 1) for training, (88, 1) for testing\n"
          ]
        }
      ],
      "source": [
        "import numpy as np\n",
        "from sklearn.datasets import load_diabetes\n",
        "\n",
        "diabetes = load_diabetes()\n",
        "X, Y = diabetes.data, diabetes.target\n",
        "\n",
        "## TODO: Split the data into a 80%-20% training-testing split\n",
        "# skylearn.model_selection.train_test_split(X, Y, test_size = .2) ??\n",
        "## TODO: Reshape the Y subsets to have shape (num_samples, 1)\n",
        "\n",
        "split = int(0.8*len(X))\n",
        "X0, X1, Y0, Y1 = X[:split, :], X[split+1:, :], Y[:split], Y[split+1:] \n",
        "Y0 = Y0.reshape(-1, 1)\n",
        "Y1 = Y1.reshape(-1,1)\n",
        "\n",
        "\n",
        "print(f\"\"\"\n",
        "> Input shape: {X0.shape} for training, {X1.shape} for testing\n",
        "> Label shape: {Y0.shape} for training, {Y1.shape} for testing\n",
        "\"\"\".strip())"
      ]
    },
    {
      "cell_type": "markdown",
      "metadata": {
        "id": "CIYU_639VgHq"
      },
      "source": [
        "## **Exploring a possible modular implementation: PyTorch**"
      ]
    },
    {
      "cell_type": "markdown",
      "metadata": {
        "id": "YHs57_36jfDL"
      },
      "source": [
        "Next, we'll want to build up a Regression model interface, from which we can implement specific regression model classes, like the LinearRegression class we'll work with later. \n",
        "\n",
        "We subclass the `nn.Module class`, which represents any module (like a layer or model) of a deep learning system."
      ]
    },
    {
      "cell_type": "code",
      "execution_count": 272,
      "metadata": {
        "id": "DG6vkwv5chPg"
      },
      "outputs": [],
      "source": [
        "import torch\n",
        "import torch.nn as nn\n",
        "\n",
        "class Regression(nn.Module):\n",
        "\n",
        "    \"\"\"\n",
        "    Initialize all the inherent \"things\" inside of a model!\n",
        "    This includes things like the layers, activation/loss functions, and optimzer. \n",
        "    \"\"\"\n",
        "    def __init__(self, input_dims, output_dims):\n",
        "        self.device = torch.device(\"cuda:0\" if torch.cuda.is_available() else \"cpu\")        \n",
        "        super().__init__()\n",
        "        self.dense = nn.Linear(input_dims, output_dims).to(self.device)   \n",
        "        self.activation = None  ## To be specified in subclasses \n",
        "        self.loss = None        ## To be specified in subclasses \n",
        "        self.set_learning_rate()\n",
        "\n",
        "    \"\"\"\n",
        "    Sets up the optmizer\n",
        "    \"\"\"\n",
        "    def set_learning_rate(self, learning_rate=0.001):\n",
        "        self.optimizer = torch.optim.SGD(self.parameters(), lr=learning_rate) ## Simple stochastic gradient descent (SGD) optimizer\n",
        "\n",
        "    \"\"\"\n",
        "    Forward pass of the model\n",
        "    Given an input x, how does the model process the input to get its output?\n",
        "    \"\"\"\n",
        "    def forward(self, x):\n",
        "        x = self.dense(x)\n",
        "        x = self.activation(x)\n",
        "        return x\n"
      ]
    },
    {
      "cell_type": "markdown",
      "metadata": {
        "id": "rTzEFlA0TFZB"
      },
      "source": [
        "## Adding a PyTorch Training/Evaluation Routine"
      ]
    },
    {
      "cell_type": "markdown",
      "metadata": {
        "id": "JBSK640PoDWX"
      },
      "source": [
        "Now that we have the basis for a Regression model, we need to describe how to train (`fit`) and evaluate (`evaluate`) our model, given data. \n",
        "Every epoch, we want to fit our model to the training data, and then evaluate our model on the testing data."
      ]
    },
    {
      "cell_type": "code",
      "execution_count": 273,
      "metadata": {
        "id": "aUetVEGtS9k9"
      },
      "outputs": [],
      "source": [
        "class TrainTest:\n",
        "\n",
        "    no_grad = torch.no_grad\n",
        "\n",
        "    def fit(self, data):\n",
        "        ## Training loop\n",
        "        self.train()        ## Set model into training mode\n",
        "        ## Iterate over the data batches\n",
        "        for batch, (inputs, target) in enumerate(data):\n",
        "            ## In real pytorch, you'd need to set the device\n",
        "            inputs = inputs.to(self.device)\n",
        "            target = target.to(self.device)\n",
        "            ## Erase the gradient history\n",
        "            self.optimizer.zero_grad()\n",
        "            ## Do a forward pass on the model\n",
        "            output = self(inputs)\n",
        "            ## Compute the loss\n",
        "            loss = self.loss(output, target)\n",
        "            ## Run backwards pass from the loss through the previous layers\n",
        "            ## This will accumulate gradients for the parameters that need to be optimized\n",
        "            loss.backward()\n",
        "            ## Perform a single optimization step\n",
        "            self.optimizer.step()\n",
        "        return {'loss' : loss}\n",
        "\n",
        "    def evaluate(self, data):\n",
        "        ## Set model into \"evaluate\" mode so that the parameters don't get updated\n",
        "        self.eval()\n",
        "        total_loss = 0\n",
        "        ## Cut off the tensor training scope to make sure weights aren't updated\n",
        "        ## For now, it's torch.no_grad; later, you'll use Tensor.no_grad\n",
        "        with TrainTest.no_grad():\n",
        "            for inputs, target in data:\n",
        "                ## In real pytorch, you'd need to set the device\n",
        "                inputs = inputs.to(self.device)\n",
        "                target = target.to(self.device)\n",
        "                output = self(inputs)\n",
        "                total_loss += self.loss(output, target).item()  # sum up batch loss\n",
        "\n",
        "        total_loss /= len(data)\n",
        "        return {'test_loss' : total_loss}\n",
        "        \n",
        "    def train_test(self, train_data, test_data, epochs=1):\n",
        "        ## Does both training and validation on a per-epoch basis\n",
        "        all_stats = []\n",
        "        for epoch in range(epochs):\n",
        "            train_stats = self.fit(train_data)\n",
        "            test_stats = self.evaluate(test_data)\n",
        "            all_stats += [{**train_stats, **test_stats}]\n",
        "            print(f'[Epoch {epoch+1}/{epochs}]', all_stats[-1])\n",
        "        return all_stats"
      ]
    },
    {
      "cell_type": "markdown",
      "metadata": {
        "id": "YDNhzYnUTNMa"
      },
      "source": [
        "## Making Linear Regression with Train/Test Capabilities"
      ]
    },
    {
      "cell_type": "markdown",
      "metadata": {
        "id": "njv7q2UTTgQE"
      },
      "source": [
        "Next, we implement the `LinearRegression` class, which subclasses both `Regression` and `TrainTest` to inherit useful methods. \n",
        "\n",
        "Consider a dense layer represented by $Y = XA + B$ where: \n",
        "- $X$ has shape `(n,input_dims)`\n",
        "- $A$ has shape `(input_dims,output_dims)`\n",
        "- $B$ has shape `(n,)`\n",
        "- $Y$ has shape `(n, output_dims)`. \n",
        "\n",
        "Let each row of $X, B, Y$ (or the 0$^\\text{th}$ dimension) represent a different sample. Disregarding bias, note how any given row in $Y$ is a set of linear combinations of the same row in $X$. In other words, a Dense Layer is high-dimensional Linear Regression. \n",
        "\n",
        "Once you've built up your model, try training and testing it in the code block below!"
      ]
    },
    {
      "cell_type": "code",
      "execution_count": 274,
      "metadata": {
        "id": "gYU8NKSdTc4W"
      },
      "outputs": [],
      "source": [
        "class LinearRegression(Regression, TrainTest):\n",
        "    def __init__(self, input_dims, output_dims):\n",
        "        super().__init__(input_dims, output_dims)\n",
        "        self.activation = nn.Identity()\n",
        "        self.loss = nn.MSELoss()"
      ]
    },
    {
      "cell_type": "code",
      "execution_count": 275,
      "metadata": {
        "colab": {
          "base_uri": "https://localhost:8080/"
        },
        "id": "FBUaTs3N_hmn",
        "outputId": "3fce3c13-46cf-4ae1-835a-53e3ed3de277"
      },
      "outputs": [
        {
          "name": "stdout",
          "output_type": "stream",
          "text": [
            "[Epoch 1/200] {'loss': tensor(28794.3379, grad_fn=<MseLossBackward0>), 'test_loss': 10592.8447265625}\n",
            "[Epoch 2/200] {'loss': tensor(9457.6865, grad_fn=<MseLossBackward0>), 'test_loss': 7204.0498046875}\n",
            "[Epoch 3/200] {'loss': tensor(6344.8994, grad_fn=<MseLossBackward0>), 'test_loss': 6576.01513671875}\n",
            "[Epoch 4/200] {'loss': tensor(5828.1006, grad_fn=<MseLossBackward0>), 'test_loss': 6429.3154296875}\n",
            "[Epoch 5/200] {'loss': tensor(5726.8423, grad_fn=<MseLossBackward0>), 'test_loss': 6375.552734375}\n",
            "[Epoch 6/200] {'loss': tensor(5692.2544, grad_fn=<MseLossBackward0>), 'test_loss': 6343.12841796875}\n",
            "[Epoch 7/200] {'loss': tensor(5668.5146, grad_fn=<MseLossBackward0>), 'test_loss': 6316.80810546875}\n",
            "[Epoch 8/200] {'loss': tensor(5646.6899, grad_fn=<MseLossBackward0>), 'test_loss': 6292.64404296875}\n",
            "[Epoch 9/200] {'loss': tensor(5625.3511, grad_fn=<MseLossBackward0>), 'test_loss': 6269.40283203125}\n",
            "[Epoch 10/200] {'loss': tensor(5604.2642, grad_fn=<MseLossBackward0>), 'test_loss': 6246.6435546875}\n",
            "[Epoch 11/200] {'loss': tensor(5583.3926, grad_fn=<MseLossBackward0>), 'test_loss': 6224.1982421875}\n",
            "[Epoch 12/200] {'loss': tensor(5562.7275, grad_fn=<MseLossBackward0>), 'test_loss': 6202.0}\n",
            "[Epoch 13/200] {'loss': tensor(5542.2656, grad_fn=<MseLossBackward0>), 'test_loss': 6180.02197265625}\n",
            "[Epoch 14/200] {'loss': tensor(5522.0044, grad_fn=<MseLossBackward0>), 'test_loss': 6158.25048828125}\n",
            "[Epoch 15/200] {'loss': tensor(5501.9424, grad_fn=<MseLossBackward0>), 'test_loss': 6136.68017578125}\n",
            "[Epoch 16/200] {'loss': tensor(5482.0771, grad_fn=<MseLossBackward0>), 'test_loss': 6115.3076171875}\n",
            "[Epoch 17/200] {'loss': tensor(5462.4067, grad_fn=<MseLossBackward0>), 'test_loss': 6094.12939453125}\n",
            "[Epoch 18/200] {'loss': tensor(5442.9287, grad_fn=<MseLossBackward0>), 'test_loss': 6073.14404296875}\n",
            "[Epoch 19/200] {'loss': tensor(5423.6411, grad_fn=<MseLossBackward0>), 'test_loss': 6052.3486328125}\n",
            "[Epoch 20/200] {'loss': tensor(5404.5420, grad_fn=<MseLossBackward0>), 'test_loss': 6031.74169921875}\n",
            "[Epoch 21/200] {'loss': tensor(5385.6294, grad_fn=<MseLossBackward0>), 'test_loss': 6011.32080078125}\n",
            "[Epoch 22/200] {'loss': tensor(5366.9009, grad_fn=<MseLossBackward0>), 'test_loss': 5991.08544921875}\n",
            "[Epoch 23/200] {'loss': tensor(5348.3550, grad_fn=<MseLossBackward0>), 'test_loss': 5971.03173828125}\n",
            "[Epoch 24/200] {'loss': tensor(5329.9902, grad_fn=<MseLossBackward0>), 'test_loss': 5951.15966796875}\n",
            "[Epoch 25/200] {'loss': tensor(5311.8032, grad_fn=<MseLossBackward0>), 'test_loss': 5931.46533203125}\n",
            "[Epoch 26/200] {'loss': tensor(5293.7939, grad_fn=<MseLossBackward0>), 'test_loss': 5911.94873046875}\n",
            "[Epoch 27/200] {'loss': tensor(5275.9585, grad_fn=<MseLossBackward0>), 'test_loss': 5892.607421875}\n",
            "[Epoch 28/200] {'loss': tensor(5258.2969, grad_fn=<MseLossBackward0>), 'test_loss': 5873.43896484375}\n",
            "[Epoch 29/200] {'loss': tensor(5240.8062, grad_fn=<MseLossBackward0>), 'test_loss': 5854.4423828125}\n",
            "[Epoch 30/200] {'loss': tensor(5223.4839, grad_fn=<MseLossBackward0>), 'test_loss': 5835.61572265625}\n",
            "[Epoch 31/200] {'loss': tensor(5206.3296, grad_fn=<MseLossBackward0>), 'test_loss': 5816.9580078125}\n",
            "[Epoch 32/200] {'loss': tensor(5189.3408, grad_fn=<MseLossBackward0>), 'test_loss': 5798.4658203125}\n",
            "[Epoch 33/200] {'loss': tensor(5172.5161, grad_fn=<MseLossBackward0>), 'test_loss': 5780.138671875}\n",
            "[Epoch 34/200] {'loss': tensor(5155.8540, grad_fn=<MseLossBackward0>), 'test_loss': 5761.97412109375}\n",
            "[Epoch 35/200] {'loss': tensor(5139.3525, grad_fn=<MseLossBackward0>), 'test_loss': 5743.9716796875}\n",
            "[Epoch 36/200] {'loss': tensor(5123.0093, grad_fn=<MseLossBackward0>), 'test_loss': 5726.12744140625}\n",
            "[Epoch 37/200] {'loss': tensor(5106.8228, grad_fn=<MseLossBackward0>), 'test_loss': 5708.4423828125}\n",
            "[Epoch 38/200] {'loss': tensor(5090.7920, grad_fn=<MseLossBackward0>), 'test_loss': 5690.91357421875}\n",
            "[Epoch 39/200] {'loss': tensor(5074.9150, grad_fn=<MseLossBackward0>), 'test_loss': 5673.53955078125}\n",
            "[Epoch 40/200] {'loss': tensor(5059.1899, grad_fn=<MseLossBackward0>), 'test_loss': 5656.31982421875}\n",
            "[Epoch 41/200] {'loss': tensor(5043.6157, grad_fn=<MseLossBackward0>), 'test_loss': 5639.2509765625}\n",
            "[Epoch 42/200] {'loss': tensor(5028.1909, grad_fn=<MseLossBackward0>), 'test_loss': 5622.33251953125}\n",
            "[Epoch 43/200] {'loss': tensor(5012.9126, grad_fn=<MseLossBackward0>), 'test_loss': 5605.5625}\n",
            "[Epoch 44/200] {'loss': tensor(4997.7808, grad_fn=<MseLossBackward0>), 'test_loss': 5588.93994140625}\n",
            "[Epoch 45/200] {'loss': tensor(4982.7920, grad_fn=<MseLossBackward0>), 'test_loss': 5572.462890625}\n",
            "[Epoch 46/200] {'loss': tensor(4967.9463, grad_fn=<MseLossBackward0>), 'test_loss': 5556.1298828125}\n",
            "[Epoch 47/200] {'loss': tensor(4953.2427, grad_fn=<MseLossBackward0>), 'test_loss': 5539.93994140625}\n",
            "[Epoch 48/200] {'loss': tensor(4938.6777, grad_fn=<MseLossBackward0>), 'test_loss': 5523.89111328125}\n",
            "[Epoch 49/200] {'loss': tensor(4924.2515, grad_fn=<MseLossBackward0>), 'test_loss': 5507.982421875}\n",
            "[Epoch 50/200] {'loss': tensor(4909.9619, grad_fn=<MseLossBackward0>), 'test_loss': 5492.21142578125}\n",
            "[Epoch 51/200] {'loss': tensor(4895.8071, grad_fn=<MseLossBackward0>), 'test_loss': 5476.578125}\n",
            "[Epoch 52/200] {'loss': tensor(4881.7861, grad_fn=<MseLossBackward0>), 'test_loss': 5461.080078125}\n",
            "[Epoch 53/200] {'loss': tensor(4867.8989, grad_fn=<MseLossBackward0>), 'test_loss': 5445.7158203125}\n",
            "[Epoch 54/200] {'loss': tensor(4854.1416, grad_fn=<MseLossBackward0>), 'test_loss': 5430.4853515625}\n",
            "[Epoch 55/200] {'loss': tensor(4840.5142, grad_fn=<MseLossBackward0>), 'test_loss': 5415.38623046875}\n",
            "[Epoch 56/200] {'loss': tensor(4827.0142, grad_fn=<MseLossBackward0>), 'test_loss': 5400.41748046875}\n",
            "[Epoch 57/200] {'loss': tensor(4813.6426, grad_fn=<MseLossBackward0>), 'test_loss': 5385.57763671875}\n",
            "[Epoch 58/200] {'loss': tensor(4800.3960, grad_fn=<MseLossBackward0>), 'test_loss': 5370.86474609375}\n",
            "[Epoch 59/200] {'loss': tensor(4787.2734, grad_fn=<MseLossBackward0>), 'test_loss': 5356.2783203125}\n",
            "[Epoch 60/200] {'loss': tensor(4774.2739, grad_fn=<MseLossBackward0>), 'test_loss': 5341.81787109375}\n",
            "[Epoch 61/200] {'loss': tensor(4761.3965, grad_fn=<MseLossBackward0>), 'test_loss': 5327.48046875}\n",
            "[Epoch 62/200] {'loss': tensor(4748.6387, grad_fn=<MseLossBackward0>), 'test_loss': 5313.26513671875}\n",
            "[Epoch 63/200] {'loss': tensor(4736.0005, grad_fn=<MseLossBackward0>), 'test_loss': 5299.17236328125}\n",
            "[Epoch 64/200] {'loss': tensor(4723.4795, grad_fn=<MseLossBackward0>), 'test_loss': 5285.19873046875}\n",
            "[Epoch 65/200] {'loss': tensor(4711.0752, grad_fn=<MseLossBackward0>), 'test_loss': 5271.34423828125}\n",
            "[Epoch 66/200] {'loss': tensor(4698.7866, grad_fn=<MseLossBackward0>), 'test_loss': 5257.60791015625}\n",
            "[Epoch 67/200] {'loss': tensor(4686.6123, grad_fn=<MseLossBackward0>), 'test_loss': 5243.98779296875}\n",
            "[Epoch 68/200] {'loss': tensor(4674.5508, grad_fn=<MseLossBackward0>), 'test_loss': 5230.48291015625}\n",
            "[Epoch 69/200] {'loss': tensor(4662.6011, grad_fn=<MseLossBackward0>), 'test_loss': 5217.091796875}\n",
            "[Epoch 70/200] {'loss': tensor(4650.7622, grad_fn=<MseLossBackward0>), 'test_loss': 5203.814453125}\n",
            "[Epoch 71/200] {'loss': tensor(4639.0322, grad_fn=<MseLossBackward0>), 'test_loss': 5190.64892578125}\n",
            "[Epoch 72/200] {'loss': tensor(4627.4106, grad_fn=<MseLossBackward0>), 'test_loss': 5177.59375}\n",
            "[Epoch 73/200] {'loss': tensor(4615.8965, grad_fn=<MseLossBackward0>), 'test_loss': 5164.64892578125}\n",
            "[Epoch 74/200] {'loss': tensor(4604.4888, grad_fn=<MseLossBackward0>), 'test_loss': 5151.8125}\n",
            "[Epoch 75/200] {'loss': tensor(4593.1841, grad_fn=<MseLossBackward0>), 'test_loss': 5139.083984375}\n",
            "[Epoch 76/200] {'loss': tensor(4581.9849, grad_fn=<MseLossBackward0>), 'test_loss': 5126.46142578125}\n",
            "[Epoch 77/200] {'loss': tensor(4570.8882, grad_fn=<MseLossBackward0>), 'test_loss': 5113.94384765625}\n",
            "[Epoch 78/200] {'loss': tensor(4559.8926, grad_fn=<MseLossBackward0>), 'test_loss': 5101.53125}\n",
            "[Epoch 79/200] {'loss': tensor(4548.9980, grad_fn=<MseLossBackward0>), 'test_loss': 5089.2216796875}\n",
            "[Epoch 80/200] {'loss': tensor(4538.2026, grad_fn=<MseLossBackward0>), 'test_loss': 5077.01416015625}\n",
            "[Epoch 81/200] {'loss': tensor(4527.5059, grad_fn=<MseLossBackward0>), 'test_loss': 5064.908203125}\n",
            "[Epoch 82/200] {'loss': tensor(4516.9062, grad_fn=<MseLossBackward0>), 'test_loss': 5052.90185546875}\n",
            "[Epoch 83/200] {'loss': tensor(4506.4038, grad_fn=<MseLossBackward0>), 'test_loss': 5040.99609375}\n",
            "[Epoch 84/200] {'loss': tensor(4495.9961, grad_fn=<MseLossBackward0>), 'test_loss': 5029.18701171875}\n",
            "[Epoch 85/200] {'loss': tensor(4485.6826, grad_fn=<MseLossBackward0>), 'test_loss': 5017.4765625}\n",
            "[Epoch 86/200] {'loss': tensor(4475.4634, grad_fn=<MseLossBackward0>), 'test_loss': 5005.8623046875}\n",
            "[Epoch 87/200] {'loss': tensor(4465.3364, grad_fn=<MseLossBackward0>), 'test_loss': 4994.3427734375}\n",
            "[Epoch 88/200] {'loss': tensor(4455.3008, grad_fn=<MseLossBackward0>), 'test_loss': 4982.91748046875}\n",
            "[Epoch 89/200] {'loss': tensor(4445.3555, grad_fn=<MseLossBackward0>), 'test_loss': 4971.58642578125}\n",
            "[Epoch 90/200] {'loss': tensor(4435.5000, grad_fn=<MseLossBackward0>), 'test_loss': 4960.34814453125}\n",
            "[Epoch 91/200] {'loss': tensor(4425.7324, grad_fn=<MseLossBackward0>), 'test_loss': 4949.20068359375}\n",
            "[Epoch 92/200] {'loss': tensor(4416.0537, grad_fn=<MseLossBackward0>), 'test_loss': 4938.14404296875}\n",
            "[Epoch 93/200] {'loss': tensor(4406.4609, grad_fn=<MseLossBackward0>), 'test_loss': 4927.177734375}\n",
            "[Epoch 94/200] {'loss': tensor(4396.9546, grad_fn=<MseLossBackward0>), 'test_loss': 4916.30029296875}\n",
            "[Epoch 95/200] {'loss': tensor(4387.5332, grad_fn=<MseLossBackward0>), 'test_loss': 4905.51123046875}\n",
            "[Epoch 96/200] {'loss': tensor(4378.1958, grad_fn=<MseLossBackward0>), 'test_loss': 4894.80908203125}\n",
            "[Epoch 97/200] {'loss': tensor(4368.9414, grad_fn=<MseLossBackward0>), 'test_loss': 4884.193359375}\n",
            "[Epoch 98/200] {'loss': tensor(4359.7700, grad_fn=<MseLossBackward0>), 'test_loss': 4873.6630859375}\n",
            "[Epoch 99/200] {'loss': tensor(4350.6797, grad_fn=<MseLossBackward0>), 'test_loss': 4863.2177734375}\n",
            "[Epoch 100/200] {'loss': tensor(4341.6704, grad_fn=<MseLossBackward0>), 'test_loss': 4852.85546875}\n",
            "[Epoch 101/200] {'loss': tensor(4332.7407, grad_fn=<MseLossBackward0>), 'test_loss': 4842.57666015625}\n",
            "[Epoch 102/200] {'loss': tensor(4323.8901, grad_fn=<MseLossBackward0>), 'test_loss': 4832.380859375}\n",
            "[Epoch 103/200] {'loss': tensor(4315.1177, grad_fn=<MseLossBackward0>), 'test_loss': 4822.26611328125}\n",
            "[Epoch 104/200] {'loss': tensor(4306.4229, grad_fn=<MseLossBackward0>), 'test_loss': 4812.23193359375}\n",
            "[Epoch 105/200] {'loss': tensor(4297.8037, grad_fn=<MseLossBackward0>), 'test_loss': 4802.27734375}\n",
            "[Epoch 106/200] {'loss': tensor(4289.2617, grad_fn=<MseLossBackward0>), 'test_loss': 4792.4013671875}\n",
            "[Epoch 107/200] {'loss': tensor(4280.7944, grad_fn=<MseLossBackward0>), 'test_loss': 4782.6044921875}\n",
            "[Epoch 108/200] {'loss': tensor(4272.4009, grad_fn=<MseLossBackward0>), 'test_loss': 4772.88525390625}\n",
            "[Epoch 109/200] {'loss': tensor(4264.0811, grad_fn=<MseLossBackward0>), 'test_loss': 4763.2421875}\n",
            "[Epoch 110/200] {'loss': tensor(4255.8340, grad_fn=<MseLossBackward0>), 'test_loss': 4753.67529296875}\n",
            "[Epoch 111/200] {'loss': tensor(4247.6582, grad_fn=<MseLossBackward0>), 'test_loss': 4744.18359375}\n",
            "[Epoch 112/200] {'loss': tensor(4239.5542, grad_fn=<MseLossBackward0>), 'test_loss': 4734.767578125}\n",
            "[Epoch 113/200] {'loss': tensor(4231.5210, grad_fn=<MseLossBackward0>), 'test_loss': 4725.423828125}\n",
            "[Epoch 114/200] {'loss': tensor(4223.5571, grad_fn=<MseLossBackward0>), 'test_loss': 4716.1533203125}\n",
            "[Epoch 115/200] {'loss': tensor(4215.6621, grad_fn=<MseLossBackward0>), 'test_loss': 4706.95654296875}\n",
            "[Epoch 116/200] {'loss': tensor(4207.8364, grad_fn=<MseLossBackward0>), 'test_loss': 4697.830078125}\n",
            "[Epoch 117/200] {'loss': tensor(4200.0776, grad_fn=<MseLossBackward0>), 'test_loss': 4688.775390625}\n",
            "[Epoch 118/200] {'loss': tensor(4192.3853, grad_fn=<MseLossBackward0>), 'test_loss': 4679.79052734375}\n",
            "[Epoch 119/200] {'loss': tensor(4184.7598, grad_fn=<MseLossBackward0>), 'test_loss': 4670.8759765625}\n",
            "[Epoch 120/200] {'loss': tensor(4177.2002, grad_fn=<MseLossBackward0>), 'test_loss': 4662.02978515625}\n",
            "[Epoch 121/200] {'loss': tensor(4169.7051, grad_fn=<MseLossBackward0>), 'test_loss': 4653.2529296875}\n",
            "[Epoch 122/200] {'loss': tensor(4162.2739, grad_fn=<MseLossBackward0>), 'test_loss': 4644.54248046875}\n",
            "[Epoch 123/200] {'loss': tensor(4154.9067, grad_fn=<MseLossBackward0>), 'test_loss': 4635.8994140625}\n",
            "[Epoch 124/200] {'loss': tensor(4147.6025, grad_fn=<MseLossBackward0>), 'test_loss': 4627.32373046875}\n",
            "[Epoch 125/200] {'loss': tensor(4140.3604, grad_fn=<MseLossBackward0>), 'test_loss': 4618.8125}\n",
            "[Epoch 126/200] {'loss': tensor(4133.1797, grad_fn=<MseLossBackward0>), 'test_loss': 4610.36669921875}\n",
            "[Epoch 127/200] {'loss': tensor(4126.0601, grad_fn=<MseLossBackward0>), 'test_loss': 4601.9853515625}\n",
            "[Epoch 128/200] {'loss': tensor(4119.0010, grad_fn=<MseLossBackward0>), 'test_loss': 4593.66796875}\n",
            "[Epoch 129/200] {'loss': tensor(4112.0020, grad_fn=<MseLossBackward0>), 'test_loss': 4585.41455078125}\n",
            "[Epoch 130/200] {'loss': tensor(4105.0610, grad_fn=<MseLossBackward0>), 'test_loss': 4577.22216796875}\n",
            "[Epoch 131/200] {'loss': tensor(4098.1797, grad_fn=<MseLossBackward0>), 'test_loss': 4569.09326171875}\n",
            "[Epoch 132/200] {'loss': tensor(4091.3567, grad_fn=<MseLossBackward0>), 'test_loss': 4561.025390625}\n",
            "[Epoch 133/200] {'loss': tensor(4084.5896, grad_fn=<MseLossBackward0>), 'test_loss': 4553.0185546875}\n",
            "[Epoch 134/200] {'loss': tensor(4077.8806, grad_fn=<MseLossBackward0>), 'test_loss': 4545.07080078125}\n",
            "[Epoch 135/200] {'loss': tensor(4071.2266, grad_fn=<MseLossBackward0>), 'test_loss': 4537.18408203125}\n",
            "[Epoch 136/200] {'loss': tensor(4064.6287, grad_fn=<MseLossBackward0>), 'test_loss': 4529.35595703125}\n",
            "[Epoch 137/200] {'loss': tensor(4058.0859, grad_fn=<MseLossBackward0>), 'test_loss': 4521.5869140625}\n",
            "[Epoch 138/200] {'loss': tensor(4051.5977, grad_fn=<MseLossBackward0>), 'test_loss': 4513.8759765625}\n",
            "[Epoch 139/200] {'loss': tensor(4045.1636, grad_fn=<MseLossBackward0>), 'test_loss': 4506.22119140625}\n",
            "[Epoch 140/200] {'loss': tensor(4038.7825, grad_fn=<MseLossBackward0>), 'test_loss': 4498.625}\n",
            "[Epoch 141/200] {'loss': tensor(4032.4546, grad_fn=<MseLossBackward0>), 'test_loss': 4491.08447265625}\n",
            "[Epoch 142/200] {'loss': tensor(4026.1787, grad_fn=<MseLossBackward0>), 'test_loss': 4483.59912109375}\n",
            "[Epoch 143/200] {'loss': tensor(4019.9546, grad_fn=<MseLossBackward0>), 'test_loss': 4476.169921875}\n",
            "[Epoch 144/200] {'loss': tensor(4013.7822, grad_fn=<MseLossBackward0>), 'test_loss': 4468.79541015625}\n",
            "[Epoch 145/200] {'loss': tensor(4007.6602, grad_fn=<MseLossBackward0>), 'test_loss': 4461.4755859375}\n",
            "[Epoch 146/200] {'loss': tensor(4001.5886, grad_fn=<MseLossBackward0>), 'test_loss': 4454.208984375}\n",
            "[Epoch 147/200] {'loss': tensor(3995.5662, grad_fn=<MseLossBackward0>), 'test_loss': 4446.99560546875}\n",
            "[Epoch 148/200] {'loss': tensor(3989.5935, grad_fn=<MseLossBackward0>), 'test_loss': 4439.8349609375}\n",
            "[Epoch 149/200] {'loss': tensor(3983.6697, grad_fn=<MseLossBackward0>), 'test_loss': 4432.72705078125}\n",
            "[Epoch 150/200] {'loss': tensor(3977.7942, grad_fn=<MseLossBackward0>), 'test_loss': 4425.6708984375}\n",
            "[Epoch 151/200] {'loss': tensor(3971.9656, grad_fn=<MseLossBackward0>), 'test_loss': 4418.666015625}\n",
            "[Epoch 152/200] {'loss': tensor(3966.1846, grad_fn=<MseLossBackward0>), 'test_loss': 4411.71142578125}\n",
            "[Epoch 153/200] {'loss': tensor(3960.4507, grad_fn=<MseLossBackward0>), 'test_loss': 4404.80810546875}\n",
            "[Epoch 154/200] {'loss': tensor(3954.7632, grad_fn=<MseLossBackward0>), 'test_loss': 4397.9541015625}\n",
            "[Epoch 155/200] {'loss': tensor(3949.1211, grad_fn=<MseLossBackward0>), 'test_loss': 4391.1494140625}\n",
            "[Epoch 156/200] {'loss': tensor(3943.5244, grad_fn=<MseLossBackward0>), 'test_loss': 4384.3935546875}\n",
            "[Epoch 157/200] {'loss': tensor(3937.9734, grad_fn=<MseLossBackward0>), 'test_loss': 4377.68701171875}\n",
            "[Epoch 158/200] {'loss': tensor(3932.4661, grad_fn=<MseLossBackward0>), 'test_loss': 4371.02783203125}\n",
            "[Epoch 159/200] {'loss': tensor(3927.0024, grad_fn=<MseLossBackward0>), 'test_loss': 4364.416015625}\n",
            "[Epoch 160/200] {'loss': tensor(3921.5835, grad_fn=<MseLossBackward0>), 'test_loss': 4357.85205078125}\n",
            "[Epoch 161/200] {'loss': tensor(3916.2075, grad_fn=<MseLossBackward0>), 'test_loss': 4351.3349609375}\n",
            "[Epoch 162/200] {'loss': tensor(3910.8735, grad_fn=<MseLossBackward0>), 'test_loss': 4344.86328125}\n",
            "[Epoch 163/200] {'loss': tensor(3905.5825, grad_fn=<MseLossBackward0>), 'test_loss': 4338.43798828125}\n",
            "[Epoch 164/200] {'loss': tensor(3900.3333, grad_fn=<MseLossBackward0>), 'test_loss': 4332.05810546875}\n",
            "[Epoch 165/200] {'loss': tensor(3895.1257, grad_fn=<MseLossBackward0>), 'test_loss': 4325.72314453125}\n",
            "[Epoch 166/200] {'loss': tensor(3889.9585, grad_fn=<MseLossBackward0>), 'test_loss': 4319.43310546875}\n",
            "[Epoch 167/200] {'loss': tensor(3884.8328, grad_fn=<MseLossBackward0>), 'test_loss': 4313.1875}\n",
            "[Epoch 168/200] {'loss': tensor(3879.7468, grad_fn=<MseLossBackward0>), 'test_loss': 4306.984375}\n",
            "[Epoch 169/200] {'loss': tensor(3874.7012, grad_fn=<MseLossBackward0>), 'test_loss': 4300.826171875}\n",
            "[Epoch 170/200] {'loss': tensor(3869.6941, grad_fn=<MseLossBackward0>), 'test_loss': 4294.7099609375}\n",
            "[Epoch 171/200] {'loss': tensor(3864.7266, grad_fn=<MseLossBackward0>), 'test_loss': 4288.63671875}\n",
            "[Epoch 172/200] {'loss': tensor(3859.7971, grad_fn=<MseLossBackward0>), 'test_loss': 4282.60546875}\n",
            "[Epoch 173/200] {'loss': tensor(3854.9072, grad_fn=<MseLossBackward0>), 'test_loss': 4276.61669921875}\n",
            "[Epoch 174/200] {'loss': tensor(3850.0537, grad_fn=<MseLossBackward0>), 'test_loss': 4270.66845703125}\n",
            "[Epoch 175/200] {'loss': tensor(3845.2388, grad_fn=<MseLossBackward0>), 'test_loss': 4264.76171875}\n",
            "[Epoch 176/200] {'loss': tensor(3840.4609, grad_fn=<MseLossBackward0>), 'test_loss': 4258.8955078125}\n",
            "[Epoch 177/200] {'loss': tensor(3835.7195, grad_fn=<MseLossBackward0>), 'test_loss': 4253.0703125}\n",
            "[Epoch 178/200] {'loss': tensor(3831.0149, grad_fn=<MseLossBackward0>), 'test_loss': 4247.2841796875}\n",
            "[Epoch 179/200] {'loss': tensor(3826.3459, grad_fn=<MseLossBackward0>), 'test_loss': 4241.5380859375}\n",
            "[Epoch 180/200] {'loss': tensor(3821.7129, grad_fn=<MseLossBackward0>), 'test_loss': 4235.83056640625}\n",
            "[Epoch 181/200] {'loss': tensor(3817.1147, grad_fn=<MseLossBackward0>), 'test_loss': 4230.1630859375}\n",
            "[Epoch 182/200] {'loss': tensor(3812.5525, grad_fn=<MseLossBackward0>), 'test_loss': 4224.53271484375}\n",
            "[Epoch 183/200] {'loss': tensor(3808.0244, grad_fn=<MseLossBackward0>), 'test_loss': 4218.94189453125}\n",
            "[Epoch 184/200] {'loss': tensor(3803.5305, grad_fn=<MseLossBackward0>), 'test_loss': 4213.38818359375}\n",
            "[Epoch 185/200] {'loss': tensor(3799.0708, grad_fn=<MseLossBackward0>), 'test_loss': 4207.87255859375}\n",
            "[Epoch 186/200] {'loss': tensor(3794.6453, grad_fn=<MseLossBackward0>), 'test_loss': 4202.392578125}\n",
            "[Epoch 187/200] {'loss': tensor(3790.2522, grad_fn=<MseLossBackward0>), 'test_loss': 4196.951171875}\n",
            "[Epoch 188/200] {'loss': tensor(3785.8928, grad_fn=<MseLossBackward0>), 'test_loss': 4191.54541015625}\n",
            "[Epoch 189/200] {'loss': tensor(3781.5652, grad_fn=<MseLossBackward0>), 'test_loss': 4186.17578125}\n",
            "[Epoch 190/200] {'loss': tensor(3777.2710, grad_fn=<MseLossBackward0>), 'test_loss': 4180.84228515625}\n",
            "[Epoch 191/200] {'loss': tensor(3773.0081, grad_fn=<MseLossBackward0>), 'test_loss': 4175.54443359375}\n",
            "[Epoch 192/200] {'loss': tensor(3768.7773, grad_fn=<MseLossBackward0>), 'test_loss': 4170.28173828125}\n",
            "[Epoch 193/200] {'loss': tensor(3764.5779, grad_fn=<MseLossBackward0>), 'test_loss': 4165.0537109375}\n",
            "[Epoch 194/200] {'loss': tensor(3760.4094, grad_fn=<MseLossBackward0>), 'test_loss': 4159.85986328125}\n",
            "[Epoch 195/200] {'loss': tensor(3756.2715, grad_fn=<MseLossBackward0>), 'test_loss': 4154.701171875}\n",
            "[Epoch 196/200] {'loss': tensor(3752.1646, grad_fn=<MseLossBackward0>), 'test_loss': 4149.5751953125}\n",
            "[Epoch 197/200] {'loss': tensor(3748.0879, grad_fn=<MseLossBackward0>), 'test_loss': 4144.48388671875}\n",
            "[Epoch 198/200] {'loss': tensor(3744.0408, grad_fn=<MseLossBackward0>), 'test_loss': 4139.42529296875}\n",
            "[Epoch 199/200] {'loss': tensor(3740.0237, grad_fn=<MseLossBackward0>), 'test_loss': 4134.400390625}\n",
            "[Epoch 200/200] {'loss': tensor(3736.0354, grad_fn=<MseLossBackward0>), 'test_loss': 4129.408203125}\n"
          ]
        }
      ],
      "source": [
        "torch_model = LinearRegression(X0.shape[-1], 1)\n",
        "torch_model.set_learning_rate(0.3)\n",
        "torch_model.train_test(\n",
        "    [[torch.Tensor(X0), torch.Tensor(Y0)]], \n",
        "    [[torch.Tensor(X1), torch.Tensor(Y1)]],\n",
        "    epochs=200\n",
        ");"
      ]
    },
    {
      "cell_type": "markdown",
      "metadata": {
        "id": "H63TERfyvZtS"
      },
      "source": [
        "## Shapes That Might Be Useful..."
      ]
    },
    {
      "cell_type": "markdown",
      "metadata": {
        "id": "LtwbP5tRbJky"
      },
      "source": [
        "Throughout the duration of this course, you might find it really helpful to check the shapes of each of your different tensors and outputs just to verify that everything is working as intended. Check the block below to see an example!"
      ]
    },
    {
      "cell_type": "code",
      "execution_count": 276,
      "metadata": {
        "colab": {
          "base_uri": "https://localhost:8080/"
        },
        "id": "MBkTktWcD9dz",
        "outputId": "b3ec3eb7-fbc0-4337-8ad3-1e20e1d3aa62"
      },
      "outputs": [
        {
          "name": "stdout",
          "output_type": "stream",
          "text": [
            "> Prediction Shape: torch.Size([353, 1])\n",
            "> Weights    Shape: torch.Size([1, 10])\n",
            "> Bias       Shape: torch.Size([1])\n",
            "> Loss       Shape: torch.Size([])\n"
          ]
        }
      ],
      "source": [
        "y_true = torch.Tensor(Y0)\n",
        "y_pred = torch_model(torch.Tensor(X0))\n",
        "loss = torch_model.loss(y_true, y_pred)\n",
        "\n",
        "print(f\"\"\"\n",
        "> Prediction Shape: {y_pred.shape}\n",
        "> Weights    Shape: {list(torch_model.parameters())[0].shape}\n",
        "> Bias       Shape: {list(torch_model.parameters())[1].shape}\n",
        "> Loss       Shape: {loss.shape}\n",
        "\"\"\".strip())"
      ]
    },
    {
      "cell_type": "markdown",
      "metadata": {
        "id": "cu1pLK46fFqX"
      },
      "source": [
        "Next, let's start building up all the different parts of the basic PyTorch tools that we used in order to see what's under the hood."
      ]
    },
    {
      "cell_type": "markdown",
      "metadata": {
        "id": "0ZfozqWdLB2V"
      },
      "source": [
        "## PyTorch Complexity Assumptions"
      ]
    },
    {
      "cell_type": "markdown",
      "metadata": {
        "id": "oVv6iQios7-D"
      },
      "source": [
        "### Tensors\n",
        "- Tensors are responsible for maintaining their own gradients\n",
        "- Tensors hold on to `backward` functions to which they can pass a gradient into. These backwards functions are provided by the layers associated with those tensors. \n",
        "    - If a tensor is a terminal node, it will pass in an upstream gradient of `None`.\n",
        "    - If a tensor is a non-terminal node, it will pass the accumulated upstream gradient. \n",
        "    - `backward` functions as a linked list algorithm and crawls back the chain, computing the gradient for every tensor that it hits (as long as they require a gradient).\n",
        "- Since the tensors hold their own gradients, the optimizer can merely take the tensors' values, take their gradients, and then just optimize them.\n",
        "- However, because tensors are always keeping track of their gradients when `requires_grad` is set to `True`, we also want to add a way to stop tracking gradients.\n",
        "    - For instance, while evaluating the performance of our model, we want to make sure that the model doesn't learn anything from this evaluation phase.\n",
        "    - We can use the `no_grad` subclass to automatically handle the flipping of this `requires_grad` value. \n",
        "        - Every time we enter a `with Tensor.no_grad():` block, the code within `no_grad`'s `__enter__()` method will execute. \n",
        "        - Once we exit the same `with Tensor.no_grad():` block, `no_grad`'s `__exit()__` method will run."
      ]
    },
    {
      "cell_type": "code",
      "execution_count": 277,
      "metadata": {
        "id": "5ZbMLm30y3tD"
      },
      "outputs": [],
      "source": [
        "class Tensor(np.ndarray):\n",
        "\n",
        "    '''\n",
        "    Subclassing numpy arrays is a bit weird:\n",
        "    https://numpy.org/doc/stable/user/basics.subclassing.html\n",
        "\n",
        "    Just assume that the attributes referred to in __new__/__array_finalize__ \n",
        "    will be accessible in a Tensor when a new Tensor object is created.  \n",
        "    '''\n",
        "\n",
        "    requires_grad = True  ## Class variable; accessible by Tensor.requires_grad\n",
        "\n",
        "    def __new__(cls, input_array):\n",
        "        obj = np.asarray(input_array).view(cls)\n",
        "        obj.backward = lambda x: None   ## Backward starts as None, gets assigned later\n",
        "        obj.grad = None                 ## Gradient starts as None, gets computed later\n",
        "        obj.requires_grad = True        ## By default, we'll want to compute gradient for new tensors\n",
        "        obj.to = lambda x: obj          ## We don't handle special device support (i.e. cpu vs gpu/cuda)\n",
        "        return obj\n",
        "\n",
        "    def __array_finalize__(self, obj):\n",
        "        if obj is None: return\n",
        "        self.backward       = getattr(obj, 'backward',      lambda x: None)\n",
        "        self.to             = getattr(obj, 'to',            lambda x: obj)\n",
        "        self.grad           = getattr(obj, 'grad',          None)\n",
        "        self.requires_grad  = getattr(obj, 'requires_grad', None)\n",
        "\n",
        "    class no_grad():\n",
        "\n",
        "        '''\n",
        "        Synergizes with Tensor: By entering the tensor with no_grad scope, \n",
        "        the Tensor.requires_grad singleton will swap to False. \n",
        "        '''\n",
        "        \n",
        "        def __enter__(self):\n",
        "            # When tape scope is entered, stop asking tensors to record gradients\n",
        "            Tensor.requires_grad = False\n",
        "            return self\n",
        "\n",
        "        def __exit__(self, exc_type, exc_val, exc_tb):\n",
        "            # When tape scope is exited, let Diffable start recording to self.operation\n",
        "            Tensor.requires_grad = True"
      ]
    },
    {
      "cell_type": "markdown",
      "metadata": {
        "id": "ovL7L6STvXCU"
      },
      "source": [
        "### Diffable\n",
        "\n",
        "Let's specify a \"Diffable\" object which will represent a module that can be differentiated. This class will make the following assumptions: \n",
        "- Gradients will need to flow through the input pathways in order to compute earlier gradients. \n",
        "    - Therefore, inputs will need an appropriate \"backward\"\n",
        "- Parameters will need to recieve gradients.\n",
        "- More specifically, if a `Diffable` object performs an operation on some input, then we know that the gradient from the output of the Diffable w.r.t. the inputs is the gradient of the `Diffable`'s operations w.r.t. its inputs.\n",
        "  - Thus, a `Diffable`'s `input_gradients()` function should return a tuple with each of the partial derivatives of the operations performed in the forward pass."
      ]
    },
    {
      "cell_type": "code",
      "execution_count": 278,
      "metadata": {
        "id": "9v68mc_U1ymJ"
      },
      "outputs": [],
      "source": [
        "from abc import ABC, abstractmethod  # # For abstract method support\n",
        "\n",
        "class Diffable(ABC):\n",
        "    \"\"\"\n",
        "        We use these to represent differentiable layers which we can compute gradients for.\n",
        "    \"\"\"\n",
        "\n",
        "    def to(self, device):\n",
        "        return self         # Just there to ignore device setting calls\n",
        "    \n",
        "    def __call__(self, *args, **kwargs):\n",
        "        \n",
        "        ## The call method keeps track of method inputs and outputs\n",
        "        self.argnames   = self.forward.__code__.co_varnames[1:]\n",
        "        named_args      = {self.argnames[i] : args[i] for i in range(len(args))}\n",
        "        self.input_dict = {**named_args, **kwargs}\n",
        "        self.inputs     = [self.input_dict[arg] for arg in self.argnames if arg in self.input_dict.keys()]\n",
        "        self.outputs    = self.forward(*args, **kwargs)\n",
        "\n",
        "        ## Make sure outputs are tensors and tie back to this layer\n",
        "        list_outs = isinstance(self.outputs, list) or isinstance(self.outputs, tuple)\n",
        "        if not list_outs:\n",
        "            self.outputs = [self.outputs]\n",
        "        self.outputs = [Tensor(out) for out in self.outputs]\n",
        "        for out in self.outputs: \n",
        "            out.backward = self.backward\n",
        "\n",
        "        # print(self.__class__.__name__.ljust(24), [v.shape for v in self.inputs], '->', [v.shape for v in self.outputs])\n",
        "            \n",
        "        ## And then finally, it returns the output, thereby wrapping the forward\n",
        "        return self.outputs if list_outs else self.outputs[0]\n",
        "\n",
        "    def parameters(self):\n",
        "        \"\"\"Returns a list of parameters\"\"\"\n",
        "        return ()\n",
        "\n",
        "    @abstractmethod\n",
        "    def forward(self, x):\n",
        "        \"\"\"Pass inputs through function. Can store inputs and outputs as instance variables\"\"\"\n",
        "        pass\n",
        "\n",
        "    @abstractmethod\n",
        "    def input_gradients(self):\n",
        "        \"\"\"Returns local gradient of layer output w.r.t. input\"\"\"\n",
        "        pass\n",
        "\n",
        "    def weight_gradients(self):\n",
        "        \"\"\"Returns local gradient of layer output w.r.t. weights\"\"\"\n",
        "        return []\n",
        "    \n",
        "    @abstractmethod\n",
        "    def backward(self, grad=np.array([[1]])):\n",
        "        \"\"\"\n",
        "        Propagate upstream gradient backwards by composing with local gradient\n",
        "        \n",
        "        SCAFFOLD: \n",
        "\n",
        "        Differentiate with respect to layer parameters:\n",
        "            For every param-gradient pair\n",
        "            - If all Tensors or this tensor do not require gradients, then skip\n",
        "            - Otherwise, compose upstream and local gradient\n",
        "        \n",
        "        Differentiate with respect to layer input:\n",
        "            For every input-gradient pair\n",
        "            - If all Tensors or this tensor do not require gradients, then skip\n",
        "            - Otherwise, compose upstream and local gradient\n",
        "\n",
        "        Usefulseful print boilerplate...: \n",
        "            # print(f'Diffing w.r.t. \"{k}\": local = {g.shape} and upstream = {grad.shape}')\n",
        "        \"\"\"\n",
        "        pass"
      ]
    },
    {
      "cell_type": "markdown",
      "metadata": {
        "id": "2n50HNq3ZuCO"
      },
      "source": [
        "### Loss\n",
        "**[TODO]:** Implement the forward pass in `forward()`.The forward pass should be simple: just implement mean squared error between `y_pred` and `y_true`.\n",
        "\n",
        "**[TODO]:** Calculate and return `input_gradients()`:\n",
        "- You want to calculate the gradients which flow to the inputs: `y_pred` and `y_true`\n",
        "- However, note that we don't want to \"train\" `y_true`, thus return 0 for the grads for `y_true`\n",
        "- Return the partial derivative of mean squared error w.r.t. `y_pred`, and 0.\n",
        "\n",
        "Note that we don't need to implement `weight_gradients()` here because MSELoss doesn't have weights!"
      ]
    },
    {
      "cell_type": "code",
      "execution_count": 279,
      "metadata": {
        "id": "1GG1E4VaC9hs"
      },
      "outputs": [],
      "source": [
        "class MSELoss(Diffable):\n",
        "\n",
        "    \"\"\"\n",
        "        Calculates mean squared error loss and gradient w.r.t. inputs.\n",
        "        Subclasses Diffable.\n",
        "    \"\"\"\n",
        "\n",
        "    def forward(self, y_pred, y_true):\n",
        "        \"\"\"Mean squared error forward pass!\"\"\"\n",
        "        # TODO: Compute and return the MSE given predicted and actual labels\n",
        "        return np.mean((y_true - y_pred)**2)\n",
        "\n",
        "    def input_gradients(self):\n",
        "        \"\"\"Mean squared error backpropagation!\"\"\"\n",
        "        # TODO: Compute and return the gradients\n",
        "        #return tuple of input, gradient \n",
        "        y_pred, y_true, loss = self.inputs + self.outputs\n",
        "\n",
        "        y_true_grad = np.array([0])\n",
        "        y_pred_grad = (2*(y_pred - y_true))/len(y_pred)#hard code this in? need to divide by n?\n",
        "        return y_pred_grad, y_true_grad\n",
        "\n",
        "    def backward(self, grad=np.array([[1]])):\n",
        "        \"\"\"Mean squared error backpropagation!\"\"\"        \n",
        "        ## TODO: Differentiate with respect to layer inputs        \n",
        "        ## For each input value and input gradient\n",
        "            ## Compose the upstream gradient with this input's gradient\n",
        "            ## Set the gradient of the tensor to the composed gradient as necessary\n",
        "            ## Pass the composed gradient backward through structure\n",
        "\n",
        "        for i, g in zip(self.inputs, self.input_gradients()):\n",
        "            if Tensor.requires_grad:\n",
        "                n_g = np.matmul(g, grad)\n",
        "                if getattr(i, \"requires_grad\", False):\n",
        "                    i.grad = n_g\n",
        "                i.backward(n_g)"
      ]
    },
    {
      "attachments": {},
      "cell_type": "markdown",
      "metadata": {
        "id": "2CHqCz0nKsGB"
      },
      "source": [
        "And here are some sanity checks you can run to make sure that your code is working as intended. In the first check, the outputs should match. In the second, they should be within the specified range."
      ]
    },
    {
      "cell_type": "code",
      "execution_count": 280,
      "metadata": {
        "colab": {
          "base_uri": "https://localhost:8080/"
        },
        "id": "45Y7ngPUKehB",
        "outputId": "fc6dad07-1d9b-479b-84c6-c4e39167e178"
      },
      "outputs": [
        {
          "name": "stdout",
          "output_type": "stream",
          "text": [
            "tensor(3732.0769, grad_fn=<MseLossBackward0>)\n",
            "3732.0769183119182\n"
          ]
        }
      ],
      "source": [
        "class con: \n",
        "    ## Control set using default PyTorch\n",
        "    ytrue = torch.Tensor(Y0)\n",
        "    ypred = torch_model(torch.Tensor(X0))\n",
        "    loss_fn = nn.MSELoss()\n",
        "\n",
        "class exp: \n",
        "    ## Experimental set using your own implementation\n",
        "    ytrue = Tensor(Y0)\n",
        "    ypred = Tensor(con.ypred.detach().numpy())\n",
        "    loss_fn = MSELoss()\n",
        "\n",
        "def ypred_to_loss(ns):\n",
        "    ## Compute loss using the control and experimental namespaces\n",
        "    ns.loss = ns.loss_fn(ns.ypred, ns.ytrue)\n",
        "    return ns.loss\n",
        "\n",
        "## Sanity Check 1: Make sure that the forward pass is the same (i.e. your implementation matches the control)\n",
        "print(ypred_to_loss(con))\n",
        "print(ypred_to_loss(exp))"
      ]
    },
    {
      "cell_type": "code",
      "execution_count": 281,
      "metadata": {
        "colab": {
          "base_uri": "https://localhost:8080/"
        },
        "id": "P9tUAGJkg6I9",
        "outputId": "81ef4fe8-0fca-491e-d37a-4ef9c3131117"
      },
      "outputs": [
        {
          "name": "stdout",
          "output_type": "stream",
          "text": [
            "Maximum difference 3.562770556353456e-08 should be less than 0.00001\n"
          ]
        }
      ],
      "source": [
        "## Sanity Check 2: Make sure that the backwards pass is the same\n",
        "\n",
        "con.ypred = con.ypred.detach()\n",
        "con.ypred.requires_grad = True\n",
        "# print(\"Before running backwards:\\n\", con.ypred.grad)\n",
        "ypred_to_loss(con)\n",
        "con.loss.backward()\n",
        "# print(\"After running backwards:\\n\", con.ypred.grad)\n",
        "\n",
        "exp.ypred.grad = None\n",
        "# print(\"Before running backwards:\\n\", np.round(exp.ypred.grad, 4))\n",
        "ypred_to_loss(exp)\n",
        "exp.loss.backward()\n",
        "# print(\"After running backwards:\\n\", np.round(exp.ypred.grad, 4))\n",
        "\n",
        "max_diff = np.max(exp.ypred.grad - con.ypred.grad.detach().numpy())\n",
        "print(f\"Maximum difference {max_diff} should be less than 0.00001\")"
      ]
    },
    {
      "cell_type": "markdown",
      "metadata": {
        "id": "inej4Q37gqN8"
      },
      "source": [
        "### Linear Layer\n",
        "Next, a linear layer!\n",
        "\n",
        "**[TODO]:** Implement the `forward()` pass of a linear layer. \n",
        "\n",
        "**[TODO]:** Calculate (manually) the weight gradients.\n",
        "- Manually differentiate the Dense layer with respect to weights and biases.\n",
        "- Return weight gradient, then bias gradient in that order\n",
        "- HINT: How is differentiating with matrix variables similar to and different from normal differentiation?\n",
        "\n",
        "**[TODO]:** Initalize weights and biases in `_initialize_weight()`.\n",
        "- In a linear layer, we have 2 parameters: weights and biases. \n",
        "- Return two NumPy arrays of the correct shapes according according to the function's arguments. \n",
        "- Return weights and biases, in that order.\n",
        "\n",
        "Be sure to also read and understand the `backward()` function, which is used to backpropagate gradients."
      ]
    },
    {
      "cell_type": "code",
      "execution_count": 282,
      "metadata": {
        "colab": {
          "base_uri": "https://localhost:8080/"
        },
        "id": "50FnJezypdpt",
        "outputId": "3db15996-701b-46f5-dff7-52d5768e06ba"
      },
      "outputs": [
        {
          "name": "stdout",
          "output_type": "stream",
          "text": [
            "Maximum difference 1.699320317793962e-08 should be less than 0.00001\n",
            "\n",
            "Losses: Control 28812.4765625 vs Experimental 28812.477097710194\n",
            "\n",
            "Control Params:\n",
            "Parameter containing:\n",
            "tensor([[ 0.1106,  0.0005,  0.0574, -0.2125, -0.2490, -0.2259, -0.2914,  0.2534,\n",
            "         -0.0635, -0.1489]], requires_grad=True)\n",
            "Parameter containing:\n",
            "tensor([-0.2074], requires_grad=True)\n",
            "\n",
            "Experimental Params:\n",
            "[[ 0.11062449  0.00045833  0.0573518  -0.21251932 -0.2490302  -0.22585166\n",
            "  -0.29135224  0.25343397 -0.0635027  -0.14886293]]\n",
            "[-0.20744006]\n"
          ]
        }
      ],
      "source": [
        "import torch\n",
        "import torch.nn as nn\n",
        "\n",
        "class Linear(Diffable):\n",
        "\n",
        "    \"\"\"\n",
        "        Standard linear/dense layer.\n",
        "        Subclasses Diffable.\n",
        "    \"\"\"\n",
        "\n",
        "    def __init__(self, in_features, out_features, device=None, dtype=None):\n",
        "        self.w, self.b = self.__class__._initialize_weight(in_features, out_features)\n",
        "    \n",
        "    def parameters(self):\n",
        "        return self.w, self.b\n",
        "\n",
        "    def forward(self, inputs):\n",
        "        \"\"\"Forward pass for a dense layer! Refer to lecture slides for how this is computed.\"\"\"\n",
        "        # TODO: implement the forward pass and return the outputs\n",
        "        weights, bias = self.parameters()\n",
        "        ans = np.matmul(inputs, weights.transpose()) + bias  #ask about transpose\n",
        "        return ans\n",
        "\n",
        "    def weight_gradients(self):\n",
        "        \"\"\"Calculating the gradients of the weights and biases!\"\"\"\n",
        "        # TODO: Implement calculation of gradients\n",
        "        wgrads = self.input_dict[\"inputs\"] * np.ones_like(self.w)\n",
        "        bgrads = np.ones_like(self.b)\n",
        "        return (wgrads, bgrads)\n",
        "\n",
        "    def input_gradients(self):\n",
        "        \"\"\"Calculate the gradients of the inputs! (Not necessary for HW1)\"\"\"\n",
        "        return (self.w,)\n",
        "\n",
        "    @staticmethod\n",
        "    def _initialize_weight(input_size, output_size):\n",
        "        \"\"\"\n",
        "        Initializes the values of the weights and biases. You can assume that \n",
        "        bias is a zero-vector and weight is normally-distributed.\n",
        "        \"\"\"\n",
        "        ## TODO: Implement default assumption: zero-init for bias, normal distribution for weights\n",
        "        ## Must return tensors for tracking purposes. ???\n",
        "        init_bias = np.zeros((output_size, 1))\n",
        "        init_weight = np.random.normal(size = (output_size, input_size))\n",
        "        return Tensor(init_weight), Tensor(init_bias)\n",
        "\n",
        "    def backward(self, grad=np.array([[1]])):\n",
        "        ## For every weight/bias and weight/bias gradient\n",
        "            ## Compose the upstream gradient with this weight's/bias's gradient\n",
        "            ## Set the gradient of the tensor to the composed gradient if necessary\n",
        "            ## Backpropagate the composed gradient through the structure\n",
        "        for (_, p), g in zip(enumerate(self.parameters()), self.weight_gradients()):\n",
        "            if Tensor.requires_grad:\n",
        "                n_g = np.sum(g * grad, axis=0, keepdims=True)\n",
        "                if getattr(p, \"requires_grad\", False):\n",
        "                    p.grad = n_g\n",
        "                p.backward(n_g)\n",
        "\n",
        "class con:\n",
        "    ## Control set using regular pytorch\n",
        "    X0 = torch.Tensor(X0)\n",
        "    Y0 = torch.Tensor(Y0)\n",
        "    X0.requires_grad = True\n",
        "    Y0.requires_grad = True\n",
        "    dense = nn.Linear(10, 1)\n",
        "    loss_fn = nn.MSELoss()\n",
        "\n",
        "class exp:\n",
        "    ## Experimental set using your own implementation\n",
        "    X0 = Tensor(X0)\n",
        "    Y0 = Tensor(Y0)\n",
        "    dense = Linear(10, 1)\n",
        "    dense.w, dense.b = [Tensor(p.detach().numpy()) for p in con.dense.parameters()]\n",
        "    loss_fn = MSELoss()\n",
        "\n",
        "def x_to_loss(ns):\n",
        "    ns.ypred = ns.dense(ns.X0)\n",
        "    ns.loss  = ns.loss_fn(ns.ypred, ns.Y0)\n",
        "    return ns.loss\n",
        "\n",
        "x_to_loss(con)\n",
        "x_to_loss(exp)\n",
        "\n",
        "## Sanity Check 1: Make sure that the forward pass is the same\n",
        "# print(con.ypred)\n",
        "# print(exp.ypred)\n",
        "\n",
        "print(f\"Maximum difference {np.max(con.ypred.detach().numpy() - exp.ypred)} should be less than 0.00001\\n\")\n",
        "\n",
        "print(f\"Losses: Control {con.loss} vs Experimental {exp.loss}\")\n",
        "\n",
        "print('\\nControl Params:',      *list(con.dense.parameters()), sep='\\n')\n",
        "print('\\nExperimental Params:', *list(exp.dense.parameters()), sep='\\n')"
      ]
    },
    {
      "cell_type": "code",
      "execution_count": 283,
      "metadata": {
        "colab": {
          "base_uri": "https://localhost:8080/"
        },
        "id": "-v6oUfSJxidG",
        "outputId": "0e5b54b6-841e-4843-da3b-25e030d62a0d"
      },
      "outputs": [
        {
          "name": "stdout",
          "output_type": "stream",
          "text": [
            "After running backwards on weights:\n",
            "[tensor([[-1.5559, -0.0825, -3.9126, -3.1354, -1.6622, -1.4899,  2.7258, -3.2816,\n",
            "         -3.9179, -2.6454]]), tensor([-303.3725])]\n",
            "\n",
            "****************************************************************************************************\n",
            "\n",
            "After running backwards on weights:\n",
            "[Tensor([[-1.5559248 , -0.08249204, -3.91257941, -3.13536527, -1.66222189,\n",
            "         -1.48988147,  2.7257533 , -3.28160021, -3.91794363, -2.64541205]]), Tensor([[-303.37249575]])]\n"
          ]
        }
      ],
      "source": [
        "## Sanity Check 2: Make sure that the backwards pass is the same\n",
        "\n",
        "con.X0 = con.X0.detach()\n",
        "con.Y0 = con.Y0.detach()\n",
        "for p in con.dense.parameters():\n",
        "    if p.grad is None: continue\n",
        "    p.grad.detach_()\n",
        "    p.grad = None\n",
        "\n",
        "x_to_loss(con).backward()\n",
        "print(\"After running backwards on weights:\")  \n",
        "print([p.grad for p in con.dense.parameters()])\n",
        "\n",
        "for p in exp.dense.parameters(): p.grad = None\n",
        "x_to_loss(exp).backward()\n",
        "\n",
        "print(\"\\n\" + \"*\" * 100 + \"\\n\")\n",
        "print(\"After running backwards on weights:\")  \n",
        "print([p.grad for p in exp.dense.parameters()])"
      ]
    },
    {
      "cell_type": "markdown",
      "metadata": {
        "id": "CQGhTAMgFe_i"
      },
      "source": [
        "## Optimizing With The Gradients\n",
        "\n",
        "To use the gradients we calculated previously, we need an optimizer. The optimizer allows us to update our weights and bias. A simple approach could be to simply subtract the gradient from the weights and bias. In doing so, we follow the gradient in its opposite direction, minimizing loss. This is what is called gradient descent. \n",
        "\n",
        "However, simply subtracting the gradients from the weights could result in the weights changing wildly between each sample, making training longer. To prevent this, we use a learning rate. The learning rate is a hyperparameter that specifies how much a single step updates weights. A smaller learning rate means that the gradients have less of an impact on the weights, and vice versa.\n",
        "\n",
        "Of course, this is just one (simple) approach. In a later lab, you'll learn about other optimizers, such as Adam and RMSProp.\n",
        "\n",
        "**[TODO]:** Implement stochastic gradient descent for each parameter using the learning rate"
      ]
    },
    {
      "cell_type": "code",
      "execution_count": 284,
      "metadata": {
        "id": "J5s6o4_WGXhe"
      },
      "outputs": [],
      "source": [
        "class SGD: \n",
        "    \"\"\"\n",
        "        Performs stochastic gradident descent with the specified learning rate.\n",
        "    \"\"\"\n",
        "    def __init__(self, params, lr, *args, **kwargs):\n",
        "        self.params = params\n",
        "        self.lr = lr\n",
        "    \n",
        "    def zero_grad(self):\n",
        "        \"\"\"\n",
        "            Reset the gradients.\n",
        "        \"\"\"\n",
        "        pass\n",
        "            \n",
        "    def step(self):\n",
        "        \"\"\"\n",
        "            Update paramaters by subtracting the gradient multiplied by the learning rate.\n",
        "        \"\"\"\n",
        "        ## TODO: Implement stochastic grad descent for each parameter\n",
        "\n",
        "        for p in self.params:\n",
        "            #p = p - self.lr * p.grad\n",
        "            p -= self.lr * p.grad"
      ]
    },
    {
      "attachments": {},
      "cell_type": "markdown",
      "metadata": {
        "id": "p9m63xegnLnj"
      },
      "source": [
        "Below, you'll use your new implementations to optimize for linear regression manually. FakeTorchModule will also be provided to make some of the mimicking process easier. \n",
        "\n",
        "**[TODO]:** Complete the model and compare this model's performance to the previous `LinearRegression` model -- they should have a similar loss after training."
      ]
    },
    {
      "cell_type": "code",
      "execution_count": 285,
      "metadata": {
        "colab": {
          "base_uri": "https://localhost:8080/"
        },
        "id": "M6-a0DfvFlnN",
        "outputId": "a5030069-c43e-4f8b-f2d6-2ed17c90d2c6"
      },
      "outputs": [
        {
          "name": "stdout",
          "output_type": "stream",
          "text": [
            "[Epoch 1/200] {'loss': Tensor(28747.83524624), 'test_loss': 15413.906760961372}\n",
            "[Epoch 2/200] {'loss': Tensor(14048.22151159), 'test_loss': 9836.209254545161}\n",
            "[Epoch 3/200] {'loss': Tensor(8746.73225444), 'test_loss': 7752.102552457571}\n",
            "[Epoch 4/200] {'loss': Tensor(6828.62143311), 'test_loss': 6952.130426753595}\n",
            "[Epoch 5/200] {'loss': Tensor(6128.58649507), 'test_loss': 6630.317374733943}\n",
            "[Epoch 6/200] {'loss': Tensor(5867.12040084), 'test_loss': 6490.176897325646}\n",
            "[Epoch 7/200] {'loss': Tensor(5763.60100627), 'test_loss': 6421.177181732809}\n",
            "[Epoch 8/200] {'loss': Tensor(5717.00419543), 'test_loss': 6381.251456122262}\n",
            "[Epoch 9/200] {'loss': Tensor(5690.96095239), 'test_loss': 6353.892048268905}\n",
            "[Epoch 10/200] {'loss': Tensor(5672.37803078), 'test_loss': 6332.338887269067}\n",
            "[Epoch 11/200] {'loss': Tensor(5656.54143944), 'test_loss': 6313.668420179727}\n",
            "[Epoch 12/200] {'loss': Tensor(5641.75371325), 'test_loss': 6296.534420775198}\n",
            "[Epoch 13/200] {'loss': Tensor(5627.40333637), 'test_loss': 6280.276059728317}\n",
            "[Epoch 14/200] {'loss': Tensor(5613.26973667), 'test_loss': 6264.5496973376585}\n",
            "[Epoch 15/200] {'loss': Tensor(5599.27308448), 'test_loss': 6249.168097442511}\n",
            "[Epoch 16/200] {'loss': Tensor(5585.38422035), 'test_loss': 6234.02562717332}\n",
            "[Epoch 17/200] {'loss': Tensor(5571.59222912), 'test_loss': 6219.061191460158}\n",
            "[Epoch 18/200] {'loss': Tensor(5557.89276662), 'test_loss': 6204.23881477052}\n",
            "[Epoch 19/200] {'loss': Tensor(5544.28385725), 'test_loss': 6189.537010364816}\n",
            "[Epoch 20/200] {'loss': Tensor(5530.7643811), 'test_loss': 6174.942771901647}\n",
            "[Epoch 21/200] {'loss': Tensor(5517.33352932), 'test_loss': 6160.448103277915}\n",
            "[Epoch 22/200] {'loss': Tensor(5503.99060796), 'test_loss': 6146.0479860780215}\n",
            "[Epoch 23/200] {'loss': Tensor(5490.7349674), 'test_loss': 6131.73917846866}\n",
            "[Epoch 24/200] {'loss': Tensor(5477.56597692), 'test_loss': 6117.5195015181935}\n",
            "[Epoch 25/200] {'loss': Tensor(5464.48301546), 'test_loss': 6103.387413707972}\n",
            "[Epoch 26/200] {'loss': Tensor(5451.48546834), 'test_loss': 6089.34175673832}\n",
            "[Epoch 27/200] {'loss': Tensor(5438.57272604), 'test_loss': 6075.381603476653}\n",
            "[Epoch 28/200] {'loss': Tensor(5425.74418371), 'test_loss': 6061.506166931638}\n",
            "[Epoch 29/200] {'loss': Tensor(5412.99924102), 'test_loss': 6047.714745731291}\n",
            "[Epoch 30/200] {'loss': Tensor(5400.33730204), 'test_loss': 6034.006691452282}\n",
            "[Epoch 31/200] {'loss': Tensor(5387.75777521), 'test_loss': 6020.381389034986}\n",
            "[Epoch 32/200] {'loss': Tensor(5375.2600733), 'test_loss': 6006.838245037107}\n",
            "[Epoch 33/200] {'loss': Tensor(5362.84361335), 'test_loss': 5993.376680583488}\n",
            "[Epoch 34/200] {'loss': Tensor(5350.50781667), 'test_loss': 5979.996127129783}\n",
            "[Epoch 35/200] {'loss': Tensor(5338.25210881), 'test_loss': 5966.696023912262}\n",
            "[Epoch 36/200] {'loss': Tensor(5326.07591949), 'test_loss': 5953.475816408041}\n",
            "[Epoch 37/200] {'loss': Tensor(5313.9786826), 'test_loss': 5940.334955400905}\n",
            "[Epoch 38/200] {'loss': Tensor(5301.95983616), 'test_loss': 5927.27289641007}\n",
            "[Epoch 39/200] {'loss': Tensor(5290.01882231), 'test_loss': 5914.289099336551}\n",
            "[Epoch 40/200] {'loss': Tensor(5278.15508724), 'test_loss': 5901.383028239986}\n",
            "[Epoch 41/200] {'loss': Tensor(5266.36808119), 'test_loss': 5888.554151193726}\n",
            "[Epoch 42/200] {'loss': Tensor(5254.65725841), 'test_loss': 5875.801940186931}\n",
            "[Epoch 43/200] {'loss': Tensor(5243.02207715), 'test_loss': 5863.125871054861}\n",
            "[Epoch 44/200] {'loss': Tensor(5231.4619996), 'test_loss': 5850.525423426211}\n",
            "[Epoch 45/200] {'loss': Tensor(5219.97649186), 'test_loss': 5838.000080680685}\n",
            "[Epoch 46/200] {'loss': Tensor(5208.56502395), 'test_loss': 5825.54932991281}\n",
            "[Epoch 47/200] {'loss': Tensor(5197.22706974), 'test_loss': 5813.172661899572}\n",
            "[Epoch 48/200] {'loss': Tensor(5185.96210697), 'test_loss': 5800.869571070409}\n",
            "[Epoch 49/200] {'loss': Tensor(5174.76961714), 'test_loss': 5788.639555478692}\n",
            "[Epoch 50/200] {'loss': Tensor(5163.64908558), 'test_loss': 5776.482116774195}\n",
            "[Epoch 51/200] {'loss': Tensor(5152.60000134), 'test_loss': 5764.396760176207}\n",
            "[Epoch 52/200] {'loss': Tensor(5141.62185723), 'test_loss': 5752.38299444713}\n",
            "[Epoch 53/200] {'loss': Tensor(5130.71414972), 'test_loss': 5740.440331866422}\n",
            "[Epoch 54/200] {'loss': Tensor(5119.876379), 'test_loss': 5728.5682882048395}\n",
            "[Epoch 55/200] {'loss': Tensor(5109.10804886), 'test_loss': 5716.766382698926}\n",
            "[Epoch 56/200] {'loss': Tensor(5098.40866674), 'test_loss': 5705.034138025714}\n",
            "[Epoch 57/200] {'loss': Tensor(5087.77774367), 'test_loss': 5693.371080277649}\n",
            "[Epoch 58/200] {'loss': Tensor(5077.21479422), 'test_loss': 5681.776738937693}\n",
            "[Epoch 59/200] {'loss': Tensor(5066.71933652), 'test_loss': 5670.250646854633}\n",
            "[Epoch 60/200] {'loss': Tensor(5056.29089223), 'test_loss': 5658.792340218566}\n",
            "[Epoch 61/200] {'loss': Tensor(5045.92898646), 'test_loss': 5647.401358536569}\n",
            "[Epoch 62/200] {'loss': Tensor(5035.63314781), 'test_loss': 5636.07724460855}\n",
            "[Epoch 63/200] {'loss': Tensor(5025.40290831), 'test_loss': 5624.8195445032725}\n",
            "[Epoch 64/200] {'loss': Tensor(5015.2378034), 'test_loss': 5613.627807534565}\n",
            "[Epoch 65/200] {'loss': Tensor(5005.1373719), 'test_loss': 5602.501586237698}\n",
            "[Epoch 66/200] {'loss': Tensor(4995.10115601), 'test_loss': 5591.440436345929}\n",
            "[Epoch 67/200] {'loss': Tensor(4985.12870125), 'test_loss': 5580.443916767242}\n",
            "[Epoch 68/200] {'loss': Tensor(4975.21955646), 'test_loss': 5569.511589561225}\n",
            "[Epoch 69/200] {'loss': Tensor(4965.37327376), 'test_loss': 5558.643019916149}\n",
            "[Epoch 70/200] {'loss': Tensor(4955.58940855), 'test_loss': 5547.837776126187}\n",
            "[Epoch 71/200] {'loss': Tensor(4945.86751946), 'test_loss': 5537.095429568828}\n",
            "[Epoch 72/200] {'loss': Tensor(4936.20716833), 'test_loss': 5526.415554682425}\n",
            "[Epoch 73/200] {'loss': Tensor(4926.60792021), 'test_loss': 5515.797728943939}\n",
            "[Epoch 74/200] {'loss': Tensor(4917.06934329), 'test_loss': 5505.2415328468205}\n",
            "[Epoch 75/200] {'loss': Tensor(4907.59100895), 'test_loss': 5494.746549879071}\n",
            "[Epoch 76/200] {'loss': Tensor(4898.17249165), 'test_loss': 5484.312366501453}\n",
            "[Epoch 77/200] {'loss': Tensor(4888.81336897), 'test_loss': 5473.938572125869}\n",
            "[Epoch 78/200] {'loss': Tensor(4879.51322157), 'test_loss': 5463.624759093887}\n",
            "[Epoch 79/200] {'loss': Tensor(4870.27163316), 'test_loss': 5453.370522655445}\n",
            "[Epoch 80/200] {'loss': Tensor(4861.08819048), 'test_loss': 5443.175460947679}\n",
            "[Epoch 81/200] {'loss': Tensor(4851.96248327), 'test_loss': 5433.039174973942}\n",
            "[Epoch 82/200] {'loss': Tensor(4842.89410428), 'test_loss': 5422.961268582946}\n",
            "[Epoch 83/200] {'loss': Tensor(4833.88264922), 'test_loss': 5412.941348448078}\n",
            "[Epoch 84/200] {'loss': Tensor(4824.92771673), 'test_loss': 5402.979024046856}\n",
            "[Epoch 85/200] {'loss': Tensor(4816.02890838), 'test_loss': 5393.073907640538}\n",
            "[Epoch 86/200] {'loss': Tensor(4807.18582865), 'test_loss': 5383.225614253886}\n",
            "[Epoch 87/200] {'loss': Tensor(4798.39808488), 'test_loss': 5373.433761655072}\n",
            "[Epoch 88/200] {'loss': Tensor(4789.66528729), 'test_loss': 5363.697970335726}\n",
            "[Epoch 89/200] {'loss': Tensor(4780.98704893), 'test_loss': 5354.017863491147}\n",
            "[Epoch 90/200] {'loss': Tensor(4772.36298566), 'test_loss': 5344.393067000643}\n",
            "[Epoch 91/200] {'loss': Tensor(4763.79271613), 'test_loss': 5334.823209408021}\n",
            "[Epoch 92/200] {'loss': Tensor(4755.2758618), 'test_loss': 5325.307921902225}\n",
            "[Epoch 93/200] {'loss': Tensor(4746.81204684), 'test_loss': 5315.846838298101}\n",
            "[Epoch 94/200] {'loss': Tensor(4738.40089819), 'test_loss': 5306.439595017321}\n",
            "[Epoch 95/200] {'loss': Tensor(4730.04204548), 'test_loss': 5297.085831069436}\n",
            "[Epoch 96/200] {'loss': Tensor(4721.73512105), 'test_loss': 5287.785188033066}\n",
            "[Epoch 97/200] {'loss': Tensor(4713.47975991), 'test_loss': 5278.537310037237}\n",
            "[Epoch 98/200] {'loss': Tensor(4705.27559972), 'test_loss': 5269.341843742846}\n",
            "[Epoch 99/200] {'loss': Tensor(4697.1222808), 'test_loss': 5260.198438324266}\n",
            "[Epoch 100/200] {'loss': Tensor(4689.01944606), 'test_loss': 5251.106745451082}\n",
            "[Epoch 101/200] {'loss': Tensor(4680.966741), 'test_loss': 5242.066419269973}\n",
            "[Epoch 102/200] {'loss': Tensor(4672.96381374), 'test_loss': 5233.077116386704}\n",
            "[Epoch 103/200] {'loss': Tensor(4665.01031492), 'test_loss': 5224.13849584827}\n",
            "[Epoch 104/200] {'loss': Tensor(4657.10589774), 'test_loss': 5215.250219125169}\n",
            "[Epoch 105/200] {'loss': Tensor(4649.2502179), 'test_loss': 5206.411950093782}\n",
            "[Epoch 106/200] {'loss': Tensor(4641.44293365), 'test_loss': 5197.6233550189245}\n",
            "[Epoch 107/200] {'loss': Tensor(4633.68370567), 'test_loss': 5188.884102536477}\n",
            "[Epoch 108/200] {'loss': Tensor(4625.97219713), 'test_loss': 5180.193863636184}\n",
            "[Epoch 109/200] {'loss': Tensor(4618.30807367), 'test_loss': 5171.552311644548}\n",
            "[Epoch 110/200] {'loss': Tensor(4610.69100333), 'test_loss': 5162.959122207874}\n",
            "[Epoch 111/200] {'loss': Tensor(4603.12065658), 'test_loss': 5154.413973275418}\n",
            "[Epoch 112/200] {'loss': Tensor(4595.59670627), 'test_loss': 5145.91654508267}\n",
            "[Epoch 113/200] {'loss': Tensor(4588.11882764), 'test_loss': 5137.466520134756}\n",
            "[Epoch 114/200] {'loss': Tensor(4580.68669829), 'test_loss': 5129.063583189964}\n",
            "[Epoch 115/200] {'loss': Tensor(4573.29999816), 'test_loss': 5120.707421243385}\n",
            "[Epoch 116/200] {'loss': Tensor(4565.95840951), 'test_loss': 5112.39772351068}\n",
            "[Epoch 117/200] {'loss': Tensor(4558.66161692), 'test_loss': 5104.134181411965}\n",
            "[Epoch 118/200] {'loss': Tensor(4551.40930726), 'test_loss': 5095.916488555802}\n",
            "[Epoch 119/200] {'loss': Tensor(4544.20116966), 'test_loss': 5087.744340723334}\n",
            "[Epoch 120/200] {'loss': Tensor(4537.03689552), 'test_loss': 5079.617435852504}\n",
            "[Epoch 121/200] {'loss': Tensor(4529.91617849), 'test_loss': 5071.535474022415}\n",
            "[Epoch 122/200] {'loss': Tensor(4522.83871443), 'test_loss': 5063.498157437786}\n",
            "[Epoch 123/200] {'loss': Tensor(4515.80420142), 'test_loss': 5055.50519041354}\n",
            "[Epoch 124/200] {'loss': Tensor(4508.81233971), 'test_loss': 5047.556279359486}\n",
            "[Epoch 125/200] {'loss': Tensor(4501.86283176), 'test_loss': 5039.651132765125}\n",
            "[Epoch 126/200] {'loss': Tensor(4494.95538217), 'test_loss': 5031.789461184569}\n",
            "[Epoch 127/200] {'loss': Tensor(4488.08969769), 'test_loss': 5023.970977221558}\n",
            "[Epoch 128/200] {'loss': Tensor(4481.26548719), 'test_loss': 5016.195395514598}\n",
            "[Epoch 129/200] {'loss': Tensor(4474.48246167), 'test_loss': 5008.462432722204}\n",
            "[Epoch 130/200] {'loss': Tensor(4467.74033421), 'test_loss': 5000.771807508251}\n",
            "[Epoch 131/200] {'loss': Tensor(4461.03881999), 'test_loss': 4993.123240527432}\n",
            "[Epoch 132/200] {'loss': Tensor(4454.37763625), 'test_loss': 4985.51645441082}\n",
            "[Epoch 133/200] {'loss': Tensor(4447.75650226), 'test_loss': 4977.951173751543}\n",
            "[Epoch 134/200] {'loss': Tensor(4441.17513937), 'test_loss': 4970.427125090556}\n",
            "[Epoch 135/200] {'loss': Tensor(4434.63327092), 'test_loss': 4962.94403690252}\n",
            "[Epoch 136/200] {'loss': Tensor(4428.13062227), 'test_loss': 4955.501639581782}\n",
            "[Epoch 137/200] {'loss': Tensor(4421.66692076), 'test_loss': 4948.09966542847}\n",
            "[Epoch 138/200] {'loss': Tensor(4415.24189573), 'test_loss': 4940.737848634665}\n",
            "[Epoch 139/200] {'loss': Tensor(4408.85527845), 'test_loss': 4933.415925270703}\n",
            "[Epoch 140/200] {'loss': Tensor(4402.50680218), 'test_loss': 4926.13363327155}\n",
            "[Epoch 141/200] {'loss': Tensor(4396.19620209), 'test_loss': 4918.890712423301}\n",
            "[Epoch 142/200] {'loss': Tensor(4389.92321526), 'test_loss': 4911.68690434976}\n",
            "[Epoch 143/200] {'loss': Tensor(4383.6875807), 'test_loss': 4904.521952499128}\n",
            "[Epoch 144/200] {'loss': Tensor(4377.4890393), 'test_loss': 4897.39560213078}\n",
            "[Epoch 145/200] {'loss': Tensor(4371.32733383), 'test_loss': 4890.30760030215}\n",
            "[Epoch 146/200] {'loss': Tensor(4365.20220893), 'test_loss': 4883.257695855703}\n",
            "[Epoch 147/200] {'loss': Tensor(4359.11341109), 'test_loss': 4876.245639405999}\n",
            "[Epoch 148/200] {'loss': Tensor(4353.06068862), 'test_loss': 4869.271183326873}\n",
            "[Epoch 149/200] {'loss': Tensor(4347.04379168), 'test_loss': 4862.334081738676}\n",
            "[Epoch 150/200] {'loss': Tensor(4341.06247223), 'test_loss': 4855.434090495636}\n",
            "[Epoch 151/200] {'loss': Tensor(4335.11648401), 'test_loss': 4848.570967173302}\n",
            "[Epoch 152/200] {'loss': Tensor(4329.20558258), 'test_loss': 4841.744471056078}\n",
            "[Epoch 153/200] {'loss': Tensor(4323.32952524), 'test_loss': 4834.954363124846}\n",
            "[Epoch 154/200] {'loss': Tensor(4317.48807107), 'test_loss': 4828.200406044693}\n",
            "[Epoch 155/200] {'loss': Tensor(4311.68098087), 'test_loss': 4821.482364152712}\n",
            "[Epoch 156/200] {'loss': Tensor(4305.90801719), 'test_loss': 4814.800003445897}\n",
            "[Epoch 157/200] {'loss': Tensor(4300.1689443), 'test_loss': 4808.15309156913}\n",
            "[Epoch 158/200] {'loss': Tensor(4294.46352817), 'test_loss': 4801.54139780326}\n",
            "[Epoch 159/200] {'loss': Tensor(4288.79153648), 'test_loss': 4794.964693053249}\n",
            "[Epoch 160/200] {'loss': Tensor(4283.15273856), 'test_loss': 4788.4227498364335}\n",
            "[Epoch 161/200] {'loss': Tensor(4277.54690545), 'test_loss': 4781.915342270849}\n",
            "[Epoch 162/200] {'loss': Tensor(4271.97380982), 'test_loss': 4775.442246063647}\n",
            "[Epoch 163/200] {'loss': Tensor(4266.43322598), 'test_loss': 4769.0032384996}\n",
            "[Epoch 164/200] {'loss': Tensor(4260.92492991), 'test_loss': 4762.598098429691}\n",
            "[Epoch 165/200] {'loss': Tensor(4255.44869917), 'test_loss': 4756.226606259778}\n",
            "[Epoch 166/200] {'loss': Tensor(4250.00431295), 'test_loss': 4749.888543939346}\n",
            "[Epoch 167/200] {'loss': Tensor(4244.59155204), 'test_loss': 4743.583694950352}\n",
            "[Epoch 168/200] {'loss': Tensor(4239.21019881), 'test_loss': 4737.311844296128}\n",
            "[Epoch 169/200] {'loss': Tensor(4233.86003721), 'test_loss': 4731.072778490387}\n",
            "[Epoch 170/200] {'loss': Tensor(4228.54085273), 'test_loss': 4724.866285546301}\n",
            "[Epoch 171/200] {'loss': Tensor(4223.25243244), 'test_loss': 4718.692154965655}\n",
            "[Epoch 172/200] {'loss': Tensor(4217.99456494), 'test_loss': 4712.550177728091}\n",
            "[Epoch 173/200] {'loss': Tensor(4212.76704036), 'test_loss': 4706.44014628041}\n",
            "[Epoch 174/200] {'loss': Tensor(4207.56965034), 'test_loss': 4700.361854525982}\n",
            "[Epoch 175/200] {'loss': Tensor(4202.40218804), 'test_loss': 4694.315097814211}\n",
            "[Epoch 176/200] {'loss': Tensor(4197.2644481), 'test_loss': 4688.299672930076}\n",
            "[Epoch 177/200] {'loss': Tensor(4192.15622665), 'test_loss': 4682.315378083764}\n",
            "[Epoch 178/200] {'loss': Tensor(4187.07732129), 'test_loss': 4676.362012900375}\n",
            "[Epoch 179/200] {'loss': Tensor(4182.02753111), 'test_loss': 4670.439378409682}\n",
            "[Epoch 180/200] {'loss': Tensor(4177.0066566), 'test_loss': 4664.547277035998}\n",
            "[Epoch 181/200] {'loss': Tensor(4172.01449974), 'test_loss': 4658.685512588087}\n",
            "[Epoch 182/200] {'loss': Tensor(4167.05086392), 'test_loss': 4652.853890249174}\n",
            "[Epoch 183/200] {'loss': Tensor(4162.11555395), 'test_loss': 4647.052216567008}\n",
            "[Epoch 184/200] {'loss': Tensor(4157.20837605), 'test_loss': 4641.28029944401}\n",
            "[Epoch 185/200] {'loss': Tensor(4152.32913783), 'test_loss': 4635.537948127483}\n",
            "[Epoch 186/200] {'loss': Tensor(4147.47764833), 'test_loss': 4629.824973199909}\n",
            "[Epoch 187/200] {'loss': Tensor(4142.65371791), 'test_loss': 4624.1411865693}\n",
            "[Epoch 188/200] {'loss': Tensor(4137.85715834), 'test_loss': 4618.486401459628}\n",
            "[Epoch 189/200] {'loss': Tensor(4133.08778275), 'test_loss': 4612.860432401323}\n",
            "[Epoch 190/200] {'loss': Tensor(4128.34540558), 'test_loss': 4607.263095221845}\n",
            "[Epoch 191/200] {'loss': Tensor(4123.62984266), 'test_loss': 4601.694207036315}\n",
            "[Epoch 192/200] {'loss': Tensor(4118.94091111), 'test_loss': 4596.153586238223}\n",
            "[Epoch 193/200] {'loss': Tensor(4114.2784294), 'test_loss': 4590.641052490206}\n",
            "[Epoch 194/200] {'loss': Tensor(4109.64221728), 'test_loss': 4585.156426714878}\n",
            "[Epoch 195/200] {'loss': Tensor(4105.03209582), 'test_loss': 4579.6995310857465}\n",
            "[Epoch 196/200] {'loss': Tensor(4100.44788737), 'test_loss': 4574.270189018183}\n",
            "[Epoch 197/200] {'loss': Tensor(4095.88941558), 'test_loss': 4568.868225160461}\n",
            "[Epoch 198/200] {'loss': Tensor(4091.35650535), 'test_loss': 4563.493465384864}\n",
            "[Epoch 199/200] {'loss': Tensor(4086.84898286), 'test_loss': 4558.1457367788535}\n",
            "[Epoch 200/200] {'loss': Tensor(4082.36667552), 'test_loss': 4552.824867636307}\n"
          ]
        }
      ],
      "source": [
        "import torch\n",
        "import torch.nn as nn\n",
        "\n",
        "class FakeTorchModule:\n",
        "    \"\"\"\n",
        "        Needed so that we can do manual linear regression.\n",
        "    \"\"\"\n",
        "\n",
        "    def __init__(self):\n",
        "        self.device = \"\"\n",
        "\n",
        "    def __call__(self, *args, **kwargs):\n",
        "        return self.forward(*args, **kwargs)\n",
        "\n",
        "    def to(self, device):\n",
        "        return self\n",
        "\n",
        "    def parameters(self):\n",
        "        params = []\n",
        "        for k,v in self.__dict__.items():\n",
        "            params += getattr(v, 'parameters', lambda: [])()\n",
        "        return params\n",
        "\n",
        "    def train(self):\n",
        "        for p in self.parameters():\n",
        "            p.requires_grad = getattr(p, 'required_grad', p.requires_grad)\n",
        "    \n",
        "    def eval(self):\n",
        "        for p in self.parameters():\n",
        "            p.required_grad = p.requires_grad\n",
        "            p.requires_grad = False\n",
        "\n",
        "class ManualRegression(FakeTorchModule):\n",
        "    \"\"\"\n",
        "        Allows us to use our custom Linear layer and SGD optimizer.\n",
        "        Subclasses FakeTorchModule\n",
        "    \"\"\"\n",
        "\n",
        "    def __init__(self, input_dims, output_dims):\n",
        "        self.device = torch.device(\"cuda:0\" if torch.cuda.is_available() else \"cpu\")        \n",
        "        super().__init__()\n",
        "        ## TODO: Incorporate your custom components in the initialization pipeline. \n",
        "        self.dense = Linear(input_dims, output_dims).to(self.device)\n",
        "        self.activation = None\n",
        "        self.loss = None\n",
        "        self.set_learning_rate()\n",
        "        \n",
        "\n",
        "    def set_learning_rate(self, learning_rate=0.001):\n",
        "        ## TODO: Use your new SGD component and make changes as appropriate.\n",
        "        self.optimizer = SGD(self.parameters(), lr=learning_rate)\n",
        "\n",
        "    def forward(self, x):\n",
        "        ## TODO: Implement the forward function as appropriate. Make changes as necessary\n",
        "        x = self.dense(x)\n",
        "        x = self.activation(x)\n",
        "        return x\n",
        "\n",
        "class TrainTest2(TrainTest):\n",
        "    # no_grad = torch.no_grad\n",
        "    no_grad = Tensor.no_grad\n",
        "\n",
        "class ManualLinearRegression(ManualRegression, TrainTest2):\n",
        "    def __init__(self, input_dims, output_dims):\n",
        "        super().__init__(input_dims, output_dims)\n",
        "        ## TODO: Implement the subclass as appropriate with your own implementations\n",
        "        self.activation = nn.Identity()\n",
        "        self.loss = MSELoss()\n",
        "\n",
        "## Train the manual linear regression model\n",
        "model = ManualLinearRegression(10, 1)\n",
        "model.set_learning_rate(0.2)\n",
        "model.train_test(\n",
        "    [[Tensor(X0), Tensor(Y0)]], \n",
        "    [[Tensor(X1), Tensor(Y1)]],\n",
        "    epochs=200\n",
        ");\n",
        "## TODO: Compare this model's performance to the first linear regression model -- they should be similar"
      ]
    },
    {
      "cell_type": "markdown",
      "metadata": {
        "id": "AhxMFrlPOX2J"
      },
      "source": [
        "-----"
      ]
    },
    {
      "cell_type": "markdown",
      "metadata": {
        "id": "v6DGrd50k0J5"
      },
      "source": [
        "## Wrapping Up\n",
        "\n",
        "Congratulations, you've finished this assignment! You should now have a better understand of linear regression, loss functions, and optimizers/gradient descent. This assignment provides the foundation for Homework 2, so feel free to come back or read it over again to get a solid understanding.\n",
        "\n",
        "Be sure to submit your finished notebook (follow the guidelines on the handout)."
      ]
    }
  ],
  "metadata": {
    "colab": {
      "provenance": [],
      "toc_visible": true
    },
    "kernelspec": {
      "display_name": "DL",
      "language": "python",
      "name": "python3"
    },
    "language_info": {
      "codemirror_mode": {
        "name": "ipython",
        "version": 3
      },
      "file_extension": ".py",
      "mimetype": "text/x-python",
      "name": "python",
      "nbconvert_exporter": "python",
      "pygments_lexer": "ipython3",
      "version": "3.10.8"
    },
    "vscode": {
      "interpreter": {
        "hash": "759be6693a164ddeab1e231298c2a01a8302a7c7dfd4e560844dbce42a896f34"
      }
    }
  },
  "nbformat": 4,
  "nbformat_minor": 0
}
