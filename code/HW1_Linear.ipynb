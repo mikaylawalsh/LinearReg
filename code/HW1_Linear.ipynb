{
  "cells": [
    {
      "cell_type": "markdown",
      "metadata": {
        "id": "B4oKbqMWMpMN"
      },
      "source": [
        "# CS1470/2470 HW1: Single-Layered Neural Networks\n",
        "\n",
        "In this homework assignment, you will build a simple linear model using differential modules.\n",
        "\n",
        "---"
      ]
    },
    {
      "cell_type": "markdown",
      "metadata": {
        "id": "3CLyvlysHCK9"
      },
      "source": [
        "## Starting Our Modular API\n",
        "\n",
        "### **The goal of this assignment is as follows:** \n",
        "- Organize our understanding of deep learning into a modular framework. \n",
        "- Get familiarized with a simple modular API which reflects (but is a simplification of) some of PyTorch's systems. \n",
        "- Implement some nice modular components and be able to construct a functional single-file neural network from it. "
      ]
    },
    {
      "cell_type": "markdown",
      "metadata": {
        "id": "ZFUeG0msHRyo"
      },
      "source": [
        "### Improving The Old Way via Chain Rule\n",
        "\n",
        "Recall that in the machine learning lab, we got the chance to make some simple but effective regression models! Given some realizations $X \\sim \\mathcal{X}$ and $Y = \\mathbb{E}[Y|X] + \\xi$, we were able to train up a model $h_{\\theta} \\in \\mathcal{H}$ which was similar to $\\mathbb{E}[Y|X]$ and thereby minimized an empirical loss $\\mathcal{L}$ of our choice.\n",
        "\n",
        "> As a reminder, $\\mathcal{X}$ is the space of all candidate functions.\n",
        "\n",
        "In these cases, we assumed that $h_{\\theta}$ had a relatively simple and non-flexible architecture, which meant that we could manually specify the structure and simply derive and code up our gradient formula once. Furthermore, since the optimization process was concave, we could even skip the gradient computation and directly derive a loss-minimizing parameter selection. \n",
        "\n",
        "Of course, there are hard limits to what this kind of architecture can provide us; sometimes the relationships that the model needs to capture are relatively complex and might not be resolvable in such a fashion. And that's why this course exists!"
      ]
    },
    {
      "cell_type": "markdown",
      "metadata": {
        "id": "VmnuKJmCHmpg"
      },
      "source": [
        "#### **Problem:** \n",
        "> This is extremely time-consuming and rigid! What happens if we switched out an activation function? A loss function? We'd have to re-specify the gradient every time!\n",
        "\n",
        "#### **Solution:** \n",
        "> Let's take advantage of the chain rule! "
      ]
    },
    {
      "cell_type": "markdown",
      "metadata": {
        "id": "ecdHbe0xHb1o"
      },
      "source": [
        "**Naive Solution:** If we really wanted to, we could approach this problem in the same way as before, and just code up the gradient functions manually. Similarly to before, this would allow us to propagate gradients through, say, a specified loss function, an activation function, and a dense layer. We could also do it for 2 dense layers; just use the old gradient function for the weights in layer 2, compute the new gradient for the weights in layer 1, and so on. "
      ]
    },
    {
      "cell_type": "markdown",
      "metadata": {
        "id": "OTfm_9fmHkhE"
      },
      "source": [
        "Recall that per the chain rule, if there exists a set of differentiable functions $c(b)$ and $b(a)$, then \n",
        "\n",
        "$$\\frac{\\partial a}{\\partial c} = \\frac{\\partial a}{\\partial b} \\frac{\\partial b}{\\partial c}$$\n",
        "\n",
        "Going back to our regression model, let's assume that we have a layered process: \n",
        "\n",
        "$$x \\to h_\\theta(x) \\to \\mathcal{L}(h_\\theta)$$\n",
        "\n",
        "This implies that we can compute the partial of the trainable parameters $\\theta$ through a loss evaluation $\\mathcal{L}$ and a dense layer $h_\\theta(x)$ by the following relationship:\n",
        "\n",
        "$$\\frac{\\partial \\mathcal{L}}{\\partial \\theta} = \\frac{\\partial \\mathcal{h_\\theta}}{\\partial \\theta}\\frac{\\partial \\mathcal{L}}{\\partial h_\\theta}$$\n",
        "\n",
        "With a similar logic, you can also make the assertion that you can also get the partial with respect to the input $x$:\n",
        "\n",
        "$$\\frac{\\partial \\mathcal{L}}{\\partial x} = \\frac{\\partial h_\\theta}{\\partial x}\\frac{\\partial \\mathcal{L}}{\\partial h_\\theta}$$\n",
        "\n",
        "So... by the same token, is there anything stopping us from going further? Let's say that we decided to have another hypothesis function such that $x = h'_{\\theta'}(x')$ for some other hypothesis function and inputs? The new structure would then be: \n",
        "\n",
        "$$x' \\to \\big[ x = h'_{\\theta'}(x') \\big] \\to h_\\theta(x) \\to \\mathcal{L}(h_\\theta)$$\n",
        "\n",
        "Without the chain rule, coding in the facilities to optimize $\\theta'$ might have been tricky, but with the chain rule we know that:\n",
        "\n",
        "$$\\frac{\\partial \\mathcal{L}}{\\partial \\theta'} \n",
        "= \\frac{\\partial x}{\\partial \\theta'}\\frac{\\partial h}{\\partial x}\\frac{\\partial \\mathcal{L}}{\\partial h} \n",
        "= \\frac{\\partial x}{\\partial \\theta'}\\frac{\\partial \\mathcal{L}}{\\partial x}$$"
      ]
    },
    {
      "cell_type": "markdown",
      "metadata": {
        "id": "UUJfaOFpIJbD"
      },
      "source": [
        "Notice how this process is both predictable and scales very well! Say that we wanted to add some activation functions to restrict the range of the hypothesis functions. This trivially inserts into the chain and everything still works and will look something like this: \n",
        "\n",
        "$$ \\frac{\\partial \\mathcal{L}}{\\partial x} = \\frac{\\partial h}{\\partial x}\\frac{\\partial a}{\\partial h}\\frac{\\partial \\mathcal{L}}{\\partial a} \n",
        "\\ \\text{ and } \\ \\frac{\\partial \\mathcal{L}}{\\partial \\theta} = \\frac{\\partial h}{\\partial \\theta}\\frac{\\partial a}{\\partial h}\\frac{\\partial \\mathcal{L}}{\\partial a} \n",
        "$$"
      ]
    },
    {
      "cell_type": "markdown",
      "metadata": {
        "id": "KVyTXT5TIOsz"
      },
      "source": [
        "And with that, we start to approach the reason why this is such a powerful formulation: The cumulative nature of the process. Specifically, consider the process that needs to happen in order to compute this for the extended 2-layer example: \n",
        "\n",
        "$$\n",
        "\\begin{align}\n",
        "\\frac{\\partial a}{\\partial h}\\frac{\\partial \\mathcal{L}}{\\partial a} \n",
        "= \\frac{\\partial \\mathcal{L}}{\\partial h} \n",
        "&\\to \\cdots = \\frac{\\partial \\mathcal{L}}{\\partial x} \n",
        "&\\to \\cdots = \\frac{\\partial \\mathcal{L}}{\\partial a'}\n",
        "&\\to \\cdots = \\frac{\\partial \\mathcal{L}}{\\partial h'} \n",
        "&\\to \\cdots = \\frac{\\partial \\mathcal{L}}{\\partial x'} \n",
        "\\\\\n",
        "&\\searrow \\cdots = \\frac{\\partial \\mathcal{L}}{\\partial \\theta} \n",
        "&&&\\searrow \\cdots = \\frac{\\partial \\mathcal{L}}{\\partial \\theta'} \n",
        "% \\\\\n",
        "% &\\searrow \\cdots = \\frac{\\partial \\mathcal{L}}{\\partial \\theta} \n",
        "% \\to \\cdots = \\frac{\\partial \\mathcal{L}}{\\partial a'} \n",
        "% \\to \\cdots = \\frac{\\partial \\mathcal{L}}{\\partial h'} \n",
        "% &\n",
        "% \\to \\cdots = \\frac{\\partial \\mathcal{L}}{\\partial \\theta'} \n",
        "% \\\\ \n",
        "% &&\n",
        "% \\to \\cdots = \\frac{\\partial \\mathcal{L}}{\\partial x'} \n",
        "\\end{align}\n",
        "$$\n",
        "\n",
        "... and this is the process known as **back-propagation** *(and a special case of **auto-differentiation**)*!"
      ]
    },
    {
      "cell_type": "markdown",
      "metadata": {
        "id": "fdK16iXOVgta"
      },
      "source": [
        "-----"
      ]
    },
    {
      "cell_type": "markdown",
      "metadata": {
        "id": "MhgMs3u_S1OU"
      },
      "source": [
        "## Loading In Our Data"
      ]
    },
    {
      "cell_type": "markdown",
      "metadata": {
        "id": "tV7vjVbTf9Xg"
      },
      "source": [
        "The first thing we have to do is load in our data to use our model with. We'll be working with the [diabetes dataset from the sklearn package](https://scikit-learn.org/stable/datasets/toy_dataset.html#diabetes-dataset). We've already provided the code to load in the input data and the ground truth labels (stored as `X` and `Y` respectively below).\n",
        "\n",
        "**[TODO]:** Split the samples into training and testing sets. We'll train with the train set and reserve the testing set to evaluate the model's performance on samples it hasn't seen.\n",
        "\n",
        "The diabetes dataset has 442 samples. Each sample's input data has 10 data points for some key metrics, like age and cholesterol levels. The \"label\" is a number representing disease progression one year after baseline. Thus, `X` has shape `(442, 10)`, while `Y` has shape `(442,)`.\n",
        "\n",
        "**[TODO]:** Reshape the `Y` subsets to have shape `(num_samples, 1)`."
      ]
    },
    {
      "cell_type": "code",
      "execution_count": 391,
      "metadata": {
        "colab": {
          "base_uri": "https://localhost:8080/"
        },
        "id": "gytrDuxV5gFO",
        "outputId": "25ac15b0-866c-43d8-cff9-ee36934b4551"
      },
      "outputs": [
        {
          "name": "stdout",
          "output_type": "stream",
          "text": [
            "> Input shape: (353, 10) for training, (88, 10) for testing\n",
            "> Label shape: (353, 1) for training, (88, 1) for testing\n"
          ]
        }
      ],
      "source": [
        "import numpy as np\n",
        "from sklearn.datasets import load_diabetes\n",
        "\n",
        "diabetes = load_diabetes()\n",
        "X, Y = diabetes.data, diabetes.target\n",
        "\n",
        "## TODO: Split the data into a 80%-20% training-testing split\n",
        "# skylearn.model_selection.train_test_split(X, Y, test_size = .2) ??\n",
        "## TODO: Reshape the Y subsets to have shape (num_samples, 1)\n",
        "\n",
        "split = int(0.8*len(X)) #finds what 80% of the data is as an int \n",
        "X0, X1, Y0, Y1 = X[:split, :], X[split+1:, :], Y[:split], Y[split+1:] #splits the data and targets into training and testing sections, 80% and 20% respectively\n",
        "Y0 = Y0.reshape(-1, 1) #reshapes the targets of the training data to have a dimension of 1 column (and however many rows necessary to make that happen)\n",
        "Y1 = Y1.reshape(-1,1) #reshapes the targets of the testing data to have a dimension of 1 column (and however many rows necessary to make that happen)\n",
        "\n",
        "\n",
        "print(f\"\"\"\n",
        "> Input shape: {X0.shape} for training, {X1.shape} for testing\n",
        "> Label shape: {Y0.shape} for training, {Y1.shape} for testing\n",
        "\"\"\".strip())"
      ]
    },
    {
      "cell_type": "markdown",
      "metadata": {
        "id": "CIYU_639VgHq"
      },
      "source": [
        "## **Exploring a possible modular implementation: PyTorch**"
      ]
    },
    {
      "cell_type": "markdown",
      "metadata": {
        "id": "YHs57_36jfDL"
      },
      "source": [
        "Next, we'll want to build up a Regression model interface, from which we can implement specific regression model classes, like the LinearRegression class we'll work with later. \n",
        "\n",
        "We subclass the `nn.Module class`, which represents any module (like a layer or model) of a deep learning system."
      ]
    },
    {
      "cell_type": "code",
      "execution_count": 392,
      "metadata": {
        "id": "DG6vkwv5chPg"
      },
      "outputs": [],
      "source": [
        "import torch\n",
        "import torch.nn as nn\n",
        "\n",
        "class Regression(nn.Module):\n",
        "\n",
        "    \"\"\"\n",
        "    Initialize all the inherent \"things\" inside of a model!\n",
        "    This includes things like the layers, activation/loss functions, and optimzer. \n",
        "    \"\"\"\n",
        "    def __init__(self, input_dims, output_dims):\n",
        "        self.device = torch.device(\"cuda:0\" if torch.cuda.is_available() else \"cpu\")        \n",
        "        super().__init__()\n",
        "        self.dense = nn.Linear(input_dims, output_dims).to(self.device)   \n",
        "        self.activation = None  ## To be specified in subclasses \n",
        "        self.loss = None        ## To be specified in subclasses \n",
        "        self.set_learning_rate()\n",
        "\n",
        "    \"\"\"\n",
        "    Sets up the optmizer\n",
        "    \"\"\"\n",
        "    def set_learning_rate(self, learning_rate=0.001):\n",
        "        self.optimizer = torch.optim.SGD(self.parameters(), lr=learning_rate) ## Simple stochastic gradient descent (SGD) optimizer\n",
        "\n",
        "    \"\"\"\n",
        "    Forward pass of the model\n",
        "    Given an input x, how does the model process the input to get its output?\n",
        "    \"\"\"\n",
        "    def forward(self, x):\n",
        "        x = self.dense(x)\n",
        "        x = self.activation(x)\n",
        "        return x\n"
      ]
    },
    {
      "cell_type": "markdown",
      "metadata": {
        "id": "rTzEFlA0TFZB"
      },
      "source": [
        "## Adding a PyTorch Training/Evaluation Routine"
      ]
    },
    {
      "cell_type": "markdown",
      "metadata": {
        "id": "JBSK640PoDWX"
      },
      "source": [
        "Now that we have the basis for a Regression model, we need to describe how to train (`fit`) and evaluate (`evaluate`) our model, given data. \n",
        "Every epoch, we want to fit our model to the training data, and then evaluate our model on the testing data."
      ]
    },
    {
      "cell_type": "code",
      "execution_count": 393,
      "metadata": {
        "id": "aUetVEGtS9k9"
      },
      "outputs": [],
      "source": [
        "class TrainTest:\n",
        "\n",
        "    no_grad = torch.no_grad\n",
        "\n",
        "    def fit(self, data):\n",
        "        ## Training loop\n",
        "        self.train()        ## Set model into training mode\n",
        "        ## Iterate over the data batches\n",
        "        for batch, (inputs, target) in enumerate(data):\n",
        "            ## In real pytorch, you'd need to set the device\n",
        "            inputs = inputs.to(self.device)\n",
        "            target = target.to(self.device)\n",
        "            ## Erase the gradient history\n",
        "            self.optimizer.zero_grad()\n",
        "            ## Do a forward pass on the model\n",
        "            output = self(inputs)\n",
        "            ## Compute the loss\n",
        "            loss = self.loss(output, target)\n",
        "            ## Run backwards pass from the loss through the previous layers\n",
        "            ## This will accumulate gradients for the parameters that need to be optimized\n",
        "            loss.backward()\n",
        "            ## Perform a single optimization step\n",
        "            self.optimizer.step()\n",
        "        return {'loss' : loss}\n",
        "\n",
        "    def evaluate(self, data):\n",
        "        ## Set model into \"evaluate\" mode so that the parameters don't get updated\n",
        "        self.eval()\n",
        "        total_loss = 0\n",
        "        ## Cut off the tensor training scope to make sure weights aren't updated\n",
        "        ## For now, it's torch.no_grad; later, you'll use Tensor.no_grad\n",
        "        with TrainTest.no_grad():\n",
        "            for inputs, target in data:\n",
        "                ## In real pytorch, you'd need to set the device\n",
        "                inputs = inputs.to(self.device)\n",
        "                target = target.to(self.device)\n",
        "                output = self(inputs)\n",
        "                total_loss += self.loss(output, target).item()  # sum up batch loss\n",
        "\n",
        "        total_loss /= len(data)\n",
        "        return {'test_loss' : total_loss}\n",
        "        \n",
        "    def train_test(self, train_data, test_data, epochs=1):\n",
        "        ## Does both training and validation on a per-epoch basis\n",
        "        all_stats = []\n",
        "        for epoch in range(epochs):\n",
        "            train_stats = self.fit(train_data)\n",
        "            test_stats = self.evaluate(test_data)\n",
        "            all_stats += [{**train_stats, **test_stats}]\n",
        "            print(f'[Epoch {epoch+1}/{epochs}]', all_stats[-1])\n",
        "        return all_stats"
      ]
    },
    {
      "cell_type": "markdown",
      "metadata": {
        "id": "YDNhzYnUTNMa"
      },
      "source": [
        "## Making Linear Regression with Train/Test Capabilities"
      ]
    },
    {
      "cell_type": "markdown",
      "metadata": {
        "id": "njv7q2UTTgQE"
      },
      "source": [
        "Next, we implement the `LinearRegression` class, which subclasses both `Regression` and `TrainTest` to inherit useful methods. \n",
        "\n",
        "Consider a dense layer represented by $Y = XA + B$ where: \n",
        "- $X$ has shape `(n,input_dims)`\n",
        "- $A$ has shape `(input_dims,output_dims)`\n",
        "- $B$ has shape `(n,)`\n",
        "- $Y$ has shape `(n, output_dims)`. \n",
        "\n",
        "Let each row of $X, B, Y$ (or the 0$^\\text{th}$ dimension) represent a different sample. Disregarding bias, note how any given row in $Y$ is a set of linear combinations of the same row in $X$. In other words, a Dense Layer is high-dimensional Linear Regression. \n",
        "\n",
        "Once you've built up your model, try training and testing it in the code block below!"
      ]
    },
    {
      "cell_type": "code",
      "execution_count": 394,
      "metadata": {
        "id": "gYU8NKSdTc4W"
      },
      "outputs": [],
      "source": [
        "class LinearRegression(Regression, TrainTest):\n",
        "    def __init__(self, input_dims, output_dims):\n",
        "        super().__init__(input_dims, output_dims)\n",
        "        self.activation = nn.Identity()\n",
        "        self.loss = nn.MSELoss()"
      ]
    },
    {
      "cell_type": "code",
      "execution_count": 395,
      "metadata": {
        "colab": {
          "base_uri": "https://localhost:8080/"
        },
        "id": "FBUaTs3N_hmn",
        "outputId": "3fce3c13-46cf-4ae1-835a-53e3ed3de277"
      },
      "outputs": [
        {
          "name": "stdout",
          "output_type": "stream",
          "text": [
            "[Epoch 1/200] {'loss': tensor(28729.8301, grad_fn=<MseLossBackward0>), 'test_loss': 8860.162109375}\n",
            "[Epoch 2/200] {'loss': tensor(7839.2866, grad_fn=<MseLossBackward0>), 'test_loss': 6714.5751953125}\n",
            "[Epoch 3/200] {'loss': tensor(5935.2456, grad_fn=<MseLossBackward0>), 'test_loss': 6445.861328125}\n",
            "[Epoch 4/200] {'loss': tensor(5740.2466, grad_fn=<MseLossBackward0>), 'test_loss': 6381.4765625}\n",
            "[Epoch 5/200] {'loss': tensor(5699.3335, grad_fn=<MseLossBackward0>), 'test_loss': 6346.26904296875}\n",
            "[Epoch 6/200] {'loss': tensor(5672.5571, grad_fn=<MseLossBackward0>), 'test_loss': 6317.10302734375}\n",
            "[Epoch 7/200] {'loss': tensor(5647.3188, grad_fn=<MseLossBackward0>), 'test_loss': 6289.68798828125}\n",
            "[Epoch 8/200] {'loss': tensor(5622.4814, grad_fn=<MseLossBackward0>), 'test_loss': 6262.9716796875}\n",
            "[Epoch 9/200] {'loss': tensor(5597.9399, grad_fn=<MseLossBackward0>), 'test_loss': 6236.662109375}\n",
            "[Epoch 10/200] {'loss': tensor(5573.6812, grad_fn=<MseLossBackward0>), 'test_loss': 6210.66845703125}\n",
            "[Epoch 11/200] {'loss': tensor(5549.7002, grad_fn=<MseLossBackward0>), 'test_loss': 6184.96240234375}\n",
            "[Epoch 12/200] {'loss': tensor(5525.9951, grad_fn=<MseLossBackward0>), 'test_loss': 6159.533203125}\n",
            "[Epoch 13/200] {'loss': tensor(5502.5601, grad_fn=<MseLossBackward0>), 'test_loss': 6134.375}\n",
            "[Epoch 14/200] {'loss': tensor(5479.3940, grad_fn=<MseLossBackward0>), 'test_loss': 6109.484375}\n",
            "[Epoch 15/200] {'loss': tensor(5456.4922, grad_fn=<MseLossBackward0>), 'test_loss': 6084.857421875}\n",
            "[Epoch 16/200] {'loss': tensor(5433.8525, grad_fn=<MseLossBackward0>), 'test_loss': 6060.49169921875}\n",
            "[Epoch 17/200] {'loss': tensor(5411.4697, grad_fn=<MseLossBackward0>), 'test_loss': 6036.38232421875}\n",
            "[Epoch 18/200] {'loss': tensor(5389.3423, grad_fn=<MseLossBackward0>), 'test_loss': 6012.52783203125}\n",
            "[Epoch 19/200] {'loss': tensor(5367.4663, grad_fn=<MseLossBackward0>), 'test_loss': 5988.9248046875}\n",
            "[Epoch 20/200] {'loss': tensor(5345.8394, grad_fn=<MseLossBackward0>), 'test_loss': 5965.56982421875}\n",
            "[Epoch 21/200] {'loss': tensor(5324.4580, grad_fn=<MseLossBackward0>), 'test_loss': 5942.46044921875}\n",
            "[Epoch 22/200] {'loss': tensor(5303.3179, grad_fn=<MseLossBackward0>), 'test_loss': 5919.59326171875}\n",
            "[Epoch 23/200] {'loss': tensor(5282.4180, grad_fn=<MseLossBackward0>), 'test_loss': 5896.9658203125}\n",
            "[Epoch 24/200] {'loss': tensor(5261.7549, grad_fn=<MseLossBackward0>), 'test_loss': 5874.57470703125}\n",
            "[Epoch 25/200] {'loss': tensor(5241.3252, grad_fn=<MseLossBackward0>), 'test_loss': 5852.41748046875}\n",
            "[Epoch 26/200] {'loss': tensor(5221.1255, grad_fn=<MseLossBackward0>), 'test_loss': 5830.4912109375}\n",
            "[Epoch 27/200] {'loss': tensor(5201.1543, grad_fn=<MseLossBackward0>), 'test_loss': 5808.79248046875}\n",
            "[Epoch 28/200] {'loss': tensor(5181.4072, grad_fn=<MseLossBackward0>), 'test_loss': 5787.32080078125}\n",
            "[Epoch 29/200] {'loss': tensor(5161.8828, grad_fn=<MseLossBackward0>), 'test_loss': 5766.07177734375}\n",
            "[Epoch 30/200] {'loss': tensor(5142.5771, grad_fn=<MseLossBackward0>), 'test_loss': 5745.04248046875}\n",
            "[Epoch 31/200] {'loss': tensor(5123.4888, grad_fn=<MseLossBackward0>), 'test_loss': 5724.22998046875}\n",
            "[Epoch 32/200] {'loss': tensor(5104.6143, grad_fn=<MseLossBackward0>), 'test_loss': 5703.63330078125}\n",
            "[Epoch 33/200] {'loss': tensor(5085.9502, grad_fn=<MseLossBackward0>), 'test_loss': 5683.24853515625}\n",
            "[Epoch 34/200] {'loss': tensor(5067.4951, grad_fn=<MseLossBackward0>), 'test_loss': 5663.07421875}\n",
            "[Epoch 35/200] {'loss': tensor(5049.2466, grad_fn=<MseLossBackward0>), 'test_loss': 5643.107421875}\n",
            "[Epoch 36/200] {'loss': tensor(5031.2017, grad_fn=<MseLossBackward0>), 'test_loss': 5623.3447265625}\n",
            "[Epoch 37/200] {'loss': tensor(5013.3574, grad_fn=<MseLossBackward0>), 'test_loss': 5603.78564453125}\n",
            "[Epoch 38/200] {'loss': tensor(4995.7119, grad_fn=<MseLossBackward0>), 'test_loss': 5584.42626953125}\n",
            "[Epoch 39/200] {'loss': tensor(4978.2622, grad_fn=<MseLossBackward0>), 'test_loss': 5565.26416015625}\n",
            "[Epoch 40/200] {'loss': tensor(4961.0063, grad_fn=<MseLossBackward0>), 'test_loss': 5546.29736328125}\n",
            "[Epoch 41/200] {'loss': tensor(4943.9419, grad_fn=<MseLossBackward0>), 'test_loss': 5527.52392578125}\n",
            "[Epoch 42/200] {'loss': tensor(4927.0654, grad_fn=<MseLossBackward0>), 'test_loss': 5508.94189453125}\n",
            "[Epoch 43/200] {'loss': tensor(4910.3760, grad_fn=<MseLossBackward0>), 'test_loss': 5490.54736328125}\n",
            "[Epoch 44/200] {'loss': tensor(4893.8711, grad_fn=<MseLossBackward0>), 'test_loss': 5472.33935546875}\n",
            "[Epoch 45/200] {'loss': tensor(4877.5483, grad_fn=<MseLossBackward0>), 'test_loss': 5454.31591796875}\n",
            "[Epoch 46/200] {'loss': tensor(4861.4048, grad_fn=<MseLossBackward0>), 'test_loss': 5436.47509765625}\n",
            "[Epoch 47/200] {'loss': tensor(4845.4390, grad_fn=<MseLossBackward0>), 'test_loss': 5418.81298828125}\n",
            "[Epoch 48/200] {'loss': tensor(4829.6479, grad_fn=<MseLossBackward0>), 'test_loss': 5401.32861328125}\n",
            "[Epoch 49/200] {'loss': tensor(4814.0308, grad_fn=<MseLossBackward0>), 'test_loss': 5384.02001953125}\n",
            "[Epoch 50/200] {'loss': tensor(4798.5845, grad_fn=<MseLossBackward0>), 'test_loss': 5366.88525390625}\n",
            "[Epoch 51/200] {'loss': tensor(4783.3071, grad_fn=<MseLossBackward0>), 'test_loss': 5349.92138671875}\n",
            "[Epoch 52/200] {'loss': tensor(4768.1963, grad_fn=<MseLossBackward0>), 'test_loss': 5333.126953125}\n",
            "[Epoch 53/200] {'loss': tensor(4753.2505, grad_fn=<MseLossBackward0>), 'test_loss': 5316.50048828125}\n",
            "[Epoch 54/200] {'loss': tensor(4738.4678, grad_fn=<MseLossBackward0>), 'test_loss': 5300.03955078125}\n",
            "[Epoch 55/200] {'loss': tensor(4723.8457, grad_fn=<MseLossBackward0>), 'test_loss': 5283.74267578125}\n",
            "[Epoch 56/200] {'loss': tensor(4709.3818, grad_fn=<MseLossBackward0>), 'test_loss': 5267.6064453125}\n",
            "[Epoch 57/200] {'loss': tensor(4695.0752, grad_fn=<MseLossBackward0>), 'test_loss': 5251.6298828125}\n",
            "[Epoch 58/200] {'loss': tensor(4680.9233, grad_fn=<MseLossBackward0>), 'test_loss': 5235.81201171875}\n",
            "[Epoch 59/200] {'loss': tensor(4666.9243, grad_fn=<MseLossBackward0>), 'test_loss': 5220.150390625}\n",
            "[Epoch 60/200] {'loss': tensor(4653.0767, grad_fn=<MseLossBackward0>), 'test_loss': 5204.64208984375}\n",
            "[Epoch 61/200] {'loss': tensor(4639.3784, grad_fn=<MseLossBackward0>), 'test_loss': 5189.28662109375}\n",
            "[Epoch 62/200] {'loss': tensor(4625.8276, grad_fn=<MseLossBackward0>), 'test_loss': 5174.08203125}\n",
            "[Epoch 63/200] {'loss': tensor(4612.4219, grad_fn=<MseLossBackward0>), 'test_loss': 5159.02587890625}\n",
            "[Epoch 64/200] {'loss': tensor(4599.1606, grad_fn=<MseLossBackward0>), 'test_loss': 5144.1171875}\n",
            "[Epoch 65/200] {'loss': tensor(4586.0405, grad_fn=<MseLossBackward0>), 'test_loss': 5129.3544921875}\n",
            "[Epoch 66/200] {'loss': tensor(4573.0620, grad_fn=<MseLossBackward0>), 'test_loss': 5114.734375}\n",
            "[Epoch 67/200] {'loss': tensor(4560.2217, grad_fn=<MseLossBackward0>), 'test_loss': 5100.2578125}\n",
            "[Epoch 68/200] {'loss': tensor(4547.5186, grad_fn=<MseLossBackward0>), 'test_loss': 5085.92041015625}\n",
            "[Epoch 69/200] {'loss': tensor(4534.9502, grad_fn=<MseLossBackward0>), 'test_loss': 5071.72216796875}\n",
            "[Epoch 70/200] {'loss': tensor(4522.5161, grad_fn=<MseLossBackward0>), 'test_loss': 5057.6611328125}\n",
            "[Epoch 71/200] {'loss': tensor(4510.2134, grad_fn=<MseLossBackward0>), 'test_loss': 5043.73681640625}\n",
            "[Epoch 72/200] {'loss': tensor(4498.0410, grad_fn=<MseLossBackward0>), 'test_loss': 5029.94580078125}\n",
            "[Epoch 73/200] {'loss': tensor(4485.9980, grad_fn=<MseLossBackward0>), 'test_loss': 5016.28662109375}\n",
            "[Epoch 74/200] {'loss': tensor(4474.0815, grad_fn=<MseLossBackward0>), 'test_loss': 5002.7587890625}\n",
            "[Epoch 75/200] {'loss': tensor(4462.2910, grad_fn=<MseLossBackward0>), 'test_loss': 4989.36083984375}\n",
            "[Epoch 76/200] {'loss': tensor(4450.6245, grad_fn=<MseLossBackward0>), 'test_loss': 4976.09033203125}\n",
            "[Epoch 77/200] {'loss': tensor(4439.0815, grad_fn=<MseLossBackward0>), 'test_loss': 4962.94677734375}\n",
            "[Epoch 78/200] {'loss': tensor(4427.6587, grad_fn=<MseLossBackward0>), 'test_loss': 4949.92822265625}\n",
            "[Epoch 79/200] {'loss': tensor(4416.3564, grad_fn=<MseLossBackward0>), 'test_loss': 4937.03271484375}\n",
            "[Epoch 80/200] {'loss': tensor(4405.1719, grad_fn=<MseLossBackward0>), 'test_loss': 4924.26025390625}\n",
            "[Epoch 81/200] {'loss': tensor(4394.1035, grad_fn=<MseLossBackward0>), 'test_loss': 4911.60791015625}\n",
            "[Epoch 82/200] {'loss': tensor(4383.1514, grad_fn=<MseLossBackward0>), 'test_loss': 4899.07470703125}\n",
            "[Epoch 83/200] {'loss': tensor(4372.3125, grad_fn=<MseLossBackward0>), 'test_loss': 4886.66015625}\n",
            "[Epoch 84/200] {'loss': tensor(4361.5864, grad_fn=<MseLossBackward0>), 'test_loss': 4874.36181640625}\n",
            "[Epoch 85/200] {'loss': tensor(4350.9717, grad_fn=<MseLossBackward0>), 'test_loss': 4862.1796875}\n",
            "[Epoch 86/200] {'loss': tensor(4340.4673, grad_fn=<MseLossBackward0>), 'test_loss': 4850.11083984375}\n",
            "[Epoch 87/200] {'loss': tensor(4330.0708, grad_fn=<MseLossBackward0>), 'test_loss': 4838.15478515625}\n",
            "[Epoch 88/200] {'loss': tensor(4319.7812, grad_fn=<MseLossBackward0>), 'test_loss': 4826.310546875}\n",
            "[Epoch 89/200] {'loss': tensor(4309.5986, grad_fn=<MseLossBackward0>), 'test_loss': 4814.576171875}\n",
            "[Epoch 90/200] {'loss': tensor(4299.5200, grad_fn=<MseLossBackward0>), 'test_loss': 4802.95068359375}\n",
            "[Epoch 91/200] {'loss': tensor(4289.5444, grad_fn=<MseLossBackward0>), 'test_loss': 4791.4326171875}\n",
            "[Epoch 92/200] {'loss': tensor(4279.6719, grad_fn=<MseLossBackward0>), 'test_loss': 4780.02099609375}\n",
            "[Epoch 93/200] {'loss': tensor(4269.8994, grad_fn=<MseLossBackward0>), 'test_loss': 4768.71484375}\n",
            "[Epoch 94/200] {'loss': tensor(4260.2271, grad_fn=<MseLossBackward0>), 'test_loss': 4757.51220703125}\n",
            "[Epoch 95/200] {'loss': tensor(4250.6538, grad_fn=<MseLossBackward0>), 'test_loss': 4746.41357421875}\n",
            "[Epoch 96/200] {'loss': tensor(4241.1772, grad_fn=<MseLossBackward0>), 'test_loss': 4735.41650390625}\n",
            "[Epoch 97/200] {'loss': tensor(4231.7969, grad_fn=<MseLossBackward0>), 'test_loss': 4724.51953125}\n",
            "[Epoch 98/200] {'loss': tensor(4222.5112, grad_fn=<MseLossBackward0>), 'test_loss': 4713.7216796875}\n",
            "[Epoch 99/200] {'loss': tensor(4213.3193, grad_fn=<MseLossBackward0>), 'test_loss': 4703.02294921875}\n",
            "[Epoch 100/200] {'loss': tensor(4204.2212, grad_fn=<MseLossBackward0>), 'test_loss': 4692.419921875}\n",
            "[Epoch 101/200] {'loss': tensor(4195.2134, grad_fn=<MseLossBackward0>), 'test_loss': 4681.91455078125}\n",
            "[Epoch 102/200] {'loss': tensor(4186.2969, grad_fn=<MseLossBackward0>), 'test_loss': 4671.50341796875}\n",
            "[Epoch 103/200] {'loss': tensor(4177.4692, grad_fn=<MseLossBackward0>), 'test_loss': 4661.1865234375}\n",
            "[Epoch 104/200] {'loss': tensor(4168.7300, grad_fn=<MseLossBackward0>), 'test_loss': 4650.962890625}\n",
            "[Epoch 105/200] {'loss': tensor(4160.0781, grad_fn=<MseLossBackward0>), 'test_loss': 4640.830078125}\n",
            "[Epoch 106/200] {'loss': tensor(4151.5137, grad_fn=<MseLossBackward0>), 'test_loss': 4630.78857421875}\n",
            "[Epoch 107/200] {'loss': tensor(4143.0327, grad_fn=<MseLossBackward0>), 'test_loss': 4620.83642578125}\n",
            "[Epoch 108/200] {'loss': tensor(4134.6367, grad_fn=<MseLossBackward0>), 'test_loss': 4610.9736328125}\n",
            "[Epoch 109/200] {'loss': tensor(4126.3242, grad_fn=<MseLossBackward0>), 'test_loss': 4601.19873046875}\n",
            "[Epoch 110/200] {'loss': tensor(4118.0933, grad_fn=<MseLossBackward0>), 'test_loss': 4591.5107421875}\n",
            "[Epoch 111/200] {'loss': tensor(4109.9434, grad_fn=<MseLossBackward0>), 'test_loss': 4581.908203125}\n",
            "[Epoch 112/200] {'loss': tensor(4101.8745, grad_fn=<MseLossBackward0>), 'test_loss': 4572.39013671875}\n",
            "[Epoch 113/200] {'loss': tensor(4093.8845, grad_fn=<MseLossBackward0>), 'test_loss': 4562.95751953125}\n",
            "[Epoch 114/200] {'loss': tensor(4085.9734, grad_fn=<MseLossBackward0>), 'test_loss': 4553.6064453125}\n",
            "[Epoch 115/200] {'loss': tensor(4078.1392, grad_fn=<MseLossBackward0>), 'test_loss': 4544.3369140625}\n",
            "[Epoch 116/200] {'loss': tensor(4070.3813, grad_fn=<MseLossBackward0>), 'test_loss': 4535.150390625}\n",
            "[Epoch 117/200] {'loss': tensor(4062.6995, grad_fn=<MseLossBackward0>), 'test_loss': 4526.04296875}\n",
            "[Epoch 118/200] {'loss': tensor(4055.0920, grad_fn=<MseLossBackward0>), 'test_loss': 4517.01513671875}\n",
            "[Epoch 119/200] {'loss': tensor(4047.5588, grad_fn=<MseLossBackward0>), 'test_loss': 4508.06640625}\n",
            "[Epoch 120/200] {'loss': tensor(4040.0981, grad_fn=<MseLossBackward0>), 'test_loss': 4499.1953125}\n",
            "[Epoch 121/200] {'loss': tensor(4032.7092, grad_fn=<MseLossBackward0>), 'test_loss': 4490.400390625}\n",
            "[Epoch 122/200] {'loss': tensor(4025.3928, grad_fn=<MseLossBackward0>), 'test_loss': 4481.681640625}\n",
            "[Epoch 123/200] {'loss': tensor(4018.1453, grad_fn=<MseLossBackward0>), 'test_loss': 4473.0380859375}\n",
            "[Epoch 124/200] {'loss': tensor(4010.9680, grad_fn=<MseLossBackward0>), 'test_loss': 4464.46826171875}\n",
            "[Epoch 125/200] {'loss': tensor(4003.8599, grad_fn=<MseLossBackward0>), 'test_loss': 4455.97216796875}\n",
            "[Epoch 126/200] {'loss': tensor(3996.8186, grad_fn=<MseLossBackward0>), 'test_loss': 4447.5498046875}\n",
            "[Epoch 127/200] {'loss': tensor(3989.8450, grad_fn=<MseLossBackward0>), 'test_loss': 4439.19775390625}\n",
            "[Epoch 128/200] {'loss': tensor(3982.9377, grad_fn=<MseLossBackward0>), 'test_loss': 4430.91796875}\n",
            "[Epoch 129/200] {'loss': tensor(3976.0964, grad_fn=<MseLossBackward0>), 'test_loss': 4422.70751953125}\n",
            "[Epoch 130/200] {'loss': tensor(3969.3193, grad_fn=<MseLossBackward0>), 'test_loss': 4414.5673828125}\n",
            "[Epoch 131/200] {'loss': tensor(3962.6069, grad_fn=<MseLossBackward0>), 'test_loss': 4406.49560546875}\n",
            "[Epoch 132/200] {'loss': tensor(3955.9570, grad_fn=<MseLossBackward0>), 'test_loss': 4398.4921875}\n",
            "[Epoch 133/200] {'loss': tensor(3949.3701, grad_fn=<MseLossBackward0>), 'test_loss': 4390.55517578125}\n",
            "[Epoch 134/200] {'loss': tensor(3942.8445, grad_fn=<MseLossBackward0>), 'test_loss': 4382.685546875}\n",
            "[Epoch 135/200] {'loss': tensor(3936.3806, grad_fn=<MseLossBackward0>), 'test_loss': 4374.88232421875}\n",
            "[Epoch 136/200] {'loss': tensor(3929.9771, grad_fn=<MseLossBackward0>), 'test_loss': 4367.14306640625}\n",
            "[Epoch 137/200] {'loss': tensor(3923.6323, grad_fn=<MseLossBackward0>), 'test_loss': 4359.46875}\n",
            "[Epoch 138/200] {'loss': tensor(3917.3477, grad_fn=<MseLossBackward0>), 'test_loss': 4351.85791015625}\n",
            "[Epoch 139/200] {'loss': tensor(3911.1201, grad_fn=<MseLossBackward0>), 'test_loss': 4344.31005859375}\n",
            "[Epoch 140/200] {'loss': tensor(3904.9507, grad_fn=<MseLossBackward0>), 'test_loss': 4336.8251953125}\n",
            "[Epoch 141/200] {'loss': tensor(3898.8386, grad_fn=<MseLossBackward0>), 'test_loss': 4329.4013671875}\n",
            "[Epoch 142/200] {'loss': tensor(3892.7825, grad_fn=<MseLossBackward0>), 'test_loss': 4322.0390625}\n",
            "[Epoch 143/200] {'loss': tensor(3886.7820, grad_fn=<MseLossBackward0>), 'test_loss': 4314.736328125}\n",
            "[Epoch 144/200] {'loss': tensor(3880.8359, grad_fn=<MseLossBackward0>), 'test_loss': 4307.49462890625}\n",
            "[Epoch 145/200] {'loss': tensor(3874.9443, grad_fn=<MseLossBackward0>), 'test_loss': 4300.310546875}\n",
            "[Epoch 146/200] {'loss': tensor(3869.1072, grad_fn=<MseLossBackward0>), 'test_loss': 4293.18603515625}\n",
            "[Epoch 147/200] {'loss': tensor(3863.3230, grad_fn=<MseLossBackward0>), 'test_loss': 4286.11865234375}\n",
            "[Epoch 148/200] {'loss': tensor(3857.5903, grad_fn=<MseLossBackward0>), 'test_loss': 4279.10888671875}\n",
            "[Epoch 149/200] {'loss': tensor(3851.9106, grad_fn=<MseLossBackward0>), 'test_loss': 4272.15576171875}\n",
            "[Epoch 150/200] {'loss': tensor(3846.2815, grad_fn=<MseLossBackward0>), 'test_loss': 4265.2578125}\n",
            "[Epoch 151/200] {'loss': tensor(3840.7034, grad_fn=<MseLossBackward0>), 'test_loss': 4258.41650390625}\n",
            "[Epoch 152/200] {'loss': tensor(3835.1746, grad_fn=<MseLossBackward0>), 'test_loss': 4251.62939453125}\n",
            "[Epoch 153/200] {'loss': tensor(3829.6965, grad_fn=<MseLossBackward0>), 'test_loss': 4244.896484375}\n",
            "[Epoch 154/200] {'loss': tensor(3824.2666, grad_fn=<MseLossBackward0>), 'test_loss': 4238.216796875}\n",
            "[Epoch 155/200] {'loss': tensor(3818.8853, grad_fn=<MseLossBackward0>), 'test_loss': 4231.5908203125}\n",
            "[Epoch 156/200] {'loss': tensor(3813.5513, grad_fn=<MseLossBackward0>), 'test_loss': 4225.01708984375}\n",
            "[Epoch 157/200] {'loss': tensor(3808.2651, grad_fn=<MseLossBackward0>), 'test_loss': 4218.49560546875}\n",
            "[Epoch 158/200] {'loss': tensor(3803.0251, grad_fn=<MseLossBackward0>), 'test_loss': 4212.02490234375}\n",
            "[Epoch 159/200] {'loss': tensor(3797.8320, grad_fn=<MseLossBackward0>), 'test_loss': 4205.60595703125}\n",
            "[Epoch 160/200] {'loss': tensor(3792.6846, grad_fn=<MseLossBackward0>), 'test_loss': 4199.2373046875}\n",
            "[Epoch 161/200] {'loss': tensor(3787.5818, grad_fn=<MseLossBackward0>), 'test_loss': 4192.91748046875}\n",
            "[Epoch 162/200] {'loss': tensor(3782.5237, grad_fn=<MseLossBackward0>), 'test_loss': 4186.64794921875}\n",
            "[Epoch 163/200] {'loss': tensor(3777.5095, grad_fn=<MseLossBackward0>), 'test_loss': 4180.4267578125}\n",
            "[Epoch 164/200] {'loss': tensor(3772.5396, grad_fn=<MseLossBackward0>), 'test_loss': 4174.25439453125}\n",
            "[Epoch 165/200] {'loss': tensor(3767.6125, grad_fn=<MseLossBackward0>), 'test_loss': 4168.12939453125}\n",
            "[Epoch 166/200] {'loss': tensor(3762.7280, grad_fn=<MseLossBackward0>), 'test_loss': 4162.05126953125}\n",
            "[Epoch 167/200] {'loss': tensor(3757.8853, grad_fn=<MseLossBackward0>), 'test_loss': 4156.02099609375}\n",
            "[Epoch 168/200] {'loss': tensor(3753.0854, grad_fn=<MseLossBackward0>), 'test_loss': 4150.03662109375}\n",
            "[Epoch 169/200] {'loss': tensor(3748.3254, grad_fn=<MseLossBackward0>), 'test_loss': 4144.09716796875}\n",
            "[Epoch 170/200] {'loss': tensor(3743.6069, grad_fn=<MseLossBackward0>), 'test_loss': 4138.20361328125}\n",
            "[Epoch 171/200] {'loss': tensor(3738.9285, grad_fn=<MseLossBackward0>), 'test_loss': 4132.35546875}\n",
            "[Epoch 172/200] {'loss': tensor(3734.2900, grad_fn=<MseLossBackward0>), 'test_loss': 4126.5517578125}\n",
            "[Epoch 173/200] {'loss': tensor(3729.6909, grad_fn=<MseLossBackward0>), 'test_loss': 4120.791015625}\n",
            "[Epoch 174/200] {'loss': tensor(3725.1304, grad_fn=<MseLossBackward0>), 'test_loss': 4115.07470703125}\n",
            "[Epoch 175/200] {'loss': tensor(3720.6084, grad_fn=<MseLossBackward0>), 'test_loss': 4109.4013671875}\n",
            "[Epoch 176/200] {'loss': tensor(3716.1250, grad_fn=<MseLossBackward0>), 'test_loss': 4103.7705078125}\n",
            "[Epoch 177/200] {'loss': tensor(3711.6787, grad_fn=<MseLossBackward0>), 'test_loss': 4098.18115234375}\n",
            "[Epoch 178/200] {'loss': tensor(3707.2695, grad_fn=<MseLossBackward0>), 'test_loss': 4092.634521484375}\n",
            "[Epoch 179/200] {'loss': tensor(3702.8977, grad_fn=<MseLossBackward0>), 'test_loss': 4087.12890625}\n",
            "[Epoch 180/200] {'loss': tensor(3698.5615, grad_fn=<MseLossBackward0>), 'test_loss': 4081.664306640625}\n",
            "[Epoch 181/200] {'loss': tensor(3694.2620, grad_fn=<MseLossBackward0>), 'test_loss': 4076.240478515625}\n",
            "[Epoch 182/200] {'loss': tensor(3689.9983, grad_fn=<MseLossBackward0>), 'test_loss': 4070.855712890625}\n",
            "[Epoch 183/200] {'loss': tensor(3685.7688, grad_fn=<MseLossBackward0>), 'test_loss': 4065.51171875}\n",
            "[Epoch 184/200] {'loss': tensor(3681.5745, grad_fn=<MseLossBackward0>), 'test_loss': 4060.206787109375}\n",
            "[Epoch 185/200] {'loss': tensor(3677.4146, grad_fn=<MseLossBackward0>), 'test_loss': 4054.9404296875}\n",
            "[Epoch 186/200] {'loss': tensor(3673.2891, grad_fn=<MseLossBackward0>), 'test_loss': 4049.712646484375}\n",
            "[Epoch 187/200] {'loss': tensor(3669.1968, grad_fn=<MseLossBackward0>), 'test_loss': 4044.523193359375}\n",
            "[Epoch 188/200] {'loss': tensor(3665.1377, grad_fn=<MseLossBackward0>), 'test_loss': 4039.37109375}\n",
            "[Epoch 189/200] {'loss': tensor(3661.1116, grad_fn=<MseLossBackward0>), 'test_loss': 4034.25634765625}\n",
            "[Epoch 190/200] {'loss': tensor(3657.1182, grad_fn=<MseLossBackward0>), 'test_loss': 4029.1787109375}\n",
            "[Epoch 191/200] {'loss': tensor(3653.1572, grad_fn=<MseLossBackward0>), 'test_loss': 4024.1376953125}\n",
            "[Epoch 192/200] {'loss': tensor(3649.2278, grad_fn=<MseLossBackward0>), 'test_loss': 4019.133056640625}\n",
            "[Epoch 193/200] {'loss': tensor(3645.3296, grad_fn=<MseLossBackward0>), 'test_loss': 4014.164306640625}\n",
            "[Epoch 194/200] {'loss': tensor(3641.4629, grad_fn=<MseLossBackward0>), 'test_loss': 4009.231201171875}\n",
            "[Epoch 195/200] {'loss': tensor(3637.6272, grad_fn=<MseLossBackward0>), 'test_loss': 4004.332763671875}\n",
            "[Epoch 196/200] {'loss': tensor(3633.8215, grad_fn=<MseLossBackward0>), 'test_loss': 3999.4697265625}\n",
            "[Epoch 197/200] {'loss': tensor(3630.0457, grad_fn=<MseLossBackward0>), 'test_loss': 3994.640625}\n",
            "[Epoch 198/200] {'loss': tensor(3626.3003, grad_fn=<MseLossBackward0>), 'test_loss': 3989.845947265625}\n",
            "[Epoch 199/200] {'loss': tensor(3622.5840, grad_fn=<MseLossBackward0>), 'test_loss': 3985.085205078125}\n",
            "[Epoch 200/200] {'loss': tensor(3618.8970, grad_fn=<MseLossBackward0>), 'test_loss': 3980.357666015625}\n"
          ]
        }
      ],
      "source": [
        "torch_model = LinearRegression(X0.shape[-1], 1)\n",
        "torch_model.set_learning_rate(0.35)\n",
        "torch_model.train_test(\n",
        "    [[torch.Tensor(X0), torch.Tensor(Y0)]], \n",
        "    [[torch.Tensor(X1), torch.Tensor(Y1)]],\n",
        "    epochs=200\n",
        ");"
      ]
    },
    {
      "cell_type": "markdown",
      "metadata": {
        "id": "H63TERfyvZtS"
      },
      "source": [
        "## Shapes That Might Be Useful..."
      ]
    },
    {
      "cell_type": "markdown",
      "metadata": {
        "id": "LtwbP5tRbJky"
      },
      "source": [
        "Throughout the duration of this course, you might find it really helpful to check the shapes of each of your different tensors and outputs just to verify that everything is working as intended. Check the block below to see an example!"
      ]
    },
    {
      "cell_type": "code",
      "execution_count": 396,
      "metadata": {
        "colab": {
          "base_uri": "https://localhost:8080/"
        },
        "id": "MBkTktWcD9dz",
        "outputId": "b3ec3eb7-fbc0-4337-8ad3-1e20e1d3aa62"
      },
      "outputs": [
        {
          "name": "stdout",
          "output_type": "stream",
          "text": [
            "> Prediction Shape: torch.Size([353, 1])\n",
            "> Weights    Shape: torch.Size([1, 10])\n",
            "> Bias       Shape: torch.Size([1])\n",
            "> Loss       Shape: torch.Size([])\n"
          ]
        }
      ],
      "source": [
        "y_true = torch.Tensor(Y0)\n",
        "y_pred = torch_model(torch.Tensor(X0))\n",
        "loss = torch_model.loss(y_true, y_pred)\n",
        "\n",
        "print(f\"\"\"\n",
        "> Prediction Shape: {y_pred.shape}\n",
        "> Weights    Shape: {list(torch_model.parameters())[0].shape}\n",
        "> Bias       Shape: {list(torch_model.parameters())[1].shape}\n",
        "> Loss       Shape: {loss.shape}\n",
        "\"\"\".strip())"
      ]
    },
    {
      "cell_type": "markdown",
      "metadata": {
        "id": "cu1pLK46fFqX"
      },
      "source": [
        "Next, let's start building up all the different parts of the basic PyTorch tools that we used in order to see what's under the hood."
      ]
    },
    {
      "cell_type": "markdown",
      "metadata": {
        "id": "0ZfozqWdLB2V"
      },
      "source": [
        "## PyTorch Complexity Assumptions"
      ]
    },
    {
      "cell_type": "markdown",
      "metadata": {
        "id": "oVv6iQios7-D"
      },
      "source": [
        "### Tensors\n",
        "- Tensors are responsible for maintaining their own gradients\n",
        "- Tensors hold on to `backward` functions to which they can pass a gradient into. These backwards functions are provided by the layers associated with those tensors. \n",
        "    - If a tensor is a terminal node, it will pass in an upstream gradient of `None`.\n",
        "    - If a tensor is a non-terminal node, it will pass the accumulated upstream gradient. \n",
        "    - `backward` functions as a linked list algorithm and crawls back the chain, computing the gradient for every tensor that it hits (as long as they require a gradient).\n",
        "- Since the tensors hold their own gradients, the optimizer can merely take the tensors' values, take their gradients, and then just optimize them.\n",
        "- However, because tensors are always keeping track of their gradients when `requires_grad` is set to `True`, we also want to add a way to stop tracking gradients.\n",
        "    - For instance, while evaluating the performance of our model, we want to make sure that the model doesn't learn anything from this evaluation phase.\n",
        "    - We can use the `no_grad` subclass to automatically handle the flipping of this `requires_grad` value. \n",
        "        - Every time we enter a `with Tensor.no_grad():` block, the code within `no_grad`'s `__enter__()` method will execute. \n",
        "        - Once we exit the same `with Tensor.no_grad():` block, `no_grad`'s `__exit()__` method will run."
      ]
    },
    {
      "cell_type": "code",
      "execution_count": 397,
      "metadata": {
        "id": "5ZbMLm30y3tD"
      },
      "outputs": [],
      "source": [
        "class Tensor(np.ndarray):\n",
        "\n",
        "    '''\n",
        "    Subclassing numpy arrays is a bit weird:\n",
        "    https://numpy.org/doc/stable/user/basics.subclassing.html\n",
        "\n",
        "    Just assume that the attributes referred to in __new__/__array_finalize__ \n",
        "    will be accessible in a Tensor when a new Tensor object is created.  \n",
        "    '''\n",
        "\n",
        "    requires_grad = True  ## Class variable; accessible by Tensor.requires_grad\n",
        "\n",
        "    def __new__(cls, input_array):\n",
        "        obj = np.asarray(input_array).view(cls)\n",
        "        obj.backward = lambda x: None   ## Backward starts as None, gets assigned later\n",
        "        obj.grad = None                 ## Gradient starts as None, gets computed later\n",
        "        obj.requires_grad = True        ## By default, we'll want to compute gradient for new tensors\n",
        "        obj.to = lambda x: obj          ## We don't handle special device support (i.e. cpu vs gpu/cuda)\n",
        "        return obj\n",
        "\n",
        "    def __array_finalize__(self, obj):\n",
        "        if obj is None: return\n",
        "        self.backward       = getattr(obj, 'backward',      lambda x: None)\n",
        "        self.to             = getattr(obj, 'to',            lambda x: obj)\n",
        "        self.grad           = getattr(obj, 'grad',          None)\n",
        "        self.requires_grad  = getattr(obj, 'requires_grad', None)\n",
        "\n",
        "    class no_grad():\n",
        "\n",
        "        '''\n",
        "        Synergizes with Tensor: By entering the tensor with no_grad scope, \n",
        "        the Tensor.requires_grad singleton will swap to False. \n",
        "        '''\n",
        "        \n",
        "        def __enter__(self):\n",
        "            # When tape scope is entered, stop asking tensors to record gradients\n",
        "            Tensor.requires_grad = False\n",
        "            return self\n",
        "\n",
        "        def __exit__(self, exc_type, exc_val, exc_tb):\n",
        "            # When tape scope is exited, let Diffable start recording to self.operation\n",
        "            Tensor.requires_grad = True"
      ]
    },
    {
      "cell_type": "markdown",
      "metadata": {
        "id": "ovL7L6STvXCU"
      },
      "source": [
        "### Diffable\n",
        "\n",
        "Let's specify a \"Diffable\" object which will represent a module that can be differentiated. This class will make the following assumptions: \n",
        "- Gradients will need to flow through the input pathways in order to compute earlier gradients. \n",
        "    - Therefore, inputs will need an appropriate \"backward\"\n",
        "- Parameters will need to recieve gradients.\n",
        "- More specifically, if a `Diffable` object performs an operation on some input, then we know that the gradient from the output of the Diffable w.r.t. the inputs is the gradient of the `Diffable`'s operations w.r.t. its inputs.\n",
        "  - Thus, a `Diffable`'s `input_gradients()` function should return a tuple with each of the partial derivatives of the operations performed in the forward pass."
      ]
    },
    {
      "cell_type": "code",
      "execution_count": 398,
      "metadata": {
        "id": "9v68mc_U1ymJ"
      },
      "outputs": [],
      "source": [
        "from abc import ABC, abstractmethod  # # For abstract method support\n",
        "\n",
        "class Diffable(ABC):\n",
        "    \"\"\"\n",
        "        We use these to represent differentiable layers which we can compute gradients for.\n",
        "    \"\"\"\n",
        "\n",
        "    def to(self, device):\n",
        "        return self         # Just there to ignore device setting calls\n",
        "    \n",
        "    def __call__(self, *args, **kwargs):\n",
        "        \n",
        "        ## The call method keeps track of method inputs and outputs\n",
        "        self.argnames   = self.forward.__code__.co_varnames[1:]\n",
        "        named_args      = {self.argnames[i] : args[i] for i in range(len(args))}\n",
        "        self.input_dict = {**named_args, **kwargs}\n",
        "        self.inputs     = [self.input_dict[arg] for arg in self.argnames if arg in self.input_dict.keys()]\n",
        "        self.outputs    = self.forward(*args, **kwargs)\n",
        "\n",
        "        ## Make sure outputs are tensors and tie back to this layer\n",
        "        list_outs = isinstance(self.outputs, list) or isinstance(self.outputs, tuple)\n",
        "        if not list_outs:\n",
        "            self.outputs = [self.outputs]\n",
        "        self.outputs = [Tensor(out) for out in self.outputs]\n",
        "        for out in self.outputs: \n",
        "            out.backward = self.backward\n",
        "\n",
        "        # print(self.__class__.__name__.ljust(24), [v.shape for v in self.inputs], '->', [v.shape for v in self.outputs])\n",
        "            \n",
        "        ## And then finally, it returns the output, thereby wrapping the forward\n",
        "        return self.outputs if list_outs else self.outputs[0]\n",
        "\n",
        "    def parameters(self):\n",
        "        \"\"\"Returns a list of parameters\"\"\"\n",
        "        return ()\n",
        "\n",
        "    @abstractmethod\n",
        "    def forward(self, x):\n",
        "        \"\"\"Pass inputs through function. Can store inputs and outputs as instance variables\"\"\"\n",
        "        pass\n",
        "\n",
        "    @abstractmethod\n",
        "    def input_gradients(self):\n",
        "        \"\"\"Returns local gradient of layer output w.r.t. input\"\"\"\n",
        "        pass\n",
        "\n",
        "    def weight_gradients(self):\n",
        "        \"\"\"Returns local gradient of layer output w.r.t. weights\"\"\"\n",
        "        return []\n",
        "    \n",
        "    @abstractmethod\n",
        "    def backward(self, grad=np.array([[1]])):\n",
        "        \"\"\"\n",
        "        Propagate upstream gradient backwards by composing with local gradient\n",
        "        \n",
        "        SCAFFOLD: \n",
        "\n",
        "        Differentiate with respect to layer parameters:\n",
        "            For every param-gradient pair\n",
        "            - If all Tensors or this tensor do not require gradients, then skip\n",
        "            - Otherwise, compose upstream and local gradient\n",
        "        \n",
        "        Differentiate with respect to layer input:\n",
        "            For every input-gradient pair\n",
        "            - If all Tensors or this tensor do not require gradients, then skip\n",
        "            - Otherwise, compose upstream and local gradient\n",
        "\n",
        "        Usefulseful print boilerplate...: \n",
        "            # print(f'Diffing w.r.t. \"{k}\": local = {g.shape} and upstream = {grad.shape}')\n",
        "        \"\"\"\n",
        "        pass"
      ]
    },
    {
      "cell_type": "markdown",
      "metadata": {
        "id": "2n50HNq3ZuCO"
      },
      "source": [
        "### Loss\n",
        "**[TODO]:** Implement the forward pass in `forward()`.The forward pass should be simple: just implement mean squared error between `y_pred` and `y_true`.\n",
        "\n",
        "**[TODO]:** Calculate and return `input_gradients()`:\n",
        "- You want to calculate the gradients which flow to the inputs: `y_pred` and `y_true`\n",
        "- However, note that we don't want to \"train\" `y_true`, thus return 0 for the grads for `y_true`\n",
        "- Return the partial derivative of mean squared error w.r.t. `y_pred`, and 0.\n",
        "\n",
        "Note that we don't need to implement `weight_gradients()` here because MSELoss doesn't have weights!"
      ]
    },
    {
      "cell_type": "code",
      "execution_count": 399,
      "metadata": {
        "id": "1GG1E4VaC9hs"
      },
      "outputs": [],
      "source": [
        "class MSELoss(Diffable):\n",
        "\n",
        "    \"\"\"\n",
        "        Calculates mean squared error loss and gradient w.r.t. inputs.\n",
        "        Subclasses Diffable.\n",
        "    \"\"\"\n",
        "\n",
        "    def forward(self, y_pred, y_true):\n",
        "        \"\"\"Mean squared error forward pass!\"\"\"\n",
        "        # TODO: Compute and return the MSE given predicted and actual labels\n",
        "        return np.mean((y_true - y_pred)**2) #takes the mean of the difference betwen the expected and acutal values squred (MSE)\n",
        "\n",
        "    def input_gradients(self):\n",
        "        \"\"\"Mean squared error backpropagation!\"\"\"\n",
        "        # TODO: Compute and return the gradients\n",
        "        #return tuple of input, gradient \n",
        "        y_pred, y_true, loss = self.inputs + self.outputs # get the actual and expected values from the inputs and outputs (we don't need loss in this function)\n",
        "\n",
        "        y_true_grad = np.array([0]) # we don't want to train y_true so gradient is just an array of 0's\n",
        "        y_pred_grad = (2*(y_pred - y_true))/len(y_pred) # calcuate the gradient for y_pred by taking the partial derivative of the loss wrt y_pred \n",
        "        return y_pred_grad, y_true_grad\n",
        "\n",
        "    def backward(self, grad=np.array([[1]])):\n",
        "        \"\"\"Mean squared error backpropagation!\"\"\"        \n",
        "        ## TODO: Differentiate with respect to layer inputs        \n",
        "        ## For each input value and input gradient\n",
        "            ## Compose the upstream gradient with this input's gradient\n",
        "            ## Set the gradient of the tensor to the composed gradient as necessary\n",
        "            ## Pass the composed gradient backward through structure\n",
        "\n",
        "        for i, g in zip(self.inputs, self.input_gradients()): # gets inputs and respective gradients \n",
        "            if Tensor.requires_grad: # checks if the tensor needs a gradient\n",
        "                n_g = np.matmul(g, grad) # multiply input gradient times grad passed into function\n",
        "                if getattr(i, \"requires_grad\", False): # checks if input requires gradient (meaning it is the last layer)\n",
        "                    i.grad = n_g # if not, it sets the grad to be the new gradient \n",
        "                i.backward(n_g) # sets the grad of the previous to be the new gradient "
      ]
    },
    {
      "attachments": {},
      "cell_type": "markdown",
      "metadata": {
        "id": "2CHqCz0nKsGB"
      },
      "source": [
        "And here are some sanity checks you can run to make sure that your code is working as intended. In the first check, the outputs should match. In the second, they should be within the specified range."
      ]
    },
    {
      "cell_type": "code",
      "execution_count": 400,
      "metadata": {
        "colab": {
          "base_uri": "https://localhost:8080/"
        },
        "id": "45Y7ngPUKehB",
        "outputId": "fc6dad07-1d9b-479b-84c6-c4e39167e178"
      },
      "outputs": [
        {
          "name": "stdout",
          "output_type": "stream",
          "text": [
            "tensor(3615.2388, grad_fn=<MseLossBackward0>)\n",
            "3615.23864719889\n"
          ]
        }
      ],
      "source": [
        "class con: \n",
        "    ## Control set using default PyTorch\n",
        "    ytrue = torch.Tensor(Y0)\n",
        "    ypred = torch_model(torch.Tensor(X0))\n",
        "    loss_fn = nn.MSELoss()\n",
        "\n",
        "class exp: \n",
        "    ## Experimental set using your own implementation\n",
        "    ytrue = Tensor(Y0)\n",
        "    ypred = Tensor(con.ypred.detach().numpy())\n",
        "    loss_fn = MSELoss()\n",
        "\n",
        "def ypred_to_loss(ns):\n",
        "    ## Compute loss using the control and experimental namespaces\n",
        "    ns.loss = ns.loss_fn(ns.ypred, ns.ytrue)\n",
        "    return ns.loss\n",
        "\n",
        "## Sanity Check 1: Make sure that the forward pass is the same (i.e. your implementation matches the control)\n",
        "print(ypred_to_loss(con))\n",
        "print(ypred_to_loss(exp))"
      ]
    },
    {
      "cell_type": "code",
      "execution_count": 401,
      "metadata": {
        "colab": {
          "base_uri": "https://localhost:8080/"
        },
        "id": "P9tUAGJkg6I9",
        "outputId": "81ef4fe8-0fca-491e-d37a-4ef9c3131117"
      },
      "outputs": [
        {
          "name": "stdout",
          "output_type": "stream",
          "text": [
            "Maximum difference 3.799162906492626e-08 should be less than 0.00001\n"
          ]
        }
      ],
      "source": [
        "## Sanity Check 2: Make sure that the backwards pass is the same\n",
        "\n",
        "con.ypred = con.ypred.detach()\n",
        "con.ypred.requires_grad = True\n",
        "# print(\"Before running backwards:\\n\", con.ypred.grad)\n",
        "ypred_to_loss(con)\n",
        "con.loss.backward()\n",
        "# print(\"After running backwards:\\n\", con.ypred.grad)\n",
        "\n",
        "exp.ypred.grad = None\n",
        "# print(\"Before running backwards:\\n\", np.round(exp.ypred.grad, 4))\n",
        "ypred_to_loss(exp)\n",
        "exp.loss.backward()\n",
        "# print(\"After running backwards:\\n\", np.round(exp.ypred.grad, 4))\n",
        "\n",
        "max_diff = np.max(exp.ypred.grad - con.ypred.grad.detach().numpy())\n",
        "print(f\"Maximum difference {max_diff} should be less than 0.00001\")"
      ]
    },
    {
      "cell_type": "markdown",
      "metadata": {
        "id": "inej4Q37gqN8"
      },
      "source": [
        "### Linear Layer\n",
        "Next, a linear layer!\n",
        "\n",
        "**[TODO]:** Implement the `forward()` pass of a linear layer. \n",
        "\n",
        "**[TODO]:** Calculate (manually) the weight gradients.\n",
        "- Manually differentiate the Dense layer with respect to weights and biases.\n",
        "- Return weight gradient, then bias gradient in that order\n",
        "- HINT: How is differentiating with matrix variables similar to and different from normal differentiation?\n",
        "\n",
        "**[TODO]:** Initalize weights and biases in `_initialize_weight()`.\n",
        "- In a linear layer, we have 2 parameters: weights and biases. \n",
        "- Return two NumPy arrays of the correct shapes according according to the function's arguments. \n",
        "- Return weights and biases, in that order.\n",
        "\n",
        "Be sure to also read and understand the `backward()` function, which is used to backpropagate gradients."
      ]
    },
    {
      "cell_type": "code",
      "execution_count": 402,
      "metadata": {
        "colab": {
          "base_uri": "https://localhost:8080/"
        },
        "id": "50FnJezypdpt",
        "outputId": "3db15996-701b-46f5-dff7-52d5768e06ba"
      },
      "outputs": [
        {
          "name": "stdout",
          "output_type": "stream",
          "text": [
            "Maximum difference 9.186499172475493e-09 should be less than 0.00001\n",
            "\n",
            "Losses: Control 28718.736328125 vs Experimental 28718.7369018209\n",
            "\n",
            "Control Params:\n",
            "Parameter containing:\n",
            "tensor([[-0.2880,  0.0621,  0.3070, -0.2190, -0.2873,  0.0253,  0.1038,  0.1401,\n",
            "         -0.0425,  0.0263]], requires_grad=True)\n",
            "Parameter containing:\n",
            "tensor([0.1027], requires_grad=True)\n",
            "\n",
            "Experimental Params:\n",
            "[[-0.28798488  0.06213826  0.30695584 -0.21898969 -0.28733656  0.02525344\n",
            "   0.10383019  0.14005795 -0.04251304  0.02634716]]\n",
            "[0.10270229]\n"
          ]
        }
      ],
      "source": [
        "import torch\n",
        "import torch.nn as nn\n",
        "\n",
        "class Linear(Diffable):\n",
        "\n",
        "    \"\"\"\n",
        "        Standard linear/dense layer.\n",
        "        Subclasses Diffable.\n",
        "    \"\"\"\n",
        "\n",
        "    def __init__(self, in_features, out_features, device=None, dtype=None):\n",
        "        self.w, self.b = self.__class__._initialize_weight(in_features, out_features)\n",
        "    \n",
        "    def parameters(self):\n",
        "        return self.w, self.b\n",
        "\n",
        "    def forward(self, inputs):\n",
        "        \"\"\"Forward pass for a dense layer! Refer to lecture slides for how this is computed.\"\"\"\n",
        "        # TODO: implement the forward pass and return the outputs\n",
        "        weights, bias = self.parameters() # gets the weights and biases from the parameters function\n",
        "        ans = np.matmul(inputs, weights.transpose()) + bias  # calculates forward for linaer: Wx_i + b\n",
        "        return ans\n",
        "\n",
        "    def weight_gradients(self):\n",
        "        \"\"\"Calculating the gradients of the weights and biases!\"\"\"\n",
        "        # TODO: Implement calculation of gradients\n",
        "        wgrads = self.input_dict[\"inputs\"] * np.ones_like(self.w) # makes weight gradient matrix of size self.w\n",
        "        bgrads = np.ones_like(self.b) # makes bias gradient matrix of size self.b\n",
        "        return (wgrads, bgrads)\n",
        "\n",
        "    def input_gradients(self):\n",
        "        \"\"\"Calculate the gradients of the inputs! (Not necessary for HW1)\"\"\"\n",
        "        return (self.w,)\n",
        "\n",
        "    @staticmethod\n",
        "    def _initialize_weight(input_size, output_size):\n",
        "        \"\"\"\n",
        "        Initializes the values of the weights and biases. You can assume that \n",
        "        bias is a zero-vector and weight is normally-distributed.\n",
        "        \"\"\"\n",
        "        ## TODO: Implement default assumption: zero-init for bias, normal distribution for weights\n",
        "        ## Must return tensors for tracking purposes. ???\n",
        "        init_bias = np.zeros((output_size, 1)) # initialzes bias matrix to be an array of 0's \n",
        "        init_weight = np.random.normal(size = (output_size, input_size)) # initializes weight matrix to be filled with random normally distributed vallues \n",
        "        return Tensor(init_weight), Tensor(init_bias) # returns the tensors of these matrices \n",
        "\n",
        "    def backward(self, grad=np.array([[1]])):\n",
        "        ## For every weight/bias and weight/bias gradient\n",
        "            ## Compose the upstream gradient with this weight's/bias's gradient\n",
        "            ## Set the gradient of the tensor to the composed gradient if necessary\n",
        "            ## Backpropagate the composed gradient through the structure\n",
        "        for (_, p), g in zip(enumerate(self.parameters()), self.weight_gradients()): # get parameters and respective gradients \n",
        "            if Tensor.requires_grad: # check if Tensor requires gradient \n",
        "                n_g = np.sum(g * grad, axis=0, keepdims=True) # calculates the sum of g * grad over the axix 0 \n",
        "                if getattr(p, \"requires_grad\", False): # check if p requires a gradient (meaning it is last layer)\n",
        "                    p.grad = n_g # if it does not, set the new gradient to be the gradient \n",
        "                p.backward(n_g) # set the previous to be the new gradient \n",
        "\n",
        "class con:\n",
        "    ## Control set using regular pytorch\n",
        "    X0 = torch.Tensor(X0)\n",
        "    Y0 = torch.Tensor(Y0)\n",
        "    X0.requires_grad = True\n",
        "    Y0.requires_grad = True\n",
        "    dense = nn.Linear(10, 1)\n",
        "    loss_fn = nn.MSELoss()\n",
        "\n",
        "class exp:\n",
        "    ## Experimental set using your own implementation\n",
        "    X0 = Tensor(X0)\n",
        "    Y0 = Tensor(Y0)\n",
        "    dense = Linear(10, 1)\n",
        "    dense.w, dense.b = [Tensor(p.detach().numpy()) for p in con.dense.parameters()]\n",
        "    loss_fn = MSELoss()\n",
        "\n",
        "def x_to_loss(ns):\n",
        "    ns.ypred = ns.dense(ns.X0)\n",
        "    ns.loss  = ns.loss_fn(ns.ypred, ns.Y0)\n",
        "    return ns.loss\n",
        "\n",
        "x_to_loss(con)\n",
        "x_to_loss(exp)\n",
        "\n",
        "## Sanity Check 1: Make sure that the forward pass is the same\n",
        "# print(con.ypred)\n",
        "# print(exp.ypred)\n",
        "\n",
        "print(f\"Maximum difference {np.max(con.ypred.detach().numpy() - exp.ypred)} should be less than 0.00001\\n\")\n",
        "\n",
        "print(f\"Losses: Control {con.loss} vs Experimental {exp.loss}\")\n",
        "\n",
        "print('\\nControl Params:',      *list(con.dense.parameters()), sep='\\n')\n",
        "print('\\nExperimental Params:', *list(exp.dense.parameters()), sep='\\n')"
      ]
    },
    {
      "cell_type": "code",
      "execution_count": 403,
      "metadata": {
        "colab": {
          "base_uri": "https://localhost:8080/"
        },
        "id": "-v6oUfSJxidG",
        "outputId": "0e5b54b6-841e-4843-da3b-25e030d62a0d"
      },
      "outputs": [
        {
          "name": "stdout",
          "output_type": "stream",
          "text": [
            "After running backwards on weights:\n",
            "[tensor([[-1.5567, -0.0830, -3.9125, -3.1352, -1.6615, -1.4893,  2.7273, -3.2822,\n",
            "         -3.9185, -2.6455]]), tensor([-302.7530])]\n",
            "\n",
            "****************************************************************************************************\n",
            "\n",
            "After running backwards on weights:\n",
            "[Tensor([[-1.55668739, -0.08303418, -3.91247332, -3.1351863 , -1.66146608,\n",
            "         -1.48925655,  2.72732178, -3.28225013, -3.91850226, -2.64549085]]), Tensor([[-302.7529979]])]\n"
          ]
        }
      ],
      "source": [
        "## Sanity Check 2: Make sure that the backwards pass is the same\n",
        "\n",
        "con.X0 = con.X0.detach()\n",
        "con.Y0 = con.Y0.detach()\n",
        "for p in con.dense.parameters():\n",
        "    if p.grad is None: continue\n",
        "    p.grad.detach_()\n",
        "    p.grad = None\n",
        "\n",
        "x_to_loss(con).backward()\n",
        "print(\"After running backwards on weights:\")  \n",
        "print([p.grad for p in con.dense.parameters()])\n",
        "\n",
        "for p in exp.dense.parameters(): p.grad = None\n",
        "x_to_loss(exp).backward()\n",
        "\n",
        "print(\"\\n\" + \"*\" * 100 + \"\\n\")\n",
        "print(\"After running backwards on weights:\")  \n",
        "print([p.grad for p in exp.dense.parameters()])"
      ]
    },
    {
      "cell_type": "markdown",
      "metadata": {
        "id": "CQGhTAMgFe_i"
      },
      "source": [
        "## Optimizing With The Gradients\n",
        "\n",
        "To use the gradients we calculated previously, we need an optimizer. The optimizer allows us to update our weights and bias. A simple approach could be to simply subtract the gradient from the weights and bias. In doing so, we follow the gradient in its opposite direction, minimizing loss. This is what is called gradient descent. \n",
        "\n",
        "However, simply subtracting the gradients from the weights could result in the weights changing wildly between each sample, making training longer. To prevent this, we use a learning rate. The learning rate is a hyperparameter that specifies how much a single step updates weights. A smaller learning rate means that the gradients have less of an impact on the weights, and vice versa.\n",
        "\n",
        "Of course, this is just one (simple) approach. In a later lab, you'll learn about other optimizers, such as Adam and RMSProp.\n",
        "\n",
        "**[TODO]:** Implement stochastic gradient descent for each parameter using the learning rate"
      ]
    },
    {
      "cell_type": "code",
      "execution_count": 404,
      "metadata": {
        "id": "J5s6o4_WGXhe"
      },
      "outputs": [],
      "source": [
        "class SGD: \n",
        "    \"\"\"\n",
        "        Performs stochastic gradident descent with the specified learning rate.\n",
        "    \"\"\"\n",
        "    def __init__(self, params, lr, *args, **kwargs):\n",
        "        self.params = params\n",
        "        self.lr = lr\n",
        "    \n",
        "    def zero_grad(self):\n",
        "        \"\"\"\n",
        "            Reset the gradients.\n",
        "        \"\"\"\n",
        "        for p in self.params:\n",
        "            p.grad = None\n",
        "            \n",
        "    def step(self):\n",
        "        \"\"\"\n",
        "            Update paramaters by subtracting the gradient multiplied by the learning rate.\n",
        "        \"\"\"\n",
        "        ## TODO: Implement stochastic grad descent for each parameter\n",
        "\n",
        "        for p in self.params:\n",
        "            p -= self.lr * p.grad # caclculates sgd for each parameter by subtracting gradient multiplied the lr "
      ]
    },
    {
      "attachments": {},
      "cell_type": "markdown",
      "metadata": {
        "id": "p9m63xegnLnj"
      },
      "source": [
        "Below, you'll use your new implementations to optimize for linear regression manually. FakeTorchModule will also be provided to make some of the mimicking process easier. \n",
        "\n",
        "**[TODO]:** Complete the model and compare this model's performance to the previous `LinearRegression` model -- they should have a similar loss after training."
      ]
    },
    {
      "cell_type": "code",
      "execution_count": 405,
      "metadata": {
        "colab": {
          "base_uri": "https://localhost:8080/"
        },
        "id": "M6-a0DfvFlnN",
        "outputId": "a5030069-c43e-4f8b-f2d6-2ed17c90d2c6"
      },
      "outputs": [
        {
          "name": "stdout",
          "output_type": "stream",
          "text": [
            "[Epoch 1/200] {'loss': Tensor(28754.78382164), 'test_loss': 8873.861943036965}\n",
            "[Epoch 2/200] {'loss': Tensor(7848.45180974), 'test_loss': 6726.083317475244}\n",
            "[Epoch 3/200] {'loss': Tensor(5942.89436782), 'test_loss': 6456.929658313184}\n",
            "[Epoch 4/200] {'loss': Tensor(5747.66613491), 'test_loss': 6392.360879508215}\n",
            "[Epoch 5/200] {'loss': Tensor(5706.639855), 'test_loss': 6357.023140248771}\n",
            "[Epoch 6/200] {'loss': Tensor(5679.76211641), 'test_loss': 6327.741621770007}\n",
            "[Epoch 7/200] {'loss': Tensor(5654.42486257), 'test_loss': 6300.215400484896}\n",
            "[Epoch 8/200] {'loss': Tensor(5629.49004195), 'test_loss': 6273.392095546579}\n",
            "[Epoch 9/200] {'loss': Tensor(5604.85193527), 'test_loss': 6246.975648369611}\n",
            "[Epoch 10/200] {'loss': Tensor(5580.49777431), 'test_loss': 6220.876971202164}\n",
            "[Epoch 11/200] {'loss': Tensor(5556.42319789), 'test_loss': 6195.067208300942}\n",
            "[Epoch 12/200] {'loss': Tensor(5532.62464246), 'test_loss': 6169.535405283225}\n",
            "[Epoch 13/200] {'loss': Tensor(5509.09865677), 'test_loss': 6144.27598130645}\n",
            "[Epoch 14/200] {'loss': Tensor(5485.84183962), 'test_loss': 6119.28499164081}\n",
            "[Epoch 15/200] {'loss': Tensor(5462.85083379), 'test_loss': 6094.559009732082}\n",
            "[Epoch 16/200] {'loss': Tensor(5440.12232495), 'test_loss': 6070.094792307061}\n",
            "[Epoch 17/200] {'loss': Tensor(5417.6530411), 'test_loss': 6045.889178778505}\n",
            "[Epoch 18/200] {'loss': Tensor(5395.43975198), 'test_loss': 6021.939060779807}\n",
            "[Epoch 19/200] {'loss': Tensor(5373.47926857), 'test_loss': 5998.241372695722}\n",
            "[Epoch 20/200] {'loss': Tensor(5351.76844254), 'test_loss': 5974.793088482379}\n",
            "[Epoch 21/200] {'loss': Tensor(5330.30416574), 'test_loss': 5951.591220374344}\n",
            "[Epoch 22/200] {'loss': Tensor(5309.08336968), 'test_loss': 5928.632818160913}\n",
            "[Epoch 23/200] {'loss': Tensor(5288.103025), 'test_loss': 5905.9149686371065}\n",
            "[Epoch 24/200] {'loss': Tensor(5267.36014102), 'test_loss': 5883.434795111226}\n",
            "[Epoch 25/200] {'loss': Tensor(5246.85176517), 'test_loss': 5861.189456933547}\n",
            "[Epoch 26/200] {'loss': Tensor(5226.57498257), 'test_loss': 5839.176149035483}\n",
            "[Epoch 27/200] {'loss': Tensor(5206.52691551), 'test_loss': 5817.392101475978}\n",
            "[Epoch 28/200] {'loss': Tensor(5186.70472296), 'test_loss': 5795.834578994123}\n",
            "[Epoch 29/200] {'loss': Tensor(5167.10560015), 'test_loss': 5774.500880567602}\n",
            "[Epoch 30/200] {'loss': Tensor(5147.72677805), 'test_loss': 5753.388338976845}\n",
            "[Epoch 31/200] {'loss': Tensor(5128.56552294), 'test_loss': 5732.494320374774}\n",
            "[Epoch 32/200] {'loss': Tensor(5109.61913595), 'test_loss': 5711.816223862056}\n",
            "[Epoch 33/200] {'loss': Tensor(5090.88495261), 'test_loss': 5691.351481067802}\n",
            "[Epoch 34/200] {'loss': Tensor(5072.36034242), 'test_loss': 5671.097555735637}\n",
            "[Epoch 35/200] {'loss': Tensor(5054.0427084), 'test_loss': 5651.051943315073}\n",
            "[Epoch 36/200] {'loss': Tensor(5035.92948665), 'test_loss': 5631.212170558111}\n",
            "[Epoch 37/200] {'loss': Tensor(5018.01814598), 'test_loss': 5611.575795121019}\n",
            "[Epoch 38/200] {'loss': Tensor(5000.30618741), 'test_loss': 5592.1404051711925}\n",
            "[Epoch 39/200] {'loss': Tensor(4982.79114382), 'test_loss': 5572.90361899907}\n",
            "[Epoch 40/200] {'loss': Tensor(4965.4705795), 'test_loss': 5553.863084635006}\n",
            "[Epoch 41/200] {'loss': Tensor(4948.34208979), 'test_loss': 5535.016479471052}\n",
            "[Epoch 42/200] {'loss': Tensor(4931.40330063), 'test_loss': 5516.3615098875825}\n",
            "[Epoch 43/200] {'loss': Tensor(4914.65186822), 'test_loss': 5497.895910884702}\n",
            "[Epoch 44/200] {'loss': Tensor(4898.08547857), 'test_loss': 5479.617445718367}\n",
            "[Epoch 45/200] {'loss': Tensor(4881.7018472), 'test_loss': 5461.523905541174}\n",
            "[Epoch 46/200] {'loss': Tensor(4865.49871867), 'test_loss': 5443.613109047742}\n",
            "[Epoch 47/200] {'loss': Tensor(4849.47386627), 'test_loss': 5425.882902124636}\n",
            "[Epoch 48/200] {'loss': Tensor(4833.62509163), 'test_loss': 5408.331157504773}\n",
            "[Epoch 49/200] {'loss': Tensor(4817.95022437), 'test_loss': 5390.955774426247}\n",
            "[Epoch 50/200] {'loss': Tensor(4802.44712172), 'test_loss': 5373.754678295534}\n",
            "[Epoch 51/200] {'loss': Tensor(4787.11366816), 'test_loss': 5356.725820354993}\n",
            "[Epoch 52/200] {'loss': Tensor(4771.94777512), 'test_loss': 5339.867177354631}\n",
            "[Epoch 53/200] {'loss': Tensor(4756.94738057), 'test_loss': 5323.176751228073}\n",
            "[Epoch 54/200] {'loss': Tensor(4742.11044873), 'test_loss': 5306.652568772672}\n",
            "[Epoch 55/200] {'loss': Tensor(4727.43496969), 'test_loss': 5290.292681333714}\n",
            "[Epoch 56/200] {'loss': Tensor(4712.91895913), 'test_loss': 5274.095164492672}\n",
            "[Epoch 57/200] {'loss': Tensor(4698.56045793), 'test_loss': 5258.058117759435}\n",
            "[Epoch 58/200] {'loss': Tensor(4684.35753191), 'test_loss': 5242.179664268493}\n",
            "[Epoch 59/200] {'loss': Tensor(4670.30827145), 'test_loss': 5226.457950479002}\n",
            "[Epoch 60/200] {'loss': Tensor(4656.41079123), 'test_loss': 5210.891145878679}\n",
            "[Epoch 61/200] {'loss': Tensor(4642.66322988), 'test_loss': 5195.477442691502}\n",
            "[Epoch 62/200] {'loss': Tensor(4629.06374969), 'test_loss': 5180.215055589134}\n",
            "[Epoch 63/200] {'loss': Tensor(4615.61053628), 'test_loss': 5165.102221406051}\n",
            "[Epoch 64/200] {'loss': Tensor(4602.30179836), 'test_loss': 5150.137198858311}\n",
            "[Epoch 65/200] {'loss': Tensor(4589.13576737), 'test_loss': 5135.318268265916}\n",
            "[Epoch 66/200] {'loss': Tensor(4576.11069721), 'test_loss': 5120.643731278734}\n",
            "[Epoch 67/200] {'loss': Tensor(4563.22486398), 'test_loss': 5106.11191060592}\n",
            "[Epoch 68/200] {'loss': Tensor(4550.47656566), 'test_loss': 5091.721149748801}\n",
            "[Epoch 69/200] {'loss': Tensor(4537.86412183), 'test_loss': 5077.469812737182}\n",
            "[Epoch 70/200] {'loss': Tensor(4525.38587342), 'test_loss': 5063.3562838690195}\n",
            "[Epoch 71/200] {'loss': Tensor(4513.04018243), 'test_loss': 5049.378967453419}\n",
            "[Epoch 72/200] {'loss': Tensor(4500.82543161), 'test_loss': 5035.536287556937}\n",
            "[Epoch 73/200] {'loss': Tensor(4488.74002427), 'test_loss': 5021.826687753107}\n",
            "[Epoch 74/200] {'loss': Tensor(4476.78238398), 'test_loss': 5008.248630875185}\n",
            "[Epoch 75/200] {'loss': Tensor(4464.95095429), 'test_loss': 4994.800598772048}\n",
            "[Epoch 76/200] {'loss': Tensor(4453.24419851), 'test_loss': 4981.481092067216}\n",
            "[Epoch 77/200] {'loss': Tensor(4441.66059943), 'test_loss': 4968.288629920955}\n",
            "[Epoch 78/200] {'loss': Tensor(4430.1986591), 'test_loss': 4955.2217497954225}\n",
            "[Epoch 79/200] {'loss': Tensor(4418.85689854), 'test_loss': 4942.279007222814}\n",
            "[Epoch 80/200] {'loss': Tensor(4407.63385754), 'test_loss': 4929.458975576479}\n",
            "[Epoch 81/200] {'loss': Tensor(4396.5280944), 'test_loss': 4916.7602458449555}\n",
            "[Epoch 82/200] {'loss': Tensor(4385.53818569), 'test_loss': 4904.181426408896}\n",
            "[Epoch 83/200] {'loss': Tensor(4374.662726), 'test_loss': 4891.72114282085}\n",
            "[Epoch 84/200] {'loss': Tensor(4363.90032776), 'test_loss': 4879.3780375878505}\n",
            "[Epoch 85/200] {'loss': Tensor(4353.24962097), 'test_loss': 4867.150769956796}\n",
            "[Epoch 86/200] {'loss': Tensor(4342.70925297), 'test_loss': 4855.038015702551}\n",
            "[Epoch 87/200] {'loss': Tensor(4332.27788825), 'test_loss': 4843.038466918786}\n",
            "[Epoch 88/200] {'loss': Tensor(4321.95420819), 'test_loss': 4831.150831811462}\n",
            "[Epoch 89/200] {'loss': Tensor(4311.7369109), 'test_loss': 4819.373834494968}\n",
            "[Epoch 90/200] {'loss': Tensor(4301.62471094), 'test_loss': 4807.706214790866}\n",
            "[Epoch 91/200] {'loss': Tensor(4291.61633915), 'test_loss': 4796.1467280291945}\n",
            "[Epoch 92/200] {'loss': Tensor(4281.71054245), 'test_loss': 4784.694144852329}\n",
            "[Epoch 93/200] {'loss': Tensor(4271.90608358), 'test_loss': 4773.347251021332}\n",
            "[Epoch 94/200] {'loss': Tensor(4262.20174098), 'test_loss': 4762.104847224785}\n",
            "[Epoch 95/200] {'loss': Tensor(4252.5963085), 'test_loss': 4750.965748890062}\n",
            "[Epoch 96/200] {'loss': Tensor(4243.08859526), 'test_loss': 4739.928785997013}\n",
            "[Epoch 97/200] {'loss': Tensor(4233.67742545), 'test_loss': 4728.99280289403}\n",
            "[Epoch 98/200] {'loss': Tensor(4224.36163811), 'test_loss': 4718.156658116455}\n",
            "[Epoch 99/200] {'loss': Tensor(4215.14008697), 'test_loss': 4707.419224207318}\n",
            "[Epoch 100/200] {'loss': Tensor(4206.01164023), 'test_loss': 4696.779387540352}\n",
            "[Epoch 101/200] {'loss': Tensor(4196.97518041), 'test_loss': 4686.236048145286}\n",
            "[Epoch 102/200] {'loss': Tensor(4188.02960415), 'test_loss': 4675.788119535344}\n",
            "[Epoch 103/200] {'loss': Tensor(4179.17382201), 'test_loss': 4665.4345285369745}\n",
            "[Epoch 104/200] {'loss': Tensor(4170.40675832), 'test_loss': 4655.174215121732}\n",
            "[Epoch 105/200] {'loss': Tensor(4161.72735099), 'test_loss': 4645.006132240319}\n",
            "[Epoch 106/200] {'loss': Tensor(4153.13455136), 'test_loss': 4634.9292456587345}\n",
            "[Epoch 107/200] {'loss': Tensor(4144.62732398), 'test_loss': 4624.942533796528}\n",
            "[Epoch 108/200] {'loss': Tensor(4136.20464647), 'test_loss': 4615.044987567111}\n",
            "[Epoch 109/200] {'loss': Tensor(4127.86550938), 'test_loss': 4605.235610220102}\n",
            "[Epoch 110/200] {'loss': Tensor(4119.60891596), 'test_loss': 4595.513417185699}\n",
            "[Epoch 111/200] {'loss': Tensor(4111.43388206), 'test_loss': 4585.8774359210165}\n",
            "[Epoch 112/200] {'loss': Tensor(4103.33943592), 'test_loss': 4576.326705758407}\n",
            "[Epoch 113/200] {'loss': Tensor(4095.32461805), 'test_loss': 4566.8602777557}\n",
            "[Epoch 114/200] {'loss': Tensor(4087.38848106), 'test_loss': 4557.477214548364}\n",
            "[Epoch 115/200] {'loss': Tensor(4079.53008948), 'test_loss': 4548.176590203547}\n",
            "[Epoch 116/200] {'loss': Tensor(4071.74851964), 'test_loss': 4538.957490075987}\n",
            "[Epoch 117/200] {'loss': Tensor(4064.04285951), 'test_loss': 4529.819010665749}\n",
            "[Epoch 118/200] {'loss': Tensor(4056.41220854), 'test_loss': 4520.760259477794}\n",
            "[Epoch 119/200] {'loss': Tensor(4048.85567754), 'test_loss': 4511.780354883319}\n",
            "[Epoch 120/200] {'loss': Tensor(4041.37238849), 'test_loss': 4502.878425982892}\n",
            "[Epoch 121/200] {'loss': Tensor(4033.96147444), 'test_loss': 4494.053612471303}\n",
            "[Epoch 122/200] {'loss': Tensor(4026.62207936), 'test_loss': 4485.305064504159}\n",
            "[Epoch 123/200] {'loss': Tensor(4019.35335798), 'test_loss': 4476.631942566181}\n",
            "[Epoch 124/200] {'loss': Tensor(4012.15447565), 'test_loss': 4468.033417341167}\n",
            "[Epoch 125/200] {'loss': Tensor(4005.02460825), 'test_loss': 4459.508669583621}\n",
            "[Epoch 126/200] {'loss': Tensor(3997.96294199), 'test_loss': 4451.056889992022}\n",
            "[Epoch 127/200] {'loss': Tensor(3990.96867335), 'test_loss': 4442.677279083707}\n",
            "[Epoch 128/200] {'loss': Tensor(3984.04100887), 'test_loss': 4434.369047071343}\n",
            "[Epoch 129/200] {'loss': Tensor(3977.1791651), 'test_loss': 4426.1314137409845}\n",
            "[Epoch 130/200] {'loss': Tensor(3970.3823684), 'test_loss': 4417.963608331674}\n",
            "[Epoch 131/200] {'loss': Tensor(3963.64985487), 'test_loss': 4409.864869416589}\n",
            "[Epoch 132/200] {'loss': Tensor(3956.98087019), 'test_loss': 4401.83444478569}\n",
            "[Epoch 133/200] {'loss': Tensor(3950.37466953), 'test_loss': 4393.871591329884}\n",
            "[Epoch 134/200] {'loss': Tensor(3943.83051738), 'test_loss': 4385.975574926639}\n",
            "[Epoch 135/200] {'loss': Tensor(3937.34768749), 'test_loss': 4378.145670327081}\n",
            "[Epoch 136/200] {'loss': Tensor(3930.92546271), 'test_loss': 4370.381161044509}\n",
            "[Epoch 137/200] {'loss': Tensor(3924.56313488), 'test_loss': 4362.68133924435}\n",
            "[Epoch 138/200] {'loss': Tensor(3918.26000473), 'test_loss': 4355.045505635497}\n",
            "[Epoch 139/200] {'loss': Tensor(3912.01538175), 'test_loss': 4347.4729693630425}\n",
            "[Epoch 140/200] {'loss': Tensor(3905.82858409), 'test_loss': 4339.96304790238}\n",
            "[Epoch 141/200] {'loss': Tensor(3899.69893845), 'test_loss': 4332.515066954646}\n",
            "[Epoch 142/200] {'loss': Tensor(3893.62577996), 'test_loss': 4325.128360343501}\n",
            "[Epoch 143/200] {'loss': Tensor(3887.60845206), 'test_loss': 4317.802269913223}\n",
            "[Epoch 144/200] {'loss': Tensor(3881.64630645), 'test_loss': 4310.536145428095}\n",
            "[Epoch 145/200] {'loss': Tensor(3875.73870292), 'test_loss': 4303.32934447308}\n",
            "[Epoch 146/200] {'loss': Tensor(3869.88500926), 'test_loss': 4296.18123235576}\n",
            "[Epoch 147/200] {'loss': Tensor(3864.0846012), 'test_loss': 4289.091182009512}\n",
            "[Epoch 148/200] {'loss': Tensor(3858.33686227), 'test_loss': 4282.058573897936}\n",
            "[Epoch 149/200] {'loss': Tensor(3852.64118371), 'test_loss': 4275.082795920488}\n",
            "[Epoch 150/200] {'loss': Tensor(3846.99696434), 'test_loss': 4268.163243319309}\n",
            "[Epoch 151/200] {'loss': Tensor(3841.40361055), 'test_loss': 4261.299318587254}\n",
            "[Epoch 152/200] {'loss': Tensor(3835.8605361), 'test_loss': 4254.490431377082}\n",
            "[Epoch 153/200] {'loss': Tensor(3830.36716209), 'test_loss': 4247.7359984118}\n",
            "[Epoch 154/200] {'loss': Tensor(3824.92291687), 'test_loss': 4241.035443396161}\n",
            "[Epoch 155/200] {'loss': Tensor(3819.52723588), 'test_loss': 4234.388196929268}\n",
            "[Epoch 156/200] {'loss': Tensor(3814.17956166), 'test_loss': 4227.793696418311}\n",
            "[Epoch 157/200] {'loss': Tensor(3808.87934365), 'test_loss': 4221.251385993379}\n",
            "[Epoch 158/200] {'loss': Tensor(3803.62603822), 'test_loss': 4214.760716423383}\n",
            "[Epoch 159/200] {'loss': Tensor(3798.41910846), 'test_loss': 4208.321145033021}\n",
            "[Epoch 160/200] {'loss': Tensor(3793.25802419), 'test_loss': 4201.93213562082}\n",
            "[Epoch 161/200] {'loss': Tensor(3788.14226183), 'test_loss': 4195.593158378201}\n",
            "[Epoch 162/200] {'loss': Tensor(3783.07130432), 'test_loss': 4189.303689809601}\n",
            "[Epoch 163/200] {'loss': Tensor(3778.04464104), 'test_loss': 4183.063212653575}\n",
            "[Epoch 164/200] {'loss': Tensor(3773.06176772), 'test_loss': 4176.871215804928}\n",
            "[Epoch 165/200] {'loss': Tensor(3768.12218639), 'test_loss': 4170.727194237838}\n",
            "[Epoch 166/200] {'loss': Tensor(3763.22540525), 'test_loss': 4164.63064892993}\n",
            "[Epoch 167/200] {'loss': Tensor(3758.37093865), 'test_loss': 4158.581086787342}\n",
            "[Epoch 168/200] {'loss': Tensor(3753.55830693), 'test_loss': 4152.578020570732}\n",
            "[Epoch 169/200] {'loss': Tensor(3748.78703645), 'test_loss': 4146.62096882223}\n",
            "[Epoch 170/200] {'loss': Tensor(3744.05665941), 'test_loss': 4140.709455793306}\n",
            "[Epoch 171/200] {'loss': Tensor(3739.36671386), 'test_loss': 4134.843011373572}\n",
            "[Epoch 172/200] {'loss': Tensor(3734.71674355), 'test_loss': 4129.0211710204785}\n",
            "[Epoch 173/200] {'loss': Tensor(3730.10629792), 'test_loss': 4123.243475689902}\n",
            "[Epoch 174/200] {'loss': Tensor(3725.534932), 'test_loss': 4117.509471767623}\n",
            "[Epoch 175/200] {'loss': Tensor(3721.00220633), 'test_loss': 4111.818711001667}\n",
            "[Epoch 176/200] {'loss': Tensor(3716.50768691), 'test_loss': 4106.170750435507}\n",
            "[Epoch 177/200] {'loss': Tensor(3712.05094511), 'test_loss': 4100.565152342116}\n",
            "[Epoch 178/200] {'loss': Tensor(3707.63155763), 'test_loss': 4095.001484158849}\n",
            "[Epoch 179/200] {'loss': Tensor(3703.2491064), 'test_loss': 4089.4793184231694}\n",
            "[Epoch 180/200] {'loss': Tensor(3698.90317852), 'test_loss': 4083.9982327091725}\n",
            "[Epoch 181/200] {'loss': Tensor(3694.59336624), 'test_loss': 4078.55780956492}\n",
            "[Epoch 182/200] {'loss': Tensor(3690.31926681), 'test_loss': 4073.1576364505804}\n",
            "[Epoch 183/200] {'loss': Tensor(3686.08048249), 'test_loss': 4067.797305677339}\n",
            "[Epoch 184/200] {'loss': Tensor(3681.87662045), 'test_loss': 4062.4764143470925}\n",
            "[Epoch 185/200] {'loss': Tensor(3677.70729273), 'test_loss': 4057.1945642929127}\n",
            "[Epoch 186/200] {'loss': Tensor(3673.57211614), 'test_loss': 4051.951362020246}\n",
            "[Epoch 187/200] {'loss': Tensor(3669.47071225), 'test_loss': 4046.7464186488887}\n",
            "[Epoch 188/200] {'loss': Tensor(3665.40270729), 'test_loss': 4041.5793498556714}\n",
            "[Epoch 189/200] {'loss': Tensor(3661.36773209), 'test_loss': 4036.4497758178827}\n",
            "[Epoch 190/200] {'loss': Tensor(3657.36542206), 'test_loss': 4031.3573211574117}\n",
            "[Epoch 191/200] {'loss': Tensor(3653.3954171), 'test_loss': 4026.3016148855954}\n",
            "[Epoch 192/200] {'loss': Tensor(3649.45736154), 'test_loss': 4021.282290348764}\n",
            "[Epoch 193/200] {'loss': Tensor(3645.55090411), 'test_loss': 4016.298985174477}\n",
            "[Epoch 194/200] {'loss': Tensor(3641.67569785), 'test_loss': 4011.3513412184493}\n",
            "[Epoch 195/200] {'loss': Tensor(3637.83140008), 'test_loss': 4006.439004512136}\n",
            "[Epoch 196/200] {'loss': Tensor(3634.01767234), 'test_loss': 4001.561625210992}\n",
            "[Epoch 197/200] {'loss': Tensor(3630.23418033), 'test_loss': 3996.7188575433843}\n",
            "[Epoch 198/200] {'loss': Tensor(3626.48059387), 'test_loss': 3991.9103597601484}\n",
            "[Epoch 199/200] {'loss': Tensor(3622.75658684), 'test_loss': 3987.1357940847897}\n",
            "[Epoch 200/200] {'loss': Tensor(3619.0618371), 'test_loss': 3982.394826664311}\n"
          ]
        }
      ],
      "source": [
        "import torch\n",
        "import torch.nn as nn\n",
        "\n",
        "class FakeTorchModule:\n",
        "    \"\"\"\n",
        "        Needed so that we can do manual linear regression.\n",
        "    \"\"\"\n",
        "\n",
        "    def __init__(self):\n",
        "        self.device = \"\"\n",
        "\n",
        "    def __call__(self, *args, **kwargs):\n",
        "        return self.forward(*args, **kwargs)\n",
        "\n",
        "    def to(self, device):\n",
        "        return self\n",
        "\n",
        "    def parameters(self):\n",
        "        params = []\n",
        "        for k,v in self.__dict__.items():\n",
        "            params += getattr(v, 'parameters', lambda: [])()\n",
        "        return params\n",
        "\n",
        "    def train(self):\n",
        "        for p in self.parameters():\n",
        "            p.requires_grad = getattr(p, 'required_grad', p.requires_grad)\n",
        "    \n",
        "    def eval(self):\n",
        "        for p in self.parameters():\n",
        "            p.required_grad = p.requires_grad\n",
        "            p.requires_grad = False\n",
        "\n",
        "class ManualRegression(FakeTorchModule):\n",
        "    \"\"\"\n",
        "        Allows us to use our custom Linear layer and SGD optimizer.\n",
        "        Subclasses FakeTorchModule\n",
        "    \"\"\"\n",
        "\n",
        "    def __init__(self, input_dims, output_dims):\n",
        "        self.device = torch.device(\"cuda:0\" if torch.cuda.is_available() else \"cpu\")        \n",
        "        super().__init__()\n",
        "        ## TODO: Incorporate your custom components in the initialization pipeline. \n",
        "        self.dense = Linear(input_dims, output_dims).to(self.device) # sets the dense layer to be the Linear class with inputs: input_dims, output_dims\n",
        "        self.activation = None # initilizes activation to None\n",
        "        self.loss = None # initilizes loss to None\n",
        "        self.set_learning_rate()\n",
        "        \n",
        "\n",
        "    def set_learning_rate(self, learning_rate=0.001):\n",
        "        ## TODO: Use your new SGD component and make changes as appropriate.\n",
        "        self.optimizer = SGD(self.parameters(), lr=learning_rate) # sets the optimizer to be the SGD class we wrote\n",
        "\n",
        "    def forward(self, x):\n",
        "        ## TODO: Implement the forward function as appropriate. Make changes as necessary\n",
        "        x = self.dense(x) # calculates the forward pass of x for dense and activation\n",
        "        x = self.activation(x)\n",
        "        return x\n",
        "\n",
        "class TrainTest2(TrainTest):\n",
        "    # no_grad = torch.no_grad\n",
        "    no_grad = Tensor.no_grad\n",
        "\n",
        "class ManualLinearRegression(ManualRegression, TrainTest2):\n",
        "    def __init__(self, input_dims, output_dims):\n",
        "        super().__init__(input_dims, output_dims)\n",
        "        ## TODO: Implement the subclass as appropriate with your own implementations\n",
        "        self.activation = nn.Identity()\n",
        "        self.loss = MSELoss()\n",
        "\n",
        "## Train the manual linear regression model\n",
        "model = ManualLinearRegression(10, 1)\n",
        "model.set_learning_rate(0.35)\n",
        "model.train_test(\n",
        "    [[Tensor(X0), Tensor(Y0)]], \n",
        "    [[Tensor(X1), Tensor(Y1)]],\n",
        "    epochs=200\n",
        ");\n",
        "## TODO: Compare this model's performance to the first linear regression model -- they should be similar"
      ]
    },
    {
      "cell_type": "markdown",
      "metadata": {
        "id": "AhxMFrlPOX2J"
      },
      "source": [
        "-----"
      ]
    },
    {
      "cell_type": "markdown",
      "metadata": {
        "id": "v6DGrd50k0J5"
      },
      "source": [
        "## Wrapping Up\n",
        "\n",
        "Congratulations, you've finished this assignment! You should now have a better understand of linear regression, loss functions, and optimizers/gradient descent. This assignment provides the foundation for Homework 2, so feel free to come back or read it over again to get a solid understanding.\n",
        "\n",
        "Be sure to submit your finished notebook (follow the guidelines on the handout)."
      ]
    }
  ],
  "metadata": {
    "colab": {
      "provenance": [],
      "toc_visible": true
    },
    "kernelspec": {
      "display_name": "DL",
      "language": "python",
      "name": "python3"
    },
    "language_info": {
      "codemirror_mode": {
        "name": "ipython",
        "version": 3
      },
      "file_extension": ".py",
      "mimetype": "text/x-python",
      "name": "python",
      "nbconvert_exporter": "python",
      "pygments_lexer": "ipython3",
      "version": "3.10.8"
    },
    "vscode": {
      "interpreter": {
        "hash": "759be6693a164ddeab1e231298c2a01a8302a7c7dfd4e560844dbce42a896f34"
      }
    }
  },
  "nbformat": 4,
  "nbformat_minor": 0
}
