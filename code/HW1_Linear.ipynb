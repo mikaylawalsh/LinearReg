{
  "cells": [
    {
      "cell_type": "markdown",
      "metadata": {
        "id": "B4oKbqMWMpMN"
      },
      "source": [
        "# CS1470/2470 HW1: Single-Layered Neural Networks\n",
        "\n",
        "In this homework assignment, you will build a simple linear model using differential modules.\n",
        "\n",
        "---"
      ]
    },
    {
      "cell_type": "markdown",
      "metadata": {
        "id": "3CLyvlysHCK9"
      },
      "source": [
        "## Starting Our Modular API\n",
        "\n",
        "### **The goal of this assignment is as follows:** \n",
        "- Organize our understanding of deep learning into a modular framework. \n",
        "- Get familiarized with a simple modular API which reflects (but is a simplification of) some of PyTorch's systems. \n",
        "- Implement some nice modular components and be able to construct a functional single-file neural network from it. "
      ]
    },
    {
      "cell_type": "markdown",
      "metadata": {
        "id": "ZFUeG0msHRyo"
      },
      "source": [
        "### Improving The Old Way via Chain Rule\n",
        "\n",
        "Recall that in the machine learning lab, we got the chance to make some simple but effective regression models! Given some realizations $X \\sim \\mathcal{X}$ and $Y = \\mathbb{E}[Y|X] + \\xi$, we were able to train up a model $h_{\\theta} \\in \\mathcal{H}$ which was similar to $\\mathbb{E}[Y|X]$ and thereby minimized an empirical loss $\\mathcal{L}$ of our choice.\n",
        "\n",
        "> As a reminder, $\\mathcal{X}$ is the space of all candidate functions.\n",
        "\n",
        "In these cases, we assumed that $h_{\\theta}$ had a relatively simple and non-flexible architecture, which meant that we could manually specify the structure and simply derive and code up our gradient formula once. Furthermore, since the optimization process was concave, we could even skip the gradient computation and directly derive a loss-minimizing parameter selection. \n",
        "\n",
        "Of course, there are hard limits to what this kind of architecture can provide us; sometimes the relationships that the model needs to capture are relatively complex and might not be resolvable in such a fashion. And that's why this course exists!"
      ]
    },
    {
      "cell_type": "markdown",
      "metadata": {
        "id": "VmnuKJmCHmpg"
      },
      "source": [
        "#### **Problem:** \n",
        "> This is extremely time-consuming and rigid! What happens if we switched out an activation function? A loss function? We'd have to re-specify the gradient every time!\n",
        "\n",
        "#### **Solution:** \n",
        "> Let's take advantage of the chain rule! "
      ]
    },
    {
      "cell_type": "markdown",
      "metadata": {
        "id": "ecdHbe0xHb1o"
      },
      "source": [
        "**Naive Solution:** If we really wanted to, we could approach this problem in the same way as before, and just code up the gradient functions manually. Similarly to before, this would allow us to propagate gradients through, say, a specified loss function, an activation function, and a dense layer. We could also do it for 2 dense layers; just use the old gradient function for the weights in layer 2, compute the new gradient for the weights in layer 1, and so on. "
      ]
    },
    {
      "cell_type": "markdown",
      "metadata": {
        "id": "OTfm_9fmHkhE"
      },
      "source": [
        "Recall that per the chain rule, if there exists a set of differentiable functions $c(b)$ and $b(a)$, then \n",
        "\n",
        "$$\\frac{\\partial a}{\\partial c} = \\frac{\\partial a}{\\partial b} \\frac{\\partial b}{\\partial c}$$\n",
        "\n",
        "Going back to our regression model, let's assume that we have a layered process: \n",
        "\n",
        "$$x \\to h_\\theta(x) \\to \\mathcal{L}(h_\\theta)$$\n",
        "\n",
        "This implies that we can compute the partial of the trainable parameters $\\theta$ through a loss evaluation $\\mathcal{L}$ and a dense layer $h_\\theta(x)$ by the following relationship:\n",
        "\n",
        "$$\\frac{\\partial \\mathcal{L}}{\\partial \\theta} = \\frac{\\partial \\mathcal{h_\\theta}}{\\partial \\theta}\\frac{\\partial \\mathcal{L}}{\\partial h_\\theta}$$\n",
        "\n",
        "With a similar logic, you can also make the assertion that you can also get the partial with respect to the input $x$:\n",
        "\n",
        "$$\\frac{\\partial \\mathcal{L}}{\\partial x} = \\frac{\\partial h_\\theta}{\\partial x}\\frac{\\partial \\mathcal{L}}{\\partial h_\\theta}$$\n",
        "\n",
        "So... by the same token, is there anything stopping us from going further? Let's say that we decided to have another hypothesis function such that $x = h'_{\\theta'}(x')$ for some other hypothesis function and inputs? The new structure would then be: \n",
        "\n",
        "$$x' \\to \\big[ x = h'_{\\theta'}(x') \\big] \\to h_\\theta(x) \\to \\mathcal{L}(h_\\theta)$$\n",
        "\n",
        "Without the chain rule, coding in the facilities to optimize $\\theta'$ might have been tricky, but with the chain rule we know that:\n",
        "\n",
        "$$\\frac{\\partial \\mathcal{L}}{\\partial \\theta'} \n",
        "= \\frac{\\partial x}{\\partial \\theta'}\\frac{\\partial h}{\\partial x}\\frac{\\partial \\mathcal{L}}{\\partial h} \n",
        "= \\frac{\\partial x}{\\partial \\theta'}\\frac{\\partial \\mathcal{L}}{\\partial x}$$"
      ]
    },
    {
      "cell_type": "markdown",
      "metadata": {
        "id": "UUJfaOFpIJbD"
      },
      "source": [
        "Notice how this process is both predictable and scales very well! Say that we wanted to add some activation functions to restrict the range of the hypothesis functions. This trivially inserts into the chain and everything still works and will look something like this: \n",
        "\n",
        "$$ \\frac{\\partial \\mathcal{L}}{\\partial x} = \\frac{\\partial h}{\\partial x}\\frac{\\partial a}{\\partial h}\\frac{\\partial \\mathcal{L}}{\\partial a} \n",
        "\\ \\text{ and } \\ \\frac{\\partial \\mathcal{L}}{\\partial \\theta} = \\frac{\\partial h}{\\partial \\theta}\\frac{\\partial a}{\\partial h}\\frac{\\partial \\mathcal{L}}{\\partial a} \n",
        "$$"
      ]
    },
    {
      "cell_type": "markdown",
      "metadata": {
        "id": "KVyTXT5TIOsz"
      },
      "source": [
        "And with that, we start to approach the reason why this is such a powerful formulation: The cumulative nature of the process. Specifically, consider the process that needs to happen in order to compute this for the extended 2-layer example: \n",
        "\n",
        "$$\n",
        "\\begin{align}\n",
        "\\frac{\\partial a}{\\partial h}\\frac{\\partial \\mathcal{L}}{\\partial a} \n",
        "= \\frac{\\partial \\mathcal{L}}{\\partial h} \n",
        "&\\to \\cdots = \\frac{\\partial \\mathcal{L}}{\\partial x} \n",
        "&\\to \\cdots = \\frac{\\partial \\mathcal{L}}{\\partial a'}\n",
        "&\\to \\cdots = \\frac{\\partial \\mathcal{L}}{\\partial h'} \n",
        "&\\to \\cdots = \\frac{\\partial \\mathcal{L}}{\\partial x'} \n",
        "\\\\\n",
        "&\\searrow \\cdots = \\frac{\\partial \\mathcal{L}}{\\partial \\theta} \n",
        "&&&\\searrow \\cdots = \\frac{\\partial \\mathcal{L}}{\\partial \\theta'} \n",
        "% \\\\\n",
        "% &\\searrow \\cdots = \\frac{\\partial \\mathcal{L}}{\\partial \\theta} \n",
        "% \\to \\cdots = \\frac{\\partial \\mathcal{L}}{\\partial a'} \n",
        "% \\to \\cdots = \\frac{\\partial \\mathcal{L}}{\\partial h'} \n",
        "% &\n",
        "% \\to \\cdots = \\frac{\\partial \\mathcal{L}}{\\partial \\theta'} \n",
        "% \\\\ \n",
        "% &&\n",
        "% \\to \\cdots = \\frac{\\partial \\mathcal{L}}{\\partial x'} \n",
        "\\end{align}\n",
        "$$\n",
        "\n",
        "... and this is the process known as **back-propagation** *(and a special case of **auto-differentiation**)*!"
      ]
    },
    {
      "cell_type": "markdown",
      "metadata": {
        "id": "fdK16iXOVgta"
      },
      "source": [
        "-----"
      ]
    },
    {
      "cell_type": "markdown",
      "metadata": {
        "id": "MhgMs3u_S1OU"
      },
      "source": [
        "## Loading In Our Data"
      ]
    },
    {
      "cell_type": "markdown",
      "metadata": {
        "id": "tV7vjVbTf9Xg"
      },
      "source": [
        "The first thing we have to do is load in our data to use our model with. We'll be working with the [diabetes dataset from the sklearn package](https://scikit-learn.org/stable/datasets/toy_dataset.html#diabetes-dataset). We've already provided the code to load in the input data and the ground truth labels (stored as `X` and `Y` respectively below).\n",
        "\n",
        "**[TODO]:** Split the samples into training and testing sets. We'll train with the train set and reserve the testing set to evaluate the model's performance on samples it hasn't seen.\n",
        "\n",
        "The diabetes dataset has 442 samples. Each sample's input data has 10 data points for some key metrics, like age and cholesterol levels. The \"label\" is a number representing disease progression one year after baseline. Thus, `X` has shape `(442, 10)`, while `Y` has shape `(442,)`.\n",
        "\n",
        "**[TODO]:** Reshape the `Y` subsets to have shape `(num_samples, 1)`."
      ]
    },
    {
      "cell_type": "code",
      "execution_count": 361,
      "metadata": {
        "colab": {
          "base_uri": "https://localhost:8080/"
        },
        "id": "gytrDuxV5gFO",
        "outputId": "25ac15b0-866c-43d8-cff9-ee36934b4551"
      },
      "outputs": [
        {
          "name": "stdout",
          "output_type": "stream",
          "text": [
            "> Input shape: (353, 10) for training, (88, 10) for testing\n",
            "> Label shape: (353, 1) for training, (88, 1) for testing\n"
          ]
        }
      ],
      "source": [
        "import numpy as np\n",
        "from sklearn.datasets import load_diabetes\n",
        "\n",
        "diabetes = load_diabetes()\n",
        "X, Y = diabetes.data, diabetes.target\n",
        "\n",
        "## TODO: Split the data into a 80%-20% training-testing split\n",
        "# skylearn.model_selection.train_test_split(X, Y, test_size = .2) ??\n",
        "## TODO: Reshape the Y subsets to have shape (num_samples, 1)\n",
        "\n",
        "split = int(0.8*len(X))\n",
        "X0, X1, Y0, Y1 = X[:split, :], X[split+1:, :], Y[:split], Y[split+1:] \n",
        "Y0 = Y0.reshape(-1, 1)\n",
        "Y1 = Y1.reshape(-1,1)\n",
        "\n",
        "\n",
        "print(f\"\"\"\n",
        "> Input shape: {X0.shape} for training, {X1.shape} for testing\n",
        "> Label shape: {Y0.shape} for training, {Y1.shape} for testing\n",
        "\"\"\".strip())"
      ]
    },
    {
      "cell_type": "markdown",
      "metadata": {
        "id": "CIYU_639VgHq"
      },
      "source": [
        "## **Exploring a possible modular implementation: PyTorch**"
      ]
    },
    {
      "cell_type": "markdown",
      "metadata": {
        "id": "YHs57_36jfDL"
      },
      "source": [
        "Next, we'll want to build up a Regression model interface, from which we can implement specific regression model classes, like the LinearRegression class we'll work with later. \n",
        "\n",
        "We subclass the `nn.Module class`, which represents any module (like a layer or model) of a deep learning system."
      ]
    },
    {
      "cell_type": "code",
      "execution_count": 362,
      "metadata": {
        "id": "DG6vkwv5chPg"
      },
      "outputs": [],
      "source": [
        "import torch\n",
        "import torch.nn as nn\n",
        "\n",
        "class Regression(nn.Module):\n",
        "\n",
        "    \"\"\"\n",
        "    Initialize all the inherent \"things\" inside of a model!\n",
        "    This includes things like the layers, activation/loss functions, and optimzer. \n",
        "    \"\"\"\n",
        "    def __init__(self, input_dims, output_dims):\n",
        "        self.device = torch.device(\"cuda:0\" if torch.cuda.is_available() else \"cpu\")        \n",
        "        super().__init__()\n",
        "        self.dense = nn.Linear(input_dims, output_dims).to(self.device)   \n",
        "        self.activation = None  ## To be specified in subclasses \n",
        "        self.loss = None        ## To be specified in subclasses \n",
        "        self.set_learning_rate()\n",
        "\n",
        "    \"\"\"\n",
        "    Sets up the optmizer\n",
        "    \"\"\"\n",
        "    def set_learning_rate(self, learning_rate=0.001):\n",
        "        self.optimizer = torch.optim.SGD(self.parameters(), lr=learning_rate) ## Simple stochastic gradient descent (SGD) optimizer\n",
        "\n",
        "    \"\"\"\n",
        "    Forward pass of the model\n",
        "    Given an input x, how does the model process the input to get its output?\n",
        "    \"\"\"\n",
        "    def forward(self, x):\n",
        "        x = self.dense(x)\n",
        "        x = self.activation(x)\n",
        "        return x\n"
      ]
    },
    {
      "cell_type": "markdown",
      "metadata": {
        "id": "rTzEFlA0TFZB"
      },
      "source": [
        "## Adding a PyTorch Training/Evaluation Routine"
      ]
    },
    {
      "cell_type": "markdown",
      "metadata": {
        "id": "JBSK640PoDWX"
      },
      "source": [
        "Now that we have the basis for a Regression model, we need to describe how to train (`fit`) and evaluate (`evaluate`) our model, given data. \n",
        "Every epoch, we want to fit our model to the training data, and then evaluate our model on the testing data."
      ]
    },
    {
      "cell_type": "code",
      "execution_count": 363,
      "metadata": {
        "id": "aUetVEGtS9k9"
      },
      "outputs": [],
      "source": [
        "class TrainTest:\n",
        "\n",
        "    no_grad = torch.no_grad\n",
        "\n",
        "    def fit(self, data):\n",
        "        ## Training loop\n",
        "        self.train()        ## Set model into training mode\n",
        "        ## Iterate over the data batches\n",
        "        for batch, (inputs, target) in enumerate(data):\n",
        "            ## In real pytorch, you'd need to set the device\n",
        "            inputs = inputs.to(self.device)\n",
        "            target = target.to(self.device)\n",
        "            ## Erase the gradient history\n",
        "            self.optimizer.zero_grad()\n",
        "            ## Do a forward pass on the model\n",
        "            output = self(inputs)\n",
        "            ## Compute the loss\n",
        "            loss = self.loss(output, target)\n",
        "            ## Run backwards pass from the loss through the previous layers\n",
        "            ## This will accumulate gradients for the parameters that need to be optimized\n",
        "            loss.backward()\n",
        "            ## Perform a single optimization step\n",
        "            self.optimizer.step()\n",
        "        return {'loss' : loss}\n",
        "\n",
        "    def evaluate(self, data):\n",
        "        ## Set model into \"evaluate\" mode so that the parameters don't get updated\n",
        "        self.eval()\n",
        "        total_loss = 0\n",
        "        ## Cut off the tensor training scope to make sure weights aren't updated\n",
        "        ## For now, it's torch.no_grad; later, you'll use Tensor.no_grad\n",
        "        with TrainTest.no_grad():\n",
        "            for inputs, target in data:\n",
        "                ## In real pytorch, you'd need to set the device\n",
        "                inputs = inputs.to(self.device)\n",
        "                target = target.to(self.device)\n",
        "                output = self(inputs)\n",
        "                total_loss += self.loss(output, target).item()  # sum up batch loss\n",
        "\n",
        "        total_loss /= len(data)\n",
        "        return {'test_loss' : total_loss}\n",
        "        \n",
        "    def train_test(self, train_data, test_data, epochs=1):\n",
        "        ## Does both training and validation on a per-epoch basis\n",
        "        all_stats = []\n",
        "        for epoch in range(epochs):\n",
        "            train_stats = self.fit(train_data)\n",
        "            test_stats = self.evaluate(test_data)\n",
        "            all_stats += [{**train_stats, **test_stats}]\n",
        "            print(f'[Epoch {epoch+1}/{epochs}]', all_stats[-1])\n",
        "        return all_stats"
      ]
    },
    {
      "cell_type": "markdown",
      "metadata": {
        "id": "YDNhzYnUTNMa"
      },
      "source": [
        "## Making Linear Regression with Train/Test Capabilities"
      ]
    },
    {
      "cell_type": "markdown",
      "metadata": {
        "id": "njv7q2UTTgQE"
      },
      "source": [
        "Next, we implement the `LinearRegression` class, which subclasses both `Regression` and `TrainTest` to inherit useful methods. \n",
        "\n",
        "Consider a dense layer represented by $Y = XA + B$ where: \n",
        "- $X$ has shape `(n,input_dims)`\n",
        "- $A$ has shape `(input_dims,output_dims)`\n",
        "- $B$ has shape `(n,)`\n",
        "- $Y$ has shape `(n, output_dims)`. \n",
        "\n",
        "Let each row of $X, B, Y$ (or the 0$^\\text{th}$ dimension) represent a different sample. Disregarding bias, note how any given row in $Y$ is a set of linear combinations of the same row in $X$. In other words, a Dense Layer is high-dimensional Linear Regression. \n",
        "\n",
        "Once you've built up your model, try training and testing it in the code block below!"
      ]
    },
    {
      "cell_type": "code",
      "execution_count": 364,
      "metadata": {
        "id": "gYU8NKSdTc4W"
      },
      "outputs": [],
      "source": [
        "class LinearRegression(Regression, TrainTest):\n",
        "    def __init__(self, input_dims, output_dims):\n",
        "        super().__init__(input_dims, output_dims)\n",
        "        self.activation = nn.Identity()\n",
        "        self.loss = nn.MSELoss()"
      ]
    },
    {
      "cell_type": "code",
      "execution_count": 365,
      "metadata": {
        "colab": {
          "base_uri": "https://localhost:8080/"
        },
        "id": "FBUaTs3N_hmn",
        "outputId": "3fce3c13-46cf-4ae1-835a-53e3ed3de277"
      },
      "outputs": [
        {
          "name": "stdout",
          "output_type": "stream",
          "text": [
            "[Epoch 1/200] {'loss': tensor(28674.5703, grad_fn=<MseLossBackward0>), 'test_loss': 8856.6572265625}\n",
            "[Epoch 2/200] {'loss': tensor(7835.8286, grad_fn=<MseLossBackward0>), 'test_loss': 6715.86767578125}\n",
            "[Epoch 3/200] {'loss': tensor(5936.4224, grad_fn=<MseLossBackward0>), 'test_loss': 6447.595703125}\n",
            "[Epoch 4/200] {'loss': tensor(5741.8164, grad_fn=<MseLossBackward0>), 'test_loss': 6383.23583984375}\n",
            "[Epoch 5/200] {'loss': tensor(5700.9131, grad_fn=<MseLossBackward0>), 'test_loss': 6348.009765625}\n",
            "[Epoch 6/200] {'loss': tensor(5674.1128, grad_fn=<MseLossBackward0>), 'test_loss': 6318.81884765625}\n",
            "[Epoch 7/200] {'loss': tensor(5648.8477, grad_fn=<MseLossBackward0>), 'test_loss': 6291.3779296875}\n",
            "[Epoch 8/200] {'loss': tensor(5623.9839, grad_fn=<MseLossBackward0>), 'test_loss': 6264.63623046875}\n",
            "[Epoch 9/200] {'loss': tensor(5599.4150, grad_fn=<MseLossBackward0>), 'test_loss': 6238.3017578125}\n",
            "[Epoch 10/200] {'loss': tensor(5575.1313, grad_fn=<MseLossBackward0>), 'test_loss': 6212.28271484375}\n",
            "[Epoch 11/200] {'loss': tensor(5551.1245, grad_fn=<MseLossBackward0>), 'test_loss': 6186.5517578125}\n",
            "[Epoch 12/200] {'loss': tensor(5527.3936, grad_fn=<MseLossBackward0>), 'test_loss': 6161.0986328125}\n",
            "[Epoch 13/200] {'loss': tensor(5503.9346, grad_fn=<MseLossBackward0>), 'test_loss': 6135.9169921875}\n",
            "[Epoch 14/200] {'loss': tensor(5480.7441, grad_fn=<MseLossBackward0>), 'test_loss': 6111.001953125}\n",
            "[Epoch 15/200] {'loss': tensor(5457.8179, grad_fn=<MseLossBackward0>), 'test_loss': 6086.3515625}\n",
            "[Epoch 16/200] {'loss': tensor(5435.1538, grad_fn=<MseLossBackward0>), 'test_loss': 6061.96240234375}\n",
            "[Epoch 17/200] {'loss': tensor(5412.7466, grad_fn=<MseLossBackward0>), 'test_loss': 6037.830078125}\n",
            "[Epoch 18/200] {'loss': tensor(5390.5967, grad_fn=<MseLossBackward0>), 'test_loss': 6013.95361328125}\n",
            "[Epoch 19/200] {'loss': tensor(5368.6978, grad_fn=<MseLossBackward0>), 'test_loss': 5990.328125}\n",
            "[Epoch 20/200] {'loss': tensor(5347.0483, grad_fn=<MseLossBackward0>), 'test_loss': 5966.95166015625}\n",
            "[Epoch 21/200] {'loss': tensor(5325.6440, grad_fn=<MseLossBackward0>), 'test_loss': 5943.8203125}\n",
            "[Epoch 22/200] {'loss': tensor(5304.4824, grad_fn=<MseLossBackward0>), 'test_loss': 5920.9326171875}\n",
            "[Epoch 23/200] {'loss': tensor(5283.5610, grad_fn=<MseLossBackward0>), 'test_loss': 5898.28271484375}\n",
            "[Epoch 24/200] {'loss': tensor(5262.8765, grad_fn=<MseLossBackward0>), 'test_loss': 5875.87158203125}\n",
            "[Epoch 25/200] {'loss': tensor(5242.4258, grad_fn=<MseLossBackward0>), 'test_loss': 5853.693359375}\n",
            "[Epoch 26/200] {'loss': tensor(5222.2056, grad_fn=<MseLossBackward0>), 'test_loss': 5831.7470703125}\n",
            "[Epoch 27/200] {'loss': tensor(5202.2124, grad_fn=<MseLossBackward0>), 'test_loss': 5810.02978515625}\n",
            "[Epoch 28/200] {'loss': tensor(5182.4458, grad_fn=<MseLossBackward0>), 'test_loss': 5788.537109375}\n",
            "[Epoch 29/200] {'loss': tensor(5162.9014, grad_fn=<MseLossBackward0>), 'test_loss': 5767.2685546875}\n",
            "[Epoch 30/200] {'loss': tensor(5143.5762, grad_fn=<MseLossBackward0>), 'test_loss': 5746.2197265625}\n",
            "[Epoch 31/200] {'loss': tensor(5124.4678, grad_fn=<MseLossBackward0>), 'test_loss': 5725.388671875}\n",
            "[Epoch 32/200] {'loss': tensor(5105.5742, grad_fn=<MseLossBackward0>), 'test_loss': 5704.77294921875}\n",
            "[Epoch 33/200] {'loss': tensor(5086.8916, grad_fn=<MseLossBackward0>), 'test_loss': 5684.37060546875}\n",
            "[Epoch 34/200] {'loss': tensor(5068.4180, grad_fn=<MseLossBackward0>), 'test_loss': 5664.17822265625}\n",
            "[Epoch 35/200] {'loss': tensor(5050.1514, grad_fn=<MseLossBackward0>), 'test_loss': 5644.19287109375}\n",
            "[Epoch 36/200] {'loss': tensor(5032.0869, grad_fn=<MseLossBackward0>), 'test_loss': 5624.41259765625}\n",
            "[Epoch 37/200] {'loss': tensor(5014.2261, grad_fn=<MseLossBackward0>), 'test_loss': 5604.8359375}\n",
            "[Epoch 38/200] {'loss': tensor(4996.5625, grad_fn=<MseLossBackward0>), 'test_loss': 5585.458984375}\n",
            "[Epoch 39/200] {'loss': tensor(4979.0947, grad_fn=<MseLossBackward0>), 'test_loss': 5566.2802734375}\n",
            "[Epoch 40/200] {'loss': tensor(4961.8213, grad_fn=<MseLossBackward0>), 'test_loss': 5547.29736328125}\n",
            "[Epoch 41/200] {'loss': tensor(4944.7402, grad_fn=<MseLossBackward0>), 'test_loss': 5528.50732421875}\n",
            "[Epoch 42/200] {'loss': tensor(4927.8472, grad_fn=<MseLossBackward0>), 'test_loss': 5509.90771484375}\n",
            "[Epoch 43/200] {'loss': tensor(4911.1426, grad_fn=<MseLossBackward0>), 'test_loss': 5491.498046875}\n",
            "[Epoch 44/200] {'loss': tensor(4894.6206, grad_fn=<MseLossBackward0>), 'test_loss': 5473.27490234375}\n",
            "[Epoch 45/200] {'loss': tensor(4878.2817, grad_fn=<MseLossBackward0>), 'test_loss': 5455.2353515625}\n",
            "[Epoch 46/200] {'loss': tensor(4862.1226, grad_fn=<MseLossBackward0>), 'test_loss': 5437.37841796875}\n",
            "[Epoch 47/200] {'loss': tensor(4846.1411, grad_fn=<MseLossBackward0>), 'test_loss': 5419.70068359375}\n",
            "[Epoch 48/200] {'loss': tensor(4830.3345, grad_fn=<MseLossBackward0>), 'test_loss': 5402.20166015625}\n",
            "[Epoch 49/200] {'loss': tensor(4814.7026, grad_fn=<MseLossBackward0>), 'test_loss': 5384.87841796875}\n",
            "[Epoch 50/200] {'loss': tensor(4799.2412, grad_fn=<MseLossBackward0>), 'test_loss': 5367.728515625}\n",
            "[Epoch 51/200] {'loss': tensor(4783.9492, grad_fn=<MseLossBackward0>), 'test_loss': 5350.75048828125}\n",
            "[Epoch 52/200] {'loss': tensor(4768.8242, grad_fn=<MseLossBackward0>), 'test_loss': 5333.9423828125}\n",
            "[Epoch 53/200] {'loss': tensor(4753.8633, grad_fn=<MseLossBackward0>), 'test_loss': 5317.3017578125}\n",
            "[Epoch 54/200] {'loss': tensor(4739.0664, grad_fn=<MseLossBackward0>), 'test_loss': 5300.82666015625}\n",
            "[Epoch 55/200] {'loss': tensor(4724.4297, grad_fn=<MseLossBackward0>), 'test_loss': 5284.51513671875}\n",
            "[Epoch 56/200] {'loss': tensor(4709.9531, grad_fn=<MseLossBackward0>), 'test_loss': 5268.36572265625}\n",
            "[Epoch 57/200] {'loss': tensor(4695.6323, grad_fn=<MseLossBackward0>), 'test_loss': 5252.376953125}\n",
            "[Epoch 58/200] {'loss': tensor(4681.4673, grad_fn=<MseLossBackward0>), 'test_loss': 5236.5458984375}\n",
            "[Epoch 59/200] {'loss': tensor(4667.4556, grad_fn=<MseLossBackward0>), 'test_loss': 5220.87060546875}\n",
            "[Epoch 60/200] {'loss': tensor(4653.5947, grad_fn=<MseLossBackward0>), 'test_loss': 5205.349609375}\n",
            "[Epoch 61/200] {'loss': tensor(4639.8833, grad_fn=<MseLossBackward0>), 'test_loss': 5189.98095703125}\n",
            "[Epoch 62/200] {'loss': tensor(4626.3203, grad_fn=<MseLossBackward0>), 'test_loss': 5174.763671875}\n",
            "[Epoch 63/200] {'loss': tensor(4612.9019, grad_fn=<MseLossBackward0>), 'test_loss': 5159.69580078125}\n",
            "[Epoch 64/200] {'loss': tensor(4599.6284, grad_fn=<MseLossBackward0>), 'test_loss': 5144.77490234375}\n",
            "[Epoch 65/200] {'loss': tensor(4586.4971, grad_fn=<MseLossBackward0>), 'test_loss': 5130.0}\n",
            "[Epoch 66/200] {'loss': tensor(4573.5063, grad_fn=<MseLossBackward0>), 'test_loss': 5115.369140625}\n",
            "[Epoch 67/200] {'loss': tensor(4560.6538, grad_fn=<MseLossBackward0>), 'test_loss': 5100.8798828125}\n",
            "[Epoch 68/200] {'loss': tensor(4547.9390, grad_fn=<MseLossBackward0>), 'test_loss': 5086.53125}\n",
            "[Epoch 69/200] {'loss': tensor(4535.3594, grad_fn=<MseLossBackward0>), 'test_loss': 5072.32177734375}\n",
            "[Epoch 70/200] {'loss': tensor(4522.9141, grad_fn=<MseLossBackward0>), 'test_loss': 5058.25}\n",
            "[Epoch 71/200] {'loss': tensor(4510.6001, grad_fn=<MseLossBackward0>), 'test_loss': 5044.31396484375}\n",
            "[Epoch 72/200] {'loss': tensor(4498.4170, grad_fn=<MseLossBackward0>), 'test_loss': 5030.51171875}\n",
            "[Epoch 73/200] {'loss': tensor(4486.3628, grad_fn=<MseLossBackward0>), 'test_loss': 5016.84228515625}\n",
            "[Epoch 74/200] {'loss': tensor(4474.4360, grad_fn=<MseLossBackward0>), 'test_loss': 5003.30322265625}\n",
            "[Epoch 75/200] {'loss': tensor(4462.6353, grad_fn=<MseLossBackward0>), 'test_loss': 4989.89501953125}\n",
            "[Epoch 76/200] {'loss': tensor(4450.9590, grad_fn=<MseLossBackward0>), 'test_loss': 4976.6142578125}\n",
            "[Epoch 77/200] {'loss': tensor(4439.4053, grad_fn=<MseLossBackward0>), 'test_loss': 4963.46044921875}\n",
            "[Epoch 78/200] {'loss': tensor(4427.9722, grad_fn=<MseLossBackward0>), 'test_loss': 4950.431640625}\n",
            "[Epoch 79/200] {'loss': tensor(4416.6602, grad_fn=<MseLossBackward0>), 'test_loss': 4937.5263671875}\n",
            "[Epoch 80/200] {'loss': tensor(4405.4658, grad_fn=<MseLossBackward0>), 'test_loss': 4924.744140625}\n",
            "[Epoch 81/200] {'loss': tensor(4394.3882, grad_fn=<MseLossBackward0>), 'test_loss': 4912.08203125}\n",
            "[Epoch 82/200] {'loss': tensor(4383.4258, grad_fn=<MseLossBackward0>), 'test_loss': 4899.5400390625}\n",
            "[Epoch 83/200] {'loss': tensor(4372.5781, grad_fn=<MseLossBackward0>), 'test_loss': 4887.11572265625}\n",
            "[Epoch 84/200] {'loss': tensor(4361.8428, grad_fn=<MseLossBackward0>), 'test_loss': 4874.80810546875}\n",
            "[Epoch 85/200] {'loss': tensor(4351.2188, grad_fn=<MseLossBackward0>), 'test_loss': 4862.61669921875}\n",
            "[Epoch 86/200] {'loss': tensor(4340.7051, grad_fn=<MseLossBackward0>), 'test_loss': 4850.5390625}\n",
            "[Epoch 87/200] {'loss': tensor(4330.3003, grad_fn=<MseLossBackward0>), 'test_loss': 4838.57373046875}\n",
            "[Epoch 88/200] {'loss': tensor(4320.0020, grad_fn=<MseLossBackward0>), 'test_loss': 4826.720703125}\n",
            "[Epoch 89/200] {'loss': tensor(4309.8105, grad_fn=<MseLossBackward0>), 'test_loss': 4814.9775390625}\n",
            "[Epoch 90/200] {'loss': tensor(4299.7241, grad_fn=<MseLossBackward0>), 'test_loss': 4803.34326171875}\n",
            "[Epoch 91/200] {'loss': tensor(4289.7407, grad_fn=<MseLossBackward0>), 'test_loss': 4791.8173828125}\n",
            "[Epoch 92/200] {'loss': tensor(4279.8594, grad_fn=<MseLossBackward0>), 'test_loss': 4780.39794921875}\n",
            "[Epoch 93/200] {'loss': tensor(4270.0791, grad_fn=<MseLossBackward0>), 'test_loss': 4769.08349609375}\n",
            "[Epoch 94/200] {'loss': tensor(4260.3984, grad_fn=<MseLossBackward0>), 'test_loss': 4757.873046875}\n",
            "[Epoch 95/200] {'loss': tensor(4250.8169, grad_fn=<MseLossBackward0>), 'test_loss': 4746.76611328125}\n",
            "[Epoch 96/200] {'loss': tensor(4241.3325, grad_fn=<MseLossBackward0>), 'test_loss': 4735.76123046875}\n",
            "[Epoch 97/200] {'loss': tensor(4231.9443, grad_fn=<MseLossBackward0>), 'test_loss': 4724.85595703125}\n",
            "[Epoch 98/200] {'loss': tensor(4222.6519, grad_fn=<MseLossBackward0>), 'test_loss': 4714.05126953125}\n",
            "[Epoch 99/200] {'loss': tensor(4213.4526, grad_fn=<MseLossBackward0>), 'test_loss': 4703.34423828125}\n",
            "[Epoch 100/200] {'loss': tensor(4204.3467, grad_fn=<MseLossBackward0>), 'test_loss': 4692.734375}\n",
            "[Epoch 101/200] {'loss': tensor(4195.3325, grad_fn=<MseLossBackward0>), 'test_loss': 4682.2216796875}\n",
            "[Epoch 102/200] {'loss': tensor(4186.4077, grad_fn=<MseLossBackward0>), 'test_loss': 4671.80322265625}\n",
            "[Epoch 103/200] {'loss': tensor(4177.5742, grad_fn=<MseLossBackward0>), 'test_loss': 4661.47900390625}\n",
            "[Epoch 104/200] {'loss': tensor(4168.8281, grad_fn=<MseLossBackward0>), 'test_loss': 4651.248046875}\n",
            "[Epoch 105/200] {'loss': tensor(4160.1699, grad_fn=<MseLossBackward0>), 'test_loss': 4641.10888671875}\n",
            "[Epoch 106/200] {'loss': tensor(4151.5972, grad_fn=<MseLossBackward0>), 'test_loss': 4631.06005859375}\n",
            "[Epoch 107/200] {'loss': tensor(4143.1108, grad_fn=<MseLossBackward0>), 'test_loss': 4621.10205078125}\n",
            "[Epoch 108/200] {'loss': tensor(4134.7080, grad_fn=<MseLossBackward0>), 'test_loss': 4611.232421875}\n",
            "[Epoch 109/200] {'loss': tensor(4126.3892, grad_fn=<MseLossBackward0>), 'test_loss': 4601.451171875}\n",
            "[Epoch 110/200] {'loss': tensor(4118.1523, grad_fn=<MseLossBackward0>), 'test_loss': 4591.75634765625}\n",
            "[Epoch 111/200] {'loss': tensor(4109.9966, grad_fn=<MseLossBackward0>), 'test_loss': 4582.146484375}\n",
            "[Epoch 112/200] {'loss': tensor(4101.9219, grad_fn=<MseLossBackward0>), 'test_loss': 4572.623046875}\n",
            "[Epoch 113/200] {'loss': tensor(4093.9260, grad_fn=<MseLossBackward0>), 'test_loss': 4563.18310546875}\n",
            "[Epoch 114/200] {'loss': tensor(4086.0078, grad_fn=<MseLossBackward0>), 'test_loss': 4553.826171875}\n",
            "[Epoch 115/200] {'loss': tensor(4078.1682, grad_fn=<MseLossBackward0>), 'test_loss': 4544.5517578125}\n",
            "[Epoch 116/200] {'loss': tensor(4070.4050, grad_fn=<MseLossBackward0>), 'test_loss': 4535.35888671875}\n",
            "[Epoch 117/200] {'loss': tensor(4062.7175, grad_fn=<MseLossBackward0>), 'test_loss': 4526.24560546875}\n",
            "[Epoch 118/200] {'loss': tensor(4055.1045, grad_fn=<MseLossBackward0>), 'test_loss': 4517.21240234375}\n",
            "[Epoch 119/200] {'loss': tensor(4047.5654, grad_fn=<MseLossBackward0>), 'test_loss': 4508.25732421875}\n",
            "[Epoch 120/200] {'loss': tensor(4040.0996, grad_fn=<MseLossBackward0>), 'test_loss': 4499.38037109375}\n",
            "[Epoch 121/200] {'loss': tensor(4032.7058, grad_fn=<MseLossBackward0>), 'test_loss': 4490.580078125}\n",
            "[Epoch 122/200] {'loss': tensor(4025.3835, grad_fn=<MseLossBackward0>), 'test_loss': 4481.85595703125}\n",
            "[Epoch 123/200] {'loss': tensor(4018.1311, grad_fn=<MseLossBackward0>), 'test_loss': 4473.20654296875}\n",
            "[Epoch 124/200] {'loss': tensor(4010.9490, grad_fn=<MseLossBackward0>), 'test_loss': 4464.63232421875}\n",
            "[Epoch 125/200] {'loss': tensor(4003.8350, grad_fn=<MseLossBackward0>), 'test_loss': 4456.13134765625}\n",
            "[Epoch 126/200] {'loss': tensor(3996.7896, grad_fn=<MseLossBackward0>), 'test_loss': 4447.70263671875}\n",
            "[Epoch 127/200] {'loss': tensor(3989.8115, grad_fn=<MseLossBackward0>), 'test_loss': 4439.345703125}\n",
            "[Epoch 128/200] {'loss': tensor(3982.8994, grad_fn=<MseLossBackward0>), 'test_loss': 4431.06103515625}\n",
            "[Epoch 129/200] {'loss': tensor(3976.0532, grad_fn=<MseLossBackward0>), 'test_loss': 4422.845703125}\n",
            "[Epoch 130/200] {'loss': tensor(3969.2720, grad_fn=<MseLossBackward0>), 'test_loss': 4414.70068359375}\n",
            "[Epoch 131/200] {'loss': tensor(3962.5542, grad_fn=<MseLossBackward0>), 'test_loss': 4406.6240234375}\n",
            "[Epoch 132/200] {'loss': tensor(3955.9001, grad_fn=<MseLossBackward0>), 'test_loss': 4398.6162109375}\n",
            "[Epoch 133/200] {'loss': tensor(3949.3088, grad_fn=<MseLossBackward0>), 'test_loss': 4390.67529296875}\n",
            "[Epoch 134/200] {'loss': tensor(3942.7791, grad_fn=<MseLossBackward0>), 'test_loss': 4382.80078125}\n",
            "[Epoch 135/200] {'loss': tensor(3936.3105, grad_fn=<MseLossBackward0>), 'test_loss': 4374.99169921875}\n",
            "[Epoch 136/200] {'loss': tensor(3929.9031, grad_fn=<MseLossBackward0>), 'test_loss': 4367.248046875}\n",
            "[Epoch 137/200] {'loss': tensor(3923.5549, grad_fn=<MseLossBackward0>), 'test_loss': 4359.56982421875}\n",
            "[Epoch 138/200] {'loss': tensor(3917.2651, grad_fn=<MseLossBackward0>), 'test_loss': 4351.955078125}\n",
            "[Epoch 139/200] {'loss': tensor(3911.0344, grad_fn=<MseLossBackward0>), 'test_loss': 4344.40283203125}\n",
            "[Epoch 140/200] {'loss': tensor(3904.8611, grad_fn=<MseLossBackward0>), 'test_loss': 4336.91357421875}\n",
            "[Epoch 141/200] {'loss': tensor(3898.7451, grad_fn=<MseLossBackward0>), 'test_loss': 4329.48583984375}\n",
            "[Epoch 142/200] {'loss': tensor(3892.6848, grad_fn=<MseLossBackward0>), 'test_loss': 4322.119140625}\n",
            "[Epoch 143/200] {'loss': tensor(3886.6807, grad_fn=<MseLossBackward0>), 'test_loss': 4314.81298828125}\n",
            "[Epoch 144/200] {'loss': tensor(3880.7317, grad_fn=<MseLossBackward0>), 'test_loss': 4307.56591796875}\n",
            "[Epoch 145/200] {'loss': tensor(3874.8364, grad_fn=<MseLossBackward0>), 'test_loss': 4300.37841796875}\n",
            "[Epoch 146/200] {'loss': tensor(3868.9954, grad_fn=<MseLossBackward0>), 'test_loss': 4293.25}\n",
            "[Epoch 147/200] {'loss': tensor(3863.2075, grad_fn=<MseLossBackward0>), 'test_loss': 4286.17919921875}\n",
            "[Epoch 148/200] {'loss': tensor(3857.4717, grad_fn=<MseLossBackward0>), 'test_loss': 4279.1650390625}\n",
            "[Epoch 149/200] {'loss': tensor(3851.7883, grad_fn=<MseLossBackward0>), 'test_loss': 4272.20751953125}\n",
            "[Epoch 150/200] {'loss': tensor(3846.1558, grad_fn=<MseLossBackward0>), 'test_loss': 4265.30712890625}\n",
            "[Epoch 151/200] {'loss': tensor(3840.5740, grad_fn=<MseLossBackward0>), 'test_loss': 4258.46142578125}\n",
            "[Epoch 152/200] {'loss': tensor(3835.0432, grad_fn=<MseLossBackward0>), 'test_loss': 4251.67138671875}\n",
            "[Epoch 153/200] {'loss': tensor(3829.5608, grad_fn=<MseLossBackward0>), 'test_loss': 4244.9345703125}\n",
            "[Epoch 154/200] {'loss': tensor(3824.1282, grad_fn=<MseLossBackward0>), 'test_loss': 4238.25244140625}\n",
            "[Epoch 155/200] {'loss': tensor(3818.7437, grad_fn=<MseLossBackward0>), 'test_loss': 4231.623046875}\n",
            "[Epoch 156/200] {'loss': tensor(3813.4070, grad_fn=<MseLossBackward0>), 'test_loss': 4225.04541015625}\n",
            "[Epoch 157/200] {'loss': tensor(3808.1177, grad_fn=<MseLossBackward0>), 'test_loss': 4218.5205078125}\n",
            "[Epoch 158/200] {'loss': tensor(3802.8750, grad_fn=<MseLossBackward0>), 'test_loss': 4212.04736328125}\n",
            "[Epoch 159/200] {'loss': tensor(3797.6792, grad_fn=<MseLossBackward0>), 'test_loss': 4205.62451171875}\n",
            "[Epoch 160/200] {'loss': tensor(3792.5283, grad_fn=<MseLossBackward0>), 'test_loss': 4199.25244140625}\n",
            "[Epoch 161/200] {'loss': tensor(3787.4229, grad_fn=<MseLossBackward0>), 'test_loss': 4192.93017578125}\n",
            "[Epoch 162/200] {'loss': tensor(3782.3625, grad_fn=<MseLossBackward0>), 'test_loss': 4186.65673828125}\n",
            "[Epoch 163/200] {'loss': tensor(3777.3459, grad_fn=<MseLossBackward0>), 'test_loss': 4180.43310546875}\n",
            "[Epoch 164/200] {'loss': tensor(3772.3728, grad_fn=<MseLossBackward0>), 'test_loss': 4174.25732421875}\n",
            "[Epoch 165/200] {'loss': tensor(3767.4434, grad_fn=<MseLossBackward0>), 'test_loss': 4168.12939453125}\n",
            "[Epoch 166/200] {'loss': tensor(3762.5559, grad_fn=<MseLossBackward0>), 'test_loss': 4162.048828125}\n",
            "[Epoch 167/200] {'loss': tensor(3757.7114, grad_fn=<MseLossBackward0>), 'test_loss': 4156.01513671875}\n",
            "[Epoch 168/200] {'loss': tensor(3752.9082, grad_fn=<MseLossBackward0>), 'test_loss': 4150.02783203125}\n",
            "[Epoch 169/200] {'loss': tensor(3748.1465, grad_fn=<MseLossBackward0>), 'test_loss': 4144.08642578125}\n",
            "[Epoch 170/200] {'loss': tensor(3743.4255, grad_fn=<MseLossBackward0>), 'test_loss': 4138.1904296875}\n",
            "[Epoch 171/200] {'loss': tensor(3738.7451, grad_fn=<MseLossBackward0>), 'test_loss': 4132.33935546875}\n",
            "[Epoch 172/200] {'loss': tensor(3734.1035, grad_fn=<MseLossBackward0>), 'test_loss': 4126.5322265625}\n",
            "[Epoch 173/200] {'loss': tensor(3729.5022, grad_fn=<MseLossBackward0>), 'test_loss': 4120.77001953125}\n",
            "[Epoch 174/200] {'loss': tensor(3724.9397, grad_fn=<MseLossBackward0>), 'test_loss': 4115.05078125}\n",
            "[Epoch 175/200] {'loss': tensor(3720.4160, grad_fn=<MseLossBackward0>), 'test_loss': 4109.37451171875}\n",
            "[Epoch 176/200] {'loss': tensor(3715.9302, grad_fn=<MseLossBackward0>), 'test_loss': 4103.7412109375}\n",
            "[Epoch 177/200] {'loss': tensor(3711.4812, grad_fn=<MseLossBackward0>), 'test_loss': 4098.150390625}\n",
            "[Epoch 178/200] {'loss': tensor(3707.0708, grad_fn=<MseLossBackward0>), 'test_loss': 4092.600830078125}\n",
            "[Epoch 179/200] {'loss': tensor(3702.6965, grad_fn=<MseLossBackward0>), 'test_loss': 4087.0927734375}\n",
            "[Epoch 180/200] {'loss': tensor(3698.3586, grad_fn=<MseLossBackward0>), 'test_loss': 4081.6259765625}\n",
            "[Epoch 181/200] {'loss': tensor(3694.0566, grad_fn=<MseLossBackward0>), 'test_loss': 4076.19921875}\n",
            "[Epoch 182/200] {'loss': tensor(3689.7910, grad_fn=<MseLossBackward0>), 'test_loss': 4070.8125}\n",
            "[Epoch 183/200] {'loss': tensor(3685.5603, grad_fn=<MseLossBackward0>), 'test_loss': 4065.46630859375}\n",
            "[Epoch 184/200] {'loss': tensor(3681.3640, grad_fn=<MseLossBackward0>), 'test_loss': 4060.1591796875}\n",
            "[Epoch 185/200] {'loss': tensor(3677.2029, grad_fn=<MseLossBackward0>), 'test_loss': 4054.890625}\n",
            "[Epoch 186/200] {'loss': tensor(3673.0750, grad_fn=<MseLossBackward0>), 'test_loss': 4049.66015625}\n",
            "[Epoch 187/200] {'loss': tensor(3668.9812, grad_fn=<MseLossBackward0>), 'test_loss': 4044.468994140625}\n",
            "[Epoch 188/200] {'loss': tensor(3664.9204, grad_fn=<MseLossBackward0>), 'test_loss': 4039.31494140625}\n",
            "[Epoch 189/200] {'loss': tensor(3660.8931, grad_fn=<MseLossBackward0>), 'test_loss': 4034.198486328125}\n",
            "[Epoch 190/200] {'loss': tensor(3656.8977, grad_fn=<MseLossBackward0>), 'test_loss': 4029.118896484375}\n",
            "[Epoch 191/200] {'loss': tensor(3652.9348, grad_fn=<MseLossBackward0>), 'test_loss': 4024.075927734375}\n",
            "[Epoch 192/200] {'loss': tensor(3649.0037, grad_fn=<MseLossBackward0>), 'test_loss': 4019.06884765625}\n",
            "[Epoch 193/200] {'loss': tensor(3645.1047, grad_fn=<MseLossBackward0>), 'test_loss': 4014.098388671875}\n",
            "[Epoch 194/200] {'loss': tensor(3641.2361, grad_fn=<MseLossBackward0>), 'test_loss': 4009.163330078125}\n",
            "[Epoch 195/200] {'loss': tensor(3637.3987, grad_fn=<MseLossBackward0>), 'test_loss': 4004.263916015625}\n",
            "[Epoch 196/200] {'loss': tensor(3633.5918, grad_fn=<MseLossBackward0>), 'test_loss': 3999.3984375}\n",
            "[Epoch 197/200] {'loss': tensor(3629.8147, grad_fn=<MseLossBackward0>), 'test_loss': 3994.56787109375}\n",
            "[Epoch 198/200] {'loss': tensor(3626.0676, grad_fn=<MseLossBackward0>), 'test_loss': 3989.77099609375}\n",
            "[Epoch 199/200] {'loss': tensor(3622.3499, grad_fn=<MseLossBackward0>), 'test_loss': 3985.008056640625}\n",
            "[Epoch 200/200] {'loss': tensor(3618.6619, grad_fn=<MseLossBackward0>), 'test_loss': 3980.27880859375}\n"
          ]
        }
      ],
      "source": [
        "torch_model = LinearRegression(X0.shape[-1], 1)\n",
        "torch_model.set_learning_rate(0.35)\n",
        "torch_model.train_test(\n",
        "    [[torch.Tensor(X0), torch.Tensor(Y0)]], \n",
        "    [[torch.Tensor(X1), torch.Tensor(Y1)]],\n",
        "    epochs=200\n",
        ");"
      ]
    },
    {
      "cell_type": "markdown",
      "metadata": {
        "id": "H63TERfyvZtS"
      },
      "source": [
        "## Shapes That Might Be Useful..."
      ]
    },
    {
      "cell_type": "markdown",
      "metadata": {
        "id": "LtwbP5tRbJky"
      },
      "source": [
        "Throughout the duration of this course, you might find it really helpful to check the shapes of each of your different tensors and outputs just to verify that everything is working as intended. Check the block below to see an example!"
      ]
    },
    {
      "cell_type": "code",
      "execution_count": 366,
      "metadata": {
        "colab": {
          "base_uri": "https://localhost:8080/"
        },
        "id": "MBkTktWcD9dz",
        "outputId": "b3ec3eb7-fbc0-4337-8ad3-1e20e1d3aa62"
      },
      "outputs": [
        {
          "name": "stdout",
          "output_type": "stream",
          "text": [
            "> Prediction Shape: torch.Size([353, 1])\n",
            "> Weights    Shape: torch.Size([1, 10])\n",
            "> Bias       Shape: torch.Size([1])\n",
            "> Loss       Shape: torch.Size([])\n"
          ]
        }
      ],
      "source": [
        "y_true = torch.Tensor(Y0)\n",
        "y_pred = torch_model(torch.Tensor(X0))\n",
        "loss = torch_model.loss(y_true, y_pred)\n",
        "\n",
        "print(f\"\"\"\n",
        "> Prediction Shape: {y_pred.shape}\n",
        "> Weights    Shape: {list(torch_model.parameters())[0].shape}\n",
        "> Bias       Shape: {list(torch_model.parameters())[1].shape}\n",
        "> Loss       Shape: {loss.shape}\n",
        "\"\"\".strip())"
      ]
    },
    {
      "cell_type": "markdown",
      "metadata": {
        "id": "cu1pLK46fFqX"
      },
      "source": [
        "Next, let's start building up all the different parts of the basic PyTorch tools that we used in order to see what's under the hood."
      ]
    },
    {
      "cell_type": "markdown",
      "metadata": {
        "id": "0ZfozqWdLB2V"
      },
      "source": [
        "## PyTorch Complexity Assumptions"
      ]
    },
    {
      "cell_type": "markdown",
      "metadata": {
        "id": "oVv6iQios7-D"
      },
      "source": [
        "### Tensors\n",
        "- Tensors are responsible for maintaining their own gradients\n",
        "- Tensors hold on to `backward` functions to which they can pass a gradient into. These backwards functions are provided by the layers associated with those tensors. \n",
        "    - If a tensor is a terminal node, it will pass in an upstream gradient of `None`.\n",
        "    - If a tensor is a non-terminal node, it will pass the accumulated upstream gradient. \n",
        "    - `backward` functions as a linked list algorithm and crawls back the chain, computing the gradient for every tensor that it hits (as long as they require a gradient).\n",
        "- Since the tensors hold their own gradients, the optimizer can merely take the tensors' values, take their gradients, and then just optimize them.\n",
        "- However, because tensors are always keeping track of their gradients when `requires_grad` is set to `True`, we also want to add a way to stop tracking gradients.\n",
        "    - For instance, while evaluating the performance of our model, we want to make sure that the model doesn't learn anything from this evaluation phase.\n",
        "    - We can use the `no_grad` subclass to automatically handle the flipping of this `requires_grad` value. \n",
        "        - Every time we enter a `with Tensor.no_grad():` block, the code within `no_grad`'s `__enter__()` method will execute. \n",
        "        - Once we exit the same `with Tensor.no_grad():` block, `no_grad`'s `__exit()__` method will run."
      ]
    },
    {
      "cell_type": "code",
      "execution_count": 367,
      "metadata": {
        "id": "5ZbMLm30y3tD"
      },
      "outputs": [],
      "source": [
        "class Tensor(np.ndarray):\n",
        "\n",
        "    '''\n",
        "    Subclassing numpy arrays is a bit weird:\n",
        "    https://numpy.org/doc/stable/user/basics.subclassing.html\n",
        "\n",
        "    Just assume that the attributes referred to in __new__/__array_finalize__ \n",
        "    will be accessible in a Tensor when a new Tensor object is created.  \n",
        "    '''\n",
        "\n",
        "    requires_grad = True  ## Class variable; accessible by Tensor.requires_grad\n",
        "\n",
        "    def __new__(cls, input_array):\n",
        "        obj = np.asarray(input_array).view(cls)\n",
        "        obj.backward = lambda x: None   ## Backward starts as None, gets assigned later\n",
        "        obj.grad = None                 ## Gradient starts as None, gets computed later\n",
        "        obj.requires_grad = True        ## By default, we'll want to compute gradient for new tensors\n",
        "        obj.to = lambda x: obj          ## We don't handle special device support (i.e. cpu vs gpu/cuda)\n",
        "        return obj\n",
        "\n",
        "    def __array_finalize__(self, obj):\n",
        "        if obj is None: return\n",
        "        self.backward       = getattr(obj, 'backward',      lambda x: None)\n",
        "        self.to             = getattr(obj, 'to',            lambda x: obj)\n",
        "        self.grad           = getattr(obj, 'grad',          None)\n",
        "        self.requires_grad  = getattr(obj, 'requires_grad', None)\n",
        "\n",
        "    class no_grad():\n",
        "\n",
        "        '''\n",
        "        Synergizes with Tensor: By entering the tensor with no_grad scope, \n",
        "        the Tensor.requires_grad singleton will swap to False. \n",
        "        '''\n",
        "        \n",
        "        def __enter__(self):\n",
        "            # When tape scope is entered, stop asking tensors to record gradients\n",
        "            Tensor.requires_grad = False\n",
        "            return self\n",
        "\n",
        "        def __exit__(self, exc_type, exc_val, exc_tb):\n",
        "            # When tape scope is exited, let Diffable start recording to self.operation\n",
        "            Tensor.requires_grad = True"
      ]
    },
    {
      "cell_type": "markdown",
      "metadata": {
        "id": "ovL7L6STvXCU"
      },
      "source": [
        "### Diffable\n",
        "\n",
        "Let's specify a \"Diffable\" object which will represent a module that can be differentiated. This class will make the following assumptions: \n",
        "- Gradients will need to flow through the input pathways in order to compute earlier gradients. \n",
        "    - Therefore, inputs will need an appropriate \"backward\"\n",
        "- Parameters will need to recieve gradients.\n",
        "- More specifically, if a `Diffable` object performs an operation on some input, then we know that the gradient from the output of the Diffable w.r.t. the inputs is the gradient of the `Diffable`'s operations w.r.t. its inputs.\n",
        "  - Thus, a `Diffable`'s `input_gradients()` function should return a tuple with each of the partial derivatives of the operations performed in the forward pass."
      ]
    },
    {
      "cell_type": "code",
      "execution_count": 368,
      "metadata": {
        "id": "9v68mc_U1ymJ"
      },
      "outputs": [],
      "source": [
        "from abc import ABC, abstractmethod  # # For abstract method support\n",
        "\n",
        "class Diffable(ABC):\n",
        "    \"\"\"\n",
        "        We use these to represent differentiable layers which we can compute gradients for.\n",
        "    \"\"\"\n",
        "\n",
        "    def to(self, device):\n",
        "        return self         # Just there to ignore device setting calls\n",
        "    \n",
        "    def __call__(self, *args, **kwargs):\n",
        "        \n",
        "        ## The call method keeps track of method inputs and outputs\n",
        "        self.argnames   = self.forward.__code__.co_varnames[1:]\n",
        "        named_args      = {self.argnames[i] : args[i] for i in range(len(args))}\n",
        "        self.input_dict = {**named_args, **kwargs}\n",
        "        self.inputs     = [self.input_dict[arg] for arg in self.argnames if arg in self.input_dict.keys()]\n",
        "        self.outputs    = self.forward(*args, **kwargs)\n",
        "\n",
        "        ## Make sure outputs are tensors and tie back to this layer\n",
        "        list_outs = isinstance(self.outputs, list) or isinstance(self.outputs, tuple)\n",
        "        if not list_outs:\n",
        "            self.outputs = [self.outputs]\n",
        "        self.outputs = [Tensor(out) for out in self.outputs]\n",
        "        for out in self.outputs: \n",
        "            out.backward = self.backward\n",
        "\n",
        "        # print(self.__class__.__name__.ljust(24), [v.shape for v in self.inputs], '->', [v.shape for v in self.outputs])\n",
        "            \n",
        "        ## And then finally, it returns the output, thereby wrapping the forward\n",
        "        return self.outputs if list_outs else self.outputs[0]\n",
        "\n",
        "    def parameters(self):\n",
        "        \"\"\"Returns a list of parameters\"\"\"\n",
        "        return ()\n",
        "\n",
        "    @abstractmethod\n",
        "    def forward(self, x):\n",
        "        \"\"\"Pass inputs through function. Can store inputs and outputs as instance variables\"\"\"\n",
        "        pass\n",
        "\n",
        "    @abstractmethod\n",
        "    def input_gradients(self):\n",
        "        \"\"\"Returns local gradient of layer output w.r.t. input\"\"\"\n",
        "        pass\n",
        "\n",
        "    def weight_gradients(self):\n",
        "        \"\"\"Returns local gradient of layer output w.r.t. weights\"\"\"\n",
        "        return []\n",
        "    \n",
        "    @abstractmethod\n",
        "    def backward(self, grad=np.array([[1]])):\n",
        "        \"\"\"\n",
        "        Propagate upstream gradient backwards by composing with local gradient\n",
        "        \n",
        "        SCAFFOLD: \n",
        "\n",
        "        Differentiate with respect to layer parameters:\n",
        "            For every param-gradient pair\n",
        "            - If all Tensors or this tensor do not require gradients, then skip\n",
        "            - Otherwise, compose upstream and local gradient\n",
        "        \n",
        "        Differentiate with respect to layer input:\n",
        "            For every input-gradient pair\n",
        "            - If all Tensors or this tensor do not require gradients, then skip\n",
        "            - Otherwise, compose upstream and local gradient\n",
        "\n",
        "        Usefulseful print boilerplate...: \n",
        "            # print(f'Diffing w.r.t. \"{k}\": local = {g.shape} and upstream = {grad.shape}')\n",
        "        \"\"\"\n",
        "        pass"
      ]
    },
    {
      "cell_type": "markdown",
      "metadata": {
        "id": "2n50HNq3ZuCO"
      },
      "source": [
        "### Loss\n",
        "**[TODO]:** Implement the forward pass in `forward()`.The forward pass should be simple: just implement mean squared error between `y_pred` and `y_true`.\n",
        "\n",
        "**[TODO]:** Calculate and return `input_gradients()`:\n",
        "- You want to calculate the gradients which flow to the inputs: `y_pred` and `y_true`\n",
        "- However, note that we don't want to \"train\" `y_true`, thus return 0 for the grads for `y_true`\n",
        "- Return the partial derivative of mean squared error w.r.t. `y_pred`, and 0.\n",
        "\n",
        "Note that we don't need to implement `weight_gradients()` here because MSELoss doesn't have weights!"
      ]
    },
    {
      "cell_type": "code",
      "execution_count": 369,
      "metadata": {
        "id": "1GG1E4VaC9hs"
      },
      "outputs": [],
      "source": [
        "class MSELoss(Diffable):\n",
        "\n",
        "    \"\"\"\n",
        "        Calculates mean squared error loss and gradient w.r.t. inputs.\n",
        "        Subclasses Diffable.\n",
        "    \"\"\"\n",
        "\n",
        "    def forward(self, y_pred, y_true):\n",
        "        \"\"\"Mean squared error forward pass!\"\"\"\n",
        "        # TODO: Compute and return the MSE given predicted and actual labels\n",
        "        return np.mean((y_true - y_pred)**2)\n",
        "\n",
        "    def input_gradients(self):\n",
        "        \"\"\"Mean squared error backpropagation!\"\"\"\n",
        "        # TODO: Compute and return the gradients\n",
        "        #return tuple of input, gradient \n",
        "        y_pred, y_true, loss = self.inputs + self.outputs\n",
        "\n",
        "        y_true_grad = np.array([0])\n",
        "        y_pred_grad = (2*(y_pred - y_true))/len(y_pred)#hard code this in? need to divide by n?\n",
        "        return y_pred_grad, y_true_grad\n",
        "\n",
        "    def backward(self, grad=np.array([[1]])):\n",
        "        \"\"\"Mean squared error backpropagation!\"\"\"        \n",
        "        ## TODO: Differentiate with respect to layer inputs        \n",
        "        ## For each input value and input gradient\n",
        "            ## Compose the upstream gradient with this input's gradient\n",
        "            ## Set the gradient of the tensor to the composed gradient as necessary\n",
        "            ## Pass the composed gradient backward through structure\n",
        "\n",
        "        for i, g in zip(self.inputs, self.input_gradients()):\n",
        "            if Tensor.requires_grad:\n",
        "                n_g = np.matmul(g, grad)\n",
        "                if getattr(i, \"requires_grad\", False):\n",
        "                    i.grad = n_g\n",
        "                i.backward(n_g)"
      ]
    },
    {
      "attachments": {},
      "cell_type": "markdown",
      "metadata": {
        "id": "2CHqCz0nKsGB"
      },
      "source": [
        "And here are some sanity checks you can run to make sure that your code is working as intended. In the first check, the outputs should match. In the second, they should be within the specified range."
      ]
    },
    {
      "cell_type": "code",
      "execution_count": 370,
      "metadata": {
        "colab": {
          "base_uri": "https://localhost:8080/"
        },
        "id": "45Y7ngPUKehB",
        "outputId": "fc6dad07-1d9b-479b-84c6-c4e39167e178"
      },
      "outputs": [
        {
          "name": "stdout",
          "output_type": "stream",
          "text": [
            "tensor(3615.0022, grad_fn=<MseLossBackward0>)\n",
            "3615.002372057123\n"
          ]
        }
      ],
      "source": [
        "class con: \n",
        "    ## Control set using default PyTorch\n",
        "    ytrue = torch.Tensor(Y0)\n",
        "    ypred = torch_model(torch.Tensor(X0))\n",
        "    loss_fn = nn.MSELoss()\n",
        "\n",
        "class exp: \n",
        "    ## Experimental set using your own implementation\n",
        "    ytrue = Tensor(Y0)\n",
        "    ypred = Tensor(con.ypred.detach().numpy())\n",
        "    loss_fn = MSELoss()\n",
        "\n",
        "def ypred_to_loss(ns):\n",
        "    ## Compute loss using the control and experimental namespaces\n",
        "    ns.loss = ns.loss_fn(ns.ypred, ns.ytrue)\n",
        "    return ns.loss\n",
        "\n",
        "## Sanity Check 1: Make sure that the forward pass is the same (i.e. your implementation matches the control)\n",
        "print(ypred_to_loss(con))\n",
        "print(ypred_to_loss(exp))"
      ]
    },
    {
      "cell_type": "code",
      "execution_count": 371,
      "metadata": {
        "colab": {
          "base_uri": "https://localhost:8080/"
        },
        "id": "P9tUAGJkg6I9",
        "outputId": "81ef4fe8-0fca-491e-d37a-4ef9c3131117"
      },
      "outputs": [
        {
          "name": "stdout",
          "output_type": "stream",
          "text": [
            "Maximum difference 2.684741795544454e-08 should be less than 0.00001\n"
          ]
        }
      ],
      "source": [
        "## Sanity Check 2: Make sure that the backwards pass is the same\n",
        "\n",
        "con.ypred = con.ypred.detach()\n",
        "con.ypred.requires_grad = True\n",
        "# print(\"Before running backwards:\\n\", con.ypred.grad)\n",
        "ypred_to_loss(con)\n",
        "con.loss.backward()\n",
        "# print(\"After running backwards:\\n\", con.ypred.grad)\n",
        "\n",
        "exp.ypred.grad = None\n",
        "# print(\"Before running backwards:\\n\", np.round(exp.ypred.grad, 4))\n",
        "ypred_to_loss(exp)\n",
        "exp.loss.backward()\n",
        "# print(\"After running backwards:\\n\", np.round(exp.ypred.grad, 4))\n",
        "\n",
        "max_diff = np.max(exp.ypred.grad - con.ypred.grad.detach().numpy())\n",
        "print(f\"Maximum difference {max_diff} should be less than 0.00001\")"
      ]
    },
    {
      "cell_type": "markdown",
      "metadata": {
        "id": "inej4Q37gqN8"
      },
      "source": [
        "### Linear Layer\n",
        "Next, a linear layer!\n",
        "\n",
        "**[TODO]:** Implement the `forward()` pass of a linear layer. \n",
        "\n",
        "**[TODO]:** Calculate (manually) the weight gradients.\n",
        "- Manually differentiate the Dense layer with respect to weights and biases.\n",
        "- Return weight gradient, then bias gradient in that order\n",
        "- HINT: How is differentiating with matrix variables similar to and different from normal differentiation?\n",
        "\n",
        "**[TODO]:** Initalize weights and biases in `_initialize_weight()`.\n",
        "- In a linear layer, we have 2 parameters: weights and biases. \n",
        "- Return two NumPy arrays of the correct shapes according according to the function's arguments. \n",
        "- Return weights and biases, in that order.\n",
        "\n",
        "Be sure to also read and understand the `backward()` function, which is used to backpropagate gradients."
      ]
    },
    {
      "cell_type": "code",
      "execution_count": 372,
      "metadata": {
        "colab": {
          "base_uri": "https://localhost:8080/"
        },
        "id": "50FnJezypdpt",
        "outputId": "3db15996-701b-46f5-dff7-52d5768e06ba"
      },
      "outputs": [
        {
          "name": "stdout",
          "output_type": "stream",
          "text": [
            "Maximum difference 1.8410763247267425e-08 should be less than 0.00001\n",
            "\n",
            "Losses: Control 28823.564453125 vs Experimental 28823.56292070294\n",
            "\n",
            "Control Params:\n",
            "Parameter containing:\n",
            "tensor([[-0.0126,  0.0097,  0.0205, -0.1500,  0.2253,  0.0406, -0.2975,  0.0877,\n",
            "          0.0270,  0.2178]], requires_grad=True)\n",
            "Parameter containing:\n",
            "tensor([-0.2500], requires_grad=True)\n",
            "\n",
            "Experimental Params:\n",
            "[[-0.01256064  0.00974542  0.02053723 -0.1500015   0.2253013   0.0406014\n",
            "  -0.29750788  0.08770177  0.02696812  0.21778694]]\n",
            "[-0.25004846]\n"
          ]
        }
      ],
      "source": [
        "import torch\n",
        "import torch.nn as nn\n",
        "\n",
        "class Linear(Diffable):\n",
        "\n",
        "    \"\"\"\n",
        "        Standard linear/dense layer.\n",
        "        Subclasses Diffable.\n",
        "    \"\"\"\n",
        "\n",
        "    def __init__(self, in_features, out_features, device=None, dtype=None):\n",
        "        self.w, self.b = self.__class__._initialize_weight(in_features, out_features)\n",
        "    \n",
        "    def parameters(self):\n",
        "        return self.w, self.b\n",
        "\n",
        "    def forward(self, inputs):\n",
        "        \"\"\"Forward pass for a dense layer! Refer to lecture slides for how this is computed.\"\"\"\n",
        "        # TODO: implement the forward pass and return the outputs\n",
        "        weights, bias = self.parameters()\n",
        "        ans = np.matmul(inputs, weights.transpose()) + bias  #ask about transpose\n",
        "        return ans\n",
        "\n",
        "    def weight_gradients(self):\n",
        "        \"\"\"Calculating the gradients of the weights and biases!\"\"\"\n",
        "        # TODO: Implement calculation of gradients\n",
        "        wgrads = self.input_dict[\"inputs\"] * np.ones_like(self.w)\n",
        "        bgrads = np.ones_like(self.b)\n",
        "        return (wgrads, bgrads)\n",
        "\n",
        "    def input_gradients(self):\n",
        "        \"\"\"Calculate the gradients of the inputs! (Not necessary for HW1)\"\"\"\n",
        "        return (self.w,)\n",
        "\n",
        "    @staticmethod\n",
        "    def _initialize_weight(input_size, output_size):\n",
        "        \"\"\"\n",
        "        Initializes the values of the weights and biases. You can assume that \n",
        "        bias is a zero-vector and weight is normally-distributed.\n",
        "        \"\"\"\n",
        "        ## TODO: Implement default assumption: zero-init for bias, normal distribution for weights\n",
        "        ## Must return tensors for tracking purposes. ???\n",
        "        init_bias = np.zeros((output_size, 1))\n",
        "        init_weight = np.random.normal(size = (output_size, input_size))\n",
        "        return Tensor(init_weight), Tensor(init_bias)\n",
        "\n",
        "    def backward(self, grad=np.array([[1]])):\n",
        "        ## For every weight/bias and weight/bias gradient\n",
        "            ## Compose the upstream gradient with this weight's/bias's gradient\n",
        "            ## Set the gradient of the tensor to the composed gradient if necessary\n",
        "            ## Backpropagate the composed gradient through the structure\n",
        "        for (_, p), g in zip(enumerate(self.parameters()), self.weight_gradients()):\n",
        "            if Tensor.requires_grad:\n",
        "                n_g = np.sum(g * grad, axis=0, keepdims=True)\n",
        "                if getattr(p, \"requires_grad\", False):\n",
        "                    p.grad = n_g\n",
        "                p.backward(n_g)\n",
        "\n",
        "class con:\n",
        "    ## Control set using regular pytorch\n",
        "    X0 = torch.Tensor(X0)\n",
        "    Y0 = torch.Tensor(Y0)\n",
        "    X0.requires_grad = True\n",
        "    Y0.requires_grad = True\n",
        "    dense = nn.Linear(10, 1)\n",
        "    loss_fn = nn.MSELoss()\n",
        "\n",
        "class exp:\n",
        "    ## Experimental set using your own implementation\n",
        "    X0 = Tensor(X0)\n",
        "    Y0 = Tensor(Y0)\n",
        "    dense = Linear(10, 1)\n",
        "    dense.w, dense.b = [Tensor(p.detach().numpy()) for p in con.dense.parameters()]\n",
        "    loss_fn = MSELoss()\n",
        "\n",
        "def x_to_loss(ns):\n",
        "    ns.ypred = ns.dense(ns.X0)\n",
        "    ns.loss  = ns.loss_fn(ns.ypred, ns.Y0)\n",
        "    return ns.loss\n",
        "\n",
        "x_to_loss(con)\n",
        "x_to_loss(exp)\n",
        "\n",
        "## Sanity Check 1: Make sure that the forward pass is the same\n",
        "# print(con.ypred)\n",
        "# print(exp.ypred)\n",
        "\n",
        "print(f\"Maximum difference {np.max(con.ypred.detach().numpy() - exp.ypred)} should be less than 0.00001\\n\")\n",
        "\n",
        "print(f\"Losses: Control {con.loss} vs Experimental {exp.loss}\")\n",
        "\n",
        "print('\\nControl Params:',      *list(con.dense.parameters()), sep='\\n')\n",
        "print('\\nExperimental Params:', *list(exp.dense.parameters()), sep='\\n')"
      ]
    },
    {
      "cell_type": "code",
      "execution_count": 373,
      "metadata": {
        "colab": {
          "base_uri": "https://localhost:8080/"
        },
        "id": "-v6oUfSJxidG",
        "outputId": "0e5b54b6-841e-4843-da3b-25e030d62a0d"
      },
      "outputs": [
        {
          "name": "stdout",
          "output_type": "stream",
          "text": [
            "After running backwards on weights:\n",
            "[tensor([[-1.5552, -0.0821, -3.9112, -3.1339, -1.6588, -1.4868,  2.7255, -3.2795,\n",
            "         -3.9158, -2.6428]]), tensor([-303.4583])]\n",
            "\n",
            "****************************************************************************************************\n",
            "\n",
            "After running backwards on weights:\n",
            "[Tensor([[-1.55516569, -0.08214474, -3.9112145 , -3.13389381, -1.65879433,\n",
            "         -1.48677695,  2.72551213, -3.27947937, -3.91580449, -2.64284589]]), Tensor([[-303.45830473]])]\n"
          ]
        }
      ],
      "source": [
        "## Sanity Check 2: Make sure that the backwards pass is the same\n",
        "\n",
        "con.X0 = con.X0.detach()\n",
        "con.Y0 = con.Y0.detach()\n",
        "for p in con.dense.parameters():\n",
        "    if p.grad is None: continue\n",
        "    p.grad.detach_()\n",
        "    p.grad = None\n",
        "\n",
        "x_to_loss(con).backward()\n",
        "print(\"After running backwards on weights:\")  \n",
        "print([p.grad for p in con.dense.parameters()])\n",
        "\n",
        "for p in exp.dense.parameters(): p.grad = None\n",
        "x_to_loss(exp).backward()\n",
        "\n",
        "print(\"\\n\" + \"*\" * 100 + \"\\n\")\n",
        "print(\"After running backwards on weights:\")  \n",
        "print([p.grad for p in exp.dense.parameters()])"
      ]
    },
    {
      "cell_type": "markdown",
      "metadata": {
        "id": "CQGhTAMgFe_i"
      },
      "source": [
        "## Optimizing With The Gradients\n",
        "\n",
        "To use the gradients we calculated previously, we need an optimizer. The optimizer allows us to update our weights and bias. A simple approach could be to simply subtract the gradient from the weights and bias. In doing so, we follow the gradient in its opposite direction, minimizing loss. This is what is called gradient descent. \n",
        "\n",
        "However, simply subtracting the gradients from the weights could result in the weights changing wildly between each sample, making training longer. To prevent this, we use a learning rate. The learning rate is a hyperparameter that specifies how much a single step updates weights. A smaller learning rate means that the gradients have less of an impact on the weights, and vice versa.\n",
        "\n",
        "Of course, this is just one (simple) approach. In a later lab, you'll learn about other optimizers, such as Adam and RMSProp.\n",
        "\n",
        "**[TODO]:** Implement stochastic gradient descent for each parameter using the learning rate"
      ]
    },
    {
      "cell_type": "code",
      "execution_count": 374,
      "metadata": {
        "id": "J5s6o4_WGXhe"
      },
      "outputs": [],
      "source": [
        "class SGD: \n",
        "    \"\"\"\n",
        "        Performs stochastic gradident descent with the specified learning rate.\n",
        "    \"\"\"\n",
        "    def __init__(self, params, lr, *args, **kwargs):\n",
        "        self.params = params\n",
        "        self.lr = lr\n",
        "    \n",
        "    def zero_grad(self):\n",
        "        \"\"\"\n",
        "            Reset the gradients.\n",
        "        \"\"\"\n",
        "        pass\n",
        "            \n",
        "    def step(self):\n",
        "        \"\"\"\n",
        "            Update paramaters by subtracting the gradient multiplied by the learning rate.\n",
        "        \"\"\"\n",
        "        ## TODO: Implement stochastic grad descent for each parameter\n",
        "\n",
        "        for p in self.params:\n",
        "            #p = p - self.lr * p.grad\n",
        "            p -= self.lr * p.grad"
      ]
    },
    {
      "attachments": {},
      "cell_type": "markdown",
      "metadata": {
        "id": "p9m63xegnLnj"
      },
      "source": [
        "Below, you'll use your new implementations to optimize for linear regression manually. FakeTorchModule will also be provided to make some of the mimicking process easier. \n",
        "\n",
        "**[TODO]:** Complete the model and compare this model's performance to the previous `LinearRegression` model -- they should have a similar loss after training."
      ]
    },
    {
      "cell_type": "code",
      "execution_count": 375,
      "metadata": {
        "colab": {
          "base_uri": "https://localhost:8080/"
        },
        "id": "M6-a0DfvFlnN",
        "outputId": "a5030069-c43e-4f8b-f2d6-2ed17c90d2c6"
      },
      "outputs": [
        {
          "name": "stdout",
          "output_type": "stream",
          "text": [
            "[Epoch 1/200] {'loss': Tensor(28742.4112258), 'test_loss': 8856.719883513342}\n",
            "[Epoch 2/200] {'loss': Tensor(7835.78788109), 'test_loss': 6709.907274166509}\n",
            "[Epoch 3/200] {'loss': Tensor(5930.36909076), 'test_loss': 6441.181335429129}\n",
            "[Epoch 4/200] {'loss': Tensor(5735.31607313), 'test_loss': 6376.869488659723}\n",
            "[Epoch 5/200] {'loss': Tensor(5694.46619207), 'test_loss': 6341.735281845441}\n",
            "[Epoch 6/200] {'loss': Tensor(5667.76287874), 'test_loss': 6312.639706334922}\n",
            "[Epoch 7/200] {'loss': Tensor(5642.59781911), 'test_loss': 6285.2926326827765}\n",
            "[Epoch 8/200] {'loss': Tensor(5617.83296477), 'test_loss': 6258.644934314618}\n",
            "[Epoch 9/200] {'loss': Tensor(5593.36262276), 'test_loss': 6232.401545748144}\n",
            "[Epoch 10/200] {'loss': Tensor(5569.17405286), 'test_loss': 6206.473695082352}\n",
            "[Epoch 11/200] {'loss': Tensor(5545.26292173), 'test_loss': 6180.832639504637}\n",
            "[Epoch 12/200] {'loss': Tensor(5521.62569334), 'test_loss': 6155.467476608526}\n",
            "[Epoch 13/200] {'loss': Tensor(5498.25894358), 'test_loss': 6130.372659057719}\n",
            "[Epoch 14/200] {'loss': Tensor(5475.15929808), 'test_loss': 6105.544269873953}\n",
            "[Epoch 15/200] {'loss': Tensor(5452.32342607), 'test_loss': 6080.978908307415}\n",
            "[Epoch 16/200] {'loss': Tensor(5429.74803935), 'test_loss': 6056.673356084349}\n",
            "[Epoch 17/200] {'loss': Tensor(5407.4298917), 'test_loss': 6032.6244771566135}\n",
            "[Epoch 18/200] {'loss': Tensor(5385.36577832), 'test_loss': 6008.82918734227}\n",
            "[Epoch 19/200] {'loss': Tensor(5363.55253534), 'test_loss': 5985.284444890779}\n",
            "[Epoch 20/200] {'loss': Tensor(5341.98703921), 'test_loss': 5961.987247316064}\n",
            "[Epoch 21/200] {'loss': Tensor(5320.6662063), 'test_loss': 5938.93463011017}\n",
            "[Epoch 22/200] {'loss': Tensor(5299.58699227), 'test_loss': 5916.123666024206}\n",
            "[Epoch 23/200] {'loss': Tensor(5278.74639164), 'test_loss': 5893.551464523361}\n",
            "[Epoch 24/200] {'loss': Tensor(5258.14143728), 'test_loss': 5871.21517129826}\n",
            "[Epoch 25/200] {'loss': Tensor(5237.76919989), 'test_loss': 5849.111967797357}\n",
            "[Epoch 26/200] {'loss': Tensor(5217.62678754), 'test_loss': 5827.2390707697405}\n",
            "[Epoch 27/200] {'loss': Tensor(5197.71134519), 'test_loss': 5805.593731815118}\n",
            "[Epoch 28/200] {'loss': Tensor(5178.02005418), 'test_loss': 5784.173236939965}\n",
            "[Epoch 29/200] {'loss': Tensor(5158.55013182), 'test_loss': 5762.974906119477}\n",
            "[Epoch 30/200] {'loss': Tensor(5139.2988309), 'test_loss': 5741.996092865164}\n",
            "[Epoch 31/200] {'loss': Tensor(5120.2634392), 'test_loss': 5721.234183798003}\n",
            "[Epoch 32/200] {'loss': Tensor(5101.44127912), 'test_loss': 5700.68659822706}\n",
            "[Epoch 33/200] {'loss': Tensor(5082.82970716), 'test_loss': 5680.350787733503}\n",
            "[Epoch 34/200] {'loss': Tensor(5064.42611351), 'test_loss': 5660.22423575995}\n",
            "[Epoch 35/200] {'loss': Tensor(5046.22792164), 'test_loss': 5640.304457205072}\n",
            "[Epoch 36/200] {'loss': Tensor(5028.23258785), 'test_loss': 5620.588998023399}\n",
            "[Epoch 37/200] {'loss': Tensor(5010.43760082), 'test_loss': 5601.075434830234}\n",
            "[Epoch 38/200] {'loss': Tensor(4992.84048128), 'test_loss': 5581.761374511643}\n",
            "[Epoch 39/200] {'loss': Tensor(4975.43878149), 'test_loss': 5562.644453839429}\n",
            "[Epoch 40/200] {'loss': Tensor(4958.23008492), 'test_loss': 5543.72233909104}\n",
            "[Epoch 41/200] {'loss': Tensor(4941.21200581), 'test_loss': 5524.99272567435}\n",
            "[Epoch 42/200] {'loss': Tensor(4924.3821888), 'test_loss': 5506.453337757232}\n",
            "[Epoch 43/200] {'loss': Tensor(4907.73830849), 'test_loss': 5488.101927901883}\n",
            "[Epoch 44/200] {'loss': Tensor(4891.27806912), 'test_loss': 5469.936276703832}\n",
            "[Epoch 45/200] {'loss': Tensor(4874.99920415), 'test_loss': 5451.954192435569}\n",
            "[Epoch 46/200] {'loss': Tensor(4858.89947589), 'test_loss': 5434.153510694726}\n",
            "[Epoch 47/200] {'loss': Tensor(4842.97667513), 'test_loss': 5416.53209405678}\n",
            "[Epoch 48/200] {'loss': Tensor(4827.22862079), 'test_loss': 5399.087831732188}\n",
            "[Epoch 49/200] {'loss': Tensor(4811.65315953), 'test_loss': 5381.818639227918}\n",
            "[Epoch 50/200] {'loss': Tensor(4796.24816543), 'test_loss': 5364.722458013311}\n",
            "[Epoch 51/200] {'loss': Tensor(4781.01153962), 'test_loss': 5347.797255190217}\n",
            "[Epoch 52/200] {'loss': Tensor(4765.94120991), 'test_loss': 5331.041023167365}\n",
            "[Epoch 53/200] {'loss': Tensor(4751.03513048), 'test_loss': 5314.451779338882}\n",
            "[Epoch 54/200] {'loss': Tensor(4736.29128155), 'test_loss': 5298.027565766942}\n",
            "[Epoch 55/200] {'loss': Tensor(4721.707669), 'test_loss': 5281.766448868474}\n",
            "[Epoch 56/200] {'loss': Tensor(4707.28232409), 'test_loss': 5265.666519105868}\n",
            "[Epoch 57/200] {'loss': Tensor(4693.0133031), 'test_loss': 5249.7258906816605}\n",
            "[Epoch 58/200] {'loss': Tensor(4678.89868702), 'test_loss': 5233.942701237107}\n",
            "[Epoch 59/200] {'loss': Tensor(4664.93658124), 'test_loss': 5218.315111554617}\n",
            "[Epoch 60/200] {'loss': Tensor(4651.12511524), 'test_loss': 5202.841305264009}\n",
            "[Epoch 61/200] {'loss': Tensor(4637.46244225), 'test_loss': 5187.519488552506}\n",
            "[Epoch 62/200] {'loss': Tensor(4623.94673899), 'test_loss': 5172.347889878453}\n",
            "[Epoch 63/200] {'loss': Tensor(4610.57620534), 'test_loss': 5157.324759688694}\n",
            "[Epoch 64/200] {'loss': Tensor(4597.34906404), 'test_loss': 5142.448370139562}\n",
            "[Epoch 65/200] {'loss': Tensor(4584.26356042), 'test_loss': 5127.717014821448}\n",
            "[Epoch 66/200] {'loss': Tensor(4571.31796209), 'test_loss': 5113.129008486876}\n",
            "[Epoch 67/200] {'loss': Tensor(4558.51055867), 'test_loss': 5098.682686782082}\n",
            "[Epoch 68/200] {'loss': Tensor(4545.83966147), 'test_loss': 5084.376405981998}\n",
            "[Epoch 69/200] {'loss': Tensor(4533.30360327), 'test_loss': 5070.208542728647}\n",
            "[Epoch 70/200] {'loss': Tensor(4520.90073801), 'test_loss': 5056.177493772877}\n",
            "[Epoch 71/200] {'loss': Tensor(4508.62944051), 'test_loss': 5042.281675719391}\n",
            "[Epoch 72/200] {'loss': Tensor(4496.48810624), 'test_loss': 5028.519524775056}\n",
            "[Epoch 73/200] {'loss': Tensor(4484.475151), 'test_loss': 5014.889496500409}\n",
            "[Epoch 74/200] {'loss': Tensor(4472.58901071), 'test_loss': 5001.390065564357}\n",
            "[Epoch 75/200] {'loss': Tensor(4460.82814113), 'test_loss': 4988.019725502007}\n",
            "[Epoch 76/200] {'loss': Tensor(4449.19101762), 'test_loss': 4974.776988475594}\n",
            "[Epoch 77/200] {'loss': Tensor(4437.67613485), 'test_loss': 4961.660385038463}\n",
            "[Epoch 78/200] {'loss': Tensor(4426.28200659), 'test_loss': 4948.668463902074}\n",
            "[Epoch 79/200] {'loss': Tensor(4415.00716547), 'test_loss': 4935.799791705987}\n",
            "[Epoch 80/200] {'loss': Tensor(4403.8501627), 'test_loss': 4923.052952790772}\n",
            "[Epoch 81/200] {'loss': Tensor(4392.80956787), 'test_loss': 4910.426548973846}\n",
            "[Epoch 82/200] {'loss': Tensor(4381.88396869), 'test_loss': 4897.919199328156}\n",
            "[Epoch 83/200] {'loss': Tensor(4371.07197078), 'test_loss': 4885.5295399637025}\n",
            "[Epoch 84/200] {'loss': Tensor(4360.3721974), 'test_loss': 4873.256223811847}\n",
            "[Epoch 85/200] {'loss': Tensor(4349.78328928), 'test_loss': 4861.097920412388}\n",
            "[Epoch 86/200] {'loss': Tensor(4339.30390435), 'test_loss': 4849.053315703343}\n",
            "[Epoch 87/200] {'loss': Tensor(4328.93271755), 'test_loss': 4837.1211118134315}\n",
            "[Epoch 88/200] {'loss': Tensor(4318.66842057), 'test_loss': 4825.3000268572005}\n",
            "[Epoch 89/200] {'loss': Tensor(4308.5097217), 'test_loss': 4813.588794732771}\n",
            "[Epoch 90/200] {'loss': Tensor(4298.45534557), 'test_loss': 4801.986164922172}\n",
            "[Epoch 91/200] {'loss': Tensor(4288.50403292), 'test_loss': 4790.490902294222}\n",
            "[Epoch 92/200] {'loss': Tensor(4278.65454048), 'test_loss': 4779.101786909927}\n",
            "[Epoch 93/200] {'loss': Tensor(4268.90564067), 'test_loss': 4767.817613830371}\n",
            "[Epoch 94/200] {'loss': Tensor(4259.25612145), 'test_loss': 4756.637192927058}\n",
            "[Epoch 95/200] {'loss': Tensor(4249.70478612), 'test_loss': 4745.5593486946755}\n",
            "[Epoch 96/200] {'loss': Tensor(4240.25045309), 'test_loss': 4734.582920066247}\n",
            "[Epoch 97/200] {'loss': Tensor(4230.89195575), 'test_loss': 4723.706760230657}\n",
            "[Epoch 98/200] {'loss': Tensor(4221.62814219), 'test_loss': 4712.929736452492}\n",
            "[Epoch 99/200] {'loss': Tensor(4212.4578751), 'test_loss': 4702.250729894193}\n",
            "[Epoch 100/200] {'loss': Tensor(4203.38003152), 'test_loss': 4691.668635440478}\n",
            "[Epoch 101/200] {'loss': Tensor(4194.39350269), 'test_loss': 4681.182361525}\n",
            "[Epoch 102/200] {'loss': Tensor(4185.49719386), 'test_loss': 4670.790829959224}\n",
            "[Epoch 103/200] {'loss': Tensor(4176.69002409), 'test_loss': 4660.492975763491}\n",
            "[Epoch 104/200] {'loss': Tensor(4167.9709261), 'test_loss': 4650.287747000236}\n",
            "[Epoch 105/200] {'loss': Tensor(4159.33884611), 'test_loss': 4640.174104609335}\n",
            "[Epoch 106/200] {'loss': Tensor(4150.7927436), 'test_loss': 4630.151022245554}\n",
            "[Epoch 107/200] {'loss': Tensor(4142.33159121), 'test_loss': 4620.217486118075}\n",
            "[Epoch 108/200] {'loss': Tensor(4133.95437455), 'test_loss': 4610.37249483207}\n",
            "[Epoch 109/200] {'loss': Tensor(4125.66009202), 'test_loss': 4600.615059232296}\n",
            "[Epoch 110/200] {'loss': Tensor(4117.44775464), 'test_loss': 4590.944202248691}\n",
            "[Epoch 111/200] {'loss': Tensor(4109.31638593), 'test_loss': 4581.358958743931}\n",
            "[Epoch 112/200] {'loss': Tensor(4101.26502171), 'test_loss': 4571.858375362944}\n",
            "[Epoch 113/200] {'loss': Tensor(4093.29270996), 'test_loss': 4562.441510384334}\n",
            "[Epoch 114/200] {'loss': Tensor(4085.39851064), 'test_loss': 4553.10743357371}\n",
            "[Epoch 115/200] {'loss': Tensor(4077.5814956), 'test_loss': 4543.855226038883}\n",
            "[Epoch 116/200] {'loss': Tensor(4069.84074835), 'test_loss': 4534.6839800869075}\n",
            "[Epoch 117/200] {'loss': Tensor(4062.17536394), 'test_loss': 4525.592799082949}\n",
            "[Epoch 118/200] {'loss': Tensor(4054.58444886), 'test_loss': 4516.580797310953}\n",
            "[Epoch 119/200] {'loss': Tensor(4047.06712081), 'test_loss': 4507.647099836098}\n",
            "[Epoch 120/200] {'loss': Tensor(4039.62250862), 'test_loss': 4498.790842368986}\n",
            "[Epoch 121/200] {'loss': Tensor(4032.24975207), 'test_loss': 4490.01117113158}\n",
            "[Epoch 122/200] {'loss': Tensor(4024.94800178), 'test_loss': 4481.307242724848}\n",
            "[Epoch 123/200] {'loss': Tensor(4017.71641905), 'test_loss': 4472.678223998093}\n",
            "[Epoch 124/200] {'loss': Tensor(4010.55417574), 'test_loss': 4464.1232919199465}\n",
            "[Epoch 125/200] {'loss': Tensor(4003.4604541), 'test_loss': 4455.641633451019}\n",
            "[Epoch 126/200] {'loss': Tensor(3996.4344467), 'test_loss': 4447.232445418159}\n",
            "[Epoch 127/200] {'loss': Tensor(3989.47535622), 'test_loss': 4438.894934390325}\n",
            "[Epoch 128/200] {'loss': Tensor(3982.58239539), 'test_loss': 4430.628316556037}\n",
            "[Epoch 129/200] {'loss': Tensor(3975.75478682), 'test_loss': 4422.4318176023935}\n",
            "[Epoch 130/200] {'loss': Tensor(3968.99176289), 'test_loss': 4414.304672595624}\n",
            "[Epoch 131/200] {'loss': Tensor(3962.29256563), 'test_loss': 4406.246125863169}\n",
            "[Epoch 132/200] {'loss': Tensor(3955.65644655), 'test_loss': 4398.25543087727}\n",
            "[Epoch 133/200] {'loss': Tensor(3949.08266662), 'test_loss': 4390.331850140017}\n",
            "[Epoch 134/200] {'loss': Tensor(3942.57049602), 'test_loss': 4382.474655069902}\n",
            "[Epoch 135/200] {'loss': Tensor(3936.11921413), 'test_loss': 4374.683125889778}\n",
            "[Epoch 136/200] {'loss': Tensor(3929.72810936), 'test_loss': 4366.956551516274}\n",
            "[Epoch 137/200] {'loss': Tensor(3923.39647903), 'test_loss': 4359.294229450597}\n",
            "[Epoch 138/200] {'loss': Tensor(3917.1236293), 'test_loss': 4351.695465670749}\n",
            "[Epoch 139/200] {'loss': Tensor(3910.908875), 'test_loss': 4344.159574525097}\n",
            "[Epoch 140/200] {'loss': Tensor(3904.75153956), 'test_loss': 4336.685878627307}\n",
            "[Epoch 141/200] {'loss': Tensor(3898.65095489), 'test_loss': 4329.273708752615}\n",
            "[Epoch 142/200] {'loss': Tensor(3892.60646126), 'test_loss': 4321.922403735423}\n",
            "[Epoch 143/200] {'loss': Tensor(3886.6174072), 'test_loss': 4314.631310368195}\n",
            "[Epoch 144/200] {'loss': Tensor(3880.68314941), 'test_loss': 4307.3997833016365}\n",
            "[Epoch 145/200] {'loss': Tensor(3874.80305263), 'test_loss': 4300.227184946155}\n",
            "[Epoch 146/200] {'loss': Tensor(3868.97648956), 'test_loss': 4293.1128853745695}\n",
            "[Epoch 147/200] {'loss': Tensor(3863.20284073), 'test_loss': 4286.056262226061}\n",
            "[Epoch 148/200] {'loss': Tensor(3857.48149444), 'test_loss': 4279.056700611337}\n",
            "[Epoch 149/200] {'loss': Tensor(3851.81184662), 'test_loss': 4272.113593019019}\n",
            "[Epoch 150/200] {'loss': Tensor(3846.19330076), 'test_loss': 4265.226339223208}\n",
            "[Epoch 151/200] {'loss': Tensor(3840.6252678), 'test_loss': 4258.394346192233}\n",
            "[Epoch 152/200] {'loss': Tensor(3835.10716604), 'test_loss': 4251.617027998558}\n",
            "[Epoch 153/200] {'loss': Tensor(3829.63842105), 'test_loss': 4244.89380572984}\n",
            "[Epoch 154/200] {'loss': Tensor(3824.21846557), 'test_loss': 4238.224107401112}\n",
            "[Epoch 155/200] {'loss': Tensor(3818.84673942), 'test_loss': 4231.607367868088}\n",
            "[Epoch 156/200] {'loss': Tensor(3813.5226894), 'test_loss': 4225.043028741569}\n",
            "[Epoch 157/200] {'loss': Tensor(3808.24576923), 'test_loss': 4218.530538302945}\n",
            "[Epoch 158/200] {'loss': Tensor(3803.01543943), 'test_loss': 4212.069351420756}\n",
            "[Epoch 159/200] {'loss': Tensor(3797.83116726), 'test_loss': 4205.658929468326}\n",
            "[Epoch 160/200] {'loss': Tensor(3792.6924266), 'test_loss': 4199.298740242452}\n",
            "[Epoch 161/200] {'loss': Tensor(3787.5986979), 'test_loss': 4192.988257883106}\n",
            "[Epoch 162/200] {'loss': Tensor(3782.54946808), 'test_loss': 4186.726962794172}\n",
            "[Epoch 163/200] {'loss': Tensor(3777.54423045), 'test_loss': 4180.514341565196}\n",
            "[Epoch 164/200] {'loss': Tensor(3772.58248462), 'test_loss': 4174.349886894113}\n",
            "[Epoch 165/200] {'loss': Tensor(3767.66373643), 'test_loss': 4168.2330975109735}\n",
            "[Epoch 166/200] {'loss': Tensor(3762.78749787), 'test_loss': 4162.163478102629}\n",
            "[Epoch 167/200] {'loss': Tensor(3757.95328701), 'test_loss': 4156.14053923838}\n",
            "[Epoch 168/200] {'loss': Tensor(3753.1606279), 'test_loss': 4150.16379729657}\n",
            "[Epoch 169/200] {'loss': Tensor(3748.4090505), 'test_loss': 4144.232774392102}\n",
            "[Epoch 170/200] {'loss': Tensor(3743.69809063), 'test_loss': 4138.3469983048935}\n",
            "[Epoch 171/200] {'loss': Tensor(3739.02728985), 'test_loss': 4132.506002409223}\n",
            "[Epoch 172/200] {'loss': Tensor(3734.39619543), 'test_loss': 4126.709325603987}\n",
            "[Epoch 173/200] {'loss': Tensor(3729.80436026), 'test_loss': 4120.9565122438335}\n",
            "[Epoch 174/200] {'loss': Tensor(3725.25134277), 'test_loss': 4115.247112071182}\n",
            "[Epoch 175/200] {'loss': Tensor(3720.73670688), 'test_loss': 4109.580680149089}\n",
            "[Epoch 176/200] {'loss': Tensor(3716.26002189), 'test_loss': 4103.9567767949875}\n",
            "[Epoch 177/200] {'loss': Tensor(3711.82086248), 'test_loss': 4098.3749675152485}\n",
            "[Epoch 178/200] {'loss': Tensor(3707.41880856), 'test_loss': 4092.8348229405874}\n",
            "[Epoch 179/200] {'loss': Tensor(3703.05344526), 'test_loss': 4087.3359187622827}\n",
            "[Epoch 180/200] {'loss': Tensor(3698.72436287), 'test_loss': 4081.8778356692083}\n",
            "[Epoch 181/200] {'loss': Tensor(3694.4311567), 'test_loss': 4076.460159285659}\n",
            "[Epoch 182/200] {'loss': Tensor(3690.17342712), 'test_loss': 4071.0824801099793}\n",
            "[Epoch 183/200] {'loss': Tensor(3685.95077942), 'test_loss': 4065.7443934539506}\n",
            "[Epoch 184/200] {'loss': Tensor(3681.76282375), 'test_loss': 4060.4454993829645}\n",
            "[Epoch 185/200] {'loss': Tensor(3677.60917512), 'test_loss': 4055.185402656949}\n",
            "[Epoch 186/200] {'loss': Tensor(3673.48945326), 'test_loss': 4049.9637126720413}\n",
            "[Epoch 187/200] {'loss': Tensor(3669.40328262), 'test_loss': 4044.7800434030055}\n",
            "[Epoch 188/200] {'loss': Tensor(3665.35029228), 'test_loss': 4039.634013346379}\n",
            "[Epoch 189/200] {'loss': Tensor(3661.3301159), 'test_loss': 4034.5252454643414}\n",
            "[Epoch 190/200] {'loss': Tensor(3657.34239164), 'test_loss': 4029.4533671292843}\n",
            "[Epoch 191/200] {'loss': Tensor(3653.38676215), 'test_loss': 4024.4180100691087}\n",
            "[Epoch 192/200] {'loss': Tensor(3649.46287446), 'test_loss': 4019.418810313185}\n",
            "[Epoch 193/200] {'loss': Tensor(3645.57037997), 'test_loss': 4014.4554081390247}\n",
            "[Epoch 194/200] {'loss': Tensor(3641.70893437), 'test_loss': 4009.52744801961}\n",
            "[Epoch 195/200] {'loss': Tensor(3637.87819756), 'test_loss': 4004.634578571402}\n",
            "[Epoch 196/200] {'loss': Tensor(3634.07783368), 'test_loss': 3999.776452503}\n",
            "[Epoch 197/200] {'loss': Tensor(3630.30751094), 'test_loss': 3994.952726564463}\n",
            "[Epoch 198/200] {'loss': Tensor(3626.56690168), 'test_loss': 3990.163061497253}\n",
            "[Epoch 199/200] {'loss': Tensor(3622.85568224), 'test_loss': 3985.407121984835}\n",
            "[Epoch 200/200] {'loss': Tensor(3619.17353293), 'test_loss': 3980.684576603891}\n"
          ]
        }
      ],
      "source": [
        "import torch\n",
        "import torch.nn as nn\n",
        "\n",
        "class FakeTorchModule:\n",
        "    \"\"\"\n",
        "        Needed so that we can do manual linear regression.\n",
        "    \"\"\"\n",
        "\n",
        "    def __init__(self):\n",
        "        self.device = \"\"\n",
        "\n",
        "    def __call__(self, *args, **kwargs):\n",
        "        return self.forward(*args, **kwargs)\n",
        "\n",
        "    def to(self, device):\n",
        "        return self\n",
        "\n",
        "    def parameters(self):\n",
        "        params = []\n",
        "        for k,v in self.__dict__.items():\n",
        "            params += getattr(v, 'parameters', lambda: [])()\n",
        "        return params\n",
        "\n",
        "    def train(self):\n",
        "        for p in self.parameters():\n",
        "            p.requires_grad = getattr(p, 'required_grad', p.requires_grad)\n",
        "    \n",
        "    def eval(self):\n",
        "        for p in self.parameters():\n",
        "            p.required_grad = p.requires_grad\n",
        "            p.requires_grad = False\n",
        "\n",
        "class ManualRegression(FakeTorchModule):\n",
        "    \"\"\"\n",
        "        Allows us to use our custom Linear layer and SGD optimizer.\n",
        "        Subclasses FakeTorchModule\n",
        "    \"\"\"\n",
        "\n",
        "    def __init__(self, input_dims, output_dims):\n",
        "        self.device = torch.device(\"cuda:0\" if torch.cuda.is_available() else \"cpu\")        \n",
        "        super().__init__()\n",
        "        ## TODO: Incorporate your custom components in the initialization pipeline. \n",
        "        self.dense = Linear(input_dims, output_dims).to(self.device)\n",
        "        self.activation = None\n",
        "        self.loss = None\n",
        "        self.set_learning_rate()\n",
        "        \n",
        "\n",
        "    def set_learning_rate(self, learning_rate=0.001):\n",
        "        ## TODO: Use your new SGD component and make changes as appropriate.\n",
        "        self.optimizer = SGD(self.parameters(), lr=learning_rate)\n",
        "\n",
        "    def forward(self, x):\n",
        "        ## TODO: Implement the forward function as appropriate. Make changes as necessary\n",
        "        x = self.dense(x)\n",
        "        x = self.activation(x)\n",
        "        return x\n",
        "\n",
        "class TrainTest2(TrainTest):\n",
        "    # no_grad = torch.no_grad\n",
        "    no_grad = Tensor.no_grad\n",
        "\n",
        "class ManualLinearRegression(ManualRegression, TrainTest2):\n",
        "    def __init__(self, input_dims, output_dims):\n",
        "        super().__init__(input_dims, output_dims)\n",
        "        ## TODO: Implement the subclass as appropriate with your own implementations\n",
        "        self.activation = nn.Identity()\n",
        "        self.loss = MSELoss()\n",
        "\n",
        "## Train the manual linear regression model\n",
        "model = ManualLinearRegression(10, 1)\n",
        "model.set_learning_rate(0.35)\n",
        "model.train_test(\n",
        "    [[Tensor(X0), Tensor(Y0)]], \n",
        "    [[Tensor(X1), Tensor(Y1)]],\n",
        "    epochs=200\n",
        ");\n",
        "## TODO: Compare this model's performance to the first linear regression model -- they should be similar"
      ]
    },
    {
      "cell_type": "markdown",
      "metadata": {
        "id": "AhxMFrlPOX2J"
      },
      "source": [
        "-----"
      ]
    },
    {
      "cell_type": "markdown",
      "metadata": {
        "id": "v6DGrd50k0J5"
      },
      "source": [
        "## Wrapping Up\n",
        "\n",
        "Congratulations, you've finished this assignment! You should now have a better understand of linear regression, loss functions, and optimizers/gradient descent. This assignment provides the foundation for Homework 2, so feel free to come back or read it over again to get a solid understanding.\n",
        "\n",
        "Be sure to submit your finished notebook (follow the guidelines on the handout)."
      ]
    }
  ],
  "metadata": {
    "colab": {
      "provenance": [],
      "toc_visible": true
    },
    "kernelspec": {
      "display_name": "DL",
      "language": "python",
      "name": "python3"
    },
    "language_info": {
      "codemirror_mode": {
        "name": "ipython",
        "version": 3
      },
      "file_extension": ".py",
      "mimetype": "text/x-python",
      "name": "python",
      "nbconvert_exporter": "python",
      "pygments_lexer": "ipython3",
      "version": "3.10.8"
    },
    "vscode": {
      "interpreter": {
        "hash": "759be6693a164ddeab1e231298c2a01a8302a7c7dfd4e560844dbce42a896f34"
      }
    }
  },
  "nbformat": 4,
  "nbformat_minor": 0
}
